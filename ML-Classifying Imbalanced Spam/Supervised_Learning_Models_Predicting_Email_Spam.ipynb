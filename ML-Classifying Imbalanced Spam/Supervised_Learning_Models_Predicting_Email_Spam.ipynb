{
  "cells": [
    {
      "cell_type": "markdown",
      "metadata": {
        "id": "G98GIUvzEmL0"
      },
      "source": [
        "# **Portfolio Project-Supervised Learning Models Predicting Imbalanced Email Spam Data**\n",
        "\n",
        "\n",
        "\n",
        "## Rob Boswell"
      ]
    },
    {
      "cell_type": "markdown",
      "metadata": {
        "id": "iqIiDdU1KiBQ"
      },
      "source": [
        "---\n",
        "---\n",
        "\n",
        "### In this portfolio project, I analyze and use features from the following email spam dataset located on the UCI Machine Learning Repository in order to classify emails as either spam or non-spam:\n",
        "https://archive.ics.uci.edu/ml/machine-learning-databases/spambase/\n",
        "\n",
        "\n",
        "### Descriptions of the features used are found at:\n",
        "https://archive.ics.uci.edu/ml/machine-learning-databases/spambase/spambase.names\n",
        "\n"
      ]
    },
    {
      "cell_type": "markdown",
      "metadata": {
        "id": "mjijMJ4EEurb"
      },
      "source": [
        "### **Part 1.**  \n",
        "\n",
        "### Import the spam dataset and display the first 5 rows.  \n",
        "\n",
        "\n",
        "---\n",
        "\n",
        "\n",
        "\n",
        "---\n"
      ]
    },
    {
      "cell_type": "code",
      "execution_count": 1,
      "metadata": {
        "id": "uMVFuqtR6o4i"
      },
      "outputs": [],
      "source": [
        "import numpy as np\n",
        "import scipy as sp\n",
        "import pandas as pd\n",
        "import matplotlib as mpl\n",
        "import seaborn as sns\n",
        "from sklearn.ensemble import RandomForestClassifier\n",
        "from sklearn.metrics import f1_score\n",
        "from sklearn.model_selection import cross_val_score\n"
      ]
    },
    {
      "cell_type": "code",
      "execution_count": 2,
      "metadata": {
        "id": "T79-72wT6o4s"
      },
      "outputs": [],
      "source": [
        "#Please note that the spam_dataset.csv file that I import can be found at: \"https://github.com/roboswell/data/blob/main/spam_dataset.csv\"\n",
        "#The spam_dataset.csv file in my \"data\" Github repository was reconstructed from the original dataset \n",
        "#(https://archive.ics.uci.edu/ml/machine-learning-databases/spambase/spambase.data) to include all 57 feature names and target name 'spam'.\n",
        "\n",
        "url = 'https://github.com/roboswell/data/raw/main/spam_dataset.csv'\n",
        "df = pd.read_csv(url)"
      ]
    },
    {
      "cell_type": "code",
      "execution_count": null,
      "metadata": {
        "colab": {
          "base_uri": "https://localhost:8080/",
          "height": 299
        },
        "id": "zZDJstXY6o4x",
        "outputId": "2ff14aa9-b92a-43f4-fb1b-4afecbfd13f7"
      },
      "outputs": [
        {
          "data": {
            "text/html": [
              "<div>\n",
              "<style scoped>\n",
              "    .dataframe tbody tr th:only-of-type {\n",
              "        vertical-align: middle;\n",
              "    }\n",
              "\n",
              "    .dataframe tbody tr th {\n",
              "        vertical-align: top;\n",
              "    }\n",
              "\n",
              "    .dataframe thead th {\n",
              "        text-align: right;\n",
              "    }\n",
              "</style>\n",
              "<table border=\"1\" class=\"dataframe\">\n",
              "  <thead>\n",
              "    <tr style=\"text-align: right;\">\n",
              "      <th></th>\n",
              "      <th>word_freq_make:</th>\n",
              "      <th>word_freq_address:</th>\n",
              "      <th>word_freq_all:</th>\n",
              "      <th>word_freq_3d:</th>\n",
              "      <th>word_freq_our:</th>\n",
              "      <th>word_freq_over:</th>\n",
              "      <th>word_freq_remove:</th>\n",
              "      <th>word_freq_internet:</th>\n",
              "      <th>word_freq_order:</th>\n",
              "      <th>word_freq_mail:</th>\n",
              "      <th>...</th>\n",
              "      <th>char_freq_;:</th>\n",
              "      <th>char_freq_(:</th>\n",
              "      <th>char_freq_[:</th>\n",
              "      <th>char_freq_!:</th>\n",
              "      <th>char_freq_$:</th>\n",
              "      <th>char_freq_#:</th>\n",
              "      <th>capital_run_length_average:</th>\n",
              "      <th>capital_run_length_longest:</th>\n",
              "      <th>capital_run_length_total:</th>\n",
              "      <th>spam</th>\n",
              "    </tr>\n",
              "  </thead>\n",
              "  <tbody>\n",
              "    <tr>\n",
              "      <th>0</th>\n",
              "      <td>0.00</td>\n",
              "      <td>0.64</td>\n",
              "      <td>0.64</td>\n",
              "      <td>0.0</td>\n",
              "      <td>0.32</td>\n",
              "      <td>0.00</td>\n",
              "      <td>0.00</td>\n",
              "      <td>0.00</td>\n",
              "      <td>0.00</td>\n",
              "      <td>0.00</td>\n",
              "      <td>...</td>\n",
              "      <td>0.00</td>\n",
              "      <td>0.000</td>\n",
              "      <td>0.0</td>\n",
              "      <td>0.778</td>\n",
              "      <td>0.000</td>\n",
              "      <td>0.000</td>\n",
              "      <td>3.756</td>\n",
              "      <td>61</td>\n",
              "      <td>278</td>\n",
              "      <td>1</td>\n",
              "    </tr>\n",
              "    <tr>\n",
              "      <th>1</th>\n",
              "      <td>0.21</td>\n",
              "      <td>0.28</td>\n",
              "      <td>0.50</td>\n",
              "      <td>0.0</td>\n",
              "      <td>0.14</td>\n",
              "      <td>0.28</td>\n",
              "      <td>0.21</td>\n",
              "      <td>0.07</td>\n",
              "      <td>0.00</td>\n",
              "      <td>0.94</td>\n",
              "      <td>...</td>\n",
              "      <td>0.00</td>\n",
              "      <td>0.132</td>\n",
              "      <td>0.0</td>\n",
              "      <td>0.372</td>\n",
              "      <td>0.180</td>\n",
              "      <td>0.048</td>\n",
              "      <td>5.114</td>\n",
              "      <td>101</td>\n",
              "      <td>1028</td>\n",
              "      <td>1</td>\n",
              "    </tr>\n",
              "    <tr>\n",
              "      <th>2</th>\n",
              "      <td>0.06</td>\n",
              "      <td>0.00</td>\n",
              "      <td>0.71</td>\n",
              "      <td>0.0</td>\n",
              "      <td>1.23</td>\n",
              "      <td>0.19</td>\n",
              "      <td>0.19</td>\n",
              "      <td>0.12</td>\n",
              "      <td>0.64</td>\n",
              "      <td>0.25</td>\n",
              "      <td>...</td>\n",
              "      <td>0.01</td>\n",
              "      <td>0.143</td>\n",
              "      <td>0.0</td>\n",
              "      <td>0.276</td>\n",
              "      <td>0.184</td>\n",
              "      <td>0.010</td>\n",
              "      <td>9.821</td>\n",
              "      <td>485</td>\n",
              "      <td>2259</td>\n",
              "      <td>1</td>\n",
              "    </tr>\n",
              "    <tr>\n",
              "      <th>3</th>\n",
              "      <td>0.00</td>\n",
              "      <td>0.00</td>\n",
              "      <td>0.00</td>\n",
              "      <td>0.0</td>\n",
              "      <td>0.63</td>\n",
              "      <td>0.00</td>\n",
              "      <td>0.31</td>\n",
              "      <td>0.63</td>\n",
              "      <td>0.31</td>\n",
              "      <td>0.63</td>\n",
              "      <td>...</td>\n",
              "      <td>0.00</td>\n",
              "      <td>0.137</td>\n",
              "      <td>0.0</td>\n",
              "      <td>0.137</td>\n",
              "      <td>0.000</td>\n",
              "      <td>0.000</td>\n",
              "      <td>3.537</td>\n",
              "      <td>40</td>\n",
              "      <td>191</td>\n",
              "      <td>1</td>\n",
              "    </tr>\n",
              "    <tr>\n",
              "      <th>4</th>\n",
              "      <td>0.00</td>\n",
              "      <td>0.00</td>\n",
              "      <td>0.00</td>\n",
              "      <td>0.0</td>\n",
              "      <td>0.63</td>\n",
              "      <td>0.00</td>\n",
              "      <td>0.31</td>\n",
              "      <td>0.63</td>\n",
              "      <td>0.31</td>\n",
              "      <td>0.63</td>\n",
              "      <td>...</td>\n",
              "      <td>0.00</td>\n",
              "      <td>0.135</td>\n",
              "      <td>0.0</td>\n",
              "      <td>0.135</td>\n",
              "      <td>0.000</td>\n",
              "      <td>0.000</td>\n",
              "      <td>3.537</td>\n",
              "      <td>40</td>\n",
              "      <td>191</td>\n",
              "      <td>1</td>\n",
              "    </tr>\n",
              "  </tbody>\n",
              "</table>\n",
              "<p>5 rows × 58 columns</p>\n",
              "</div>"
            ],
            "text/plain": [
              "   word_freq_make:  word_freq_address:  word_freq_all:  word_freq_3d:  \\\n",
              "0             0.00                0.64            0.64            0.0   \n",
              "1             0.21                0.28            0.50            0.0   \n",
              "2             0.06                0.00            0.71            0.0   \n",
              "3             0.00                0.00            0.00            0.0   \n",
              "4             0.00                0.00            0.00            0.0   \n",
              "\n",
              "   word_freq_our:  word_freq_over:  word_freq_remove:  word_freq_internet:  \\\n",
              "0            0.32             0.00               0.00                 0.00   \n",
              "1            0.14             0.28               0.21                 0.07   \n",
              "2            1.23             0.19               0.19                 0.12   \n",
              "3            0.63             0.00               0.31                 0.63   \n",
              "4            0.63             0.00               0.31                 0.63   \n",
              "\n",
              "   word_freq_order:  word_freq_mail:  ...  char_freq_;:  char_freq_(:  \\\n",
              "0              0.00             0.00  ...          0.00         0.000   \n",
              "1              0.00             0.94  ...          0.00         0.132   \n",
              "2              0.64             0.25  ...          0.01         0.143   \n",
              "3              0.31             0.63  ...          0.00         0.137   \n",
              "4              0.31             0.63  ...          0.00         0.135   \n",
              "\n",
              "   char_freq_[:  char_freq_!:  char_freq_$:  char_freq_#:  \\\n",
              "0           0.0         0.778         0.000         0.000   \n",
              "1           0.0         0.372         0.180         0.048   \n",
              "2           0.0         0.276         0.184         0.010   \n",
              "3           0.0         0.137         0.000         0.000   \n",
              "4           0.0         0.135         0.000         0.000   \n",
              "\n",
              "   capital_run_length_average:  capital_run_length_longest:  \\\n",
              "0                        3.756                           61   \n",
              "1                        5.114                          101   \n",
              "2                        9.821                          485   \n",
              "3                        3.537                           40   \n",
              "4                        3.537                           40   \n",
              "\n",
              "   capital_run_length_total:  spam  \n",
              "0                        278     1  \n",
              "1                       1028     1  \n",
              "2                       2259     1  \n",
              "3                        191     1  \n",
              "4                        191     1  \n",
              "\n",
              "[5 rows x 58 columns]"
            ]
          },
          "execution_count": 4,
          "metadata": {},
          "output_type": "execute_result"
        }
      ],
      "source": [
        "df.head()"
      ]
    },
    {
      "cell_type": "markdown",
      "metadata": {
        "id": "2zkDG9WEoPgC"
      },
      "source": [
        "### Note: The target variable is \"spam\", where 1 indicates that an email is spam and 0 otherwise. \n",
        "\n",
        "---"
      ]
    },
    {
      "cell_type": "markdown",
      "metadata": {
        "id": "XI3BRJBKE8gT"
      },
      "source": [
        "### **Part 2.** \n",
        "\n",
        "### Below, before actually creating any models I discuss three variables in the dataset that I think would be important predictors in a model of spam, and why:\n",
        "\n",
        "---\n",
        "\n",
        "---\n"
      ]
    },
    {
      "cell_type": "markdown",
      "metadata": {
        "id": "kGI9vKuBGB8G"
      },
      "source": [
        "### I think that word_freq_receive, word_freq_free, and word_freq_money are the variables in the dataset likely to be the most important predictors of spam. \n",
        "\n",
        "$~$\n",
        "\n",
        "### **1)** For the feature ***word_freq_free***, the more often a single email contains the word \"free\" it is likely to be the case that businesses, organizations, or individuals are sending such emails to lure the recipient into believing that they will receive free items by responding to the email. People naturally like free things, and so it is a very common marketing or scam strategy to promise \"free\" items to those who respond to advertisements. As a result, I think that a spam filtering program would be very likley to try to search for this variable. \n",
        "\n",
        "$~$\n",
        "\n",
        "### **2)** Since the feature ***capital_run_length_total*** is defined as the \"sum of length of uninterrupted sequences of capital letters\" in an email, it seems reasonable to me that the more capitalized words used in an email, the more the sender is trying to get the attention of any given recipient, on average, than the sender would if they only capitalized the beginning of sentences, acronyms, and the beginning of proper nouns. E.g., writing an entire sentence in capitalized letters is often interpreted as \"shouting\" at someone by email. Therefore, since more sequential capitalized letters in any given email on average is likely predictive of a given sender's attempt to get a receiver's attention, thus suggesting that the sender likely believes the recipient normally may not read their email if they do not use many capitalized letters in words, it would seem that spam filtering programs would definitely try to filter out emails with a lot of words that are capitalized. \n",
        "\n",
        "$~$\n",
        "\n",
        "### **3)** For the feature ***word_freq_money***, the more often a single email references the word \"money\" it is likely to be the case that businesses, organizations, or individuals are sending such emails to lure the recipient into believing that if they respond to the email they will be able to obtain money. People naturally like money, and so promising money is often a common marketing strategy by companies and scammers to try to get people to respond. E.g., (trustworthy or untrustworthy) temporary staffing agencies may use the word money in emails to try to attract recipients into responding to apply for jobs that are promised to provide more money than what they may make with their current job. As a result, I think that a spam filtering program would be very likley to try to search for this variable.\n",
        "\n",
        "---\n"
      ]
    },
    {
      "cell_type": "markdown",
      "metadata": {
        "id": "KrNv5IdLye77"
      },
      "source": [
        "### **Part 3.**  \n",
        "\n",
        "### Here, I visualize the univariate distribution of each of the three variables discussed above. \n",
        "\n",
        "---\n",
        "---"
      ]
    },
    {
      "cell_type": "code",
      "execution_count": null,
      "metadata": {
        "colab": {
          "base_uri": "https://localhost:8080/",
          "height": 460
        },
        "id": "Wb89k3AHDJ-T",
        "outputId": "9c666e66-7b04-465c-f8ed-134b8b1d98c7"
      },
      "outputs": [
        {
          "data": {
            "text/plain": [
              "Text(0, 0.5, 'Count')"
            ]
          },
          "execution_count": 5,
          "metadata": {},
          "output_type": "execute_result"
        },
        {
          "data": {
            "image/png": "[encoded data removed]",
            "text/plain": [
              "<Figure size 648x504 with 1 Axes>"
            ]
          },
          "metadata": {
            "needs_background": "light"
          },
          "output_type": "display_data"
        }
      ],
      "source": [
        "from matplotlib import pyplot as plt\n",
        "\n",
        "# 1) Histogram of word_freq_free:\n",
        "plt.figure(figsize=(9,7))\n",
        "n, bins, patches = plt.hist(x=df['word_freq_free:'], bins=30, color='#0504aa', rwidth=0.85)\n",
        "plt.grid(axis='y')\n",
        "plt.xlabel('Percentage of Words Per Email that Matched \"free\"')\n",
        "plt.ylabel('Count')\n"
      ]
    },
    {
      "cell_type": "code",
      "execution_count": null,
      "metadata": {
        "colab": {
          "base_uri": "https://localhost:8080/",
          "height": 460
        },
        "id": "5Xn31OlBHjd4",
        "outputId": "efa162ce-711a-4ac7-ee3d-02041ea9d306"
      },
      "outputs": [
        {
          "data": {
            "text/plain": [
              "Text(0, 0.5, 'Count')"
            ]
          },
          "execution_count": 6,
          "metadata": {},
          "output_type": "execute_result"
        },
        {
          "data": {
            "image/png": "[encoded data removed]",
            "text/plain": [
              "<Figure size 648x504 with 1 Axes>"
            ]
          },
          "metadata": {
            "needs_background": "light"
          },
          "output_type": "display_data"
        }
      ],
      "source": [
        "# 2) Histogram of capital_run_length_total: \n",
        "plt.figure(figsize=(9,7))\n",
        "n, bins, patches = plt.hist(x=df['capital_run_length_total:'], bins=30, color='#0504aa', rwidth=0.85)\n",
        "plt.grid(axis='y')\n",
        "plt.xlabel('Total Uninterrupted Length of Capital Letters Per E-mail')\n",
        "plt.ylabel('Count')"
      ]
    },
    {
      "cell_type": "code",
      "execution_count": null,
      "metadata": {
        "colab": {
          "base_uri": "https://localhost:8080/",
          "height": 460
        },
        "id": "_AdNVTN8Icyt",
        "outputId": "761fb067-882e-46b0-895f-3e35045efc7f"
      },
      "outputs": [
        {
          "data": {
            "text/plain": [
              "Text(0, 0.5, 'Count')"
            ]
          },
          "execution_count": 7,
          "metadata": {},
          "output_type": "execute_result"
        },
        {
          "data": {
            "image/png": "[encoded data removed]",
            "text/plain": [
              "<Figure size 648x504 with 1 Axes>"
            ]
          },
          "metadata": {
            "needs_background": "light"
          },
          "output_type": "display_data"
        }
      ],
      "source": [
        "# 3) Histogram of word_freq_money:\n",
        "plt.figure(figsize=(9,7))\n",
        "n, bins, patches = plt.hist(x=df['word_freq_money:'], bins=30, color='#0504aa', rwidth=0.85)\n",
        "plt.grid(axis='y')\n",
        "plt.xlabel('Percentage of Words Per Email that Matched \"money\"')\n",
        "plt.ylabel('Count')"
      ]
    },
    {
      "cell_type": "markdown",
      "metadata": {
        "id": "rP8HGZ9pbIWY"
      },
      "source": [
        "---"
      ]
    },
    {
      "cell_type": "markdown",
      "metadata": {
        "id": "qYybZmjVQ96S"
      },
      "source": [
        "### **Part 4:** \n",
        "\n",
        "### Below, I describe the importance of training and test data. I explain why we need to separate data into these subsets.\n",
        "\n",
        "---\n",
        "\n",
        "---\n"
      ]
    },
    {
      "cell_type": "markdown",
      "metadata": {
        "id": "kDwooheYReRz"
      },
      "source": [
        "### Splitting our data into training and test data is important for the following reasons: Our main purpose in machine learning is to predict unseen data as well as possible. We need to essentially fake unseen data somehow in a way that allows us to see if our model will be able to generalize well if used on truly unseen data.\n",
        "\n",
        "$~$\n",
        "\n",
        "### In general, we randomly place around 75% - 90% - of all our observations (both for our features and our target) in our data into a training data set, while the remaining portion is placed in our test data set. We fit our model with our training data, but we set aside our test data so that our model never sees it until the point in time when we will evaluate the model to estimate how well it would perform on unseen data.\n",
        "\n",
        "\n",
        "---\n",
        "\n"
      ]
    },
    {
      "cell_type": "markdown",
      "metadata": {
        "id": "d165F4samWiY"
      },
      "source": [
        "### **Part 5:** \n",
        "\n",
        "### Below, I discuss what K-fold cross validation is and what we use it for:\n",
        "\n",
        "---\n",
        "\n",
        "---\n"
      ]
    },
    {
      "cell_type": "markdown",
      "metadata": {
        "id": "MRmPh8TBmoIu"
      },
      "source": [
        "### **Answer:** \n",
        "\n",
        "### The idea behind K-fold cross validation is that when we train-test-split our data such that observations are randomly selected into either the training data set or the test data set, it is always possible that the observations now comprising the training data set and test data set are not sufficiently randomly distributed to lead to unbiased predictions when we eventually use our model on actual unseen data. To obtain unbiased results, we want our model tested on held out data that accurately represent as much as possible what truly unseen data would look like.\n",
        "\n",
        "$~$\n",
        "\n",
        "### If we can use a system (i.e., cross validation) where we can continue to systemmatically and randomly shuffle our observations a number of times into either the training or test set, fitting our data each time to our models, calculating the predictive strength of our models each time, and then averaging our calculations across all \"folds\" - then we can be more confident that the combinations of observations that happen to be in either our training or test sets will not bias our model's results, and these results are more likely to be representative of the predictive strength that we would calculate if we were testing our models on truly unseen data. Our results are thus more likely to be robust than if we relied on a one time shuffled training and test set. Cross validation also allows us to compare numerous machine learning models in terms of scoring metrics of predictive strength across the same cross validation data in order to have a safe way of estimating which model would likely perform the best on truly unseen data.\n",
        "\n",
        "$~$\n",
        "\n",
        "### In practice, K-fold cross validation works as follows: Cross validation takes just our ***original training set*** to work with. We specify how many different \"folds\" (i.e., segments) of *this data* we will use iteratively to be designated as our cross validation \"test set\", one at a time. If we choose K=5, e.g., it would divide our training data into 5 sections (i.e., each section would hold 20% of our data), allowing us to iteratively use each of the 5 sections as a test set, one at a time, with the other 80% of the data for each of the 5 iterations being used as training sets. I.e., this means we would be working with 5 different cross validation test sets and 5 different cross validation training sets. It is important to remember that we use random selection without replacement when we generate each fold. \n",
        "\n",
        "$~$\n",
        "\n",
        "### We could begin with the first fold/section of our data being used as our held-out test data set, and all remaining folds (constituting 80% of our data) being used as \"training data.\" We would then establish a prediction metric score when the first of the five folds are used as the test data set. Next, we would use the second 20% segment of the data as the held-out \"test data,\" (with the other 80% of the data used as our \"training data\") and calculate a prediction metric score. We would then use the next 20 % of the data (i.e. our third fold) as the held-out test data set with the remaining 80% of the data as our \"training data set,\" again establishing a prediction metric score. We would repeat this for all 5 folds, then average all 5 of the resulting prediction metric scores together to obtain as our overall score for that model.\n",
        "\n",
        "$~$\n",
        "\n",
        "### This process would be the same, e.g. if we set K equal to another value like K=10. The only difference in this case would be that each fold in the data would comprise 10% of the data to be used as our held-out \"test\" data set at a time (instead of 20% when K=5) while the remaining 90% of the data would be used as our \"training\" data set. We would still take the average of all 10 prediction metric scores generated to use as our overall K-fold cross validation score when K=10. \n",
        "\n",
        "\n",
        "---\n",
        "\n",
        "\n",
        "\n"
      ]
    },
    {
      "cell_type": "markdown",
      "metadata": {
        "id": "2_hBPxWkxKLb"
      },
      "source": [
        "### **Part 6:** \n",
        "\n",
        "### Below, I discuss how is K-fold cross validation is different from stratified K-fold cross validation:\n",
        "\n",
        "---\n",
        "\n",
        "---\n"
      ]
    },
    {
      "cell_type": "markdown",
      "metadata": {
        "id": "R8l6LidZxmHc"
      },
      "source": [
        "### **Answer:** \n",
        "\n",
        "### K-fold cross validation is different from stratified K-fold cross validation in the following way:\n",
        "\n",
        "$~$\n",
        "\n",
        "### K-fold cross validation does not pay special attention to ensure that observations randonly selected into each fold have class frequencies in proportion to the class frequencies in the *entire* training dataset. However, stratified K-fold cross validation randomly selects observations into \"training\" data sets and \"test\" data sets from the *overall* training dataset but does so in a way that makes sure that class frequencies within each \"training\" and \"test\" set for each split are consistent with the class frequencies found in the *overall* training dataset.\n",
        "\n",
        "$~$\n",
        "\n",
        "### K-fold cross validation is especially useful when there may be extreme class imbalances in our dataset to help ensure prediction accuracy scores are valid. If our data has severe class imbalances, it could very well be the case that a given \"training\" dataset established by K-fold cross validation may not have any or very few observations with minority classes in them to train the model on. This could lead K-fold cross validation metric scores to be misleading and could lead a model to not predict well on unseen data. \n",
        "\n",
        "\n",
        "---\n",
        "\n"
      ]
    },
    {
      "cell_type": "markdown",
      "metadata": {
        "id": "Otwj1bhCDOaB"
      },
      "source": [
        "### **Part 7:** \n",
        "\n",
        "### For this portfolio project, I will use four different types of models to classify email texts as either spam or non-spam. These models include:\n",
        "\n",
        "*   KNN Classification\n",
        "*   L1 Penalized Logistic Regression\n",
        "*   L2 Penalized Logistic Regression\n",
        "*   Random Forest Classification\n",
        "\n",
        "### I will split the dataset into training and test sets. I will then build models with the three features mentioned above that I think will be good predictors of \"spam\". I will then describe why I chose particular parameters for my models. Then I will evaluate the prediction strength of my models in two ways: A) On K-fold cross validation data and B) on test set data directly.\n",
        "\n",
        "$~$\n",
        "\n",
        "### **Note:** It should be kept in mind that cross validation prediction scores are often a better indicator of a model's generalizability to truly unseen data than test set prediction scores. The reason why is because \"held out\" test set data relies on a single random train-test-split. In contrast, cross validation takes the training set portion of that single train-test-split, and then randomly splits it again in K different ways (e.g., in the case of K-fold cross validation) such that there are K train and test sets with which to train and test models. An average of the scoring metrics across the K folds is taken to construct an overall cross validation score. As a result, cross validation-based scores are a more robust inidication for likelihood of actual performance on truly unseen data than are test set scores. <u> I therefore rely on cross validation scores rather than test set scores when I rank different models in terms of their performance. </u>* \n",
        "\n",
        "$~$\n",
        "\n",
        "### However, test set scores are also important because they give you a final measurement of your complete model building processes - including feature engineering and feature selection decisions, choice of algorithm, parameters selected and deemed optimal through hypertuning using GridSearchCV or another procedure, the type of cross validation used (e.g., K-fold cross validation vs. stratified cross validation, among others), and the number of folds/splits used during cross validation - all of which have the potential to lead to overfitting or underfitting on test data and therefore also on truly unseen data.\n",
        "\n",
        "$~$\n",
        "\n",
        "### E.g., a test set score which is much lower than a cross validation score for a particular model can inform analysts that the model is likely overfitting to the training data, while a test set score which is much higher than a cross validation score for a particular model can inform analysts that the model is likely underfitting to the training data. In either case, the model would likely not perform on truly unseen data at the same level of performance indicated by the cross validation score. Knowing whether a model has overfit or underfit to the data can help an analyst know, e.g., whether they need to include more or less data, engineer their features in a different way, hypertune for and implement different parameter values, or use a different cross validation approach to try to improve the model fit. Ultimately, a better model fit as indicated by a close relationship between the cross validation score and test set score will mean the cross validation score is more reliably indicative of the approximate score likely to be achieved by the final model if used on truly unseen data (e.g., in a production setting).\n",
        "\n",
        "---\n",
        "---\n",
        "\n"
      ]
    },
    {
      "cell_type": "code",
      "execution_count": 3,
      "metadata": {
        "colab": {
          "base_uri": "https://localhost:8080/",
          "height": 299
        },
        "id": "syyXOmRjrXY7",
        "outputId": "4207164c-e08c-4a20-d736-c1a6c9bca003"
      },
      "outputs": [
        {
          "output_type": "execute_result",
          "data": {
            "text/plain": [
              "   word_freq_make:  word_freq_address:  word_freq_all:  word_freq_3d:  \\\n",
              "0             0.00                0.64            0.64            0.0   \n",
              "1             0.21                0.28            0.50            0.0   \n",
              "2             0.06                0.00            0.71            0.0   \n",
              "3             0.00                0.00            0.00            0.0   \n",
              "4             0.00                0.00            0.00            0.0   \n",
              "\n",
              "   word_freq_our:  word_freq_over:  word_freq_remove:  word_freq_internet:  \\\n",
              "0            0.32             0.00               0.00                 0.00   \n",
              "1            0.14             0.28               0.21                 0.07   \n",
              "2            1.23             0.19               0.19                 0.12   \n",
              "3            0.63             0.00               0.31                 0.63   \n",
              "4            0.63             0.00               0.31                 0.63   \n",
              "\n",
              "   word_freq_order:  word_freq_mail:  ...  word_freq_conference:  \\\n",
              "0              0.00             0.00  ...                    0.0   \n",
              "1              0.00             0.94  ...                    0.0   \n",
              "2              0.64             0.25  ...                    0.0   \n",
              "3              0.31             0.63  ...                    0.0   \n",
              "4              0.31             0.63  ...                    0.0   \n",
              "\n",
              "   char_freq_;:  char_freq_(:  char_freq_[:  char_freq_!:  char_freq_$:  \\\n",
              "0          0.00         0.000           0.0         0.778         0.000   \n",
              "1          0.00         0.132           0.0         0.372         0.180   \n",
              "2          0.01         0.143           0.0         0.276         0.184   \n",
              "3          0.00         0.137           0.0         0.137         0.000   \n",
              "4          0.00         0.135           0.0         0.135         0.000   \n",
              "\n",
              "   char_freq_#:  capital_run_length_average:  capital_run_length_longest:  \\\n",
              "0         0.000                        3.756                           61   \n",
              "1         0.048                        5.114                          101   \n",
              "2         0.010                        9.821                          485   \n",
              "3         0.000                        3.537                           40   \n",
              "4         0.000                        3.537                           40   \n",
              "\n",
              "   capital_run_length_total:  \n",
              "0                        278  \n",
              "1                       1028  \n",
              "2                       2259  \n",
              "3                        191  \n",
              "4                        191  \n",
              "\n",
              "[5 rows x 57 columns]"
            ],
            "text/html": [
              "\n",
              "  <div id=\"df-581a723c-69bb-4539-8ad4-702e6d793c2e\">\n",
              "    <div class=\"colab-df-container\">\n",
              "      <div>\n",
              "<style scoped>\n",
              "    .dataframe tbody tr th:only-of-type {\n",
              "        vertical-align: middle;\n",
              "    }\n",
              "\n",
              "    .dataframe tbody tr th {\n",
              "        vertical-align: top;\n",
              "    }\n",
              "\n",
              "    .dataframe thead th {\n",
              "        text-align: right;\n",
              "    }\n",
              "</style>\n",
              "<table border=\"1\" class=\"dataframe\">\n",
              "  <thead>\n",
              "    <tr style=\"text-align: right;\">\n",
              "      <th></th>\n",
              "      <th>word_freq_make:</th>\n",
              "      <th>word_freq_address:</th>\n",
              "      <th>word_freq_all:</th>\n",
              "      <th>word_freq_3d:</th>\n",
              "      <th>word_freq_our:</th>\n",
              "      <th>word_freq_over:</th>\n",
              "      <th>word_freq_remove:</th>\n",
              "      <th>word_freq_internet:</th>\n",
              "      <th>word_freq_order:</th>\n",
              "      <th>word_freq_mail:</th>\n",
              "      <th>...</th>\n",
              "      <th>word_freq_conference:</th>\n",
              "      <th>char_freq_;:</th>\n",
              "      <th>char_freq_(:</th>\n",
              "      <th>char_freq_[:</th>\n",
              "      <th>char_freq_!:</th>\n",
              "      <th>char_freq_$:</th>\n",
              "      <th>char_freq_#:</th>\n",
              "      <th>capital_run_length_average:</th>\n",
              "      <th>capital_run_length_longest:</th>\n",
              "      <th>capital_run_length_total:</th>\n",
              "    </tr>\n",
              "  </thead>\n",
              "  <tbody>\n",
              "    <tr>\n",
              "      <th>0</th>\n",
              "      <td>0.00</td>\n",
              "      <td>0.64</td>\n",
              "      <td>0.64</td>\n",
              "      <td>0.0</td>\n",
              "      <td>0.32</td>\n",
              "      <td>0.00</td>\n",
              "      <td>0.00</td>\n",
              "      <td>0.00</td>\n",
              "      <td>0.00</td>\n",
              "      <td>0.00</td>\n",
              "      <td>...</td>\n",
              "      <td>0.0</td>\n",
              "      <td>0.00</td>\n",
              "      <td>0.000</td>\n",
              "      <td>0.0</td>\n",
              "      <td>0.778</td>\n",
              "      <td>0.000</td>\n",
              "      <td>0.000</td>\n",
              "      <td>3.756</td>\n",
              "      <td>61</td>\n",
              "      <td>278</td>\n",
              "    </tr>\n",
              "    <tr>\n",
              "      <th>1</th>\n",
              "      <td>0.21</td>\n",
              "      <td>0.28</td>\n",
              "      <td>0.50</td>\n",
              "      <td>0.0</td>\n",
              "      <td>0.14</td>\n",
              "      <td>0.28</td>\n",
              "      <td>0.21</td>\n",
              "      <td>0.07</td>\n",
              "      <td>0.00</td>\n",
              "      <td>0.94</td>\n",
              "      <td>...</td>\n",
              "      <td>0.0</td>\n",
              "      <td>0.00</td>\n",
              "      <td>0.132</td>\n",
              "      <td>0.0</td>\n",
              "      <td>0.372</td>\n",
              "      <td>0.180</td>\n",
              "      <td>0.048</td>\n",
              "      <td>5.114</td>\n",
              "      <td>101</td>\n",
              "      <td>1028</td>\n",
              "    </tr>\n",
              "    <tr>\n",
              "      <th>2</th>\n",
              "      <td>0.06</td>\n",
              "      <td>0.00</td>\n",
              "      <td>0.71</td>\n",
              "      <td>0.0</td>\n",
              "      <td>1.23</td>\n",
              "      <td>0.19</td>\n",
              "      <td>0.19</td>\n",
              "      <td>0.12</td>\n",
              "      <td>0.64</td>\n",
              "      <td>0.25</td>\n",
              "      <td>...</td>\n",
              "      <td>0.0</td>\n",
              "      <td>0.01</td>\n",
              "      <td>0.143</td>\n",
              "      <td>0.0</td>\n",
              "      <td>0.276</td>\n",
              "      <td>0.184</td>\n",
              "      <td>0.010</td>\n",
              "      <td>9.821</td>\n",
              "      <td>485</td>\n",
              "      <td>2259</td>\n",
              "    </tr>\n",
              "    <tr>\n",
              "      <th>3</th>\n",
              "      <td>0.00</td>\n",
              "      <td>0.00</td>\n",
              "      <td>0.00</td>\n",
              "      <td>0.0</td>\n",
              "      <td>0.63</td>\n",
              "      <td>0.00</td>\n",
              "      <td>0.31</td>\n",
              "      <td>0.63</td>\n",
              "      <td>0.31</td>\n",
              "      <td>0.63</td>\n",
              "      <td>...</td>\n",
              "      <td>0.0</td>\n",
              "      <td>0.00</td>\n",
              "      <td>0.137</td>\n",
              "      <td>0.0</td>\n",
              "      <td>0.137</td>\n",
              "      <td>0.000</td>\n",
              "      <td>0.000</td>\n",
              "      <td>3.537</td>\n",
              "      <td>40</td>\n",
              "      <td>191</td>\n",
              "    </tr>\n",
              "    <tr>\n",
              "      <th>4</th>\n",
              "      <td>0.00</td>\n",
              "      <td>0.00</td>\n",
              "      <td>0.00</td>\n",
              "      <td>0.0</td>\n",
              "      <td>0.63</td>\n",
              "      <td>0.00</td>\n",
              "      <td>0.31</td>\n",
              "      <td>0.63</td>\n",
              "      <td>0.31</td>\n",
              "      <td>0.63</td>\n",
              "      <td>...</td>\n",
              "      <td>0.0</td>\n",
              "      <td>0.00</td>\n",
              "      <td>0.135</td>\n",
              "      <td>0.0</td>\n",
              "      <td>0.135</td>\n",
              "      <td>0.000</td>\n",
              "      <td>0.000</td>\n",
              "      <td>3.537</td>\n",
              "      <td>40</td>\n",
              "      <td>191</td>\n",
              "    </tr>\n",
              "  </tbody>\n",
              "</table>\n",
              "<p>5 rows × 57 columns</p>\n",
              "</div>\n",
              "      <button class=\"colab-df-convert\" onclick=\"convertToInteractive('df-581a723c-69bb-4539-8ad4-702e6d793c2e')\"\n",
              "              title=\"Convert this dataframe to an interactive table.\"\n",
              "              style=\"display:none;\">\n",
              "        \n",
              "  <svg xmlns=\"http://www.w3.org/2000/svg\" height=\"24px\"viewBox=\"0 0 24 24\"\n",
              "       width=\"24px\">\n",
              "    <path d=\"M0 0h24v24H0V0z\" fill=\"none\"/>\n",
              "    <path d=\"M18.56 5.44l.94 2.06.94-2.06 2.06-.94-2.06-.94-.94-2.06-.94 2.06-2.06.94zm-11 1L8.5 8.5l.94-2.06 2.06-.94-2.06-.94L8.5 2.5l-.94 2.06-2.06.94zm10 10l.94 2.06.94-2.06 2.06-.94-2.06-.94-.94-2.06-.94 2.06-2.06.94z\"/><path d=\"M17.41 7.96l-1.37-1.37c-.4-.4-.92-.59-1.43-.59-.52 0-1.04.2-1.43.59L10.3 9.45l-7.72 7.72c-.78.78-.78 2.05 0 2.83L4 21.41c.39.39.9.59 1.41.59.51 0 1.02-.2 1.41-.59l7.78-7.78 2.81-2.81c.8-.78.8-2.07 0-2.86zM5.41 20L4 18.59l7.72-7.72 1.47 1.35L5.41 20z\"/>\n",
              "  </svg>\n",
              "      </button>\n",
              "      \n",
              "  <style>\n",
              "    .colab-df-container {\n",
              "      display:flex;\n",
              "      flex-wrap:wrap;\n",
              "      gap: 12px;\n",
              "    }\n",
              "\n",
              "    .colab-df-convert {\n",
              "      background-color: #E8F0FE;\n",
              "      border: none;\n",
              "      border-radius: 50%;\n",
              "      cursor: pointer;\n",
              "      display: none;\n",
              "      fill: #1967D2;\n",
              "      height: 32px;\n",
              "      padding: 0 0 0 0;\n",
              "      width: 32px;\n",
              "    }\n",
              "\n",
              "    .colab-df-convert:hover {\n",
              "      background-color: #E2EBFA;\n",
              "      box-shadow: 0px 1px 2px rgba(60, 64, 67, 0.3), 0px 1px 3px 1px rgba(60, 64, 67, 0.15);\n",
              "      fill: #174EA6;\n",
              "    }\n",
              "\n",
              "    [theme=dark] .colab-df-convert {\n",
              "      background-color: #3B4455;\n",
              "      fill: #D2E3FC;\n",
              "    }\n",
              "\n",
              "    [theme=dark] .colab-df-convert:hover {\n",
              "      background-color: #434B5C;\n",
              "      box-shadow: 0px 1px 3px 1px rgba(0, 0, 0, 0.15);\n",
              "      filter: drop-shadow(0px 1px 2px rgba(0, 0, 0, 0.3));\n",
              "      fill: #FFFFFF;\n",
              "    }\n",
              "  </style>\n",
              "\n",
              "      <script>\n",
              "        const buttonEl =\n",
              "          document.querySelector('#df-581a723c-69bb-4539-8ad4-702e6d793c2e button.colab-df-convert');\n",
              "        buttonEl.style.display =\n",
              "          google.colab.kernel.accessAllowed ? 'block' : 'none';\n",
              "\n",
              "        async function convertToInteractive(key) {\n",
              "          const element = document.querySelector('#df-581a723c-69bb-4539-8ad4-702e6d793c2e');\n",
              "          const dataTable =\n",
              "            await google.colab.kernel.invokeFunction('convertToInteractive',\n",
              "                                                     [key], {});\n",
              "          if (!dataTable) return;\n",
              "\n",
              "          const docLinkHtml = 'Like what you see? Visit the ' +\n",
              "            '<a target=\"_blank\" href=https://colab.research.google.com/notebooks/data_table.ipynb>data table notebook</a>'\n",
              "            + ' to learn more about interactive tables.';\n",
              "          element.innerHTML = '';\n",
              "          dataTable['output_type'] = 'display_data';\n",
              "          await google.colab.output.renderOutput(dataTable, element);\n",
              "          const docLink = document.createElement('div');\n",
              "          docLink.innerHTML = docLinkHtml;\n",
              "          element.appendChild(docLink);\n",
              "        }\n",
              "      </script>\n",
              "    </div>\n",
              "  </div>\n",
              "  "
            ]
          },
          "metadata": {},
          "execution_count": 3
        }
      ],
      "source": [
        "#Here, I create X (feature) data and y (target) data from the dataset\n",
        "\n",
        "y = df['spam']\n",
        "X = df.loc[:, df.columns != 'spam']\n",
        "\n",
        "X.head()"
      ]
    },
    {
      "cell_type": "code",
      "execution_count": null,
      "metadata": {
        "colab": {
          "base_uri": "https://localhost:8080/",
          "height": 206
        },
        "id": "fE7PpBNQGuy2",
        "outputId": "ed0cbf36-6721-4ad4-dc8e-9ff62abd38b4"
      },
      "outputs": [
        {
          "data": {
            "text/html": [
              "<div>\n",
              "<style scoped>\n",
              "    .dataframe tbody tr th:only-of-type {\n",
              "        vertical-align: middle;\n",
              "    }\n",
              "\n",
              "    .dataframe tbody tr th {\n",
              "        vertical-align: top;\n",
              "    }\n",
              "\n",
              "    .dataframe thead th {\n",
              "        text-align: right;\n",
              "    }\n",
              "</style>\n",
              "<table border=\"1\" class=\"dataframe\">\n",
              "  <thead>\n",
              "    <tr style=\"text-align: right;\">\n",
              "      <th></th>\n",
              "      <th>word_freq_free:</th>\n",
              "      <th>capital_run_length_total:</th>\n",
              "      <th>word_freq_money:</th>\n",
              "    </tr>\n",
              "  </thead>\n",
              "  <tbody>\n",
              "    <tr>\n",
              "      <th>0</th>\n",
              "      <td>0.32</td>\n",
              "      <td>278</td>\n",
              "      <td>0.00</td>\n",
              "    </tr>\n",
              "    <tr>\n",
              "      <th>1</th>\n",
              "      <td>0.14</td>\n",
              "      <td>1028</td>\n",
              "      <td>0.43</td>\n",
              "    </tr>\n",
              "    <tr>\n",
              "      <th>2</th>\n",
              "      <td>0.06</td>\n",
              "      <td>2259</td>\n",
              "      <td>0.06</td>\n",
              "    </tr>\n",
              "    <tr>\n",
              "      <th>3</th>\n",
              "      <td>0.31</td>\n",
              "      <td>191</td>\n",
              "      <td>0.00</td>\n",
              "    </tr>\n",
              "    <tr>\n",
              "      <th>4</th>\n",
              "      <td>0.31</td>\n",
              "      <td>191</td>\n",
              "      <td>0.00</td>\n",
              "    </tr>\n",
              "  </tbody>\n",
              "</table>\n",
              "</div>"
            ],
            "text/plain": [
              "   word_freq_free:  capital_run_length_total:  word_freq_money:\n",
              "0             0.32                        278              0.00\n",
              "1             0.14                       1028              0.43\n",
              "2             0.06                       2259              0.06\n",
              "3             0.31                        191              0.00\n",
              "4             0.31                        191              0.00"
            ]
          },
          "execution_count": 9,
          "metadata": {},
          "output_type": "execute_result"
        }
      ],
      "source": [
        "#Next, I include just my 3 prefered features out of the complete dataset, and label this X3\n",
        "\n",
        "y = df['spam']\n",
        "X3 = df.loc[:, ['word_freq_free:', 'capital_run_length_total:', 'word_freq_money:']]\n",
        "\n",
        "X3.head()"
      ]
    },
    {
      "cell_type": "markdown",
      "metadata": {
        "id": "pbpaksPvOca1"
      },
      "source": [
        "### **Note:** From the following code, we can see that the classes are marginally imbalanced, with 61% of observations being non-spam, and 39% being spam. Even though the imbalance in the data is marginal, since it is possible that the presence of imbalanced data can lead to biased results, I will implement a resampling technique to balance the classes. Specifically, I use the Synthetic Minority Oversampling Technique (SMOTE) in order to randomly generate new synthetic observations so that the two classes become balanced. \n",
        "\n",
        "$~$\n",
        "\n",
        "### SMOTE is generally regarded as a more promising technique for balancing imbalanced data than other techniques. In short, SMOTE randomly selects a given observation's K nearest neighbors, and then the difference is taken between this neighboring observation's values and the original observation's values being evaluated. This difference is then multiplied by a random value between 0 and 1, creating a new synthetic observation that is added to the dataset. The process continues until the overall data is balanced between classes."
      ]
    },
    {
      "cell_type": "code",
      "execution_count": null,
      "metadata": {
        "colab": {
          "base_uri": "https://localhost:8080/"
        },
        "id": "HjxEc0H4DelN",
        "outputId": "01b01dd2-e97b-463b-9b10-b68b48b07909"
      },
      "outputs": [
        {
          "name": "stdout",
          "output_type": "stream",
          "text": [
            "0    0.605955\n",
            "1    0.394045\n",
            "Name: spam, dtype: float64\n"
          ]
        }
      ],
      "source": [
        "print(pd.Series(y).value_counts(normalize=True))"
      ]
    },
    {
      "cell_type": "code",
      "execution_count": null,
      "metadata": {
        "colab": {
          "base_uri": "https://localhost:8080/"
        },
        "id": "ga2tFFZREfnZ",
        "outputId": "d82db76a-1af1-428e-d3c0-6bbc6de5b831"
      },
      "outputs": [
        {
          "name": "stdout",
          "output_type": "stream",
          "text": [
            "1    0.5\n",
            "0    0.5\n",
            "Name: spam, dtype: float64\n"
          ]
        }
      ],
      "source": [
        "from imblearn.over_sampling import SMOTE\n",
        "\n",
        "smote = SMOTE(random_state=64)\n",
        "X3_sm, y_sm = smote.fit_resample(X3, y)\n",
        "\n",
        "print(pd.Series(y_sm).value_counts(normalize=True))\n",
        "\n"
      ]
    },
    {
      "cell_type": "code",
      "execution_count": null,
      "metadata": {
        "id": "5iy3ERXszsgW"
      },
      "outputs": [],
      "source": [
        "#Here, I train test split X3 and y\n",
        "from sklearn.model_selection import train_test_split\n",
        "\n",
        "X3_train, X3_test, y_train, y_test = train_test_split(X3_sm, y_sm, random_state=64)"
      ]
    },
    {
      "cell_type": "code",
      "execution_count": null,
      "metadata": {
        "id": "5c_Pznwcp5WO"
      },
      "outputs": [],
      "source": [
        "#Next, I scale the data using Scikit-Learn's StandardScaler, which makes the mean of each feature = 0 and the standard deviation = 1.\n",
        "from sklearn import preprocessing\n",
        "from sklearn.preprocessing import StandardScaler\n",
        "\n",
        "scaler = preprocessing.StandardScaler().fit(X3_train)\n",
        "X3_train_scaled = scaler.transform(X3_train)\n",
        "X3_test_scaled = scaler.transform(X3_test)\n",
        "\n",
        "#Note: One hot encoding is not necessary for this dataset because all features are numeric variables"
      ]
    },
    {
      "cell_type": "markdown",
      "metadata": {
        "id": "vB2d1VkMFcP7"
      },
      "source": [
        "### <u> KNN Classification: </u>"
      ]
    },
    {
      "cell_type": "markdown",
      "metadata": {
        "id": "-favFj3rQYFq"
      },
      "source": [
        "### **Choosing the Best Parameter for KNN Classification:** The default value for n_neighbors for KNN is 5. However, since 5 may not be the best parameter for n_neighbors, GridSearchCV will tune the model to discover which parameter for n_neighbors will return the best cross validation weighted F1 score. Since KNN Classifier takes the minimum Euclidean distance between a given observation and its *n* nearest neighbors and uses a \"majority vote\" to predict the class of the observation for the dependent variable under examination, it is important for GridSearchCV to look just at odd numbers for *n* such that there cannot be any ties."
      ]
    },
    {
      "cell_type": "code",
      "execution_count": null,
      "metadata": {
        "colab": {
          "base_uri": "https://localhost:8080/"
        },
        "id": "87_Na01eJVyn",
        "outputId": "91a68d6e-820d-4fae-cf8a-1a8ccf414a94"
      },
      "outputs": [
        {
          "name": "stdout",
          "output_type": "stream",
          "text": [
            "[('standardscaler', StandardScaler()), ('kneighborsclassifier', KNeighborsClassifier())]\n"
          ]
        }
      ],
      "source": [
        "from sklearn.neighbors import KNeighborsClassifier\n",
        "from sklearn.model_selection import cross_val_score\n",
        "from sklearn.model_selection import KFold\n",
        "\n",
        "\n",
        "\n",
        "#KNN Classification and GridSearchCV\n",
        " \n",
        "\n",
        "from sklearn.model_selection import GridSearchCV\n",
        "from sklearn.pipeline import make_pipeline\n",
        "\n",
        "knn_pipe = make_pipeline(StandardScaler(), KNeighborsClassifier(n_neighbors=5))\n",
        "print(knn_pipe.steps)\n",
        "\n",
        "\n"
      ]
    },
    {
      "cell_type": "code",
      "execution_count": null,
      "metadata": {
        "colab": {
          "base_uri": "https://localhost:8080/"
        },
        "id": "8BtWhISjMnkO",
        "outputId": "712ea820-f958-44cb-cf01-567904d0daf1"
      },
      "outputs": [
        {
          "name": "stdout",
          "output_type": "stream",
          "text": [
            "KNN Classification - Best Mean Cross Validation F1 Score (Scaled): 0.8093\n",
            "Best Parameters: {'kneighborsclassifier__n_neighbors': 7}\n"
          ]
        }
      ],
      "source": [
        "#GridSearchCV for hypertuning parameters\n",
        "\n",
        "#By default, GridSearchCV uses cv = 5 for K-fold cross validation. However, if you specify an integer for the argument cv \n",
        "#Scikit-Learn will then automatically use stratified K-Fold instead of K-fold cross validation for GridSearchCV. Therefore, \n",
        "#I refrain from specifying an integer value for the cv argument. \n",
        "#See https://scikit-learn.org/stable/modules/generated/sklearn.model_selection.GridSearchCV.html for more details.\n",
        "\n",
        "param_grid = {'kneighborsclassifier__n_neighbors': np.arange(1, 25, 2)} \n",
        "grid = GridSearchCV(knn_pipe, param_grid, scoring='f1_weighted', n_jobs=-1)\n",
        "grid.fit(X3_train_scaled, y_train)\n",
        "\n",
        "#A) Scoring the model using K-fold cross validation data with the number of folds = 5\n",
        "\n",
        "print(\"KNN Classification - Best Mean Cross Validation F1 Score (Scaled): {:.4f}\".format(grid.best_score_))\n",
        "print(\"Best Parameters: {}\".format(grid.best_params_))\n",
        "\n"
      ]
    },
    {
      "cell_type": "markdown",
      "metadata": {
        "id": "e6r7HiMzR7PB"
      },
      "source": [
        "### GridSearchCV iterated through all odd numbered K nearest neighbor options between 1 and 25 and found that 7 is the n_neighbors parameter value that predicts best with the least complex model (i.e., lowest parameter value for K that predicts the highest F1 score). Note that the F1 score is the harmonic mean between precision and recall such that the F1 score = 2 * (precision * recall) / (precision + recall). While Scikit-Learn's default type of F1 score is \"binary\", meaning that the results are only reported for the positive class, I instead use the \"weighted\" F1 score which calculates the average of the F1 scores of all classes."
      ]
    },
    {
      "cell_type": "markdown",
      "metadata": {
        "id": "xOUYS8W3TNcN"
      },
      "source": [
        "### Now that we know the best parameter for K is 7, we can construct our KNN classification model with 7 as the value for K and test the model on B) our test data directly."
      ]
    },
    {
      "cell_type": "code",
      "execution_count": null,
      "metadata": {
        "colab": {
          "base_uri": "https://localhost:8080/"
        },
        "id": "UyNK-YkRMDy-",
        "outputId": "c00f9c80-b198-4c3e-e8d0-d0e7f73c50d7"
      },
      "outputs": [
        {
          "name": "stdout",
          "output_type": "stream",
          "text": [
            "KNN Classification Test Set F1 Score (Scaled): 0.7938\n"
          ]
        }
      ],
      "source": [
        "from sklearn.metrics import f1_score\n",
        "\n",
        "knn = KNeighborsClassifier(n_neighbors=7)\n",
        "knn.fit(X3_train_scaled, y_train)\n",
        "\n",
        "#B) Scoring the model on test set data directly\n",
        "\n",
        "y_preds_knn = knn.predict(X3_test_scaled)\n",
        "print(\"KNN Classification Test Set F1 Score (Scaled): {:.4f}\".format(f1_score(y_test, y_preds_knn, average='weighted')))"
      ]
    },
    {
      "cell_type": "markdown",
      "metadata": {
        "id": "S0k2l0585R-e"
      },
      "source": [
        "### **Answer:**\n",
        "\n",
        "### The KNN Classification K-fold Cross Validation F1 Score: **<u>0.8093</u>**\n",
        "\n",
        "### The KNN Classification Test Set F1 Score: **0.7938**\n",
        "\n",
        "\n",
        "\n",
        "\n"
      ]
    },
    {
      "cell_type": "markdown",
      "metadata": {
        "id": "kT_Zbm9cVUvR"
      },
      "source": [
        "\n",
        "---\n",
        "\n",
        "### **Part 8:** \n",
        "\n",
        "### <u> L1 Penalized Logistic Regression: </u>\n",
        "\n",
        "### I once again will evaluate model predictive strength: A) using K-fold cross validation data and B) on test set data directly. I will also compare this model's performance to my previous model.\n",
        "---\n",
        "\n",
        "---\n"
      ]
    },
    {
      "cell_type": "markdown",
      "metadata": {
        "id": "JiR5AK5JU8fu"
      },
      "source": [
        "### **The difference between L1 and L2 regularized logistic regression:** L1 and L2 regularization both help to prevent logistic regression models from overfitting. Because both methods shrink down coefficients, they also have the benefit of enabling analysts to extract feature importance based on the resulting coefficients. L1 regularization creates a tunable penalty equal to λ times the sum of the absolute values of the parameters, while L2 regularization creates a tunable penalty equal to λ times the sum of the squares of the parameters. Scikit-Learn uses the tuning parameter C which equals the inverse of λ. A smaller value of C implies a higher penalty in both L1 and L2 regularization."
      ]
    },
    {
      "cell_type": "markdown",
      "metadata": {
        "id": "hPHr5x4lVw_d"
      },
      "source": [
        "### **L1 Penalized Logistic Regression - Choosing the Best Parameter:**  L1 penalized logistic regression has the goal of shrinking the beta coefficients in the model such that features without much predictive power result in their beta coefficients shrinking all the way to 0, while only those features with some predictive power result in their beta coefficients remaining in the model. This tends to increase the strength of predictions.\n",
        "\n",
        "$~$\n",
        "\n",
        "### As we decrease the value of C we increase the strength of the penalty in terms of how much the model's beta coefficients are forced to shrink. Therefore, the optimal C parameters for L1 penalized logistic regression tend to be low values. If we were to use a very high value for C such as 1e90, the logistic regression model would interpret this as unpenalized logistic regression.\n",
        "\n",
        "$~$\n",
        "\n",
        "### I will tune the range of C values, using GridSearchCV, from 10e-5 to 10e5. Since (in general) the lower the value of C the higher the penalty, the lower the resulting beta coefficients, and the higher the prediction strength, I believe the optimal value of C will be far less than 10e5.\n",
        "\n",
        "$~$\n",
        "\n",
        "### The more times the model iterates through the more (in general) L1 penalized logistic regression can shrink betas, but at a certain point there is a cap to how much iteration increases predictive strength. I choose a high value for max_iter (100,000).\n",
        "\n"
      ]
    },
    {
      "cell_type": "code",
      "execution_count": null,
      "metadata": {
        "colab": {
          "base_uri": "https://localhost:8080/"
        },
        "id": "vesIFOGTX4VK",
        "outputId": "6f755bca-1c3f-4528-d4e1-b43ec6749241"
      },
      "outputs": [
        {
          "name": "stdout",
          "output_type": "stream",
          "text": [
            "[('standardscaler', StandardScaler()), ('logisticregression', LogisticRegression(max_iter=100000, penalty='l1', random_state=64,\n",
            "                   solver='liblinear'))]\n"
          ]
        }
      ],
      "source": [
        "#L1 Penalized Logistic Regression and GridSearchCV\n",
        "from sklearn.linear_model import LogisticRegression\n",
        "\n",
        "l1_pipe = make_pipeline(StandardScaler(), LogisticRegression(penalty='l1', max_iter=100000, random_state=64, solver='liblinear'))\n",
        "print(l1_pipe.steps)\n"
      ]
    },
    {
      "cell_type": "code",
      "execution_count": null,
      "metadata": {
        "colab": {
          "base_uri": "https://localhost:8080/"
        },
        "id": "tEVZHww9YqWj",
        "outputId": "28eb42e8-7186-4e87-8360-f8e8a66680b3"
      },
      "outputs": [
        {
          "name": "stdout",
          "output_type": "stream",
          "text": [
            "L1 Penalized Logistic Regression - Best Mean Cross Validation F1 Score (Scaled): 0.7777\n",
            "Best Parameters: {'logisticregression__C': 0.7906043210907702}\n"
          ]
        }
      ],
      "source": [
        "#GridSearchCV:\n",
        "param_grid = {'logisticregression__C': np.logspace(-5,5)} #This tunes C from 10e-5 to 10e5.\n",
        "grid = GridSearchCV(l1_pipe, param_grid, scoring='f1_weighted', n_jobs=-1)\n",
        "grid.fit(X3_train_scaled, y_train)\n",
        "\n",
        "#A) Scoring the model using K-fold cross validation data with the number of folds = 5\n",
        "\n",
        "print(\"L1 Penalized Logistic Regression - Best Mean Cross Validation F1 Score (Scaled): {:.4f}\".format(grid.best_score_))\n",
        "print(\"Best Parameters: {}\".format(grid.best_params_))"
      ]
    },
    {
      "cell_type": "code",
      "execution_count": null,
      "metadata": {
        "colab": {
          "base_uri": "https://localhost:8080/"
        },
        "id": "y4uw9zUAms2I",
        "outputId": "ecf65bd7-83e9-4987-a545-47a8dcbedea3"
      },
      "outputs": [
        {
          "name": "stdout",
          "output_type": "stream",
          "text": [
            "L1 Penalized Logistic Regression Test Set F1 Score (Scaled): 0.7600\n"
          ]
        }
      ],
      "source": [
        "l1_3 = LogisticRegression(penalty='l1', C=0.7906043210907702, random_state=64, solver='liblinear')\n",
        "l1_3.fit(X3_train_scaled, y_train)\n",
        "\n",
        "#B) Scoring the model on test set data directly\n",
        "\n",
        "y_preds_l1 = l1_3.predict(X3_test_scaled)\n",
        "\n",
        "print(\"L1 Penalized Logistic Regression Test Set F1 Score (Scaled): {:.4f}\".format(f1_score(y_test, y_preds_l1, average='weighted')))"
      ]
    },
    {
      "cell_type": "markdown",
      "metadata": {
        "id": "SnjLFEEsFTwg"
      },
      "source": [
        "### **Answer:** \n",
        "\n",
        "### The L1 Penalized Logistic Regression K-fold Cross Validation F1 Score: **<u>0.7777</u>**\n",
        "\n",
        "### The L1 Penalized Logistic Regression Test Set F1 Score: **0.7600**\n",
        "\n",
        "\n",
        "$~$\n",
        "\n",
        "### L1 Penalized Logistic Regression *did not* predict better than my previous model (KNN Classification) because the KNN Classification K-fold Cross Validation F1 score was **<u>0.8093</u>**.\n",
        " \n",
        "\n",
        "---\n"
      ]
    },
    {
      "cell_type": "markdown",
      "metadata": {
        "id": "EYRDFX04qMm0"
      },
      "source": [
        "### **Part 9:** \n",
        "\n",
        "### <u> L2 Penalized Logistic Regression: </u>\n",
        "\n",
        "### I once again will evaluate prediction strength: A) On K-fold cross validation data and B) on test set data directly . I will also compare this model's performance to my previous models.\n",
        "\n",
        "---\n",
        "---"
      ]
    },
    {
      "cell_type": "markdown",
      "metadata": {
        "id": "6bO3Sy1LrOSJ"
      },
      "source": [
        "### **L2 Penalized Logistic Regression - Choosing the Best Parameter:**\n",
        "\n",
        "### L2 penalized logistic regression has the goal of shrinking the beta coefficients in the model such that features without much predictive power result in their beta coefficients shrinking, but not quite to 0. The beta coefficients for those predictors with more predictive power will be higher than the beta coefficients with less predictive power. Shrinking the coefficients in this way also tends to increase models' predictive strength. \n",
        "\n",
        "$~$\n",
        "\n",
        "### Like L1 penalized logistic regression, with L2 penalized logistic regression as we decrease the value of C we increase the strength of the penalty in terms of how much the model's beta coefficients are forced to shrink. Therefore, optimal C parameter values for L2 penalized logistic regression also tend to be low.\n",
        "\n",
        "$~$\n",
        "\n",
        "### With L2 penalized logistic regression I will also hypertune C using GridSearchCV between the range of 10e-5 to 10e5. Since (in general) the lower the value of C the higher the penalty, the lower the beta coefficients, and the higher the predictive strength, I believe that in all likelihood the optimal value of C will be far less than 10e5.\n",
        "\n",
        "$~$\n",
        "\n",
        "### The more the model iterates through the more (in general) L2 penalized logistic regression also can shrink betas, but - again - at a certain point there is a cap to how much iteration helps improve predictions. I choose a high value for max_iter (100,000) to try to increase my model's predictive strength as much as possible.\n"
      ]
    },
    {
      "cell_type": "code",
      "execution_count": null,
      "metadata": {
        "colab": {
          "base_uri": "https://localhost:8080/"
        },
        "id": "7oUW9TWqtdXK",
        "outputId": "2644ddf5-a55b-456b-a4ca-1faf5a00ffb6"
      },
      "outputs": [
        {
          "name": "stdout",
          "output_type": "stream",
          "text": [
            "[('standardscaler', StandardScaler()), ('logisticregression', LogisticRegression(max_iter=100000, random_state=64))]\n"
          ]
        }
      ],
      "source": [
        "#L2 Penalized Logistic Regression and GridSearchCV\n",
        "from sklearn.linear_model import LogisticRegression\n",
        "\n",
        "l2_pipe = make_pipeline(StandardScaler(), LogisticRegression(penalty='l2', max_iter=100000, random_state=64))\n",
        "print(l2_pipe.steps)"
      ]
    },
    {
      "cell_type": "code",
      "execution_count": null,
      "metadata": {
        "colab": {
          "base_uri": "https://localhost:8080/"
        },
        "id": "uX39eRyRtip_",
        "outputId": "ce44bfca-9d1f-4ad0-8e3c-e6fcd1a65bef"
      },
      "outputs": [
        {
          "name": "stdout",
          "output_type": "stream",
          "text": [
            "L2 Penalized Logistic Regression - Best Mean Cross Validation F1 Score (Scaled): 0.7775\n",
            "Best Parameters: {'logisticregression__C': 3.2374575428176464}\n"
          ]
        }
      ],
      "source": [
        "param_grid = {'logisticregression__C': np.logspace(-5,5)} #This tunes C from 10e-5 to 10e5.\n",
        "grid = GridSearchCV(l2_pipe, param_grid, scoring='f1_weighted', n_jobs=-1)\n",
        "grid.fit(X3_train_scaled, y_train)\n",
        "\n",
        "#A) Scoring the model using K-fold cross validation data with the number of folds = 5\n",
        "\n",
        "print(\"L2 Penalized Logistic Regression - Best Mean Cross Validation F1 Score (Scaled): {:.4f}\".format(grid.best_score_))\n",
        "print(\"Best Parameters: {}\".format(grid.best_params_))"
      ]
    },
    {
      "cell_type": "markdown",
      "metadata": {
        "id": "lQ7x4leYtpgB"
      },
      "source": [
        "### **GridSearchCV's Identified Best C Parameter for L2 Penalized Logistic Regression: 3.2374575428176464** "
      ]
    },
    {
      "cell_type": "code",
      "execution_count": null,
      "metadata": {
        "colab": {
          "base_uri": "https://localhost:8080/"
        },
        "id": "JGHFUqqMt-cc",
        "outputId": "91ebed62-c4f3-405b-923e-2886fbbc418c"
      },
      "outputs": [
        {
          "name": "stdout",
          "output_type": "stream",
          "text": [
            "L2 Penalized Logistic Regression Test Set F1 Score (Scaled): 0.7600\n"
          ]
        }
      ],
      "source": [
        "l2_3 = LogisticRegression(C=3.2374575428176464, penalty='l2', max_iter=100000, random_state=64)\n",
        "l2_3.fit(X3_train_scaled, y_train)\n",
        "\n",
        "#B) Scoring the model on test set data directly\n",
        "\n",
        "y_preds_l2 = l2_3.predict(X3_test_scaled)\n",
        "\n",
        "print(\"L2 Penalized Logistic Regression Test Set F1 Score (Scaled): {:.4f}\".format(f1_score(y_test, y_preds_l2, average='weighted')))"
      ]
    },
    {
      "cell_type": "markdown",
      "metadata": {
        "id": "iwDoCyrJGDj9"
      },
      "source": [
        "### **Answer:** \n",
        "\n",
        "### The L2 Penalized Logistic Regression K-fold Cross Validation F1 Score: **<u>0.7775</u>**\n",
        "\n",
        "### The L2 Penalized Logistic Regression Test Set F1 Score: **0.7600**\n",
        "\n",
        "\n",
        "$~$\n",
        "\n",
        "### L2 Penalized Logistic Regression predicted slightly worse than my L1 Penalized Logistic Regression model (which had a K-fold cross validation F1 score of **<u>0.7777</u>**). However, KNN Classification had a better cross validation F1 score (**<u>0.8093</u>**) than either the L1 or L2 Penalized Logistic Regression models.\n",
        "\n",
        "---\n"
      ]
    },
    {
      "cell_type": "markdown",
      "metadata": {
        "id": "dhnOWRZIwz0x"
      },
      "source": [
        "### **Part 10:** \n",
        "\n",
        "### <u> Random Forests Classification: </u>\n",
        "\n",
        "$~$\n",
        "\n",
        "### I once again will evaluate prediction strength: A) On K-fold cross validation where K=5 and B) on test set data directly.\n",
        "\n",
        "---\n",
        "\n",
        "---"
      ]
    },
    {
      "cell_type": "markdown",
      "metadata": {
        "id": "eOzQHObpxeBo"
      },
      "source": [
        "### **Random Forests - Choosing the Best Parameter:**\n",
        "\n",
        "### There are several different hyperparameters that can be helpful to tune when using Random Forest Classification:\n",
        "\n",
        "$~$\n",
        "\n",
        "### The higher the number of values tuned for on most of these hyperparameters, the longer it takes for the model to run and produce output. The key is to find values for the hyperparameters that still produce relatively high prediction accuracy scores while limiting the amount of time needed to run the model.  \n",
        "\n",
        "$~$\n",
        "\n",
        "*   **n_estimators** creates bootstrap datasets (synthetically created datasets that are randomly generated from the original dataset) which the model uses to expand the amount of data to train on. Generally, the higher the number of bootstrap datasets created with n_estimators, the more accurate my predictions should be. However, at some point adding each additional bootstrap dataset will lead to less and less of an increase in predictive strength. Using GridSearchCV, I originally tuned for a variety of ranges of n_estimators. I found that a maximum value for n_estimators of 10,000 returned a mean cross validation score of 0.8179. Yet, the time it took to run this model was about a half-hour. Since my goal is to have our models be minimally complex yet maximally accurate, I decided instead to tune n_estimators between 1 and 10. The time it now took to run the model decreased substantially, and my cross validation score actually increased. I therefore kept my tuning range between 1 and 2,000.\n",
        "\n",
        "$~$\n",
        "\n",
        "*   **max_depth** is the longest path created (based on the number of internal nodes created) between the root node and leaf node. The higher the value for max_depth the more preditive strength tends to increase, although there is a point at which each additional integer added for max_depth will lead to smaller and smaller increases in predictive strength. The higher the number of internal splits allowed by increasing the value on max_depth the larger will be the size and complexity of the tree. I selected my range for max_depth to be from 1 to 1,000.\n",
        "\n",
        "$~$\n",
        "\n",
        "*   **criterion** is the impurity measurement function used for determining the quality of each split for the categorical values on the dependent variable while conducting recursive binary splitting. It helps find at each split which features minimize node impurity, which ultimately increases prediction strength. The methods that can be used with classification (Gini Index vs. Cross-Entropy) are very similar in their methodological design. They are both measurements of classification purity whereby the smaller the value for the Gini Index or Cross-Entropy score the more purely your observations are being classified into correct categories on the target variable. I use GridSearchCV to determine which criterion leads to greater predictive strength.\n",
        "\n",
        "$~$\n",
        "\n",
        "*   **min_samples_leaf** allows you to control the number of observations permitted in each of the terminal nodes. Thus, an increased value for min_samples_leaf decreases the size of the decision trees in a model. It is possible that increasing min_samples_leaf will increase a model's predictive strength, but only up to a certain point. I chose a range from 1 to 100 to tune min_samples_leaf.\n",
        "\n",
        "$~$\n",
        "\n",
        "*   **max_features** is the number of features we permit our model to randomly allow for evaluation at each internal node. The idea behind max_features is that by limiting the number of features that can be evaluated at each internal node, you make your trees more different, which thus can help the generalizability of your model (decreasing the chances of your model overfitting) when it is tested on unseen data. Although the square root of the total number of features in a given data set is typically thought to be a good value to use for maximizing predictive strength on unseen data, I wanted to see if for this particular data set there might be an even better max_feature value that would increase accuracy. I therefore tested for the full range of features in the data set. Since I have only 3 features in my model up to this point (but will include more later), I will tune for a max_features range of 1 to 3.\n",
        "\n",
        "\n",
        "\n",
        "\n",
        "\n",
        "\n"
      ]
    },
    {
      "cell_type": "code",
      "execution_count": null,
      "metadata": {
        "colab": {
          "base_uri": "https://localhost:8080/"
        },
        "id": "0dsR7SfzVTGb",
        "outputId": "e079238a-7757-4693-fb68-30856fea3f60"
      },
      "outputs": [
        {
          "name": "stdout",
          "output_type": "stream",
          "text": [
            "[('standardscaler', StandardScaler()), ('randomforestclassifier', RandomForestClassifier(random_state=64))]\n"
          ]
        }
      ],
      "source": [
        "from sklearn.ensemble import RandomForestClassifier\n",
        "\n",
        "\n",
        "rf_pipe = make_pipeline(StandardScaler(), RandomForestClassifier(random_state=64))\n",
        "print(rf_pipe.steps)"
      ]
    },
    {
      "cell_type": "code",
      "execution_count": null,
      "metadata": {
        "colab": {
          "base_uri": "https://localhost:8080/"
        },
        "id": "K46xzjMd53g4",
        "outputId": "ac73f1f9-0dd2-4e1a-8881-4f9c078409ff"
      },
      "outputs": [
        {
          "name": "stdout",
          "output_type": "stream",
          "text": [
            "Random Forest Classification - Best Mean Cross Validation F1 Score (Scaled): 0.8226\n",
            "Best Parameters: {'randomforestclassifier__criterion': 'entropy', 'randomforestclassifier__max_depth': 18, 'randomforestclassifier__max_features': 1, 'randomforestclassifier__min_samples_leaf': 1, 'randomforestclassifier__n_estimators': 1000}\n"
          ]
        }
      ],
      "source": [
        "#GridSearchCV for hypertuning parameters\n",
        "\n",
        "param_grid = {\n",
        "    'randomforestclassifier__n_estimators': [1000, 1500, 2000],\n",
        "    'randomforestclassifier__max_features': [1, 2, 3],\n",
        "    'randomforestclassifier__max_depth': [None, 9, 18, 32],\n",
        "    'randomforestclassifier__min_samples_leaf': [1, 10, 20],\n",
        "    'randomforestclassifier__criterion': ['gini', 'entropy']}\n",
        "grid = GridSearchCV(rf_pipe, param_grid, scoring='f1_weighted', n_jobs=-1)\n",
        "grid.fit(X3_train_scaled, y_train)\n",
        "\n",
        "#A) Scoring the model using K-fold cross validation data with the number of folds = 5\n",
        "\n",
        "print(\"Random Forest Classification - Best Mean Cross Validation F1 Score (Scaled): {:.4f}\".format(grid.best_score_))\n",
        "print(\"Best Parameters: {}\".format(grid.best_params_))"
      ]
    },
    {
      "cell_type": "markdown",
      "metadata": {
        "id": "3gxAmziTkTff"
      },
      "source": [
        "### **GridSearchCV's Identified Best Parameters for Random Forests Classification:**\n",
        "\n",
        "\n",
        "*   ***Criterion:*** entropy\n",
        "*   ***Max_depth:*** 18\n",
        "*   ***Max_features:*** 1\n",
        "*   ***Min_samples_leaf:*** 1\n",
        "*   ***N_estimators:*** 1000\n",
        "\n",
        "\n",
        "\n",
        "\n",
        "\n"
      ]
    },
    {
      "cell_type": "markdown",
      "metadata": {
        "id": "Nz7Dikl7o5Rv"
      },
      "source": [
        "### Now that we know the optimal parameters within the range provided, we can use these to create a Random Forest model to find the level of predictive strength on test set data directly."
      ]
    },
    {
      "cell_type": "code",
      "execution_count": null,
      "metadata": {
        "colab": {
          "base_uri": "https://localhost:8080/"
        },
        "id": "uMa4kTukpdsb",
        "outputId": "097e2d5c-98fa-4541-913e-573a11dfc9ef"
      },
      "outputs": [
        {
          "name": "stdout",
          "output_type": "stream",
          "text": [
            "Random Forest Classification Test Set F1 Score (Scaled): 0.8141\n"
          ]
        }
      ],
      "source": [
        "rf_3 = RandomForestClassifier(criterion='entropy', max_depth=18, max_features=1, min_samples_leaf=1, n_estimators=1000, random_state=64)\n",
        "rf_3.fit(X3_train_scaled, y_train)\n",
        "\n",
        "#B) Scoring the model on test set data directly\n",
        "\n",
        "y_preds_rf = rf_3.predict(X3_test_scaled)\n",
        "print(\"Random Forest Classification Test Set F1 Score (Scaled): {:.4f}\".format(f1_score(y_test, y_preds_rf, average='weighted')))"
      ]
    },
    {
      "cell_type": "markdown",
      "metadata": {
        "id": "IPawidQn-VDJ"
      },
      "source": [
        "### **Answer:**\n",
        "\n",
        "### The Random Forests Classification K-fold Cross Validation F1 Score: **<u>0.8226</u>**\n",
        "\n",
        "### The Random Forests Classification Test Set F1 Score: **0.8141**\n",
        "\n",
        "\n"
      ]
    },
    {
      "cell_type": "markdown",
      "metadata": {
        "id": "XnY1uRMhHfsn"
      },
      "source": [
        "### Random Forests Classification did perform better than all three of my previous models (KNN Classification, L1 Penalized Logistic Regression, and L2 Penalized Logistic Regression). Up to this point my best performing model was KNN Classification, which had a cross validation F1 score of **<u>0.8093</u>**. \n",
        "\n",
        "---\n"
      ]
    },
    {
      "cell_type": "markdown",
      "metadata": {
        "id": "h_yqrUQU2QlI"
      },
      "source": [
        "### **Part 11:** \n",
        "\n",
        "### Now I will rerun my best model (Random Forests), but this time add three new variables to the model that I think will increase predictive strength. I will see if this new model performs better than my previous models.\n",
        "\n",
        "---\n",
        "\n",
        "---\n",
        "\n",
        "### The 3 extra variables I think will further increase the model's predictive strength are: \n",
        "\n",
        "\n",
        "*   word_freq_order:\n",
        "*   word_freq_receive:\n",
        "*   char_freq_!:\n",
        "\n",
        "$~$\n",
        "\n",
        "### ***word_freq_order:*** This feature may be predictive of spam because advertisers and scam artists alike have incentives to try to persuade ordinary people to order things from them. Alternatively, they may also have an incentive to try to deceive people into thinking they have an order that is ready for them if they respond to the email. The sender of an email may believe that high frequency use of the word \"order\" may persuade people to be more inclined to desire to order things or more likely to believe they have an order waiting for them if they respond.\n",
        "\n",
        "$~$\n",
        "\n",
        "### ***word_freq_receive:*** This feature may be predictive of spam because advertisers and scam artists alike have an incentive to try to lure people into thinking that they will receive items if they respond to an email. Naturally, most people like to receive things. Therefore, the sender of the email may be more inclined to think they will receive a response the more often they use the word \"receive\" in an email.\n",
        "\n",
        "$~$\n",
        "\n",
        "### ***char_freq_!:*** This feature may be predictive of spam because the use of an exclamation mark can have the purpose of trying to get the attention of someone or trying to excite them about an offer being advertised. The sender may believe that the more often they use exclamation marks the more often readers will in fact pay attention and become excited about any such offer.\n",
        "\n",
        "\n"
      ]
    },
    {
      "cell_type": "code",
      "execution_count": 4,
      "metadata": {
        "colab": {
          "base_uri": "https://localhost:8080/",
          "height": 206
        },
        "id": "SEccQGsc7NDv",
        "outputId": "3495b42c-3c56-4397-a4f8-33588098ee0e"
      },
      "outputs": [
        {
          "output_type": "execute_result",
          "data": {
            "text/plain": [
              "   word_freq_free:  capital_run_length_total:  word_freq_money:  \\\n",
              "0             0.32                        278              0.00   \n",
              "1             0.14                       1028              0.43   \n",
              "2             0.06                       2259              0.06   \n",
              "3             0.31                        191              0.00   \n",
              "4             0.31                        191              0.00   \n",
              "\n",
              "   word_freq_order:  word_freq_receive:  char_freq_!:  \n",
              "0              0.00                0.00         0.778  \n",
              "1              0.00                0.21         0.372  \n",
              "2              0.64                0.38         0.276  \n",
              "3              0.31                0.31         0.137  \n",
              "4              0.31                0.31         0.135  "
            ],
            "text/html": [
              "\n",
              "  <div id=\"df-743b029b-6482-4542-92cc-273018fa5975\">\n",
              "    <div class=\"colab-df-container\">\n",
              "      <div>\n",
              "<style scoped>\n",
              "    .dataframe tbody tr th:only-of-type {\n",
              "        vertical-align: middle;\n",
              "    }\n",
              "\n",
              "    .dataframe tbody tr th {\n",
              "        vertical-align: top;\n",
              "    }\n",
              "\n",
              "    .dataframe thead th {\n",
              "        text-align: right;\n",
              "    }\n",
              "</style>\n",
              "<table border=\"1\" class=\"dataframe\">\n",
              "  <thead>\n",
              "    <tr style=\"text-align: right;\">\n",
              "      <th></th>\n",
              "      <th>word_freq_free:</th>\n",
              "      <th>capital_run_length_total:</th>\n",
              "      <th>word_freq_money:</th>\n",
              "      <th>word_freq_order:</th>\n",
              "      <th>word_freq_receive:</th>\n",
              "      <th>char_freq_!:</th>\n",
              "    </tr>\n",
              "  </thead>\n",
              "  <tbody>\n",
              "    <tr>\n",
              "      <th>0</th>\n",
              "      <td>0.32</td>\n",
              "      <td>278</td>\n",
              "      <td>0.00</td>\n",
              "      <td>0.00</td>\n",
              "      <td>0.00</td>\n",
              "      <td>0.778</td>\n",
              "    </tr>\n",
              "    <tr>\n",
              "      <th>1</th>\n",
              "      <td>0.14</td>\n",
              "      <td>1028</td>\n",
              "      <td>0.43</td>\n",
              "      <td>0.00</td>\n",
              "      <td>0.21</td>\n",
              "      <td>0.372</td>\n",
              "    </tr>\n",
              "    <tr>\n",
              "      <th>2</th>\n",
              "      <td>0.06</td>\n",
              "      <td>2259</td>\n",
              "      <td>0.06</td>\n",
              "      <td>0.64</td>\n",
              "      <td>0.38</td>\n",
              "      <td>0.276</td>\n",
              "    </tr>\n",
              "    <tr>\n",
              "      <th>3</th>\n",
              "      <td>0.31</td>\n",
              "      <td>191</td>\n",
              "      <td>0.00</td>\n",
              "      <td>0.31</td>\n",
              "      <td>0.31</td>\n",
              "      <td>0.137</td>\n",
              "    </tr>\n",
              "    <tr>\n",
              "      <th>4</th>\n",
              "      <td>0.31</td>\n",
              "      <td>191</td>\n",
              "      <td>0.00</td>\n",
              "      <td>0.31</td>\n",
              "      <td>0.31</td>\n",
              "      <td>0.135</td>\n",
              "    </tr>\n",
              "  </tbody>\n",
              "</table>\n",
              "</div>\n",
              "      <button class=\"colab-df-convert\" onclick=\"convertToInteractive('df-743b029b-6482-4542-92cc-273018fa5975')\"\n",
              "              title=\"Convert this dataframe to an interactive table.\"\n",
              "              style=\"display:none;\">\n",
              "        \n",
              "  <svg xmlns=\"http://www.w3.org/2000/svg\" height=\"24px\"viewBox=\"0 0 24 24\"\n",
              "       width=\"24px\">\n",
              "    <path d=\"M0 0h24v24H0V0z\" fill=\"none\"/>\n",
              "    <path d=\"M18.56 5.44l.94 2.06.94-2.06 2.06-.94-2.06-.94-.94-2.06-.94 2.06-2.06.94zm-11 1L8.5 8.5l.94-2.06 2.06-.94-2.06-.94L8.5 2.5l-.94 2.06-2.06.94zm10 10l.94 2.06.94-2.06 2.06-.94-2.06-.94-.94-2.06-.94 2.06-2.06.94z\"/><path d=\"M17.41 7.96l-1.37-1.37c-.4-.4-.92-.59-1.43-.59-.52 0-1.04.2-1.43.59L10.3 9.45l-7.72 7.72c-.78.78-.78 2.05 0 2.83L4 21.41c.39.39.9.59 1.41.59.51 0 1.02-.2 1.41-.59l7.78-7.78 2.81-2.81c.8-.78.8-2.07 0-2.86zM5.41 20L4 18.59l7.72-7.72 1.47 1.35L5.41 20z\"/>\n",
              "  </svg>\n",
              "      </button>\n",
              "      \n",
              "  <style>\n",
              "    .colab-df-container {\n",
              "      display:flex;\n",
              "      flex-wrap:wrap;\n",
              "      gap: 12px;\n",
              "    }\n",
              "\n",
              "    .colab-df-convert {\n",
              "      background-color: #E8F0FE;\n",
              "      border: none;\n",
              "      border-radius: 50%;\n",
              "      cursor: pointer;\n",
              "      display: none;\n",
              "      fill: #1967D2;\n",
              "      height: 32px;\n",
              "      padding: 0 0 0 0;\n",
              "      width: 32px;\n",
              "    }\n",
              "\n",
              "    .colab-df-convert:hover {\n",
              "      background-color: #E2EBFA;\n",
              "      box-shadow: 0px 1px 2px rgba(60, 64, 67, 0.3), 0px 1px 3px 1px rgba(60, 64, 67, 0.15);\n",
              "      fill: #174EA6;\n",
              "    }\n",
              "\n",
              "    [theme=dark] .colab-df-convert {\n",
              "      background-color: #3B4455;\n",
              "      fill: #D2E3FC;\n",
              "    }\n",
              "\n",
              "    [theme=dark] .colab-df-convert:hover {\n",
              "      background-color: #434B5C;\n",
              "      box-shadow: 0px 1px 3px 1px rgba(0, 0, 0, 0.15);\n",
              "      filter: drop-shadow(0px 1px 2px rgba(0, 0, 0, 0.3));\n",
              "      fill: #FFFFFF;\n",
              "    }\n",
              "  </style>\n",
              "\n",
              "      <script>\n",
              "        const buttonEl =\n",
              "          document.querySelector('#df-743b029b-6482-4542-92cc-273018fa5975 button.colab-df-convert');\n",
              "        buttonEl.style.display =\n",
              "          google.colab.kernel.accessAllowed ? 'block' : 'none';\n",
              "\n",
              "        async function convertToInteractive(key) {\n",
              "          const element = document.querySelector('#df-743b029b-6482-4542-92cc-273018fa5975');\n",
              "          const dataTable =\n",
              "            await google.colab.kernel.invokeFunction('convertToInteractive',\n",
              "                                                     [key], {});\n",
              "          if (!dataTable) return;\n",
              "\n",
              "          const docLinkHtml = 'Like what you see? Visit the ' +\n",
              "            '<a target=\"_blank\" href=https://colab.research.google.com/notebooks/data_table.ipynb>data table notebook</a>'\n",
              "            + ' to learn more about interactive tables.';\n",
              "          element.innerHTML = '';\n",
              "          dataTable['output_type'] = 'display_data';\n",
              "          await google.colab.output.renderOutput(dataTable, element);\n",
              "          const docLink = document.createElement('div');\n",
              "          docLink.innerHTML = docLinkHtml;\n",
              "          element.appendChild(docLink);\n",
              "        }\n",
              "      </script>\n",
              "    </div>\n",
              "  </div>\n",
              "  "
            ]
          },
          "metadata": {},
          "execution_count": 4
        }
      ],
      "source": [
        "#Here, I create a new datset that combines the three features I previously used as well as the three additional features mentioned above:\n",
        "\n",
        "y = df['spam']\n",
        "X6 = df.loc[:, ['word_freq_free:', 'capital_run_length_total:', 'word_freq_money:', 'word_freq_order:', 'word_freq_receive:', 'char_freq_!:']]\n",
        "\n",
        "X6.head()\n"
      ]
    },
    {
      "cell_type": "code",
      "execution_count": 5,
      "metadata": {
        "colab": {
          "base_uri": "https://localhost:8080/"
        },
        "id": "zsDOjFHEUxrT",
        "outputId": "1b98f23b-a6b9-4339-fcc1-752cdb0c1f56"
      },
      "outputs": [
        {
          "output_type": "stream",
          "name": "stdout",
          "text": [
            "1    0.5\n",
            "0    0.5\n",
            "Name: spam, dtype: float64\n"
          ]
        }
      ],
      "source": [
        "from imblearn.over_sampling import SMOTE\n",
        "\n",
        "#I again use SMOTE to balance the classes:\n",
        "\n",
        "smote = SMOTE(random_state=64)\n",
        "X6_sm, y_sm = smote.fit_resample(X6, y)\n",
        "\n",
        "print(pd.Series(y_sm).value_counts(normalize=True))"
      ]
    },
    {
      "cell_type": "code",
      "execution_count": 7,
      "metadata": {
        "id": "rW8NLqWD9LRa"
      },
      "outputs": [],
      "source": [
        "#Train test split\n",
        "\n",
        "X6_train, X6_test, y_train, y_test = train_test_split(X6_sm, y_sm, random_state=64)"
      ]
    },
    {
      "cell_type": "code",
      "execution_count": 10,
      "metadata": {
        "id": "NBscssI69htJ"
      },
      "outputs": [],
      "source": [
        "#Scaling the data\n",
        "\n",
        "scaler6 = preprocessing.StandardScaler().fit(X6_train)\n",
        "X6_train_scaled = scaler6.transform(X6_train)\n",
        "X6_test_scaled = scaler6.transform(X6_test)"
      ]
    },
    {
      "cell_type": "markdown",
      "metadata": {
        "id": "Ncoe-0xbFBUT"
      },
      "source": [
        "### <u> Random Forest Classification: </u>"
      ]
    },
    {
      "cell_type": "code",
      "execution_count": null,
      "metadata": {
        "colab": {
          "base_uri": "https://localhost:8080/"
        },
        "id": "NOjNNErarXOu",
        "outputId": "a4f3c3d4-6323-4390-f331-2bbb84dcfa08"
      },
      "outputs": [
        {
          "name": "stdout",
          "output_type": "stream",
          "text": [
            "Random Forest Classification - Best Mean Cross Validation F1 Score (Scaled): 0.8829\n",
            "Best Parameters: {'randomforestclassifier__criterion': 'entropy', 'randomforestclassifier__max_depth': 9, 'randomforestclassifier__max_features': 3, 'randomforestclassifier__min_samples_leaf': 1, 'randomforestclassifier__n_estimators': 1000}\n"
          ]
        }
      ],
      "source": [
        "#GridSearchCV for hypertuning parameters\n",
        "\n",
        "param_grid = {\n",
        "    'randomforestclassifier__n_estimators': [1000, 1500, 2000],\n",
        "    'randomforestclassifier__max_features': [1, 3, 5],\n",
        "    'randomforestclassifier__max_depth': [None, 9, 18, 32],\n",
        "    'randomforestclassifier__min_samples_leaf': [1, 10, 20],\n",
        "    'randomforestclassifier__criterion': ['gini', 'entropy']}\n",
        "grid = GridSearchCV(rf_pipe, param_grid, scoring='f1_weighted', n_jobs=-1)\n",
        "grid.fit(X6_train_scaled, y_train)\n",
        "\n",
        "#A) Scoring the model using K-fold cross validation data with the number of folds = 5\n",
        "\n",
        "print(\"Random Forest Classification - Best Mean Cross Validation F1 Score (Scaled): {:.4f}\".format(grid.best_score_))\n",
        "print(\"Best Parameters: {}\".format(grid.best_params_))"
      ]
    },
    {
      "cell_type": "code",
      "execution_count": null,
      "metadata": {
        "colab": {
          "base_uri": "https://localhost:8080/"
        },
        "id": "Z8rzysu097Jd",
        "outputId": "a3e58e96-5a53-48e3-ce43-a9599bb61ebc"
      },
      "outputs": [
        {
          "name": "stdout",
          "output_type": "stream",
          "text": [
            "Random Forest Classification Test Set F1 Score (Scaled): 0.8701\n"
          ]
        }
      ],
      "source": [
        "#Rerunning my best model (Random Forests) from before, but now with 6 features instead of 3, and with parameter values found to be optimal \n",
        "#with the 6 features:\n",
        "\n",
        "rf_6 = RandomForestClassifier(criterion='entropy', max_depth=9, max_features=3, min_samples_leaf=1, n_estimators=1000, random_state=64)\n",
        "rf_6.fit(X6_train_scaled, y_train)\n",
        "\n",
        "#B) Scoring the model on test set data directly\n",
        "\n",
        "y_preds_6_rf = rf_6.predict(X6_test_scaled)\n",
        "print(\"Random Forest Classification Test Set F1 Score (Scaled): {:.4f}\".format(f1_score(y_test, y_preds_6_rf, average='weighted')))"
      ]
    },
    {
      "cell_type": "markdown",
      "metadata": {
        "id": "2Zl0IprB-pCW"
      },
      "source": [
        "### **Answer:** \n",
        "\n",
        "### Yes, my best model now comprising 6 features outperformed my best model with only 3 features on both test data and cross validation data:\n",
        "\n",
        "$~$\n",
        "\n",
        "### Random Forests Classification Model (**3 Features**) - K-fold Cross Validation F1 Score: **<u>0.8226</u>**\n",
        "\n",
        "### Random Forests Classification Model (**3 Features**) - Test Set F1 Score: **0.8141**\n",
        "\n",
        "\n",
        "$~$\n",
        "\n",
        "### Random Forests Classification Model (**6 Features**) - K-fold Cross Validation F1 Score: **<u>0.8829</u>**\n",
        "\n",
        "### Random Forests Classification Model (**6 Features**) - Test Set F1 Score: **0.8701**\n",
        "\n",
        "\n",
        "\n",
        "---\n",
        "\n",
        "\n"
      ]
    },
    {
      "cell_type": "markdown",
      "metadata": {
        "id": "_yKlQdVsE2Ew"
      },
      "source": [
        "### **Part 12:** \n",
        "\n",
        "### Next, I rerun all my other models with this set of six variables, evaluate predictive strength, and choose the best model.\n",
        "\n",
        "---\n",
        "\n",
        "---\n"
      ]
    },
    {
      "cell_type": "markdown",
      "metadata": {
        "id": "CzbccB-YD-ut"
      },
      "source": [
        "### <u> KNN Classification: </u>"
      ]
    },
    {
      "cell_type": "code",
      "execution_count": 13,
      "metadata": {
        "colab": {
          "base_uri": "https://localhost:8080/"
        },
        "id": "wpth5iHPDXRr",
        "outputId": "862c294e-1d04-4f90-d425-c36f490a8baa"
      },
      "outputs": [
        {
          "output_type": "stream",
          "name": "stdout",
          "text": [
            "[('standardscaler', StandardScaler()), ('kneighborsclassifier', KNeighborsClassifier())]\n"
          ]
        }
      ],
      "source": [
        "#KNN Classification model, but now with 6 variables\n",
        "\n",
        "from sklearn.neighbors import KNeighborsClassifier\n",
        "\n",
        "knn_pipe = make_pipeline(StandardScaler(), KNeighborsClassifier(n_neighbors=5))\n",
        "print(knn_pipe.steps)"
      ]
    },
    {
      "cell_type": "code",
      "execution_count": 15,
      "metadata": {
        "colab": {
          "base_uri": "https://localhost:8080/"
        },
        "id": "5XbtGSNz23uj",
        "outputId": "630c805d-c2f7-4d79-9db0-e72890edab16"
      },
      "outputs": [
        {
          "output_type": "stream",
          "name": "stdout",
          "text": [
            "KNN Classification - Best Mean Cross Validation F1 Score (Scaled): 0.8587\n",
            "Best Parameters: {'kneighborsclassifier__n_neighbors': 9}\n"
          ]
        }
      ],
      "source": [
        "#First, I use GridSearchCV to tune for the optimal number of n neighbors for the revised dataset with 6 features\n",
        "\n",
        "param_grid = {'kneighborsclassifier__n_neighbors': np.arange(1, 25, 2)} \n",
        "grid = GridSearchCV(knn_pipe, param_grid, scoring='f1_weighted', n_jobs=-1)\n",
        "grid.fit(X6_train_scaled, y_train)\n",
        "\n",
        "#A) Scoring the model using K-fold cross validation data with the number of folds = 5\n",
        "\n",
        "print(\"KNN Classification - Best Mean Cross Validation F1 Score (Scaled): {:.4f}\".format(grid.best_score_))\n",
        "print(\"Best Parameters: {}\".format(grid.best_params_))"
      ]
    },
    {
      "cell_type": "code",
      "execution_count": null,
      "metadata": {
        "colab": {
          "base_uri": "https://localhost:8080/"
        },
        "id": "ozEUmZ9vIzVo",
        "outputId": "683f1827-cb5f-4624-f346-97977257b78d"
      },
      "outputs": [
        {
          "name": "stdout",
          "output_type": "stream",
          "text": [
            "KNN Classification Test Set F1 Score (Scaled): 0.8479\n"
          ]
        }
      ],
      "source": [
        "from pandas.core.common import random_state\n",
        "#GridSearchCV found the optimal number of K neighbors for the revised dataset to be 9\n",
        "\n",
        "knn_6 = KNeighborsClassifier(n_neighbors=9)\n",
        "knn_6.fit(X6_train_scaled, y_train)\n",
        "\n",
        "#B) Scoring the model on test set data directly\n",
        "\n",
        "y_preds_6_knn = knn_6.predict(X6_test_scaled)\n",
        "\n",
        "print(\"KNN Classification Test Set F1 Score (Scaled): {:.4f}\".format(f1_score(y_test, y_preds_6_knn, average='weighted')))"
      ]
    },
    {
      "cell_type": "markdown",
      "metadata": {
        "id": "Z1R4REqD_nmZ"
      },
      "source": [
        "### **Answer:**\n",
        "\n",
        "### The KNN Classification Cross Validation F1 Score: **<u>0.8587</u>**\n",
        "\n",
        "### The KNN Classification Test Set F1 Score: **0.8479**\n",
        "---"
      ]
    },
    {
      "cell_type": "markdown",
      "metadata": {
        "id": "gqYmzzXmEIxY"
      },
      "source": [
        "### <u> L1 Penalized Logistic Regression: </u>"
      ]
    },
    {
      "cell_type": "code",
      "execution_count": null,
      "metadata": {
        "id": "zsg0WwcNDXRt",
        "outputId": "2ae56e38-a4d0-483f-a920-91f861b6c788"
      },
      "outputs": [
        {
          "name": "stdout",
          "output_type": "stream",
          "text": [
            "[('standardscaler', StandardScaler()), ('logisticregression', LogisticRegression(max_iter=100000, penalty='l1', random_state=64,\n",
            "                   solver='liblinear'))]\n"
          ]
        }
      ],
      "source": [
        "#L1 Penalized Logistic Regression model, but now with 6 variables\n",
        "from sklearn.linear_model import LogisticRegression\n",
        "\n",
        "l1_pipe = make_pipeline(StandardScaler(), LogisticRegression(penalty='l1', max_iter=100000, random_state=64, solver='liblinear'))\n",
        "print(l1_pipe.steps)"
      ]
    },
    {
      "cell_type": "code",
      "execution_count": null,
      "metadata": {
        "colab": {
          "base_uri": "https://localhost:8080/"
        },
        "id": "9QE74K8w-ePa",
        "outputId": "12b037e5-613c-4cc3-9891-9324e036c25e"
      },
      "outputs": [
        {
          "name": "stdout",
          "output_type": "stream",
          "text": [
            "L1 Penalized Logistic Regression - Best Mean Cross Validation F1 Score (Scaled): 0.8044\n",
            "Best Parameters: {'logisticregression__C': 21.209508879201927}\n"
          ]
        }
      ],
      "source": [
        "#GridSearchCV for hypertuning the C parameter\n",
        "param_grid = {'logisticregression__C': np.logspace(-5,5)} #This tunes C from 10e-5 to 10e5.\n",
        "grid = GridSearchCV(l1_pipe, param_grid, scoring='f1_weighted', n_jobs=-1)\n",
        "grid.fit(X6_train_scaled, y_train)\n",
        "\n",
        "#A) Scoring the model using K-fold cross validation data with the number of folds = 5\n",
        "\n",
        "print(\"L1 Penalized Logistic Regression - Best Mean Cross Validation F1 Score (Scaled): {:.4f}\".format(grid.best_score_))\n",
        "print(\"Best Parameters: {}\".format(grid.best_params_))"
      ]
    },
    {
      "cell_type": "code",
      "execution_count": null,
      "metadata": {
        "colab": {
          "base_uri": "https://localhost:8080/"
        },
        "id": "3GtX2-E5KVWr",
        "outputId": "f6142c27-b4e4-415e-a629-01a6d9ca4f97"
      },
      "outputs": [
        {
          "name": "stdout",
          "output_type": "stream",
          "text": [
            "L1 Penalized Logistic Regression Test Set F1 Score (Scaled): 0.8064\n"
          ]
        }
      ],
      "source": [
        "l1_6 = LogisticRegression(penalty='l1', C=21.209508879201927, random_state=64, solver='liblinear')\n",
        "l1_6.fit(X6_train_scaled, y_train)\n",
        "\n",
        "#B) Scoring the model on test set data directly\n",
        "\n",
        "y_preds_6_l1 = l1_6.predict(X6_test_scaled)\n",
        "\n",
        "print(\"L1 Penalized Logistic Regression Test Set F1 Score (Scaled): {:.4f}\".format(f1_score(y_test, y_preds_6_l1, average='weighted')))"
      ]
    },
    {
      "cell_type": "markdown",
      "metadata": {
        "id": "dA99UqlIAYD9"
      },
      "source": [
        "### **Answer:**\n",
        "\n",
        "### The L1 Penalized Logistic Regression K-fold Cross Validation F1 Score: **<u>0.8044</u>**\n",
        "\n",
        "### The L1 Penalized Logistic Regression Test Set F1 Score: **0.8064**\n",
        "---"
      ]
    },
    {
      "cell_type": "markdown",
      "metadata": {
        "id": "lA_dqhfJETfc"
      },
      "source": [
        "### <u> L2 Penalized Logistic Regression: </u>"
      ]
    },
    {
      "cell_type": "code",
      "execution_count": null,
      "metadata": {
        "id": "x2zW7d98DXRv",
        "outputId": "dd74aa4f-4b40-439f-decf-e2af05948602"
      },
      "outputs": [
        {
          "name": "stdout",
          "output_type": "stream",
          "text": [
            "[('standardscaler', StandardScaler()), ('logisticregression', LogisticRegression(max_iter=100000, random_state=64))]\n"
          ]
        }
      ],
      "source": [
        "#L2 Penalized Logistic Regression model, but now with 6 variables\n",
        "\n",
        "from sklearn.linear_model import LogisticRegression\n",
        "\n",
        "l2_pipe = make_pipeline(StandardScaler(), LogisticRegression(penalty='l2', max_iter=100000, random_state=64))\n",
        "print(l2_pipe.steps)"
      ]
    },
    {
      "cell_type": "code",
      "execution_count": null,
      "metadata": {
        "colab": {
          "base_uri": "https://localhost:8080/"
        },
        "id": "X1Woegj2AdG9",
        "outputId": "6c700ab6-47af-4b3d-b13e-ca99dc231f8d"
      },
      "outputs": [
        {
          "name": "stdout",
          "output_type": "stream",
          "text": [
            "L2 Penalized Logistic Regression - Best Mean Cross Validation F1 Score (Scaled): 0.8044\n",
            "Best Parameters: {'logisticregression__C': 21.209508879201927}\n"
          ]
        }
      ],
      "source": [
        "#GridSearchCV for hypertuning the C parameter\n",
        "\n",
        "param_grid = {'logisticregression__C': np.logspace(-5,5)} #This tunes C from 10e-5 to 10e5.\n",
        "grid = GridSearchCV(l2_pipe, param_grid, scoring='f1_weighted', n_jobs=-1)\n",
        "grid.fit(X6_train_scaled, y_train)\n",
        "\n",
        "#A) Scoring the model using K-fold cross validation data with the number of folds = 5\n",
        "\n",
        "print(\"L2 Penalized Logistic Regression - Best Mean Cross Validation F1 Score (Scaled): {:.4f}\".format(grid.best_score_))\n",
        "print(\"Best Parameters: {}\".format(grid.best_params_))\n"
      ]
    },
    {
      "cell_type": "code",
      "execution_count": null,
      "metadata": {
        "colab": {
          "base_uri": "https://localhost:8080/"
        },
        "id": "JhRL2TiQLWxo",
        "outputId": "44ae7a31-fbec-466d-fbd7-53596cfc077f"
      },
      "outputs": [
        {
          "name": "stdout",
          "output_type": "stream",
          "text": [
            "L2 Penalized Logistic Regression Test Set F1 Score (Scaled): 0.8064\n"
          ]
        }
      ],
      "source": [
        "l2_6 = LogisticRegression(C=21.209508879201927, penalty='l2', max_iter=100000, random_state=64)\n",
        "l2_6.fit(X6_train_scaled, y_train)\n",
        "\n",
        "#B) Scoring the model on test set data directly\n",
        "\n",
        "y_preds_6_l2 = l2_6.predict(X6_test_scaled)\n",
        "\n",
        "print(\"L2 Penalized Logistic Regression Test Set F1 Score (Scaled): {:.4f}\".format(f1_score(y_test, y_preds_6_l2, average='weighted')))"
      ]
    },
    {
      "cell_type": "markdown",
      "metadata": {
        "id": "lJQi4fXFBCd7"
      },
      "source": [
        "### **Answer:**\n",
        "\n",
        "### The L2 Penalized Logistic Regression K-fold Cross Validation F1 Score: **<u>0.8044</u>**\n",
        "\n",
        "### The L2 Penalized Logistic Regression Test Set F1 Score: **0.8064**\n",
        "\n",
        "\n"
      ]
    },
    {
      "cell_type": "markdown",
      "metadata": {
        "id": "MBaPDbqDL4Wb"
      },
      "source": [
        "### All of my other models' F1 scores also improved by including 6 rather than just 3 features. This demonstrates that including additional meaningful features can often improve the predictive strength of a model:\n",
        "\n",
        "*   For KNN Classification, the K-fold cross validation F1 score increased from 0.8093 to 0.8587.\n",
        "\n",
        "*   For L1 Penalized Logistic Regression, the K-fold cross validation F1 score increased from 0.7777 to 0.8044.\n",
        "\n",
        "*   For L2 Penalized Logistic Regression, the K-fold cross validation F1 score increased from 0.7775 to 0.8044.\n",
        "\n",
        "*   For Random Forest Classification, the K-fold cross validation F1 score increased from 0.8226 to 0.8829.\n",
        "\n",
        "$~$\n",
        "\n",
        "### The Random Forests Classification model with 6 features is my best model thus far because it produced a higher F1 score using K-fold cross validation data **<u>(0.8829)</u>** compared to all of my other models.\n",
        "\n",
        "---\n"
      ]
    },
    {
      "cell_type": "markdown",
      "metadata": {
        "id": "sgP87-LauaaB"
      },
      "source": [
        "### **Part 13:**\n",
        "\n",
        "### I next examine each model's predictive strength when I include the ***full set of features*** in the dataset:\n",
        "\n",
        "---\n",
        "---\n"
      ]
    },
    {
      "cell_type": "markdown",
      "metadata": {
        "id": "YC4whav97apR"
      },
      "source": [
        "### Preprocessing:"
      ]
    },
    {
      "cell_type": "code",
      "execution_count": null,
      "metadata": {
        "colab": {
          "base_uri": "https://localhost:8080/"
        },
        "id": "9186Cs3v5Cwp",
        "outputId": "2101cb34-e943-4071-c4a5-6d3710815779"
      },
      "outputs": [
        {
          "name": "stdout",
          "output_type": "stream",
          "text": [
            "1    0.5\n",
            "0    0.5\n",
            "Name: spam, dtype: float64\n"
          ]
        }
      ],
      "source": [
        "from imblearn.over_sampling import SMOTE\n",
        "\n",
        "smote = SMOTE(random_state=64)\n",
        "X_sm, y_sm = smote.fit_resample(X, y)\n",
        "\n",
        "print(pd.Series(y_sm).value_counts(normalize=True))"
      ]
    },
    {
      "cell_type": "code",
      "execution_count": null,
      "metadata": {
        "id": "-6jRrcyK5vCW"
      },
      "outputs": [],
      "source": [
        "from sklearn.model_selection import train_test_split\n",
        "\n",
        "X_train, X_test, y_train, y_test = train_test_split(X_sm, y_sm, random_state=64)"
      ]
    },
    {
      "cell_type": "code",
      "execution_count": null,
      "metadata": {
        "id": "XKqGSkij525O"
      },
      "outputs": [],
      "source": [
        "from sklearn import preprocessing\n",
        "from sklearn.preprocessing import StandardScaler\n",
        "\n",
        "scaler = preprocessing.StandardScaler().fit(X_train)\n",
        "X_train_scaled = scaler.transform(X_train)\n",
        "X_test_scaled = scaler.transform(X_test)"
      ]
    },
    {
      "cell_type": "markdown",
      "metadata": {
        "id": "tTCN_NR67gaL"
      },
      "source": [
        "### <u> KNN Classification: </u>"
      ]
    },
    {
      "cell_type": "code",
      "execution_count": null,
      "metadata": {
        "colab": {
          "base_uri": "https://localhost:8080/"
        },
        "id": "MmXDBFur7VmG",
        "outputId": "fca55cf8-cece-44f5-ab61-26d7bfea4620"
      },
      "outputs": [
        {
          "name": "stdout",
          "output_type": "stream",
          "text": [
            "[('standardscaler', StandardScaler()), ('kneighborsclassifier', KNeighborsClassifier())]\n"
          ]
        }
      ],
      "source": [
        "from sklearn.neighbors import KNeighborsClassifier\n",
        "from sklearn.model_selection import cross_val_score\n",
        "from sklearn.model_selection import KFold\n",
        " \n",
        "\n",
        "from sklearn.model_selection import GridSearchCV\n",
        "from sklearn.pipeline import make_pipeline\n",
        "\n",
        "knn_pipe = make_pipeline(StandardScaler(), KNeighborsClassifier(n_neighbors=5))\n",
        "print(knn_pipe.steps)"
      ]
    },
    {
      "cell_type": "code",
      "execution_count": null,
      "metadata": {
        "colab": {
          "base_uri": "https://localhost:8080/"
        },
        "id": "3pgoEaSG6AVP",
        "outputId": "d5eea270-1fd2-4638-eaba-873d71d26bd3"
      },
      "outputs": [
        {
          "name": "stdout",
          "output_type": "stream",
          "text": [
            "KNN Classification - Best Mean Cross Validation F1 Score (Scaled): 0.9261\n",
            "Best Parameters: {'kneighborsclassifier__n_neighbors': 1}\n"
          ]
        }
      ],
      "source": [
        "#KNN Classification and GridSearchCV\n",
        "\n",
        "param_grid = {'kneighborsclassifier__n_neighbors': np.arange(1, 25, 2)} \n",
        "grid = GridSearchCV(knn_pipe, param_grid, scoring='f1_weighted', n_jobs=-1)\n",
        "grid.fit(X_train_scaled, y_train)\n",
        "\n",
        "#A) Scoring the model using K-fold cross validation data with the number of folds = 5\n",
        "\n",
        "print(\"KNN Classification - Best Mean Cross Validation F1 Score (Scaled): {:.4f}\".format(grid.best_score_))\n",
        "print(\"Best Parameters: {}\".format(grid.best_params_))"
      ]
    },
    {
      "cell_type": "code",
      "execution_count": null,
      "metadata": {
        "colab": {
          "base_uri": "https://localhost:8080/"
        },
        "id": "-1T3pcpZ7snO",
        "outputId": "3132f346-3e30-4119-8580-156bd277a377"
      },
      "outputs": [
        {
          "name": "stdout",
          "output_type": "stream",
          "text": [
            "KNN Classification Test Set F1 Score (Scaled): 0.9254\n"
          ]
        }
      ],
      "source": [
        "from sklearn.metrics import f1_score\n",
        "\n",
        "knn = KNeighborsClassifier(n_neighbors=1)\n",
        "knn.fit(X_train_scaled, y_train)\n",
        "\n",
        "#B) Scoring the model on test set data directly\n",
        "\n",
        "y_preds_all_knn = knn.predict(X_test_scaled)\n",
        "\n",
        "print(\"KNN Classification Test Set F1 Score (Scaled): {:.4f}\".format(f1_score(y_test, y_preds_all_knn, average='weighted')))"
      ]
    },
    {
      "cell_type": "markdown",
      "metadata": {
        "id": "9NHMQLh2haRc"
      },
      "source": [
        "\n",
        "\n",
        "### The KNN Classification Cross Validation F1 Score: **<u>0.9261</u>**\n",
        "### The KNN Classification Test Set F1 Score: **0.9254**\n",
        "---"
      ]
    },
    {
      "cell_type": "markdown",
      "metadata": {
        "id": "KOmfbo4470RF"
      },
      "source": [
        "### <u> L1 Penalized Logistic Regression: </u>"
      ]
    },
    {
      "cell_type": "code",
      "execution_count": null,
      "metadata": {
        "colab": {
          "base_uri": "https://localhost:8080/"
        },
        "id": "pAbteTX174iE",
        "outputId": "fe7cf82c-bc57-4a6a-b3e4-a4a31e213e26"
      },
      "outputs": [
        {
          "name": "stdout",
          "output_type": "stream",
          "text": [
            "[('standardscaler', StandardScaler()), ('logisticregression', LogisticRegression(max_iter=100000, penalty='l1', random_state=64,\n",
            "                   solver='liblinear'))]\n"
          ]
        }
      ],
      "source": [
        "#L1 Penalized Logistic Regression and GridSearchCV\n",
        "from sklearn.linear_model import LogisticRegression\n",
        "\n",
        "l1_pipe = make_pipeline(StandardScaler(), LogisticRegression(penalty='l1', max_iter=100000, random_state=64, solver='liblinear'))\n",
        "print(l1_pipe.steps)"
      ]
    },
    {
      "cell_type": "code",
      "execution_count": null,
      "metadata": {
        "colab": {
          "base_uri": "https://localhost:8080/"
        },
        "id": "R1nftu5977lN",
        "outputId": "f892ae37-96e6-4b4a-c80f-6266acd6a6c5"
      },
      "outputs": [
        {
          "name": "stdout",
          "output_type": "stream",
          "text": [
            "L1 Penalized Logistic Regression - Best Mean Cross Validation F1 Score (Scaled): 0.9314\n",
            "Best Parameters: {'logisticregression__C': 1.2648552168552958}\n"
          ]
        }
      ],
      "source": [
        "param_grid = {'logisticregression__C': np.logspace(-5,5)} #This tunes C from 10e-5 to 10e5.\n",
        "grid = GridSearchCV(l1_pipe, param_grid, scoring='f1_weighted', n_jobs=-1)\n",
        "grid.fit(X_train_scaled, y_train)\n",
        "\n",
        "#A) Scoring the model using K-fold cross validation data with the number of folds = 5\n",
        "\n",
        "print(\"L1 Penalized Logistic Regression - Best Mean Cross Validation F1 Score (Scaled): {:.4f}\".format(grid.best_score_))\n",
        "print(\"Best Parameters: {}\".format(grid.best_params_))"
      ]
    },
    {
      "cell_type": "code",
      "execution_count": null,
      "metadata": {
        "colab": {
          "base_uri": "https://localhost:8080/"
        },
        "id": "Jy8xXG6f7-i8",
        "outputId": "db2640f2-dbc9-4d1b-e3c5-1a1266252c1a"
      },
      "outputs": [
        {
          "name": "stdout",
          "output_type": "stream",
          "text": [
            "L1 Penalized Logistic Regression Test Set F1 Score (Scaled): 0.9304\n"
          ]
        }
      ],
      "source": [
        "l1_all = LogisticRegression(penalty='l1', C=1.2648552168552958, random_state=64, solver='liblinear')\n",
        "l1_all.fit(X_train_scaled, y_train)\n",
        "\n",
        "#B) Scoring the model on test set data directly\n",
        "\n",
        "y_preds_all_l1 = l1_all.predict(X_test_scaled)\n",
        "\n",
        "print(\"L1 Penalized Logistic Regression Test Set F1 Score (Scaled): {:.4f}\".format(f1_score(y_test, y_preds_all_l1, average='weighted')))"
      ]
    },
    {
      "cell_type": "markdown",
      "metadata": {
        "id": "oHLV1LU3i--G"
      },
      "source": [
        "\n",
        "\n",
        "### The L1 Penalized Logistic Regression Cross Validation F1 Score: **<u>0.9314</u>**\n",
        "### The L1 Penalized Logistic Regression Test Set F1 Score: **0.9304**\n",
        "\n",
        "---"
      ]
    },
    {
      "cell_type": "markdown",
      "metadata": {
        "id": "2vI6Ogd38D45"
      },
      "source": [
        "### <u> L2 Penalized Logistic Regression: </u>"
      ]
    },
    {
      "cell_type": "code",
      "execution_count": null,
      "metadata": {
        "colab": {
          "base_uri": "https://localhost:8080/"
        },
        "id": "AdDt9D0j8Cg5",
        "outputId": "1fe34d0f-4034-4bf5-d64f-14f9d81e94ef"
      },
      "outputs": [
        {
          "name": "stdout",
          "output_type": "stream",
          "text": [
            "[('standardscaler', StandardScaler()), ('logisticregression', LogisticRegression(max_iter=100000, random_state=64))]\n"
          ]
        }
      ],
      "source": [
        "#L2 Penalized Logistic Regression and GridSearchCV\n",
        "from sklearn.linear_model import LogisticRegression\n",
        "\n",
        "l2_pipe = make_pipeline(StandardScaler(), LogisticRegression(penalty='l2', max_iter=100000, random_state=64))\n",
        "print(l2_pipe.steps)"
      ]
    },
    {
      "cell_type": "code",
      "execution_count": null,
      "metadata": {
        "colab": {
          "base_uri": "https://localhost:8080/"
        },
        "id": "QxQaDOaU8Lva",
        "outputId": "7fe8153e-d6e2-4c5c-aa51-56227380bdc9"
      },
      "outputs": [
        {
          "name": "stdout",
          "output_type": "stream",
          "text": [
            "L2 Penalized Logistic Regression - Best Mean Cross Validation F1 Score (Scaled): 0.9304\n",
            "Best Parameters: {'logisticregression__C': 1.2648552168552958}\n"
          ]
        }
      ],
      "source": [
        "#GridSearchCV:\n",
        "\n",
        "param_grid = {'logisticregression__C': np.logspace(-5,5)} #This tunes C from 10e-5 to 10e5.\n",
        "grid = GridSearchCV(l2_pipe, param_grid, scoring='f1_weighted', n_jobs=-1)\n",
        "grid.fit(X_train_scaled, y_train)\n",
        "\n",
        "#A) Scoring the model using K-fold cross validation data with the number of folds = 5\n",
        "\n",
        "print(\"L2 Penalized Logistic Regression - Best Mean Cross Validation F1 Score (Scaled): {:.4f}\".format(grid.best_score_))\n",
        "print(\"Best Parameters: {}\".format(grid.best_params_))"
      ]
    },
    {
      "cell_type": "code",
      "execution_count": null,
      "metadata": {
        "colab": {
          "base_uri": "https://localhost:8080/"
        },
        "id": "RIR3BifR8OSA",
        "outputId": "630a7557-56d0-4ab2-99c1-9392367fe974"
      },
      "outputs": [
        {
          "name": "stdout",
          "output_type": "stream",
          "text": [
            "L2 Penalized Logistic Regression Test Set F1 Score (Scaled): 0.9304\n"
          ]
        }
      ],
      "source": [
        "l2_all = LogisticRegression(C=1.2648552168552958, penalty='l2', max_iter=100000, random_state=64)\n",
        "l2_all.fit(X_train_scaled, y_train)\n",
        "\n",
        "#B) Scoring the model on test set data directly\n",
        "\n",
        "y_preds_all_l2 = l2_all.predict(X_test_scaled)\n",
        "\n",
        "print(\"L2 Penalized Logistic Regression Test Set F1 Score (Scaled): {:.4f}\".format(f1_score(y_test, y_preds_all_l2, average='weighted')))"
      ]
    },
    {
      "cell_type": "markdown",
      "metadata": {
        "id": "amYjtSREj904"
      },
      "source": [
        "\n",
        "\n",
        "### The L2 Penalized Logistic Regression Cross Validation F1 Score: **<u>0.9304</u>**\n",
        "### The L2 Penalized Logistic Regression Test Set F1 Score: **0.9304**\n",
        "\n",
        "---"
      ]
    },
    {
      "cell_type": "markdown",
      "metadata": {
        "id": "iaIiNi_t8TpN"
      },
      "source": [
        "### <u> Random Forest Classification: </u>"
      ]
    },
    {
      "cell_type": "markdown",
      "metadata": {
        "id": "MdJevFojG7gk"
      },
      "source": [
        "### I tune for the same parameter values for n_estimators, max_depth, min_samples_leaf, and criterion as my prior Random Forest models. However, since there are 57 total features (and to keep model complexity limited) I tune for 5 different values for max_features. These include 4, 8, and 12."
      ]
    },
    {
      "cell_type": "code",
      "execution_count": null,
      "metadata": {
        "colab": {
          "base_uri": "https://localhost:8080/"
        },
        "id": "VbZKEcVB8YGZ",
        "outputId": "23501ee9-c60a-4f19-953e-ed229cef31fa"
      },
      "outputs": [
        {
          "name": "stdout",
          "output_type": "stream",
          "text": [
            "[('standardscaler', StandardScaler()), ('randomforestclassifier', RandomForestClassifier(random_state=64))]\n"
          ]
        }
      ],
      "source": [
        "from sklearn.pipeline import make_pipeline\n",
        "from sklearn.preprocessing import StandardScaler\n",
        "\n",
        "rf_pipe = make_pipeline(StandardScaler(), RandomForestClassifier(random_state=64))\n",
        "print(rf_pipe.steps)"
      ]
    },
    {
      "cell_type": "code",
      "execution_count": null,
      "metadata": {
        "id": "mAvxSReE8aZG",
        "outputId": "51ae7a8d-4fee-4e56-e357-3796f43ecf7d"
      },
      "outputs": [
        {
          "name": "stdout",
          "output_type": "stream",
          "text": [
            "Random Forest Classification - Best Mean Cross Validation F1 Score (Scaled): 0.9615\n",
            "Best Parameters: {'randomforestclassifier__criterion': 'entropy', 'randomforestclassifier__max_depth': 32, 'randomforestclassifier__max_features': 4, 'randomforestclassifier__min_samples_leaf': 1, 'randomforestclassifier__n_estimators': 1000}\n"
          ]
        }
      ],
      "source": [
        "from sklearn.model_selection import GridSearchCV\n",
        "\n",
        "#GridSearchCV:\n",
        "\n",
        "param_grid = {\n",
        "    'randomforestclassifier__n_estimators': [1000, 1500, 2000],\n",
        "    'randomforestclassifier__max_features': [4, 8, 12],\n",
        "    'randomforestclassifier__max_depth': [None, 9, 18, 32],\n",
        "    'randomforestclassifier__min_samples_leaf': [1, 10, 20],\n",
        "    'randomforestclassifier__criterion': ['gini', 'entropy']}\n",
        "grid = GridSearchCV(rf_pipe, param_grid, scoring='f1_weighted', n_jobs=-1)\n",
        "grid.fit(X_train_scaled, y_train)\n",
        "\n",
        "#A) Scoring the model using K-fold cross validation data with the number of folds = 5\n",
        "\n",
        "print(\"Random Forest Classification - Best Mean Cross Validation F1 Score (Scaled): {:.4f}\".format(grid.best_score_))\n",
        "print(\"Best Parameters: {}\".format(grid.best_params_))"
      ]
    },
    {
      "cell_type": "code",
      "execution_count": null,
      "metadata": {
        "colab": {
          "base_uri": "https://localhost:8080/"
        },
        "id": "Wk2eQus88dX2",
        "outputId": "0c23ddc2-cddb-4343-ebb4-cdb6c228c148"
      },
      "outputs": [
        {
          "name": "stdout",
          "output_type": "stream",
          "text": [
            "Random Forest Classification Test Set F1 Score (Scaled): 0.9649\n"
          ]
        }
      ],
      "source": [
        "rf_all = RandomForestClassifier(criterion='entropy', max_depth=32, max_features=4, min_samples_leaf=1, n_estimators=1000, random_state=64)\n",
        "rf_all.fit(X_train_scaled, y_train)\n",
        "\n",
        "#B) Scoring the model on test set data directly\n",
        "\n",
        "y_preds_all_rf = rf_all.predict(X_test_scaled)\n",
        "print(\"Random Forest Classification Test Set F1 Score (Scaled): {:.4f}\".format(f1_score(y_test, y_preds_all_rf, average='weighted')))"
      ]
    },
    {
      "cell_type": "markdown",
      "metadata": {
        "id": "m7yit92Wmul6"
      },
      "source": [
        "\n",
        "### The Random Forest Classification Cross Validation F1 Score: **<u>0.9615</u>**\n",
        "### The Random Forest Classification Test Set F1 Score: **0.9649**\n",
        "\n",
        "$~$\n",
        "\n",
        "### ***The best performing model when the full set of 57 features is used is Random Forest Classification.***"
      ]
    },
    {
      "cell_type": "markdown",
      "metadata": {
        "id": "sPvTolTjvSEx"
      },
      "source": [
        "\n",
        "---\n",
        "---\n",
        "\n",
        "### **Part 14: Feature Importance**\n",
        "\n",
        "### Selecting the most important features from a model is known to be important because it can improve processing time and sometimes can actually improve a model's predictive strength.\n",
        "\n",
        "$~$\n",
        "\n",
        "### Next, I take my best model - Random Forests Classifier when using all features in the dataset, and use Recursive Feature Elimination (RFE). I also use the Random Forest Classifier algorithm's own internal feature importance technique - Mean Decrease in Impurity (MDI). I then see how similar each feature importance technique's top ranked features are to each other's.\n"
      ]
    },
    {
      "cell_type": "markdown",
      "metadata": {
        "id": "xEBQe7b55QVW"
      },
      "source": [
        "### ***Explanation of Recursive Feature Elimination (RFE):***\n"
      ]
    },
    {
      "cell_type": "markdown",
      "metadata": {
        "id": "g4i9Jfw2BsPi"
      },
      "source": [
        "### In short, RFE works by first starting out with the full set of features, and evaluates the predictive strength of a model fit to these features. It then drops a feature from the model, then refits the model to the remaining features, and reevaluates predictive strength each time another feature is dropped. The feature that is dropped from the model each time is the feature found to contribute the least to the overall predictive strength, measured by a prespecified scoring metric. It is possible to drop more than one feature at a time, though in the examples below I drop just one at a time."
      ]
    },
    {
      "cell_type": "markdown",
      "metadata": {
        "id": "f5xbv0JJ6dhy"
      },
      "source": [
        "### ***Recursive Feature Elimination with Cross Validation (RFECV):***\n",
        "\n",
        "### RFECV uses RFE but on cross validation data rather than on a single overall training dataset. The training data is divided into K folds and each time a feature is eliminated, a metric score is calculated across the K folds of the cross validation data, with overall predictive strength determined by averaging the K folds' metric scores together. The number of features remaining at the step which resulted in the maximum predictive strength score is considered the ***optimal number of features*** to use in the algorithm under consideration (e.g., in my case - Random Forest Classifer).\n",
        "\n",
        "$~$\n",
        "\n",
        "### A plot of the cross validation data-based predictive strength scores (weighted F1 scores in my case) of the model for each number of features included in it can then by displayed.\n",
        "\n",
        "$~$\n",
        "\n",
        "### Once the optimal number of features is determined using cross validation, the rankings of each feature's level of importance among those features constituting the optimal number of features can also be displayed. I will limit my display of the rankings of the best features to a horizontal bar chart of a smaller subset of the optimal features found by RFECV.\n",
        "\n"
      ]
    },
    {
      "cell_type": "code",
      "execution_count": null,
      "metadata": {
        "colab": {
          "base_uri": "https://localhost:8080/"
        },
        "id": "8aoVS-e7HsrG",
        "outputId": "a6ca7506-29b9-4f37-ae3d-7350670420ad"
      },
      "outputs": [
        {
          "name": "stdout",
          "output_type": "stream",
          "text": [
            "(4601, 57)\n",
            "0.07017543859649122\n"
          ]
        }
      ],
      "source": [
        "#Scikit-Learn requires that Random Forest's max_features parameter value be converted to percentage float format rather than interger \n",
        "#format for use with RFECV. Therefore, below I convert max features of 4 (identified earlier using GridSearchCV as the optimal max_features \n",
        "#value for Random Forests) into a porportion of the total number of features.\n",
        "\n",
        "print(X.shape)\n",
        "\n",
        "print(4/57)"
      ]
    },
    {
      "cell_type": "code",
      "execution_count": null,
      "metadata": {
        "colab": {
          "base_uri": "https://localhost:8080/",
          "height": 542
        },
        "id": "PunyXf4_ivxO",
        "outputId": "36118283-859a-4e1c-bcf3-a47aa41f3303"
      },
      "outputs": [
        {
          "name": "stdout",
          "output_type": "stream",
          "text": [
            "Optimal number of features : 43\n"
          ]
        },
        {
          "name": "stderr",
          "output_type": "stream",
          "text": [
            "C:\\Users\\rsb84\\anaconda3\\lib\\site-packages\\sklearn\\utils\\deprecation.py:103: FutureWarning: The `grid_scores_` attribute is deprecated in version 1.0 in favor of `cv_results_` and will be removed in version 1.2.\n",
            "  warnings.warn(msg, category=FutureWarning)\n"
          ]
        },
        {
          "data": {
            "image/png": "[encoded data removed]",
            "text/plain": [
              "<Figure size 648x504 with 1 Axes>"
            ]
          },
          "metadata": {
            "needs_background": "light"
          },
          "output_type": "display_data"
        }
      ],
      "source": [
        "#Here, I use RFECV to identify the optimal number of features that should be used to maximize the weighted F1 score, \n",
        "#and then I plot the results showing my model's weighted F1 scores per number of features used in the model.\n",
        "\n",
        "import matplotlib.pyplot as plt\n",
        "from sklearn.model_selection import KFold\n",
        "from sklearn.feature_selection import RFECV\n",
        "\n",
        "\n",
        "min_features_to_select = 1  # Minimum number of features to consider\n",
        "rfecv = RFECV(\n",
        "    estimator = RandomForestClassifier(criterion='entropy', \n",
        "                                       max_depth=32, \n",
        "                                       max_features=0.07017543859649122, \n",
        "                                       min_samples_leaf=1, \n",
        "                                       n_estimators=1000, \n",
        "                                       random_state=64),\n",
        "    step=1,\n",
        "    cv=KFold(5),\n",
        "    scoring=\"f1_weighted\",\n",
        "    min_features_to_select=min_features_to_select,\n",
        "    n_jobs=-1\n",
        ")\n",
        "rfecv.fit(X_train_scaled, y_train)\n",
        "\n",
        "\n",
        "print(\"Optimal number of features : %d\" % rfecv.n_features_)\n",
        "\n",
        "#Plot of the number of features vs. cross validation scores\n",
        "plt.figure(figsize=(9, 7))\n",
        "plt.xlabel(\"Number of Features Selected\", fontsize=16, labelpad=20)\n",
        "plt.ylabel(\"Cross Validation Score (Weighted F1)\", fontsize=16, labelpad=20)\n",
        "plt.yticks(fontsize=14)\n",
        "plt.xticks(fontsize=14)\n",
        "plt.plot(\n",
        "    range(min_features_to_select, len(rfecv.grid_scores_) + min_features_to_select),\n",
        "    rfecv.grid_scores_,\n",
        ")\n",
        "plt.show()"
      ]
    },
    {
      "cell_type": "code",
      "execution_count": null,
      "metadata": {
        "id": "-NvcNlGqEqBd"
      },
      "outputs": [],
      "source": [
        "import pickle\n",
        "pickle.dump(rfecv, open(\"rfecv.pkl\", \"wb\"))"
      ]
    },
    {
      "cell_type": "code",
      "execution_count": null,
      "metadata": {
        "id": "Ylj_MvgQFSEu"
      },
      "outputs": [],
      "source": [
        "'''\n",
        "rfecv = pickle.load(open(\"rfecv.pkl\", \"rb\"))"
      ]
    },
    {
      "cell_type": "markdown",
      "metadata": {
        "id": "qJBhwuuaUa9R"
      },
      "source": [
        "### Here we can see the optimal number of features to maximize the weighted F1 score is 43. However, the graph shows that after about 10 -12 features, there is very little improvement in the model's weighted F1 score. In a production environment, it can be better to keep models relatively simple in terms of the amount of data used for training and prediction to save time and data storage resources. I will therefore seek to find the top 12 features both through RFECV and through the Random Forest Classifier's built-in feature importance identification technique - Mean Decrease in Impurity (MDI). Both techniques are briefly explained further below."
      ]
    },
    {
      "cell_type": "code",
      "execution_count": null,
      "metadata": {
        "colab": {
          "base_uri": "https://localhost:8080/"
        },
        "id": "y4qNmZP3zRuV",
        "outputId": "7a61c68c-0c72-4179-82bc-8aaca5134198"
      },
      "outputs": [
        {
          "name": "stdout",
          "output_type": "stream",
          "text": [
            "[ 3 13 14 21 30 31 33 37 39 40 42 46 47 50]\n"
          ]
        },
        {
          "name": "stderr",
          "output_type": "stream",
          "text": [
            "C:\\Users\\rsb84\\anaconda3\\lib\\site-packages\\pandas\\core\\frame.py:4906: SettingWithCopyWarning: \n",
            "A value is trying to be set on a copy of a slice from a DataFrame\n",
            "\n",
            "See the caveats in the documentation: https://pandas.pydata.org/pandas-docs/stable/user_guide/indexing.html#returning-a-view-versus-a-copy\n",
            "  return super().drop(\n"
          ]
        }
      ],
      "source": [
        "#The following code prints out the index numbers of the features found to be least important (i.e., not part of the optimal \n",
        "#set of features), and then drops these features from X. Since the optimal number of features was found to be 43, and since \n",
        "#there are 57 total features, the 44th - 57th most predictive features are the ones that are dropped from X.\n",
        "\n",
        "print(np.where(rfecv.support_ == False)[0])\n",
        "\n",
        "X.drop(X.columns[np.where(rfecv.support_ == False)[0]], axis=1, inplace=True)"
      ]
    },
    {
      "cell_type": "code",
      "execution_count": null,
      "metadata": {
        "colab": {
          "base_uri": "https://localhost:8080/"
        },
        "id": "k1oiAO-Ez9-p",
        "outputId": "785d24cb-e9d4-4044-e893-0228887eb9ea"
      },
      "outputs": [
        {
          "data": {
            "text/plain": [
              "(4601, 43)"
            ]
          },
          "execution_count": 61,
          "metadata": {},
          "output_type": "execute_result"
        }
      ],
      "source": [
        "X.shape"
      ]
    },
    {
      "cell_type": "code",
      "execution_count": null,
      "metadata": {
        "colab": {
          "base_uri": "https://localhost:8080/",
          "height": 556
        },
        "id": "Xtq_hB202X7K",
        "outputId": "668e7854-7b1d-4e06-eac4-446fe90b0924"
      },
      "outputs": [
        {
          "data": {
            "image/png": "[encoded data removed]",
            "text/plain": [
              "<Figure size 720x576 with 1 Axes>"
            ]
          },
          "metadata": {
            "needs_background": "light"
          },
          "output_type": "display_data"
        }
      ],
      "source": [
        "dset = pd.DataFrame()\n",
        "dset['attr'] = X.columns\n",
        "dset['importance'] = rfecv.estimator_.feature_importances_\n",
        "\n",
        "dset = dset.sort_values(by='importance', ascending=True).tail(12) \n",
        "#This sorts feature importance values from smallest to greatest. Taking the tail(12) gives me the 12 largest feature importance values. \n",
        "#An alternative way to create the chart would be to use ascending=False and then use head(12). However, this would have resulted in the\n",
        "#chart showing the least important of the 12 most important features first and the most important feature last, which would have looked awkward. \n",
        "\n",
        "\n",
        "plt.figure(figsize=(10, 8))\n",
        "plt.barh(y=dset['attr'], width=dset['importance'], color='#1976D2')\n",
        "plt.title('RFECV - Feature Importances', fontsize=20, fontweight='bold', pad=20)\n",
        "plt.xlabel('Importance', fontsize=14, fontweight='bold', labelpad=20)\n",
        "plt.yticks(fontsize=14)\n",
        "plt.xticks(fontsize=14)\n",
        "plt.show()"
      ]
    },
    {
      "cell_type": "code",
      "execution_count": 4,
      "metadata": {
        "colab": {
          "base_uri": "https://localhost:8080/",
          "height": 270
        },
        "id": "8DjtNxQbiLBn",
        "outputId": "41830f2f-0695-4636-9560-0fb83d36c8d6"
      },
      "outputs": [
        {
          "output_type": "execute_result",
          "data": {
            "text/plain": [
              "   char_freq_!:  word_freq_remove:  char_freq_$:  word_freq_free:  \\\n",
              "0         0.778               0.00         0.000             0.32   \n",
              "1         0.372               0.21         0.180             0.14   \n",
              "2         0.276               0.19         0.184             0.06   \n",
              "3         0.137               0.31         0.000             0.31   \n",
              "4         0.135               0.31         0.000             0.31   \n",
              "\n",
              "   capital_run_length_average:  word_freq_your:  capital_run_length_longest:  \\\n",
              "0                        3.756             0.96                           61   \n",
              "1                        5.114             1.59                          101   \n",
              "2                        9.821             0.51                          485   \n",
              "3                        3.537             0.31                           40   \n",
              "4                        3.537             0.31                           40   \n",
              "\n",
              "   word_freq_hp:  capital_run_length_total:  word_freq_you:  word_freq_money:  \\\n",
              "0            0.0                        278            1.93              0.00   \n",
              "1            0.0                       1028            3.47              0.43   \n",
              "2            0.0                       2259            1.36              0.06   \n",
              "3            0.0                        191            3.18              0.00   \n",
              "4            0.0                        191            3.18              0.00   \n",
              "\n",
              "   word_freq_our:  \n",
              "0            0.32  \n",
              "1            0.14  \n",
              "2            1.23  \n",
              "3            0.63  \n",
              "4            0.63  "
            ],
            "text/html": [
              "\n",
              "  <div id=\"df-c92223a2-6b66-46cb-be55-7161072605e4\">\n",
              "    <div class=\"colab-df-container\">\n",
              "      <div>\n",
              "<style scoped>\n",
              "    .dataframe tbody tr th:only-of-type {\n",
              "        vertical-align: middle;\n",
              "    }\n",
              "\n",
              "    .dataframe tbody tr th {\n",
              "        vertical-align: top;\n",
              "    }\n",
              "\n",
              "    .dataframe thead th {\n",
              "        text-align: right;\n",
              "    }\n",
              "</style>\n",
              "<table border=\"1\" class=\"dataframe\">\n",
              "  <thead>\n",
              "    <tr style=\"text-align: right;\">\n",
              "      <th></th>\n",
              "      <th>char_freq_!:</th>\n",
              "      <th>word_freq_remove:</th>\n",
              "      <th>char_freq_$:</th>\n",
              "      <th>word_freq_free:</th>\n",
              "      <th>capital_run_length_average:</th>\n",
              "      <th>word_freq_your:</th>\n",
              "      <th>capital_run_length_longest:</th>\n",
              "      <th>word_freq_hp:</th>\n",
              "      <th>capital_run_length_total:</th>\n",
              "      <th>word_freq_you:</th>\n",
              "      <th>word_freq_money:</th>\n",
              "      <th>word_freq_our:</th>\n",
              "    </tr>\n",
              "  </thead>\n",
              "  <tbody>\n",
              "    <tr>\n",
              "      <th>0</th>\n",
              "      <td>0.778</td>\n",
              "      <td>0.00</td>\n",
              "      <td>0.000</td>\n",
              "      <td>0.32</td>\n",
              "      <td>3.756</td>\n",
              "      <td>0.96</td>\n",
              "      <td>61</td>\n",
              "      <td>0.0</td>\n",
              "      <td>278</td>\n",
              "      <td>1.93</td>\n",
              "      <td>0.00</td>\n",
              "      <td>0.32</td>\n",
              "    </tr>\n",
              "    <tr>\n",
              "      <th>1</th>\n",
              "      <td>0.372</td>\n",
              "      <td>0.21</td>\n",
              "      <td>0.180</td>\n",
              "      <td>0.14</td>\n",
              "      <td>5.114</td>\n",
              "      <td>1.59</td>\n",
              "      <td>101</td>\n",
              "      <td>0.0</td>\n",
              "      <td>1028</td>\n",
              "      <td>3.47</td>\n",
              "      <td>0.43</td>\n",
              "      <td>0.14</td>\n",
              "    </tr>\n",
              "    <tr>\n",
              "      <th>2</th>\n",
              "      <td>0.276</td>\n",
              "      <td>0.19</td>\n",
              "      <td>0.184</td>\n",
              "      <td>0.06</td>\n",
              "      <td>9.821</td>\n",
              "      <td>0.51</td>\n",
              "      <td>485</td>\n",
              "      <td>0.0</td>\n",
              "      <td>2259</td>\n",
              "      <td>1.36</td>\n",
              "      <td>0.06</td>\n",
              "      <td>1.23</td>\n",
              "    </tr>\n",
              "    <tr>\n",
              "      <th>3</th>\n",
              "      <td>0.137</td>\n",
              "      <td>0.31</td>\n",
              "      <td>0.000</td>\n",
              "      <td>0.31</td>\n",
              "      <td>3.537</td>\n",
              "      <td>0.31</td>\n",
              "      <td>40</td>\n",
              "      <td>0.0</td>\n",
              "      <td>191</td>\n",
              "      <td>3.18</td>\n",
              "      <td>0.00</td>\n",
              "      <td>0.63</td>\n",
              "    </tr>\n",
              "    <tr>\n",
              "      <th>4</th>\n",
              "      <td>0.135</td>\n",
              "      <td>0.31</td>\n",
              "      <td>0.000</td>\n",
              "      <td>0.31</td>\n",
              "      <td>3.537</td>\n",
              "      <td>0.31</td>\n",
              "      <td>40</td>\n",
              "      <td>0.0</td>\n",
              "      <td>191</td>\n",
              "      <td>3.18</td>\n",
              "      <td>0.00</td>\n",
              "      <td>0.63</td>\n",
              "    </tr>\n",
              "  </tbody>\n",
              "</table>\n",
              "</div>\n",
              "      <button class=\"colab-df-convert\" onclick=\"convertToInteractive('df-c92223a2-6b66-46cb-be55-7161072605e4')\"\n",
              "              title=\"Convert this dataframe to an interactive table.\"\n",
              "              style=\"display:none;\">\n",
              "        \n",
              "  <svg xmlns=\"http://www.w3.org/2000/svg\" height=\"24px\"viewBox=\"0 0 24 24\"\n",
              "       width=\"24px\">\n",
              "    <path d=\"M0 0h24v24H0V0z\" fill=\"none\"/>\n",
              "    <path d=\"M18.56 5.44l.94 2.06.94-2.06 2.06-.94-2.06-.94-.94-2.06-.94 2.06-2.06.94zm-11 1L8.5 8.5l.94-2.06 2.06-.94-2.06-.94L8.5 2.5l-.94 2.06-2.06.94zm10 10l.94 2.06.94-2.06 2.06-.94-2.06-.94-.94-2.06-.94 2.06-2.06.94z\"/><path d=\"M17.41 7.96l-1.37-1.37c-.4-.4-.92-.59-1.43-.59-.52 0-1.04.2-1.43.59L10.3 9.45l-7.72 7.72c-.78.78-.78 2.05 0 2.83L4 21.41c.39.39.9.59 1.41.59.51 0 1.02-.2 1.41-.59l7.78-7.78 2.81-2.81c.8-.78.8-2.07 0-2.86zM5.41 20L4 18.59l7.72-7.72 1.47 1.35L5.41 20z\"/>\n",
              "  </svg>\n",
              "      </button>\n",
              "      \n",
              "  <style>\n",
              "    .colab-df-container {\n",
              "      display:flex;\n",
              "      flex-wrap:wrap;\n",
              "      gap: 12px;\n",
              "    }\n",
              "\n",
              "    .colab-df-convert {\n",
              "      background-color: #E8F0FE;\n",
              "      border: none;\n",
              "      border-radius: 50%;\n",
              "      cursor: pointer;\n",
              "      display: none;\n",
              "      fill: #1967D2;\n",
              "      height: 32px;\n",
              "      padding: 0 0 0 0;\n",
              "      width: 32px;\n",
              "    }\n",
              "\n",
              "    .colab-df-convert:hover {\n",
              "      background-color: #E2EBFA;\n",
              "      box-shadow: 0px 1px 2px rgba(60, 64, 67, 0.3), 0px 1px 3px 1px rgba(60, 64, 67, 0.15);\n",
              "      fill: #174EA6;\n",
              "    }\n",
              "\n",
              "    [theme=dark] .colab-df-convert {\n",
              "      background-color: #3B4455;\n",
              "      fill: #D2E3FC;\n",
              "    }\n",
              "\n",
              "    [theme=dark] .colab-df-convert:hover {\n",
              "      background-color: #434B5C;\n",
              "      box-shadow: 0px 1px 3px 1px rgba(0, 0, 0, 0.15);\n",
              "      filter: drop-shadow(0px 1px 2px rgba(0, 0, 0, 0.3));\n",
              "      fill: #FFFFFF;\n",
              "    }\n",
              "  </style>\n",
              "\n",
              "      <script>\n",
              "        const buttonEl =\n",
              "          document.querySelector('#df-c92223a2-6b66-46cb-be55-7161072605e4 button.colab-df-convert');\n",
              "        buttonEl.style.display =\n",
              "          google.colab.kernel.accessAllowed ? 'block' : 'none';\n",
              "\n",
              "        async function convertToInteractive(key) {\n",
              "          const element = document.querySelector('#df-c92223a2-6b66-46cb-be55-7161072605e4');\n",
              "          const dataTable =\n",
              "            await google.colab.kernel.invokeFunction('convertToInteractive',\n",
              "                                                     [key], {});\n",
              "          if (!dataTable) return;\n",
              "\n",
              "          const docLinkHtml = 'Like what you see? Visit the ' +\n",
              "            '<a target=\"_blank\" href=https://colab.research.google.com/notebooks/data_table.ipynb>data table notebook</a>'\n",
              "            + ' to learn more about interactive tables.';\n",
              "          element.innerHTML = '';\n",
              "          dataTable['output_type'] = 'display_data';\n",
              "          await google.colab.output.renderOutput(dataTable, element);\n",
              "          const docLink = document.createElement('div');\n",
              "          docLink.innerHTML = docLinkHtml;\n",
              "          element.appendChild(docLink);\n",
              "        }\n",
              "      </script>\n",
              "    </div>\n",
              "  </div>\n",
              "  "
            ]
          },
          "metadata": {},
          "execution_count": 4
        }
      ],
      "source": [
        "#Next, I subset the original X dataframe to list only the top 12 features found by RFECV:\n",
        "X_top_12_rfecv = X[['char_freq_!:','word_freq_remove:','char_freq_$:','word_freq_free:','capital_run_length_average:','word_freq_your:','capital_run_length_longest:','word_freq_hp:','capital_run_length_total:','word_freq_you:','word_freq_money:','word_freq_our:']]\n",
        "X_top_12_rfecv.head()"
      ]
    },
    {
      "cell_type": "code",
      "execution_count": 5,
      "metadata": {
        "colab": {
          "base_uri": "https://localhost:8080/"
        },
        "id": "CcD2vXiCya9h",
        "outputId": "96c417db-8c64-4644-dd9d-434974f0eac7"
      },
      "outputs": [
        {
          "output_type": "stream",
          "name": "stdout",
          "text": [
            "1    0.5\n",
            "0    0.5\n",
            "Name: spam, dtype: float64\n"
          ]
        }
      ],
      "source": [
        "from imblearn.over_sampling import SMOTE\n",
        "\n",
        "smote = SMOTE(random_state=64)\n",
        "X_sm_top_12_rfecv, y_sm = smote.fit_resample(X_top_12_rfecv, y)\n",
        "\n",
        "print(pd.Series(y_sm).value_counts(normalize=True))"
      ]
    },
    {
      "cell_type": "code",
      "execution_count": 6,
      "metadata": {
        "id": "YAAbMLW2ya9i"
      },
      "outputs": [],
      "source": [
        "from sklearn.model_selection import train_test_split\n",
        "\n",
        "X_train, X_test, y_train, y_test = train_test_split(X_sm_top_12_rfecv, y_sm, random_state=64)"
      ]
    },
    {
      "cell_type": "code",
      "execution_count": 7,
      "metadata": {
        "id": "u-umLUIuya9j"
      },
      "outputs": [],
      "source": [
        "from sklearn import preprocessing\n",
        "from sklearn.preprocessing import StandardScaler\n",
        "\n",
        "scaler = preprocessing.StandardScaler().fit(X_train)\n",
        "X_train_scaled = scaler.transform(X_train)\n",
        "X_test_scaled = scaler.transform(X_test)"
      ]
    },
    {
      "cell_type": "code",
      "execution_count": 8,
      "metadata": {
        "colab": {
          "base_uri": "https://localhost:8080/"
        },
        "id": "kxIOBQK3yzTy",
        "outputId": "51901617-2d92-4447-94d8-b343f18c31b2"
      },
      "outputs": [
        {
          "output_type": "stream",
          "name": "stdout",
          "text": [
            "Random Forest Classification - K-fold Cross Validation F1 Score (Scaled): 0.9397\n",
            "Random Forest Classification Test Set F1 Score (Scaled): 0.9469\n"
          ]
        }
      ],
      "source": [
        "from sklearn.metrics import f1_score\n",
        "from sklearn.model_selection import cross_val_score\n",
        "\n",
        "rf_top_12_rfecv = RandomForestClassifier(criterion='entropy', max_depth=32, max_features=4, min_samples_leaf=1, n_estimators=1000, random_state=64)\n",
        "rf_top_12_rfecv.fit(X_train_scaled, y_train)\n",
        "\n",
        "#A) Scoring the model using K-fold cross validation data with the number of folds = 5\n",
        "\n",
        "print(\"Random Forest Classification - K-fold Cross Validation F1 Score (Scaled): {:.4f}\".format(np.mean(cross_val_score(\n",
        "    RandomForestClassifier(criterion='entropy',\n",
        "                           max_depth=32,\n",
        "                           max_features=4,\n",
        "                           min_samples_leaf=1,\n",
        "                           n_estimators=1000,\n",
        "                           random_state=64),\n",
        "                           X_train_scaled, \n",
        "                           y_train, \n",
        "                           cv=5, \n",
        "                           scoring='f1_weighted', \n",
        "                           n_jobs=-1))))\n",
        "                                                                                                                                                                                                                                                                                                                                                                                                                                                                                                                                                                                                                                 \n",
        "#B) Scoring the model on test set data directly\n",
        "\n",
        "y_preds_top_12_rfecv_rf = rf_top_12_rfecv.predict(X_test_scaled)\n",
        "print(\"Random Forest Classification Test Set F1 Score (Scaled): {:.4f}\".format(f1_score(y_test, y_preds_top_12_rfecv_rf, average='weighted')))"
      ]
    },
    {
      "cell_type": "markdown",
      "metadata": {
        "id": "q7__GAXv2UuT"
      },
      "source": [
        "\n",
        "### Using the top 12 features identified by RFECV instead of the full set of 57 features results in the K-fold cross validation F1 score decreasing from 0.9615 to **<u>0.9397</u>**.\n",
        "\n"
      ]
    },
    {
      "cell_type": "markdown",
      "metadata": {
        "id": "viqrFobAACuz"
      },
      "source": [
        "---\n",
        "\n",
        "### I now recreate my Random Forests model comprising the full set of features, and then use Random Forest's built-in feature importance technique - Mean Decrease in Impurity (MDI)."
      ]
    },
    {
      "cell_type": "code",
      "execution_count": 9,
      "metadata": {
        "colab": {
          "base_uri": "https://localhost:8080/"
        },
        "id": "HWo0_zJHQEP7",
        "outputId": "9a5b18fa-a150-4119-f00a-17286e66fd0f"
      },
      "outputs": [
        {
          "output_type": "execute_result",
          "data": {
            "text/plain": [
              "(4601, 57)"
            ]
          },
          "metadata": {},
          "execution_count": 9
        }
      ],
      "source": [
        "#Because I had to earlier delete the fourteen least important feature columns from X in order to plot the top ranked \n",
        "#RFECV feature results, I now need to restore X to its original 57 features before recreating my Random Forest model \n",
        "#which used the full set of features:\n",
        "\n",
        "y = df['spam']\n",
        "X = df.loc[:, df.columns != 'spam']\n",
        "\n",
        "X.shape"
      ]
    },
    {
      "cell_type": "code",
      "execution_count": 10,
      "metadata": {
        "colab": {
          "base_uri": "https://localhost:8080/"
        },
        "id": "2fXQcUGC-OUa",
        "outputId": "f2d4fdb7-8c2b-408d-8c34-173a79f06074"
      },
      "outputs": [
        {
          "output_type": "stream",
          "name": "stdout",
          "text": [
            "1    0.5\n",
            "0    0.5\n",
            "Name: spam, dtype: float64\n"
          ]
        }
      ],
      "source": [
        "from imblearn.over_sampling import SMOTE\n",
        "\n",
        "smote = SMOTE(random_state=64)\n",
        "X_sm, y_sm = smote.fit_resample(X, y)\n",
        "\n",
        "print(pd.Series(y_sm).value_counts(normalize=True))"
      ]
    },
    {
      "cell_type": "code",
      "execution_count": 11,
      "metadata": {
        "id": "HjC8sdBt-OUc"
      },
      "outputs": [],
      "source": [
        "from sklearn.model_selection import train_test_split\n",
        "\n",
        "X_train, X_test, y_train, y_test = train_test_split(X_sm, y_sm, random_state=64)"
      ]
    },
    {
      "cell_type": "code",
      "execution_count": 12,
      "metadata": {
        "id": "SGd4AGPK-OUd"
      },
      "outputs": [],
      "source": [
        "from sklearn import preprocessing\n",
        "from sklearn.preprocessing import StandardScaler\n",
        "\n",
        "scaler = preprocessing.StandardScaler().fit(X_train)\n",
        "X_train_scaled = scaler.transform(X_train)\n",
        "X_test_scaled = scaler.transform(X_test)"
      ]
    },
    {
      "cell_type": "code",
      "execution_count": 13,
      "metadata": {
        "colab": {
          "base_uri": "https://localhost:8080/"
        },
        "id": "ZZk25PoJ-OUe",
        "outputId": "02c51821-e59e-4f53-c519-b0657ae0729d"
      },
      "outputs": [
        {
          "output_type": "stream",
          "name": "stdout",
          "text": [
            "Random Forests Classification - K-fold Cross Validation F1 Score (Scaled): 0.9615\n",
            "Random Forests Test Set F1 Score (Scaled): 0.9649\n"
          ]
        }
      ],
      "source": [
        "from sklearn.ensemble import RandomForestClassifier\n",
        "\n",
        "rf_all = RandomForestClassifier(criterion='entropy', max_depth=32, max_features=4, min_samples_leaf=1, n_estimators=1000, random_state=64)\n",
        "rf_all.fit(X_train_scaled, y_train)\n",
        "\n",
        "#A) Scoring the model using K-fold cross validation data with the number of folds = 5\n",
        "\n",
        "print(\"Random Forests Classification - K-fold Cross Validation F1 Score (Scaled): {:.4f}\".format(np.mean(cross_val_score(\n",
        "    RandomForestClassifier(criterion='entropy', \n",
        "                           max_depth=32, \n",
        "                           max_features=4, \n",
        "                           min_samples_leaf=1, \n",
        "                           n_estimators=1000, \n",
        "                           random_state=64), \n",
        "                           X_train_scaled, \n",
        "                           y_train, \n",
        "                           cv=5, \n",
        "                           scoring='f1_weighted', \n",
        "                           n_jobs=-1))))\n",
        "\n",
        "#B) Scoring the model on test set data directly\n",
        "\n",
        "y_preds_all_rf = rf_all.predict(X_test_scaled)\n",
        "print(\"Random Forests Test Set F1 Score (Scaled): {:.4f}\".format(f1_score(y_test, y_preds_all_rf, average='weighted')))"
      ]
    },
    {
      "cell_type": "markdown",
      "metadata": {
        "id": "p3PFpYsnxSbC"
      },
      "source": [
        "### **Description of Random Forest Classifier's Feature Importance Technique - Mean Decrease in Impurity (MDI):**\n",
        "\n",
        "$~$\n",
        "\n",
        "### Random Forests determines a given feature's importance by first finding the level of node importance by calculating the amount of total decision tree impurity decreased in a given node multiplied by the probability of each observation reaching that node. E.g., supposing that a single Random Forest decision tree has just two child nodes, the equation for each child node's level of importance for that tree is first calculated by $ni_{j}$ = $w_{j}C_{j}$ - $w_{left(j)}C_{left(j)}$ - $w_{right(j)}C_{right(j)}$ where $ni_{j}$ is the level of node j's importance, $w_{j}$ is the weighted number of observations ending up in node j, $C_{j}$ is the level of impurity found in node j, left(j) is the left most child node resulting from node j's split, and right(j) is the right most child node resulting from the split. Then each feature's level of importance ($f_{i}$) in a given decision tree is calculated using the formula:\n",
        "\n",
        "\n"
      ]
    },
    {
      "cell_type": "markdown",
      "metadata": {
        "id": "0XyQHh6Fdtr-"
      },
      "source": [
        "![image.png](data:image/png;base64,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)"
      ]
    },
    {
      "cell_type": "markdown",
      "metadata": {
        "id": "YDCTxuPY941a"
      },
      "source": [
        "### $f_{i}$ is then normalized to values between 0 and 1 using the formula:"
      ]
    },
    {
      "cell_type": "markdown",
      "metadata": {
        "id": "7dUW47QVd7kk"
      },
      "source": [
        "![image.png](data:image/png;base64,iVBORw0KGgoAAAANSUhEUgAAAccAAABSCAYAAAAhIB/2AAAAAXNSR0IArs4c6QAAAARnQU1BAACxjwv8YQUAAAAJcEhZcwAAEnQAABJ0Ad5mH3gAADXVSURBVHhe7Z0HXBTH28d/1+AQUOxdsWFBEKWIIiiWaIxRsZfkr1Fj7FETFXss0cTeW4xd7DUmmigWRGkK0lEpigKi9KIc3N7z7sEhcNxR1OS1zDefTcLs3e7M7N785pl55hkB8YDBYDAYDMZrhKr/MhgMBoPBUMHEkcFgMBgMNdiwKoPBYJSEPBGhHj6I5qrAuFUbNK+hqzrB+JhhliODwWBoRIFknx34xroZzDp/jl6O7dG6yyJ4ZatOMz5qmDgyGAyGOopkeG8aio5D9yHLYQy+G2yPRvoStOg/CJY6qs8wPmrYsCqDwWAURvEEZ6f0waiDhphz6wrmmUuViUhyP4qb1YeiX3NR3ucYHzVMHBkMBuM1CkT/3h9tx/8JnREnEHpwAIxUZxifFmxYlcFgMPLhwnF0zz9IJgPY9ujChPEThokjg8Fg5JPkhhv3skHiVmjfvpIqkfEpwsSRwWAwVMj87yJIRhBWM4V5Qza3+CnDxJHBYDBy4RDrH4w4TgBxC3O0YV6pnzRMHBkMxiePIj0cf2+ZgW83+0CuTAg/hHFf9sZnXazRbvQhvFDkfozxCcG8VRkMxieNIsYF3/ZZgCuJr5D6LB6pciEMqtdBZWUgHIEOrJwv48TERmCDrJ8WTBwZDAZDSdY5jKo/AAdSzbDA6w6WtRWrThRCEYer65bhmGgk1sywg6EqmfHxwYZVGQwGg4eLuY/wVAWERuawbK5BGHmyvddj8twd2HfyFuI5VSLjo4SJI4PBYPDkhIYhkhNAYmYDG2VQHA2IG3fDyP+Nw/Llo9GYjbN+1LBhVQaDwQCHyDWd0WKWF5rOvol7v9qCOat+2jDLkcFgMJCD0NBIcEJDtLFqzYSRwcSRwWAwwMUi9EECFCJTWFnpqRLV4OLhuWchpi67gFi2tOOjh4kjg8Fg5AQh6D4HcUNL2NQtPpmYEXIEs3p1QNdxy7HzD3+kssmojx4mjgwG45OHi/BHcArBoK0tLNTGVLlHZ7HtghTjDi5GD6kIdaxtmTPOJwATRwaD8cnzMjAQ4XIJWre3QQVVWj4i4/6YPdsJjSIDESavCNvONlDGB2B83DBxZDAYnzjZCPUPQYaoMTrY1dMSCYfDQ9cbiBJbwaGTviqN8THDxJHBYHzaKBJx924EFFVt0clci5+qIgau14KAVvboXIM1m58C7Cm/YxTpUQh9nKn66wMjMxqhkamqP94d8sRQ3Lz0N65738dzmSqRwXhfyL6LO4E5MOzYFZ3Ux1TzSb4K1ztyNLBzQDPNwXMYHxlMHN8SxcvniPB3x5+HNmHBN13Ron4LDNgSoDqrRro/DjqPxYT1N5H0PriCZyUiKtADl45uw5LvPodpQxN0X3FLdfIdoEiGz45vYN3MDJ0/7wXH9q3RZZGX6iSD8X4gD/OBb6IUtp9107rzf4abKzxeGsG2syVbA/mJwMTxrVAg4fZBbN7tgpMHtmD9/mt4mFYB5lZmqvOFycbtZcMwdtUe/LZ8J65nq5L/H8m4ewybdh3CyUNbsW73JYQkCWFmbak6+3Yokr2xaWhHDN2XBYcx32GwfSPoS1qg/6B3c30G492gQLz7LdyX2mNA31paGkQZvF3dkaxjCfuOvGmZGY/4VLbQ8aNHGT6O8fbk+C0iCwkIEjtaFS5XpRYmmfb3NyABBFSx60bS+JH/J7joDeSoo8y7Gc3zyVGlvjlc9BmaaF6RDOx+Jv9X+YmJdPPwWQp7j8rNYBAXT3v7GlHtEccpUZVUDPl9WmkrIaFRD5q/dRFNmLiKrsRyqpOMjxVmOb4j5FGReMIBonptYVVPk7+bEQb9chTbNh/G5SNT0OQ9Wiclj4rCE74jLKzUBlYt33JCRRGNvZPHYmdQBfSfOQnm+QGchVXQaUQ/NGfrwxjvEVyUCw54tcb3c51QRZVWDEpDeiYgwDNEvOyKxZtnoVtt1nR+7LAn/E7gEBMehTSFAHrmVrDQsgiqQvMvMGHKcNi8V95uCiQGBfPCLoDYzAqWWiJnlRUu/Cj2/JMMMrBFjy7aZnAYjP8fFM8vYu2qi4jlO7KKFG+smbQTOvN2YHrrEjqFYiss/DsU4VF+OPJjZ9RiHbxPAiaO7wRl0OJwXiLFaG5p9YFtgJqDoID7kJMIxm2tUOst34gktxu4l00Qt2qP9pVUiQzGe0LmjQNYMbcfTI2boEHjAfjbbheOTDEtdVG/tHYTGBsxVfyUYOL4LuAeIzAkCQpRdVhYNuUl8gNCEYfA0HhwAgOYW5u/pSeeDP53gyAjIaqZmqMha0sY7xUy+Hn64aWOIao3ccC0I7dxaZE9KrNWkKEBja8F98ITOyd3h0lNE0z8S23NXnY0rm+bjr6WDVC5sjmc3Utwu0wNwamlY9C7YyvUq6QH/RrN0WXMOrjFF/f0UiTfxb4feqNVTWP870SSKjUV3lu+glXtqvhsS7QqjYd7Do8dk9HNpCZMJv6FwjlUJN3F/jkDYNWgMur03ISwIrt1K5DkdxDOA6xQ36gmemwM4609TSiQ4n8Ei0Y6oHlNQ0j1jFC3pQOGTpqAAT2d4aq+Vi8rAAEPOAh0zGBtKVElFkL+DDc3j4djEz5PQ1yQqEpWerB6rfwMJjUMIK1QBQ3bOGLQhIVYv/8P3A6LR2Zu5tLhv30UZhzTsv6QrwufA/MwtGMzVNfXR5UmnTHhUCh/ZU28RPj55RjVvS0aVq4Ag6oNYN5lJHbekwPilrCy0rbIq4xwsfAPjuOFVowW5m2YyzvjPUMXDmvD8OpVIh5c34vZPRuwd5ShHZVjjopMCj02gxzq6JCAPwVBRRrokq46R5Tiu4vGtKtMYoFAdd6QBh3JVJ0tzCsKc5lKDpZf0PyDV8gnwI9unFhJg030cr01DdsvIZ98L0bKooizc6lbvfx7Sqnnjnji+PSgjZ9RNSGfJqxF3/yR94WMkKM03b42SQR8utLzc6AL5eUwiyLPzSXHuvx1+PwpiyaxXEKB+c6Xr8LptHM3qqcrzLsPJGS7IoyKOU/Kn9Klhd2pmYkjjZ71Ey1bPIu+G9yZTKpIcvMu7bGV1B3Vcu4sIHMJfz+zeaTu7JkWcIAm2dZ4nV+jwUcoTXWOcu7RIgtJbl6LHwISSoyoZnUD0jUeQS6P1XPKUfzNdTSiUycaMmcjHTpziraNa0sG/H0EFXvRjmi1TKb70dbhHchu4GSav3QFrVgylyYPdaDGFUW59SEynkSuWarPlhuO0h5eos1Tu1FDKV/3Ah2qb92Len/egzpbtaVRB5/zn2AwGIwPhwJxlEfQ0an9aMj8ExT8cBv1rMA3cpL29HOoslHOoUenp1KXDsPol3P+9NRnMfEGknJiieZ4yvK+/5osCt7el+pWaElTLiUWaRTloavIXnldYTUafjyZb1Nj6Pyc/uQ043e65b+T+hkJ+Wu2pFkeMsq4vYAsK4ioglFl0tOxoqVBMoo4OpX6DZlPJ4If0raeFfhGXSVwXCK5/dybbPstptOBT+nk/2qQEEKqOeocL/d87qPO0GwnJ5q++xY9DltHnZXLFkSNaMo1NTXgntPFaWZkWH8oHS4iRjJyn2lCYv5+7Rb787VRlKS9fUlfIKRqI09RhiqNLy2F7vuWvhy+mM6GBtKvdrwICnSp8/qo13XCPdpA3VqOo9PRGZSTlUSP/N3oj8O7aNOaVbR642/k8vts6ty8G626U3DVPLL4a48kkxq2tOj2a6nley8HqL8+X79iU3L2KpTL5Nu0snsj6rDIS9WRKCDj5HCqIhSQQd+92l3ZS4Sjp4fHkEWjBlS/VqXcToBAZEA16ten+vzRoIkTbYt8B+s3ctLo2eMoioyMfMsjiqKeJtArptYMBqMECsSRS6GnT1PyGu7k3+kL3gIQNZ5K17I4ij0/jXoN3Ux+qpY1J2AxtePFUVh5GB1Xa20zPZSiJqQqTgcoXr0BkkfSmk5KS0lMzWbc5BMyKOapSkAzj9NQI95aqv4VnX52nX5o25wGbfGi+JwsCr/yDwVmcpTy9Cml5GWQfv9CSgKxCc1wSyKvlX2o6+RTFJWrBxnkMtCQtx6l1GNbLGUG7qJR/abQsfA8IeSi1pIDL47CKsOL5T3ln4nURKJPXdaHF7UouSha68BbpKIGNOGyunmVRdemNiYRby112fC4UGeAoyQ+v7m3UFqIbflyS8xpgW+BaGX8yVtv+wt/pwB5lAuNNLWk6ZfUrS6OEi9Ooha6Emrt7Mnb6AXIw1eRnY6yDvmy8X2PXLindHREA9JpNIH+UddYXubvzDcjCS/6lksCi4l+eXl19n+5lr6kzQIqVMwicLGutHrieFrnXkjUSyWLXCc1JFEx6/oND0EF6r4lWnVtBoPBKI7GIAA5PvPITKIcAnShGPfF9OWQTeRfaPQ0+ZATVRQISNdxExUZvZOH06ZuFXkRqU/j/lK3UZRk0rEh/Hneqqs95oIqLQ/5w1+pI39PXcdf6ehMR+q3KaBIw1+EHB+aZybhRWAE7Tz0HfWdeZGe5+cjJ4B+slQKUWtyPn+EJvSfRmefFkhdxqmRVJW3lPQ+21Z0eJSLph29KpLQqB/tfaYmV8/3Ub9KAhIYDaTD+aKTj1I47fn7KYX6proVnQcXvYm6KjsbDSZQMW3VAJfoSrNsTGnYgYjigpUTSMttdEkgdaC1hSMJcM/o9ChjEgmrUrf1gbytm0fS+THUQCSmVnM8X6e9Rh5Ba+z5awnr0Ng/tdZ2GZFT+K8deaEVUvWvz+Ra7MWRkcesFiTmOxIdf32oSisjshSKe/TuLMfMd2DMMhiMjxeB8l98b7oISfv6osGYv9Fu/no09/TD5wd3YsBrH38ZXCeZoOf2OLSa7wHf5ZavvTPlfgth1f5nBFYcgROPD2FAsZ1dMnDQqSZGnc1Gk++v4uEGe1U6kHVuFBoMcIHB531hVnMItv82FHW0eZEl7UPfBmPwdwM7OLT4EmuPzIZ5vi92xjEMqT8cp9ARve1rwnG5C2a+PpkN95mt4bj+ESyW+sFzoenr7WnkgcvQweonRPQ9hIgTw1FZla4k+egQNB15Ehn26/Dg6nQ0LJyvzFMY2XAIjsidcOjxSYzQsHwh6YATGo0+D9Ggw4g6PgwlrnDICsBGp2H4o+tBnJtlCfUqzL45A627bsRj65UIvDkHJsoCZITiqPP/MPHwS/Revg9bJ1rDSJlH7hG29DTDNDcTLL7rhcVmRf1oFTHb0MtkCq5QD2yLvIgJb7WOIwsXxjRCv33J6LIpEpen1NHg7aXA879XYO4pXXy1/Ac4foC7GyxfvhwHDx5U/cVgMD5kateujevXr6v+KoqG1ikbQfdCIRMYIP7UQUh+WF1IGHnk9+HmGQdOWB02HUwLLVvg8ODPSwjJAXQsOsBW02JyRRISU+TKSSk0aNpElaiEQ0RACFIUCrzwF+CLRYO1CyNPdtA9hMoIORGpsJw1rUAYebKDfRGUwVvEaX5IsP0J0wqf5CJw49YjyMUN0NGhWaF92+QIOXkG/jkV0LFXt6LipXiC4/v/RrJCjGYd7VBXLV/ykLsISFNA3NIKlgaqxCJkws31Nt8t0EG7zvYlr4HkonF8wtc41GI9jvxQXBiVz8bvwt+IkovQzKEDdO5dwK5Fo/FZt/E4IR2HcwG+ODxZJYw8XPRpnHDPhKhRF3Rvrr7ARI6g3/fA7RVv9DaxglW1Eiq8LHCxCHuQCIWoMaysqmlZIyREjZ4L8PuuWR+kMCrhOA45OTnsYAc7PoJDLperftkaUFqOReAe04YuSs9RIVV32k8xaiOMXMwW6i4VkMCgD+1JUCXmkkYHnZSxQ8VkMuNm8SE8JVlXaGJDUe6QZ9EYnmnkMqgS/10RNZp0RcuQXD4cPd7QhXQEAjLsuZ2eFskfR7HbepBUABLVHU3n1IZAuZht1ENPQMJqI+lk4VFfeTAts5aQQMee1qo5j2Rcn04tJEonoto0RuUxWwBHMVu78/cTUYOJV0jjiGnWNZrSSFlmS1ry2nVWE0l0fW4Haj3sAEVo+5gqxqNyzqyp41c0dfEWOnYthBI0fp6j+N19yICvJ6PBR4s54nAJp2m0sQ6JijkSvSGvLtCY2kKN89AMBoPxoVG8+/7SC57+vHUnboShU4cUs+Ayb7nDVxkBxbQjOhSODsbFIDpGpvR2QI06dTTups098oZfLMdbKp+jj3khSybbD173Mvl7NoHTCHuUvNruJbw8/SEXVEK3EQNQNMRhNnzvBCGbxGg06Bv0VItelu52DT4yQGppD7tCN1E8vwG3QDlE9dvCsm6hnKe7Y9VmH+gYCHg9skKnDvmBQvPJxK2bvvxdpTC3stAYZUMe5Aq3pxx/7Y5w0LoRnAzBW7/GZB8n7Nv9NRpr+9hLP/iFKdckmmPM9n3Y9NNkDOnSElU1fj4HIfeC8Yqvi8atWvI5LEwyLi/7HWlmzXhbTozW1lZ4y6hxvOEYigcJCohMeStUy8W4eE/sWTgVyy7Eorx7GmQ/D8Xt61fh6ur6lsdVXL15F4/TVRdmMBgMTahE8jUyt+nEt+EkbjWHiq3SyPfM5K3DJtOuF7UOc+7QfHOlJ6oOdd/2jLdb1JFT5AZHqiA0IMf1D4t4g+Y54yitvW/pYml+ITI3mt5MTAK9HrRV3azN8aOFbfg8iBrR5KvqdlwmXRhbh8+7hKyXhxS5/6sLY6iWUEDS3rsLljNw8XRh5ghatH8+WSvXMNqupPvqThxZl2liA6VV2I4W+2sy3+T0cJUdb+UqrbOTxay3PDh6emosWVhPp0uvvYqKkh4Xl7s2Uh60lKz4vAikX9LeUp09n9POnrq5Xrtf/J6kSlMip8fHviUn51O0vpd+rsfvTHeNdn65eHVuFFUXiqnp924aRg3SKdjlR+reSLnOtXj9l46MbswyJyM9Kenq6r7lISWpQW1y+u2p6toMBoNRHDW7kMMTD288kotQx6E7LNTDR3ARcPd4Ak5oCCu7dkWjSwj0oZ9rMRAyUlNyfeaLwN2Hi8stZDcciTljmxaxLNM9PREkF0DfxgG26saZGtwTD3g/kvOWqz061yyafUWCJ7weyCGsZIvO1mp2nMwbf1+LByduiI4OTQrdn0Ns6AMkKgQwqlVLZbWmw3vtDJxutRiTuACEynlLtEMnGOd+qcDmkYe44XYcB2FVC1iZaDDfFC9w9aofb8NJYWlvp9EiTnVfgmFLMjHz6Gr0rF7ckIfsJn4auxb3svmcJiYgObdiOXA5uWeLwaWn50UM4hKRkKLglVQPlYzyTTkOcRdn45sDzbBothC+d18B+mawbJ33JJXzaW8Ghwj/YKSQAdraWqhFHeHw6Ow2XJCOw8HFPSAV1YG1bWONIwva0YHDKn8kv3yFrKystzxe4VV6LE6Pq6u6NoPBYBRHTV0Scd0tAHKBAaztrYsPE6Z4wjNUDohM0MZcD1kRf+Cn/03DoWheMEQN0Kp5Zf6CcoTevoUXRcbNFIg5uhhbg5tjym8r0KOIV8pL3L7ujUwSo5WNdSlBuxVIvO6GAF68a1t3QFO1FjbL2xP+MoK4tRWs1ZRIHnYN7k84CCSt0NZcjNSAg/hh5EJcTOXw/Hli3gI44jPNxeDSom+wTjEV68Y2hJ+HL15BgubmZhDGuWLZ/+bhfIryigq88PDAfeUop4kpWkte4sGZRfh65jHE5pc9yxPud7N4k7geWptVgTzmKtaM+xbbgvImgWWhOzF60i18tnI6Gj74A8dPnMdVnwd4kVVQeSmX9+NyJavcjopQ3xD6ynA2OSHw8clQfUIF/+zu7JmOwWO3IzCL/5t4EeC1D3yZZDIZXwHPcH1lfzjOy8DUXT+gdeQd+PPiKarTGI2l6Qg6xH93kguUj7L8vERgYDjkktZob6PeBRDBuP9szHZqhMjAMMgr8h0XG00D0B8mCgXfUZHLIc/O5uuZF9+XL/EyMxMZGelIT0nCi/hYPHkcifD7IQgK8MMdbw/ccruOq5cv4a8/zuNywItyDzEzGIz/AJUFmUf6SRpRTZg7TPhTQPFhQuWQa1MxryNCQzLp0JHaOXxH+wIKBgvTL31HxmIBCSQNyWn7PdUwopxiryymro1b0Vd7Q4o7rchu0gwTMUFkTJNLjV+WTidHVCOhwIC+3Ksez0VGXnNa8RIrIuPJrsXuk+EykAyVIdyE1cjM3oYse82l81HKAUAZ3fpBGf2GN7Iq1KVmxsbUZfENSlSOcCqDFijXMEJI+vVakIXjJDocmj/um0Wuk41zF6YLK5pQxw5tqcvkwxRcyLNFHrw8d0hWGRmnoXUnatt+JG3yzAt6wMWepW9bSElauRpV5OtM+SjyD4HEiIwtHKhXnx7UpoZe7prA3GHIrOv0vXJIGQLSNx1FO27cp6fRwXTjyAoaY29OjtOP0f387Mkf0q8dlXkXkE7tVmTRsBIZtZ1Ep/IiJVDm0cFUURnNRlKdmppaUK95f9CjNx1dlXmRs6mYxC1mkYe2a8iDaKmVhPR6bC3m5PXBwT2lbZ8pnc8KntmbHcph6BsahqEZDMZbk5NAIW4X6dI1LwqLL01bilNEHLNcJ/HiJiGjltM0zv3Jbv1IzfmGXGjQjL5cdJ4i1e/HJdC1n7pRXR2+sReIyaB2MzJp0pja9p1NB/2SNMxD8vn3V0bbEZF+/dEFUV20keVKkxqKSWLkSGuC1WatuEe0vrMuCXRq0rDDRdxoc8lf/C+uYkEj192guEJfTzo2jKrz5yQ17GjGyYcFwQfk4bTKTocEunWp8/cuRYRPKarXcyPjCKlicyda+tejYo2cPHQF2fJ1IZDWp64zXSjodT8ii/6Z2JrMBvxIa3YdoTPnTtCBrStozreDqKtFfaqo9I7Nb0BF9Wj8pfyK5ijh6iLqUksZ5zXvvEBUiZp2m0Q7PJ6rzePxov9ji7xwbnz+HWccooAU1Sme5P39cz1Z9Zv2paWXot8qOg4Xu416SIVUc3ReuD5NcI83kqNUQpZLg946Es/7QKbHfGqnl/+chGTUZS4dPnOGzpRwnD51go4c2EmrZg8mi8rKmLYSslulFo2JwWC8JRwleW+n0RaV+fY5r50Ut5ytwYemZIqII5cYToGRySX8WNPooectCo4v+S6ZMb505ewpOnvJnUJK+SyXHE7+9xPL1nvm4ul+QBSlaMxgJj0OCqLYTC1mCS/cwe6eFJ6s4Tx/3XuubnQ/LzZdEV49vke+j7S40qTcJ49boVqWUijJpEc+7nQvtnhPQ5aZqVUk5GnR5H/zLzpz4hRd9IgoXt7MWApyv0jnLlzj85amsdORS2YU3frzH7rzVENPJyua7ty8R7Hl71AV49UfY6gWL9JOB7RHZ03Y25cMxU1o2vVyvqHvLRnk7twmd9lQbielgi39rGG0RTMcPTs4kKoJ9cnpoOZ3i8FgvAFcEnltHEQtGrWnYdN+oElD7KmRvoRaz/Uud6e8mLcqg1E+cshvkQVJ9HvSdq3jpel0+qvqJKo2kk59TFqQfoNmtsq34oVUrf9etXW3JZCwm74wqE1jLmjouDAYjPLDRdOZieZU0cCOfvbP/11xlHjzMJ0NK//4jAb3SAajHCji4X7rPqT2A9BXW/g5mTdc3ZOhY2mPjhWAzPh4pH4MXigGneC8ZAjqqLyYE//8BWvcX+aeKhXD1mjd2AhG+eGMGAzGW6BA9N7JGLszCBX6z8Qk8/xlD0JU6TQC/ZqXzz9eCftlMt4KRcJlXL5rhC/HDNIa8o977I27MQroKp7g9JKJmHUgCGWUkPccIao7LcIsh4rgrUdQzkPs/XkfosqyIkanPZbe8sLPHdTXSzEYjHLDhePonn+QTAaw7dEFavFf3ggmjoy3gEOUywF4tf4ec52qqNKKQ2nKtZe8fDyLwMuui7F5Vje1yEYfMCITfLd8AkwlSnlUIPXqWqy+WrbwOzoGhpCyXyCD8fYkueHGvWxl9Bq0b1/i1g5lhv00GeVAgecX12LVxVheFhVI8V6DSTt1MG/HdLTWFvKOR2y1EH+HhiPK7wh+7FyrnAEA3n+ktj9g/oCaeT8meRQOLN2B0DeNp8BgMMqNzP8ugmTKlXqmMG/4bloYJo6McpCJGwdWYG4/Uxg3aYDGA/6G3a4jmGJa2qJ+KWo3MYbRx6aK+QhrYNCCqbDWyx1cRabHBiw/zRb3Mxj/DRxi/YMRxwkgbmGONu9opoKJI6PsyPzg6fcSOobV0cRhGo7cvoRF9sqoSAxx60lYOKJBnlXMxeHkT7/AXS2IEYPBeLco0sPx95YZ+HazD3LjjoUfwrgve+OzLtZoN/qQWqS28qFxs2MGg1F+uIgt6GX5Pa4oXXEFUrSdew3uP9uWsssMg8F4ExQxLvi2zwJcSXyF1GfxSJULYVC9DiorB7IEOrByvowTExu98TQOE0cG452RBc+5Nuj8ayCy+V+VoGIf7H5wDmPUAuQzGIx3SNY5jKo/AAdSzbDA6w6WtS3BAULxDNc3LoMLNwyrfrQv0auV/WoZjHeGFDYzF2NI7sJHEeo5jcGXmnZaYbxD5Eh+FILQR4l81+TfgUtPRqoGBytt6eXn3y/DxwwXcx/hqQoIjcxh2bwEYeSR392EqXO2Y9+Jm4gr5dmxXy6D8Q4RVv8CX31RG5Ja/bHi5354d9qowLPr6zF5/BrczN0V5u2RxYfA7cwerFkwEzOcl2DdweuIyt3v7MNA8eI2Ngwzh3GT1mjVpAXGnnxXO1grEH/nLPZvWY4Zw+3RtOGX2B6hbEm1pb85/14ZPh1yQsMQyQkgMbOBTSlbHgobd8fI/43F0p/HoLS4AEwcGYx3iCL6MLaefomuC1dheN13+POS38WmqXOwfd8J3Cyty1sa2ZE44/w5bHp8h/Xn/PAsKwvP3H/H/FFd0dppu+pD5eflszgk/0cuuqk+mzG071I85/P7x9mNGNdtAJy6l7zhXXkQ6FVDw0ZC3L9yG08MzWGlWh6gLf1N+LfLUIyXzxD3Xz2g/wwOsWHK/XhFaGxlhWql/OSEVbvCefdvcO5eq3TxU845MhiMd0Ey/TW+MVVoM5+83kFA9yJwCeS6ciyNW3mZ4soav1UTWUG0rW8TMht7nCIKx4BX7qgzvS2Zz/ZUJZSDnCD6/Rsbqlt3JJ38D2LncjEuNLRuBbJdEfLv7miScZyGGglJv8/vVGSfH23p5eA/K0MuORT0+zdkU7cujfwvHtB/yiu6MKY2CYWVadjxd1s2ZjkyGO8I2d31WHgoG4MWz4DVu97PWVgVXZ134zfn7tAWwrZ0OIRsnABnf0f8sn4wGhdeDyasjJYm9dC4WTNVQjlIcsdxFx+kWXaDg4Eq7V+Dw8MDm3D6eUv06tPsXw0owUU/QGSmCM0trVA45oq29LLz35UhjyS4H3eBT5oluv37D+i/hYtF6IMEKESmsLLSUyVqIwNh51dh+vTfcC9blVQCTBwZjHcBF4Hd8zYhvP2PmN+36n/6w5LHeeDgz1Mw4stusO/QAba2tqqjI/r96qX6FI88GMeOeiHHwh72xUbvhKg2bDu2DdUeBlAb2RHheMSJYdqhI8r/7XKieIHr1wOgqGYB62YlO1+8LbKQEERQVVhYmaDwnbSll5n/sAy5ZEcg/BEHsWkHdPzXH9B/TE4Qgu7zZWtoCZu62rsZXNw1rB7ZCXZOc7D5qAeelGF0mYkjg/HWKBB/ahFWXq+B0YvHweRfMAUyws5j1fTp+K1Il1eGiGOTYGvaHXPPRkOncSf0GTIUw4YNUx1D0de6luqzPPJHiI7hwKUmaZwbFFWui9papryyY27h4C+z8d24Kfj5dFiRwPGyiAjEUA2YWRi/kRWUcf8idi6fxV97IpzXnUNYSU5BOf7wDZZB9LaRUFJDcH6DM74bPQrjZizDrkM78dvFJ6qTSuR4GBCKdLEZrCwL30hbejkoTxmyY3Dr4C+Y/d04TPn5NMKKRexPRcj5DXD+bjRGjZuBZbsOYedvF/Gk8LS0LAIRMYQaZhYwLvaAshHjth3OM3fgjkyVlIsCKf4nsXbBLzhX5GK89XX2V8yYfxThucmZvDW2GrNWXSq24L6kd0Z5ncibR7FxwSSM/XYmlu+9gUdvsBsBF+GP4BSCQVtbWGiry5ee2L0rHParN2N0UzEkpu3QriyPTjW8ymAw3pQ0V5pqIqGqffeUfT/HsiKPpaurRlCbKkKCsCZ9c75gn7rnf02ilhWb0dBd/pSmSi0RmQfNbikmgY4pTfoztmxzXfz9r6wYS8MmLKItuzfQeMuKJJR2oJUhym9nUNTVHTTFrgaJRDXJesBIGjpwIM06GZv33dKQP6azswfS0Nk76czFC3Ro2UAy0RORkf0v5FdsT2yO0h7+Q1unOlBtkYB0GzvQwIH9qVe/pXSjXPO7coq5uJD6OfajCfMW0YLpo6hXqyokEhjRwMPJqs8oSaGDToYkMXUmryJ50ZZeFspTBjnFXllBY4dNoEVbdtOG8ZZUUSilDitDVOf5T8RcpIX9HKnfhHm0aMF0GtWrFVXhr2s08DDllyQj6irtmGJHNUQiqmk9gEYOHUgDZ52kWOV7muJHv0+0pZoSAQl0e9GuIhOomXT6q2okqjKcTqim8nJiXGnloJZUSQgS1f2WLmbl0MO9A6m+REhGQ4/xb4OKEt8ZvhaSvGnnj9/R7NX76djh7bTsWweqI21Fc8q7VT9P2pHBZCTQoU5rIkp/n5P2UT8DCbWc7VmmzfWZODIYb8Ur8lrYjvR0LWiBd/l/3MpG8P7qrtRxsZ/q78JkkseOn2iXRwy5zTQhsW5X2pyvvlm3abapEbVf4svnoKxkkce8NiQVgASSKtSi6wj6fslmOuIaQgmatkmXhdCuASbUboarqrGVU8TqTiQRt6BZHjLKDPmDdm5ZT+OtK5CoTk+as3Ezbd6yky4+LIPscrF0elxLajLUhQr2yM6gyxMb8UJbnyZcVlMLmS/tmTWVJn7RnHT5xtDki4k0ZcoUmr7pxmshKAuZnovIpn5v2h6Zn0c5Pfy1I0l0OtO6qEI9G9kt+oHv8FQZfrKg0VeiLb0slLkMMgrZNYBM2s0gV9UJecRq6iQRU4tZHnkJmZ60yKY+9d4e+VoU5A9/pY4SHeq8LoqXYZ7MEPpj5xZaP96aKojqUM85G2nz5i208+JDksvD6NjPa+lCeBRt6aZD4qbfk1vh11fmTjNNxKTXY1uekGZ60I5FO+l2jDvN4jtYul03U4T3Uups0oEGDO1BfZaodtov5Z2hLB9aateGvrtYuMQptH/kV3SoTD28wsjIy9mUxPnXLgXZ9WnUhH/vh58s25Nj4shgvAU5gb+QnYGY6n59ihIKta1l5zn93seIOq2OUP2tiSTa18+AJC1nU37nOuvqZGpcfTC5JOb9XWZyHtGFJUPJpp4Bby1BGR1LGcuHpPW60IwTEYV61HIKWdWJDKoMosP595BH0raeRqRnNofc8xVZHkzLrCRk0HcvlT0rHCWeH0vGuqbkrGZ+pe3vRxV44fhse7wqpTByilxjTxJJG1rop0nNS4F7RFt7GFGjiZf5bkc+CbS/f0XeEpxL3oUuycVsoW66OuSQLzQqtKWXndLLIA9ZRZ0MqtCggoqnyG09yUjPjObkVjxHj7b2IKNGE+lyQUEoYX9/qigxpbmFC8J/N3iZFUkM+tJeTQ9Idp2mNRFTRadDRQQ6J+AnspRIyHJJYJ7o5ZP1J42tw1tf3++gxbxVezSq6L1Ke2eyXCeRsV432lrE5TqHQq64UlQZ+lRF4DtY23pISVhzNJ0rVA+a4etsfWfSUXaCHpXtybE5RwbjTeHCsXPmL/AUdcacRf1Q9Q1+TYrnF3HhlgyVqpTgKZEdAN8gGQwtbNA6d65EgYSgEMQKn+LCvImYOFHLMXkxTqovUhc3xBeLjsLrSQJiA6/i6Ob5+F/HOlDEXMeGb8Zi6wPV57M98NtvXpA4OqGXMmuZYTg2dRjWpX+N/WeWwi5/sXXGPdx7CDSzaIuKqqRS4SKxZ/VhxDTpAye1iSKRjgQi/h9dqSZ3XzlCQyNAVdvBpkX5HVnkAXuw+2Z19BvuUBDvNsUVf918iWrtO8Ks0CWz/XwRrGiAtlZ1ijhmaEsvO6WVIRsev/0GL4kjnPIqHmHHpmLYunR8vf8MliorXh6APbtvonq/4XAoKAhc/7qJl9Xao2PhgiAD9/IeENpqeEBczB34RgvQ0soSBdPNcgSf+gOBirqw7dSsiNORIi4MDxMroOJDX0inr8VQ48KVVoZ3RiiCMOcWNk5eiSPXg/EsUzlRKUbLbl01zIeWQvZd3AnMgWHHruhUagDjLPj5hoCMLWFTxs1kmTgyGG+EAtEHZ2Pp1ZdoNXE5vm1aflcU7oUPdvACdiFVikpG2kN7KOL84P9EADNrK+Q7qyuUNh8nQ0ZqKlK1HWkZyMrdqkATuqhh6oihU5Zj/42rWNW1Et+YeeGGZ55XRLbveVyKAuobRmPH3O/x3YxdePLZ7/C5uQmDmxQIWnaIH4JeVoKpRdFGtCQU8f/gb59sVLbqoBL7fBRIfpEImagBmjfX4JaveIb7DxMgNrNG+X1h5PA/dRbB1RzRyzr/y/wzPLoHl5KlsLRrj4InIMfDO/5I1DODtVnhG2lLLwellSHbF+fzKh7RO+bi++9mYNeTz/C7z01sGtwEyq/I/U/hbHA1OPayzv1biSL6KPZcSobU0g7tC79K2SHwC3qJSqYW0OQY++rOHQRTTVhYFwrQnXQO6/cEQK7fFrbtinZSsgMCECbPQnKTwZjcvqgileWd0e00AXP61sGTMwswwrE16lSugsZ2o7DO7Tn/NMqHPMwHvolS2H7WrfSd/+UP4BeYAv021jAv66NTWZAMBqMccI8P0MDaIoKgAtU1tSRLy/IcbcmseX0y0hGQQDmsKapL4/7S7lWSeeZrqi4xoZnuBUOQWZcnUMOaw+l40cmqN0Q1LySsTCNOqobt1jmQjrgZjTkSQolap3M4itvWg6QSO1odUfYxMeWQsLFIQm0X3Ss6ZEev6M+xdUhSbzxdUmZDnayL9G1dHTJ19iqTQ0UR5CG03EZChk4HXw8fcvHnaFobIxJKbGllWKH8c/H0W299krRfQaGFi6UtvTyUUgbu0Tpy0BFTszFHKERjxcspZLkNSQyd6GBBQejctDZkJJSQ7cow/hMFcHHbqIdUQnarNTmsyMhjVguSVOhNu5+rkvjaub52Fg220iNJh1/ofpEv5VDA4nYkkbSjxf7qQ8JlfWeUyOh50BU6sn0F/fi1AzWQCkjUYCKpTzOXDEdPN3cjPcNetLNg0lo7iXvoS30dslsVrqEeNMMsRwajvMjDsXvyLJxRhnGjl4gJvou7d8tz+CHw/hOkZFPupB/4/r9U6/plOR74BSJFvw2sC3V5dTsNh1Oli9iwLQBlWM8MyG5g6dTd0BwKlJCRwVuM+rbo3EF5jxwEB4eDExrDyrE5qmjtaefkDlVxNVrCtIQ1ZupQSirS+W5BpSpqe4HyVtNV90Q0HvwVOmswpBVxIQhLMISFlelri6nMpPngTijQ1MwcucvguWic3HwH0mYVIDLugE6NCuU/0w3XvGWoZWGFwsla08tBaWXICQ5GOCeEsZUjmmus+DT45BUE5nkFQfTJzbgjbYYKImN06FR0i6YcP1+EcDXQ0rRu8WU2igTcucubeiZWsKysTOB4i24jbjVoCkGkHPWt2qNIdDxFEjy9w4DmvdCnlboZWpZ3hkNscAheKHRQ3bQbhk2Yi9UH/sGhCfz9EuIQV6YXWQWf98uX78LoyzEYVKd0GZP5+yIoux7a2dQvXg9aYOLIYJSTlOPOmPNnPBQQQCAUQSzRga60AvQNDFHRyAiVq1RF9Ro1Uat2LdSsUR3VqlaGkVElVDQ0gL6eFLo6EkjEIggFvN2oRKALPanq/4uRBj+/hxCYWsO68CiWtBNmr+yP+F8GY/TOu6XGNFUkB8PTN07zrg9Zfjh+7iGaj3fGiNyGhkNKcipfvhzIiqx946/zwg8+4apWjIuCX8BzoFFzKDdDkD36G+c8kvPOlYDA0BD6AkJyYmKRobTUK3txKrUX5ky3KzTEWYBySO++wBw2NqVFQimOPPIBIrOEqFG3NsSKF7i2ZjMS+vSGNOIFKtrYwULnJeJi8/Iuu3MDHikStLa0gC4yEf9MWRfa08tDaWXgUpKh3A40p3jFw88nHNnySDyIzIKwRl3UFivw4toabE7og97SCLyoaAM7Cx28jItVvQ8covwC8ByN0DzvAeHvcx54/YSy+A5DkByGrcxhIuYQ8+cKbHnRDxON/OCZpgtzK2U5MxAfrwqGnuUFD79sVG9vh9bFhmjL8M4onuDEyh24l6M6kYsAQqEQlRx6wr7UecMCuCgXHPBqje/nOpUh8IQCcX7+iNFviw5aF0MWh4kjg1FOjIa64FlWDuScAgpOjpxsGbJeZSIjPQ2pyclISkzA8/hnfGMbh2fxz/EiIQnJySlITUtHxstXyJJlIztHDk6hACfnG5OMe1hho+VHK/OHb1A26rWzQf0iXV4hag/YirPrrOD7QyeYdRqGaYvXYdfefdi3L//YjxMesbmfzgkLxcPH7jh1JaqIQHJJPtj+zTc40WgVjix3yLOqIIZx43oQ5dzBqYMBvAzwZMfBfccMjP7pFuRVVC1jBt+4hsiBV3yju2oixq57goatck2QEtFt0xFWFTmEnDmE26l5aYrEa1i61Bvdt23HqAaamiUOkQEhSG/SHrZvsD8ml5qMNAWHCNetWDx+Nm63d8YEkzD43VdAlOCNzc4LcSRU2arz1pOPL54qdJEddQKLJ/yIfUHKeVht6eWh9DKIjRujnigHd04dREBexSPOfQdmjP4Jt+RVIOZSkZzGvzcRrti6eDxm324P5wkmCPO7D4UoAd6bnbHwSCjy9CmDtzJDIMcrPPp7FSaOXYcnDVsh/wlxj4IQkkxQxNzAhmnDMcu/M5zHmSHW4w7iFBKkBezCrHGzcDAkfx76Gm4lSGBuY6nB6i3DO5PzEPeDHyPiScEbmBG0CxvudsKWbd+W6JCjdFxbu+oiYjn+/1O8sWbSTujM24HpxVVaA6/g6xsCoXlH2JYnep5qeJXBYLyHcFFryV7HiAa6pKhSipMZfpE2/TiSetlZklnLltSiRQvV0YocF7nnfib98lyyraNHQoEe1TLtRD379Kau1i2oYbOONGrNVYpVm4jhnp6k8aaGJBTqUY0mLcjUsjd9v9eXkgpN73AxW6m7VECS6tY0dqd3kXMlI6Ogbf2poVRIlZp1JqchQ2jAkAm04cYz0n6JZDrkZER1xlwox7rOAuTh68lRX0gGLYfTFq+k3PtwUcr5PV2q5zibTofnT3jlkO8Cc5KIjKj10FV0PS6/YrSll4cylIF7SifHm5KhUEh6NZpQC1NL6v39XvLNr1x5OK131CehQUsavsUrr865KFrnoEO69Rxp9ulwej11x8XQ1u5SEkiqk/XYneSt9oBy/BdTO4mAxNVsaPLRMFWeZOQxuyWJxZWpzch1dPNZQfn9F7cj3Yp2tKLYfGMepb0z3PPjNKaxPokN6lM7x970xed96X/zD5G/9lf7NWnHh1EVoYSM6jWmupXrkuMSt7K/bzl3aIG5lMwX3FGb4y4ZJo4MxntMxqmRVFXqQGtfL1p/C3KeU4jbBTq2dyftdvmLboc+o8ySGpisBHro7UY3faMoRePtcyghIpSelns1fB6yxAi6c/sORSSVocmS3aDvm1WlgYeSVAnlRU7x90MorojTRybFRsYUX8z/KpYeRiUXd9zQll5WylyGLEp46E1uN30pSkPFy+PvU0jRglBmbCTFaHgOOQkRFKr1AWVRTKAvRaSovQTKcj5KKdZRSYt9XIqjDU9p74w8jaIDbtNNz1B69qqs6pZFN2Y2J6m0CjXrPJp+vfRYozOTVp7vpi8qmtF8n/JII5FA+S+VEclgMN4r5Li70BKdzveF+91lsCzLCNJHChe+Cp3tPPBt4CmMqvFhzgZ9DGX4EMk4/w3Mf22GP27Mg2k5fkPsCTEY7y3JuOf3CM2+7Ic2n7AwKh0qXlx1Q/zno9H/gxWVj6EMHxZZMVGIefkcfx6/j8/mTyyXMCphT4nBeF/J8IB7SGsMG25R5gX2HyXy+zh4To7xP37+hvsnvgd8DGX4oJAjbKcTmtayxb5Wq/BL79IdxdRhw6oMxvtGVgyiEitD3308+l8bgT939H7tYfjJIPfHL0OXIr1HLxh6n0VIx7XYM67Fh9VJ+BjK8CGTnY5kmR4qG75ZjTPLkcF4z5CH7YRT01qw3dcKq375BIWRh3v0Dy78dQn7f/sLaV+sx64PUFQ+hjJ80OgYvrEwKmGWI4Px3pGN9GQZ9CobfsKNKV8HqXLoV6rwAffgP4YyfLowcWQwGAwGowjA/wGzWJlYiszVcAAAAABJRU5ErkJggg==)"
      ]
    },
    {
      "cell_type": "markdown",
      "metadata": {
        "id": "8Gms-fa7-Rda"
      },
      "source": [
        "### The sum is then taken of ***normalized*** $f_{i}$ across all nodes involving feature ***i*** for *each* decision tree, and then the total sum of ***normalized*** $f_{i}$ for all decision trees in the ensemble are averaged together.\n",
        "\n",
        "$~$\n",
        "\n",
        "### It is important to keep in mind that \"decision tree impurity decreased in a given node\" (mentioned above) can be measured by either the gini index function or entropy function for classification problems. Both measures of impurity are similar to each other, and there is often no clear cut answer as to which function is best to use. However, I tuned for which impurity measurement function maximized the F1 score using GridSearchCV, and found that entropy works best for the model which included the *full set* of features from the dataset.\n"
      ]
    },
    {
      "cell_type": "code",
      "execution_count": null,
      "metadata": {
        "colab": {
          "base_uri": "https://localhost:8080/",
          "height": 556
        },
        "id": "kiJPx1AImOZ0",
        "outputId": "10d64788-6f3a-4491-b949-ea96da955822"
      },
      "outputs": [
        {
          "data": {
            "image/png": "[encoded data removed]",
            "text/plain": [
              "<Figure size 720x576 with 1 Axes>"
            ]
          },
          "metadata": {
            "needs_background": "light"
          },
          "output_type": "display_data"
        }
      ],
      "source": [
        "from matplotlib import pyplot as plt\n",
        "\n",
        "dset = pd.DataFrame()\n",
        "dset['attr'] = X.columns\n",
        "dset['importance'] = rf_all.feature_importances_\n",
        "\n",
        "dset = dset.sort_values(by='importance', ascending=True).tail(12)\n",
        "\n",
        "\n",
        "plt.figure(figsize=(10, 8))\n",
        "plt.barh(y=dset['attr'], width=dset['importance'], color='#1976D2')\n",
        "plt.title('MDI - Feature Importances', fontsize=20, fontweight='bold', pad=20)\n",
        "plt.xlabel('Importance', fontsize=14, fontweight='bold', labelpad=20)\n",
        "plt.yticks(fontsize=14)\n",
        "plt.xticks(fontsize=14)\n",
        "plt.show()"
      ]
    },
    {
      "cell_type": "markdown",
      "metadata": {
        "id": "nRMY3tMzDXR9"
      },
      "source": [
        "### As seen further above, each of the top 12 features identified by RFECV to be the model's most predictively strong features are also among the top 12 features identified by MDI; in fact, both feature importance techniques rank the top 12 features in almost the exact same order of importance. There is therefore no need to rerun another Random Forest model with the top 12 features found by MDI to compare its performance with the Random Forest model using the RFECV-based top 12 features, since they would be the exact same model."
      ]
    },
    {
      "cell_type": "markdown",
      "metadata": {
        "id": "oh4j8UnWcZVx"
      },
      "source": [
        "---\n",
        "\n",
        "### **Part 15:** \n",
        "\n",
        "### Lastly, I would like to propose a variable that currently is not in the dataset, which if included, would likely increase my final model's predictive power.\n",
        "\n",
        "---\n",
        "\n",
        "---\n"
      ]
    },
    {
      "cell_type": "markdown",
      "metadata": {
        "id": "UD56MGFxcyNk"
      },
      "source": [
        "### **Answer:** \n",
        "\n",
        "### I believe that adding a variable called ***word_freq_survey***, which is not included in the present data set, would increase my weighted F1 scores. The reason is that many spam emails are intended to get recipients to respond to survey questions, including survey questions about customer satisfaction as well as political surveys and surveys about consumer behavior. The variable word_freq_survey would need to measure the percentage of words in a given email that match the words \"survey\" or \"surveys\".\n",
        "\n"
      ]
    }
  ],
  "metadata": {
    "colab": {
      "collapsed_sections": [],
      "name": "Portfolio_Project-Supervised_Learning_Models_Predicting_Email_Spam-FINAL.ipynb",
      "provenance": []
    },
    "kernelspec": {
      "display_name": "Python 3 (ipykernel)",
      "language": "python",
      "name": "python3"
    },
    "language_info": {
      "codemirror_mode": {
        "name": "ipython",
        "version": 3
      },
      "file_extension": ".py",
      "mimetype": "text/x-python",
      "name": "python",
      "nbconvert_exporter": "python",
      "pygments_lexer": "ipython3",
      "version": "3.8.3"
    }
  },
  "nbformat": 4,
  "nbformat_minor": 0
}