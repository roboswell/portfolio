{
 "cells": [
  {
   "cell_type": "markdown",
   "metadata": {},
   "source": [
    "# **Portfolio Project: Using News Articles on Events in Nigeria in 2019 to Predict Political Violence**\n",
    "\n",
    "---\n",
    "---\n",
    "\n",
    "### In this portfolio project, I explore whether news trends from a variety of news articles and news snippets on events in Nigeria in 2019 can predict several categories of violent political events tracked by the ACLED political violence dataset in 2019, including 1) battles, 2) explosions and remote violence, 3) protests in which authorities responded using excessive force, 4) riots, and 5) violence against civilians. I do so using Ridge, Lasso, Random Forest, and XGBoost Regression, comparing the results of these models in terms of RMSE."
   ]
  },
  {
   "cell_type": "code",
   "execution_count": 1,
   "metadata": {
    "id": "e07eIhbW4c6j"
   },
   "outputs": [],
   "source": [
    "import numpy as np\n",
    "import scipy as sp\n",
    "import pandas as pd\n",
    "from sklearn.metrics import mean_squared_error\n",
    "from math import sqrt\n",
    "from sklearn.model_selection import KFold\n",
    "from sklearn.model_selection import GridSearchCV\n",
    "from sklearn.model_selection import TimeSeriesSplit\n",
    "from sklearn.pipeline import make_pipeline\n",
    "from sklearn.ensemble import RandomForestRegressor\n",
    "import xgboost as xgb\n",
    "from xgboost import XGBRegressor\n",
    "from pandas.core.common import random_state\n",
    "from sklearn.linear_model import Ridge\n",
    "from sklearn.linear_model import Lasso\n",
    "from sklearn.pipeline import Pipeline\n",
    "import pickle\n"
   ]
  },
  {
   "cell_type": "code",
   "execution_count": 2,
   "metadata": {
    "id": "6r7FEkCVFVPG"
   },
   "outputs": [],
   "source": [
    "the_path = \"C:/Users/rsb84/Desktop/RB/portfolio_data/nigeria_news/\"\n",
    "export_path = \"C:/Users/rsb84/Desktop/RB/portfolio_data/nigeria_news/export/\""
   ]
  },
  {
   "cell_type": "code",
   "execution_count": 3,
   "metadata": {
    "id": "eiT1d3GiHdtF"
   },
   "outputs": [],
   "source": [
    "df = pd.read_csv('Nigeria2019_ACLED_Extract.csv')"
   ]
  },
  {
   "cell_type": "code",
   "execution_count": 4,
   "metadata": {
    "id": "Nwv6mSUdHsJJ"
   },
   "outputs": [],
   "source": [
    "event_types = df[['week', 'event_type', 'sub_event_type']].copy()"
   ]
  },
  {
   "cell_type": "code",
   "execution_count": 5,
   "metadata": {
    "colab": {
     "base_uri": "https://localhost:8080/",
     "height": 206
    },
    "id": "hZxXr6gKISQy",
    "outputId": "37224e3f-eaf9-4dd4-c49d-627a281e21bb"
   },
   "outputs": [
    {
     "data": {
      "text/html": [
       "<div>\n",
       "<style scoped>\n",
       "    .dataframe tbody tr th:only-of-type {\n",
       "        vertical-align: middle;\n",
       "    }\n",
       "\n",
       "    .dataframe tbody tr th {\n",
       "        vertical-align: top;\n",
       "    }\n",
       "\n",
       "    .dataframe thead th {\n",
       "        text-align: right;\n",
       "    }\n",
       "</style>\n",
       "<table border=\"1\" class=\"dataframe\">\n",
       "  <thead>\n",
       "    <tr style=\"text-align: right;\">\n",
       "      <th></th>\n",
       "      <th>week</th>\n",
       "      <th>event_type</th>\n",
       "      <th>sub_event_type</th>\n",
       "    </tr>\n",
       "  </thead>\n",
       "  <tbody>\n",
       "    <tr>\n",
       "      <th>0</th>\n",
       "      <td>1</td>\n",
       "      <td>Battles</td>\n",
       "      <td>Armed clash</td>\n",
       "    </tr>\n",
       "    <tr>\n",
       "      <th>1</th>\n",
       "      <td>1</td>\n",
       "      <td>Battles</td>\n",
       "      <td>Armed clash</td>\n",
       "    </tr>\n",
       "    <tr>\n",
       "      <th>2</th>\n",
       "      <td>1</td>\n",
       "      <td>Explosions/Remote violence</td>\n",
       "      <td>Air/drone strike</td>\n",
       "    </tr>\n",
       "    <tr>\n",
       "      <th>3</th>\n",
       "      <td>1</td>\n",
       "      <td>Violence against civilians</td>\n",
       "      <td>Attack</td>\n",
       "    </tr>\n",
       "    <tr>\n",
       "      <th>4</th>\n",
       "      <td>1</td>\n",
       "      <td>Battles</td>\n",
       "      <td>Armed clash</td>\n",
       "    </tr>\n",
       "  </tbody>\n",
       "</table>\n",
       "</div>"
      ],
      "text/plain": [
       "   week                  event_type    sub_event_type\n",
       "0     1                     Battles       Armed clash\n",
       "1     1                     Battles       Armed clash\n",
       "2     1  Explosions/Remote violence  Air/drone strike\n",
       "3     1  Violence against civilians            Attack\n",
       "4     1                     Battles       Armed clash"
      ]
     },
     "execution_count": 5,
     "metadata": {},
     "output_type": "execute_result"
    }
   ],
   "source": [
    "event_types.head()"
   ]
  },
  {
   "cell_type": "markdown",
   "metadata": {},
   "source": [
    "### Note: I used Excel's =WEEKNUM(date) to create an extra column in which the date was converted into the week number of the year. I did so so that I could later group corresponding weekly observations of news text-based features to predict the occurence of event_types in the ACLED dataset.\n"
   ]
  },
  {
   "cell_type": "markdown",
   "metadata": {},
   "source": [
    "### The ACLED dataset contains 6 different event types, each comprising various sub-event types. The \"strategic developments\" event type is the only completely non-violent event type. The event type of \"protests\" contains the sub-event types of 1) \"peaceful protest\", 2) \"protest with intervention\", and 3) \"excessive force against protesters\". \"Protest with intervention\" is defined as \"a peaceful protest during which there is an attempt to disperse or suppress the protest without serious/lethal injuries being reported or the targeting of protesters with lethal weapons.\" (ACLED Codebook, pg. 15). Since I am only interested in predicting violent event types, I will first delete observations in which the event type is \"strategic developments\" or the sub-event types are \"peaceful protest\" or \"protest with intervention\". Please see the ACLED Codebook for information about the dataset: https://acleddata.com/acleddatanew/wp-content/uploads/2021/11/ACLED_Codebook_v1_January-2021.pdf"
   ]
  },
  {
   "cell_type": "code",
   "execution_count": 6,
   "metadata": {
    "id": "1WA6pz2PRqdV"
   },
   "outputs": [],
   "source": [
    "event_types = event_types.loc[~(event_types['event_type'] == 'Strategic developments'),:]\n",
    "event_types = event_types.loc[~(event_types['sub_event_type'] == 'Peaceful protest'),:]\n",
    "event_types = event_types.loc[~(event_types['sub_event_type'] == 'Protest with intervention'),:]"
   ]
  },
  {
   "cell_type": "markdown",
   "metadata": {},
   "source": [
    "### Here, I one hot encode each event type categorical variable (using pandas get_dummies) so that my machine learning models can process them:"
   ]
  },
  {
   "cell_type": "code",
   "execution_count": 7,
   "metadata": {
    "id": "QFE6CIy2GON8"
   },
   "outputs": [],
   "source": [
    "\n",
    "\n",
    "event_types_dummies = pd.get_dummies(event_types[['event_type']])"
   ]
  },
  {
   "cell_type": "code",
   "execution_count": 8,
   "metadata": {
    "colab": {
     "base_uri": "https://localhost:8080/",
     "height": 334
    },
    "id": "EdEINVUyqsqo",
    "outputId": "6ac9149a-7323-42aa-8d19-9dc07243a0c8"
   },
   "outputs": [
    {
     "data": {
      "text/html": [
       "<div>\n",
       "<style scoped>\n",
       "    .dataframe tbody tr th:only-of-type {\n",
       "        vertical-align: middle;\n",
       "    }\n",
       "\n",
       "    .dataframe tbody tr th {\n",
       "        vertical-align: top;\n",
       "    }\n",
       "\n",
       "    .dataframe thead th {\n",
       "        text-align: right;\n",
       "    }\n",
       "</style>\n",
       "<table border=\"1\" class=\"dataframe\">\n",
       "  <thead>\n",
       "    <tr style=\"text-align: right;\">\n",
       "      <th></th>\n",
       "      <th>event_type_Battles</th>\n",
       "      <th>event_type_Explosions/Remote violence</th>\n",
       "      <th>event_type_Protests</th>\n",
       "      <th>event_type_Riots</th>\n",
       "      <th>event_type_Violence against civilians</th>\n",
       "    </tr>\n",
       "  </thead>\n",
       "  <tbody>\n",
       "    <tr>\n",
       "      <th>0</th>\n",
       "      <td>1</td>\n",
       "      <td>0</td>\n",
       "      <td>0</td>\n",
       "      <td>0</td>\n",
       "      <td>0</td>\n",
       "    </tr>\n",
       "    <tr>\n",
       "      <th>1</th>\n",
       "      <td>1</td>\n",
       "      <td>0</td>\n",
       "      <td>0</td>\n",
       "      <td>0</td>\n",
       "      <td>0</td>\n",
       "    </tr>\n",
       "    <tr>\n",
       "      <th>2</th>\n",
       "      <td>0</td>\n",
       "      <td>1</td>\n",
       "      <td>0</td>\n",
       "      <td>0</td>\n",
       "      <td>0</td>\n",
       "    </tr>\n",
       "    <tr>\n",
       "      <th>3</th>\n",
       "      <td>0</td>\n",
       "      <td>0</td>\n",
       "      <td>0</td>\n",
       "      <td>0</td>\n",
       "      <td>1</td>\n",
       "    </tr>\n",
       "    <tr>\n",
       "      <th>4</th>\n",
       "      <td>1</td>\n",
       "      <td>0</td>\n",
       "      <td>0</td>\n",
       "      <td>0</td>\n",
       "      <td>0</td>\n",
       "    </tr>\n",
       "  </tbody>\n",
       "</table>\n",
       "</div>"
      ],
      "text/plain": [
       "   event_type_Battles  event_type_Explosions/Remote violence  \\\n",
       "0                   1                                      0   \n",
       "1                   1                                      0   \n",
       "2                   0                                      1   \n",
       "3                   0                                      0   \n",
       "4                   1                                      0   \n",
       "\n",
       "   event_type_Protests  event_type_Riots  \\\n",
       "0                    0                 0   \n",
       "1                    0                 0   \n",
       "2                    0                 0   \n",
       "3                    0                 0   \n",
       "4                    0                 0   \n",
       "\n",
       "   event_type_Violence against civilians  \n",
       "0                                      0  \n",
       "1                                      0  \n",
       "2                                      0  \n",
       "3                                      1  \n",
       "4                                      0  "
      ]
     },
     "execution_count": 8,
     "metadata": {},
     "output_type": "execute_result"
    }
   ],
   "source": [
    "event_types_dummies.head()"
   ]
  },
  {
   "cell_type": "code",
   "execution_count": 9,
   "metadata": {
    "colab": {
     "base_uri": "https://localhost:8080/"
    },
    "id": "VL9npWnXIoOx",
    "outputId": "e326b672-6cef-4b98-b738-3c620214c281"
   },
   "outputs": [
    {
     "data": {
      "text/plain": [
       "(1492, 5)"
      ]
     },
     "execution_count": 9,
     "metadata": {},
     "output_type": "execute_result"
    }
   ],
   "source": [
    "event_types_dummies.shape"
   ]
  },
  {
   "cell_type": "code",
   "execution_count": 10,
   "metadata": {
    "colab": {
     "base_uri": "https://localhost:8080/"
    },
    "id": "ZLtXbfqWpa8l",
    "outputId": "b1af9f87-1fb7-4d70-b804-c5dc79bdc548"
   },
   "outputs": [
    {
     "data": {
      "text/plain": [
       "(1492, 3)"
      ]
     },
     "execution_count": 10,
     "metadata": {},
     "output_type": "execute_result"
    }
   ],
   "source": [
    "event_types.shape"
   ]
  },
  {
   "cell_type": "markdown",
   "metadata": {},
   "source": [
    "### Here, I combine the week column of my above event_types dataframe with all the one-hot-encoded event_type variables in the event_types_dummies dataframe. Otherwise, if you use pd.get_dummies on event_types as a whole without separating out the week column from the event types, it will one hot encode the weeks as well, which is not what I want to do:"
   ]
  },
  {
   "cell_type": "code",
   "execution_count": 11,
   "metadata": {
    "id": "fktwiqf_q6AG"
   },
   "outputs": [],
   "source": [
    "event_types_combined = pd.concat([event_types[['week']], event_types_dummies], axis=1) "
   ]
  },
  {
   "cell_type": "code",
   "execution_count": 12,
   "metadata": {
    "colab": {
     "base_uri": "https://localhost:8080/"
    },
    "id": "8p3NF7xIsFIA",
    "outputId": "7363c7c9-fee6-4672-9d13-4115740b0f1c"
   },
   "outputs": [
    {
     "data": {
      "text/plain": [
       "(1492, 6)"
      ]
     },
     "execution_count": 12,
     "metadata": {},
     "output_type": "execute_result"
    }
   ],
   "source": [
    "event_types_combined.shape"
   ]
  },
  {
   "cell_type": "code",
   "execution_count": 13,
   "metadata": {},
   "outputs": [
    {
     "data": {
      "text/html": [
       "<div>\n",
       "<style scoped>\n",
       "    .dataframe tbody tr th:only-of-type {\n",
       "        vertical-align: middle;\n",
       "    }\n",
       "\n",
       "    .dataframe tbody tr th {\n",
       "        vertical-align: top;\n",
       "    }\n",
       "\n",
       "    .dataframe thead th {\n",
       "        text-align: right;\n",
       "    }\n",
       "</style>\n",
       "<table border=\"1\" class=\"dataframe\">\n",
       "  <thead>\n",
       "    <tr style=\"text-align: right;\">\n",
       "      <th></th>\n",
       "      <th>week</th>\n",
       "      <th>event_type_Battles</th>\n",
       "      <th>event_type_Explosions/Remote violence</th>\n",
       "      <th>event_type_Protests</th>\n",
       "      <th>event_type_Riots</th>\n",
       "      <th>event_type_Violence against civilians</th>\n",
       "    </tr>\n",
       "  </thead>\n",
       "  <tbody>\n",
       "    <tr>\n",
       "      <th>0</th>\n",
       "      <td>1</td>\n",
       "      <td>1</td>\n",
       "      <td>0</td>\n",
       "      <td>0</td>\n",
       "      <td>0</td>\n",
       "      <td>0</td>\n",
       "    </tr>\n",
       "    <tr>\n",
       "      <th>1</th>\n",
       "      <td>1</td>\n",
       "      <td>1</td>\n",
       "      <td>0</td>\n",
       "      <td>0</td>\n",
       "      <td>0</td>\n",
       "      <td>0</td>\n",
       "    </tr>\n",
       "    <tr>\n",
       "      <th>2</th>\n",
       "      <td>1</td>\n",
       "      <td>0</td>\n",
       "      <td>1</td>\n",
       "      <td>0</td>\n",
       "      <td>0</td>\n",
       "      <td>0</td>\n",
       "    </tr>\n",
       "    <tr>\n",
       "      <th>3</th>\n",
       "      <td>1</td>\n",
       "      <td>0</td>\n",
       "      <td>0</td>\n",
       "      <td>0</td>\n",
       "      <td>0</td>\n",
       "      <td>1</td>\n",
       "    </tr>\n",
       "    <tr>\n",
       "      <th>4</th>\n",
       "      <td>1</td>\n",
       "      <td>1</td>\n",
       "      <td>0</td>\n",
       "      <td>0</td>\n",
       "      <td>0</td>\n",
       "      <td>0</td>\n",
       "    </tr>\n",
       "  </tbody>\n",
       "</table>\n",
       "</div>"
      ],
      "text/plain": [
       "   week  event_type_Battles  event_type_Explosions/Remote violence  \\\n",
       "0     1                   1                                      0   \n",
       "1     1                   1                                      0   \n",
       "2     1                   0                                      1   \n",
       "3     1                   0                                      0   \n",
       "4     1                   1                                      0   \n",
       "\n",
       "   event_type_Protests  event_type_Riots  \\\n",
       "0                    0                 0   \n",
       "1                    0                 0   \n",
       "2                    0                 0   \n",
       "3                    0                 0   \n",
       "4                    0                 0   \n",
       "\n",
       "   event_type_Violence against civilians  \n",
       "0                                      0  \n",
       "1                                      0  \n",
       "2                                      0  \n",
       "3                                      1  \n",
       "4                                      0  "
      ]
     },
     "execution_count": 13,
     "metadata": {},
     "output_type": "execute_result"
    }
   ],
   "source": [
    "event_types_combined.head()"
   ]
  },
  {
   "cell_type": "markdown",
   "metadata": {},
   "source": [
    "### Here, I group all event type variable counts, summed by the corresponding week the events occurred in:"
   ]
  },
  {
   "cell_type": "code",
   "execution_count": 14,
   "metadata": {
    "id": "7x2amitDtJ8_"
   },
   "outputs": [],
   "source": [
    "\n",
    "\n",
    "event_types_by_week = event_types_combined.groupby(['week']).sum()"
   ]
  },
  {
   "cell_type": "code",
   "execution_count": 15,
   "metadata": {
    "colab": {
     "base_uri": "https://localhost:8080/"
    },
    "id": "zO-zG4Fytd3T",
    "outputId": "93889e7e-fab0-4438-96fc-3046b04a5a43"
   },
   "outputs": [
    {
     "data": {
      "text/plain": [
       "(53, 5)"
      ]
     },
     "execution_count": 15,
     "metadata": {},
     "output_type": "execute_result"
    }
   ],
   "source": [
    "event_types_by_week.shape"
   ]
  },
  {
   "cell_type": "code",
   "execution_count": 16,
   "metadata": {
    "colab": {
     "base_uri": "https://localhost:8080/",
     "height": 585
    },
    "id": "NT8ZNKiitigo",
    "outputId": "1a965cc2-4e4c-49c0-f56f-44d7858de309"
   },
   "outputs": [
    {
     "data": {
      "text/html": [
       "<div>\n",
       "<style scoped>\n",
       "    .dataframe tbody tr th:only-of-type {\n",
       "        vertical-align: middle;\n",
       "    }\n",
       "\n",
       "    .dataframe tbody tr th {\n",
       "        vertical-align: top;\n",
       "    }\n",
       "\n",
       "    .dataframe thead th {\n",
       "        text-align: right;\n",
       "    }\n",
       "</style>\n",
       "<table border=\"1\" class=\"dataframe\">\n",
       "  <thead>\n",
       "    <tr style=\"text-align: right;\">\n",
       "      <th></th>\n",
       "      <th>event_type_Battles</th>\n",
       "      <th>event_type_Explosions/Remote violence</th>\n",
       "      <th>event_type_Protests</th>\n",
       "      <th>event_type_Riots</th>\n",
       "      <th>event_type_Violence against civilians</th>\n",
       "    </tr>\n",
       "    <tr>\n",
       "      <th>week</th>\n",
       "      <th></th>\n",
       "      <th></th>\n",
       "      <th></th>\n",
       "      <th></th>\n",
       "      <th></th>\n",
       "    </tr>\n",
       "  </thead>\n",
       "  <tbody>\n",
       "    <tr>\n",
       "      <th>1</th>\n",
       "      <td>18</td>\n",
       "      <td>4</td>\n",
       "      <td>0</td>\n",
       "      <td>1</td>\n",
       "      <td>5</td>\n",
       "    </tr>\n",
       "    <tr>\n",
       "      <th>2</th>\n",
       "      <td>10</td>\n",
       "      <td>0</td>\n",
       "      <td>0</td>\n",
       "      <td>1</td>\n",
       "      <td>6</td>\n",
       "    </tr>\n",
       "    <tr>\n",
       "      <th>3</th>\n",
       "      <td>11</td>\n",
       "      <td>0</td>\n",
       "      <td>0</td>\n",
       "      <td>7</td>\n",
       "      <td>11</td>\n",
       "    </tr>\n",
       "    <tr>\n",
       "      <th>4</th>\n",
       "      <td>17</td>\n",
       "      <td>1</td>\n",
       "      <td>1</td>\n",
       "      <td>6</td>\n",
       "      <td>6</td>\n",
       "    </tr>\n",
       "    <tr>\n",
       "      <th>5</th>\n",
       "      <td>10</td>\n",
       "      <td>3</td>\n",
       "      <td>0</td>\n",
       "      <td>5</td>\n",
       "      <td>13</td>\n",
       "    </tr>\n",
       "  </tbody>\n",
       "</table>\n",
       "</div>"
      ],
      "text/plain": [
       "      event_type_Battles  event_type_Explosions/Remote violence  \\\n",
       "week                                                              \n",
       "1                     18                                      4   \n",
       "2                     10                                      0   \n",
       "3                     11                                      0   \n",
       "4                     17                                      1   \n",
       "5                     10                                      3   \n",
       "\n",
       "      event_type_Protests  event_type_Riots  \\\n",
       "week                                          \n",
       "1                       0                 1   \n",
       "2                       0                 1   \n",
       "3                       0                 7   \n",
       "4                       1                 6   \n",
       "5                       0                 5   \n",
       "\n",
       "      event_type_Violence against civilians  \n",
       "week                                         \n",
       "1                                         5  \n",
       "2                                         6  \n",
       "3                                        11  \n",
       "4                                         6  \n",
       "5                                        13  "
      ]
     },
     "execution_count": 16,
     "metadata": {},
     "output_type": "execute_result"
    }
   ],
   "source": [
    "event_types_by_week.head()"
   ]
  },
  {
   "cell_type": "code",
   "execution_count": 17,
   "metadata": {
    "id": "x7Px2TkG3SOo"
   },
   "outputs": [],
   "source": [
    "event_types_by_week = event_types_by_week.reset_index()"
   ]
  },
  {
   "cell_type": "code",
   "execution_count": 18,
   "metadata": {
    "id": "ESe27Qdc446p"
   },
   "outputs": [],
   "source": [
    "event_types_by_week = pd.DataFrame(event_types_by_week)"
   ]
  },
  {
   "cell_type": "markdown",
   "metadata": {},
   "source": [
    "### Now, I import the news articles and news snippets on events in Nigeria in 2019, and begin to prepare each corpus to be grouped by week of the year"
   ]
  },
  {
   "cell_type": "code",
   "execution_count": 23,
   "metadata": {},
   "outputs": [],
   "source": [
    "\n",
    "newsfeed = pd.read_csv(\"newsfeed.csv\")"
   ]
  },
  {
   "cell_type": "code",
   "execution_count": 24,
   "metadata": {
    "colab": {
     "base_uri": "https://localhost:8080/"
    },
    "id": "xYTmPpSZJQJL",
    "outputId": "51230350-e41a-4297-a169-eef2d28f867f"
   },
   "outputs": [
    {
     "data": {
      "text/plain": [
       "Index(['week', 'text'], dtype='object')"
      ]
     },
     "execution_count": 24,
     "metadata": {},
     "output_type": "execute_result"
    }
   ],
   "source": [
    "newsfeed.columns"
   ]
  },
  {
   "cell_type": "code",
   "execution_count": 25,
   "metadata": {
    "id": "vxNhy_JBjyee"
   },
   "outputs": [],
   "source": [
    "newsfeed = newsfeed.sort_values(by=\"week\")"
   ]
  },
  {
   "cell_type": "code",
   "execution_count": 26,
   "metadata": {},
   "outputs": [
    {
     "data": {
      "text/plain": [
       "(24355, 2)"
      ]
     },
     "execution_count": 26,
     "metadata": {},
     "output_type": "execute_result"
    }
   ],
   "source": [
    "newsfeed.shape"
   ]
  },
  {
   "cell_type": "markdown",
   "metadata": {},
   "source": [
    "### There are 24,355 news articles and news snippets, with the week of the year in which each article or snippet was written stated in the column prior to the news articles/snippets. The lambda function below concatenates all new articles/snippets into a SINGLE row depending on the week of the year in which each news article/snippet was written."
   ]
  },
  {
   "cell_type": "code",
   "execution_count": 27,
   "metadata": {},
   "outputs": [],
   "source": [
    "newsfeed_by_week = newsfeed.groupby('week')['text'].apply(lambda x:x.str.cat(sep=\" \"))"
   ]
  },
  {
   "cell_type": "code",
   "execution_count": 28,
   "metadata": {},
   "outputs": [],
   "source": [
    "newsfeed_by_week = pd.DataFrame(newsfeed_by_week)"
   ]
  },
  {
   "cell_type": "code",
   "execution_count": 29,
   "metadata": {},
   "outputs": [],
   "source": [
    "newsfeed_by_week = newsfeed_by_week.reset_index()"
   ]
  },
  {
   "cell_type": "code",
   "execution_count": 30,
   "metadata": {},
   "outputs": [
    {
     "data": {
      "text/plain": [
       "array([ 2,  3,  4,  5,  6,  7,  8,  9, 10, 11, 12, 13, 14, 15, 16, 17, 18,\n",
       "       19, 20, 21, 22, 23, 24, 25, 26, 27, 28, 29, 30, 31, 32, 33, 34, 35,\n",
       "       36, 37, 38, 39, 40, 41, 42, 43, 44, 45, 46, 47, 48, 49, 50, 51, 52,\n",
       "       53], dtype=int64)"
      ]
     },
     "execution_count": 30,
     "metadata": {},
     "output_type": "execute_result"
    }
   ],
   "source": [
    "newsfeed_by_week['week'].values"
   ]
  },
  {
   "cell_type": "markdown",
   "metadata": {},
   "source": [
    "---\n",
    "---\n",
    "\n",
    "### We see from the code above that there are no news articles or snippets in the dataset which were written during week 1. All other weeks of the year have newsfeeds. However, since week 1 is misssing from the newsfeed_by_week dataframe, we will also need to eliminate the week 1 row from the ACLED event_types_by_week dataframe (below) to make sure the features and the targets have the same number of rows. \n",
    "\n",
    "### We will also need to first difference the newsfeed data because there is likely non-stationarity in the data. First differncing will result in the first row - i.e., week 2 - having missing values and thus also needing to be deleted. Further, after first differencing results in week 2 being deleted, we will need to take lags of each column of the newsfeed dataset and add the lags to the dataset. Since the act of taking a lag results in a missing value for the first row in a given lagged column, this will result in the remaining first column (week 3) also being deleted. \n",
    "\n",
    "### Thus, to make sure our target variables have the same number of rows as our feature variables, I will delete weeks 1, 2, and 3 from the event type data below. This will ultimately leave us with 50 remaining rows (weeks) of data for both the features and the targets:\n",
    "\n",
    "---\n",
    "---"
   ]
  },
  {
   "cell_type": "code",
   "execution_count": 47,
   "metadata": {},
   "outputs": [
    {
     "data": {
      "text/plain": [
       "array([ 1,  2,  3,  4,  5,  6,  7,  8,  9, 10, 11, 12, 13, 14, 15, 16, 17,\n",
       "       18, 19, 20, 21, 22, 23, 24, 25, 26, 27, 28, 29, 30, 31, 32, 33, 34,\n",
       "       35, 36, 37, 38, 39, 40, 41, 42, 43, 44, 45, 46, 47, 48, 49, 50, 51,\n",
       "       52, 53], dtype=int64)"
      ]
     },
     "execution_count": 47,
     "metadata": {},
     "output_type": "execute_result"
    }
   ],
   "source": [
    "event_types_by_week['week'].values"
   ]
  },
  {
   "cell_type": "code",
   "execution_count": 48,
   "metadata": {},
   "outputs": [],
   "source": [
    "event_types_by_week_50_wks = event_types_by_week.iloc[3: , :] #This removes the first 3 rows (weeks 1 - 3) from the dataframe"
   ]
  },
  {
   "cell_type": "code",
   "execution_count": 49,
   "metadata": {},
   "outputs": [
    {
     "data": {
      "text/html": [
       "<div>\n",
       "<style scoped>\n",
       "    .dataframe tbody tr th:only-of-type {\n",
       "        vertical-align: middle;\n",
       "    }\n",
       "\n",
       "    .dataframe tbody tr th {\n",
       "        vertical-align: top;\n",
       "    }\n",
       "\n",
       "    .dataframe thead th {\n",
       "        text-align: right;\n",
       "    }\n",
       "</style>\n",
       "<table border=\"1\" class=\"dataframe\">\n",
       "  <thead>\n",
       "    <tr style=\"text-align: right;\">\n",
       "      <th></th>\n",
       "      <th>week</th>\n",
       "      <th>event_type_Battles</th>\n",
       "      <th>event_type_Explosions/Remote violence</th>\n",
       "      <th>event_type_Protests</th>\n",
       "      <th>event_type_Riots</th>\n",
       "      <th>event_type_Violence against civilians</th>\n",
       "    </tr>\n",
       "  </thead>\n",
       "  <tbody>\n",
       "    <tr>\n",
       "      <th>3</th>\n",
       "      <td>4</td>\n",
       "      <td>17</td>\n",
       "      <td>1</td>\n",
       "      <td>1</td>\n",
       "      <td>6</td>\n",
       "      <td>6</td>\n",
       "    </tr>\n",
       "    <tr>\n",
       "      <th>4</th>\n",
       "      <td>5</td>\n",
       "      <td>10</td>\n",
       "      <td>3</td>\n",
       "      <td>0</td>\n",
       "      <td>5</td>\n",
       "      <td>13</td>\n",
       "    </tr>\n",
       "    <tr>\n",
       "      <th>5</th>\n",
       "      <td>6</td>\n",
       "      <td>15</td>\n",
       "      <td>1</td>\n",
       "      <td>0</td>\n",
       "      <td>10</td>\n",
       "      <td>24</td>\n",
       "    </tr>\n",
       "    <tr>\n",
       "      <th>6</th>\n",
       "      <td>7</td>\n",
       "      <td>13</td>\n",
       "      <td>2</td>\n",
       "      <td>0</td>\n",
       "      <td>4</td>\n",
       "      <td>49</td>\n",
       "    </tr>\n",
       "    <tr>\n",
       "      <th>7</th>\n",
       "      <td>8</td>\n",
       "      <td>21</td>\n",
       "      <td>2</td>\n",
       "      <td>0</td>\n",
       "      <td>4</td>\n",
       "      <td>27</td>\n",
       "    </tr>\n",
       "  </tbody>\n",
       "</table>\n",
       "</div>"
      ],
      "text/plain": [
       "   week  event_type_Battles  event_type_Explosions/Remote violence  \\\n",
       "3     4                  17                                      1   \n",
       "4     5                  10                                      3   \n",
       "5     6                  15                                      1   \n",
       "6     7                  13                                      2   \n",
       "7     8                  21                                      2   \n",
       "\n",
       "   event_type_Protests  event_type_Riots  \\\n",
       "3                    1                 6   \n",
       "4                    0                 5   \n",
       "5                    0                10   \n",
       "6                    0                 4   \n",
       "7                    0                 4   \n",
       "\n",
       "   event_type_Violence against civilians  \n",
       "3                                      6  \n",
       "4                                     13  \n",
       "5                                     24  \n",
       "6                                     49  \n",
       "7                                     27  "
      ]
     },
     "execution_count": 49,
     "metadata": {},
     "output_type": "execute_result"
    }
   ],
   "source": [
    "event_types_by_week_50_wks.head()"
   ]
  },
  {
   "cell_type": "code",
   "execution_count": 50,
   "metadata": {},
   "outputs": [
    {
     "data": {
      "text/plain": [
       "(50, 6)"
      ]
     },
     "execution_count": 50,
     "metadata": {},
     "output_type": "execute_result"
    }
   ],
   "source": [
    "event_types_by_week_50_wks.shape"
   ]
  },
  {
   "cell_type": "code",
   "execution_count": 51,
   "metadata": {
    "colab": {
     "base_uri": "https://localhost:8080/"
    },
    "id": "GMJant2GMNjA",
    "outputId": "a737c06f-ec56-4dd0-90f7-0db8a355e62b"
   },
   "outputs": [
    {
     "name": "stderr",
     "output_type": "stream",
     "text": [
      "[nltk_data] Downloading package stopwords to\n",
      "[nltk_data]     C:\\Users\\rsb84\\AppData\\Roaming\\nltk_data...\n",
      "[nltk_data]   Package stopwords is already up-to-date!\n"
     ]
    },
    {
     "data": {
      "text/plain": [
       "True"
      ]
     },
     "execution_count": 51,
     "metadata": {},
     "output_type": "execute_result"
    }
   ],
   "source": [
    "import nltk\n",
    "nltk.download('stopwords')"
   ]
  },
  {
   "cell_type": "markdown",
   "metadata": {},
   "source": [
    "### Here, I create some functions in python that ensure that all text in the dataframe is lowercase, and that stopwords are removed:"
   ]
  },
  {
   "cell_type": "code",
   "execution_count": 52,
   "metadata": {},
   "outputs": [],
   "source": [
    "def rem_sw(var):\n",
    "    from nltk.corpus import stopwords\n",
    "    sw = stopwords.words('english')\n",
    "    sw = set(sw)\n",
    "    new_sw = {\"said\", \"says\", \"saying\", \"say\", \"us\", \"since\", \"like\", \"likes\", \"people\"}\n",
    "    sw = sw.union(new_sw)\n",
    "    tmp = var.split() #tokenizinng words here\n",
    "    fin_var = [word for word in tmp if word not in sw] #removing stopwords\n",
    "    fin_var = ' '.join(fin_var) #rejoining tokenized words (without stopwords)\n",
    "    return fin_var"
   ]
  },
  {
   "cell_type": "code",
   "execution_count": 53,
   "metadata": {
    "id": "NMJ2owpRT2KS"
   },
   "outputs": [],
   "source": [
    "newsfeed_by_week['text_lower'] = newsfeed_by_week.text.apply(lambda x: x.lower())\n",
    "newsfeed_by_week['text_sw'] = newsfeed_by_week.text_lower.apply(rem_sw)"
   ]
  },
  {
   "cell_type": "code",
   "execution_count": 54,
   "metadata": {
    "id": "3EfRia_oE9EY"
   },
   "outputs": [],
   "source": [
    "the_column1 = 'text_sw'"
   ]
  },
  {
   "cell_type": "markdown",
   "metadata": {},
   "source": [
    "### A brief note on Term Frequency-Inverse Document Frequency (TF-IDF) Matrices:\n",
    "\n",
    "### TF-IDF is a statistical measure of how relevant a particular word is for a given corpus in relation to all corpuses in a dataset. It's value for a given word in a document increases the more frequently the word occurs in the document, but is penalized by the number of documents overall which contain the word. The underpinning concept is that words which occur in many documents are likley to be less important/relevant than words that occur frequently in fewer documents. \n",
    "\n",
    "### Specifically, the term frequency (or the number of times the word under consideration occurs in a given document) is divided by the inverse-document frequency - a measure of the rarity of the word across the entire set of corpuses (log(1 + total number of documents/1 + document frequency of the term) + 1).\n",
    "\n",
    "### The overall TF-IDF score ranges between 0 and 1, with higher scores implying greater word relevance.\n",
    "---\n",
    "---"
   ]
  },
  {
   "cell_type": "markdown",
   "metadata": {},
   "source": [
    "### Below, I create a function that transforms the text using TF-IDF into numerical features that can be fit to machine learning models:"
   ]
  },
  {
   "cell_type": "code",
   "execution_count": 55,
   "metadata": {},
   "outputs": [],
   "source": [
    "def my_tf_idf_sw(var, path_in):\n",
    "    from sklearn.feature_extraction.text import TfidfVectorizer\n",
    "    import pandas as pd\n",
    "    import pickle\n",
    "    my_tf_idf = TfidfVectorizer()\n",
    "    my_tf_idf_vec = pd.DataFrame(my_tf_idf.fit_transform(var).toarray())\n",
    "    my_tf_idf_vec.columns = my_tf_idf.get_feature_names_out()\n",
    "    pickle.dump(my_tf_idf, open(path_in + \"tf_idf_sw.pkl\", \"wb\"))\n",
    "    pickle.dump(my_tf_idf_vec, open(path_in + \"tf_idf_df_sw.pkl\", \"wb\" ) )\n",
    "    return my_tf_idf_vec"
   ]
  },
  {
   "cell_type": "code",
   "execution_count": 56,
   "metadata": {
    "id": "Dn4qYSljUQnt"
   },
   "outputs": [],
   "source": [
    "news_tf_idf_sw = my_tf_idf_sw(newsfeed_by_week[the_column1], export_path)"
   ]
  },
  {
   "cell_type": "markdown",
   "metadata": {},
   "source": [
    "### **The problems of non-stationarity and serial autocorrelation:**\n",
    "\n",
    "### When using time series data, it is important to be sure that no regularly occurring and predictable pattern in the long-term will be present, a concept known as non-stationarity, as such time series data will result predictions which are a result of regularly recurring trends rather than underlying processes. Stationary time series data has a constant mean and variance in the series. \"Trend Stationarity\", whereby the data may not have a constant variance but does at least have a constant variance along the trend, is also acceptable. Taking the first difference of data is often used to resolve the problem of non-stationarity, which is what I do in this project.\n",
    "\n",
    "### Machine learning algorithms make the assumption that the data is independent and identically distributed (i.i.d.). However, with time series data each observation is at least somewhat dependent on the prior observation because of each observation's relationship with time, called serial autocorrelation. In other words, if we reordered time period-based observations we would not expect to get equivalent results in our predictions. The residuals of time series observations are correlated; they are not independent of each other. To correct for autocorrelation of the residuals it is often necessary to include lags and sometimes other variables that account for time period. Differencing the data is also often helpful. In this project, I use first differencing and lags as a means of helping to address the problem. \n",
    "\n",
    "### With nearly 37,000 features I assume that non-stationarity and serial autocorrelation exist in my TF-IDF transfromed dataset."
   ]
  },
  {
   "cell_type": "markdown",
   "metadata": {},
   "source": [
    "### Below, I first difference all of my TF-IDF transformed features: "
   ]
  },
  {
   "cell_type": "code",
   "execution_count": 57,
   "metadata": {},
   "outputs": [],
   "source": [
    "news_tf_idf_sw_fd = news_tf_idf_sw.diff(periods=1)"
   ]
  },
  {
   "cell_type": "code",
   "execution_count": 58,
   "metadata": {},
   "outputs": [
    {
     "data": {
      "text/plain": [
       "(52, 36829)"
      ]
     },
     "execution_count": 58,
     "metadata": {},
     "output_type": "execute_result"
    }
   ],
   "source": [
    "news_tf_idf_sw_fd.shape"
   ]
  },
  {
   "cell_type": "code",
   "execution_count": 59,
   "metadata": {},
   "outputs": [],
   "source": [
    "news_tf_idf_sw_fd = news_tf_idf_sw_fd.dropna(axis=0)"
   ]
  },
  {
   "cell_type": "code",
   "execution_count": 60,
   "metadata": {},
   "outputs": [
    {
     "data": {
      "text/plain": [
       "(51, 36829)"
      ]
     },
     "execution_count": 60,
     "metadata": {},
     "output_type": "execute_result"
    }
   ],
   "source": [
    "news_tf_idf_sw_fd.shape #Now week 2 has been deleted by dropping the first row of missing values left by first differencing"
   ]
  },
  {
   "cell_type": "code",
   "execution_count": 61,
   "metadata": {},
   "outputs": [],
   "source": [
    "'''\n",
    "pickle.dump(news_tf_idf_sw_fd, open(export_path + \"news_tf_idf_sw_fd.pkl\", \"wb\"))"
   ]
  },
  {
   "cell_type": "code",
   "execution_count": null,
   "metadata": {},
   "outputs": [],
   "source": [
    "'''\n",
    "news_tf_idf_sw_fd = pickle.load(open(export_path + \"news_tf_idf_sw_fd.pkl\", \"rb\"))"
   ]
  },
  {
   "cell_type": "code",
   "execution_count": 62,
   "metadata": {
    "id": "6AcJEbEyUWsb"
   },
   "outputs": [],
   "source": [
    "#Here, I create the target variables I will use my newsfeed datasets to attempt to predict using supervised machine learning models\n",
    "\n",
    "y_battles = event_types_by_week_50_wks[['event_type_Battles']].copy()\n",
    "y_explosions = event_types_by_week_50_wks[['event_type_Explosions/Remote violence']].copy()\n",
    "y_protests = event_types_by_week_50_wks[['event_type_Protests']].copy()\n",
    "y_riots = event_types_by_week_50_wks[['event_type_Riots']].copy()\n",
    "y_vac = event_types_by_week_50_wks[['event_type_Violence against civilians']].copy()"
   ]
  },
  {
   "cell_type": "code",
   "execution_count": 63,
   "metadata": {},
   "outputs": [
    {
     "name": "stdout",
     "output_type": "stream",
     "text": [
      "(50, 1)\n",
      "(50, 1)\n",
      "(50, 1)\n",
      "(50, 1)\n",
      "(50, 1)\n"
     ]
    }
   ],
   "source": [
    "print(y_battles.shape)\n",
    "print(y_explosions.shape)\n",
    "print(y_protests.shape)\n",
    "print(y_riots.shape)\n",
    "print(y_vac.shape)"
   ]
  },
  {
   "cell_type": "code",
   "execution_count": 65,
   "metadata": {
    "id": "NdVsV6oZUiXY"
   },
   "outputs": [],
   "source": [
    "'''\n",
    "pickle.dump(y_battles, open(export_path + \"y_battles_50_wks.pkl\", \"wb\"))\n",
    "pickle.dump(y_explosions, open(export_path + \"y_explosions_50_wks.pkl\", \"wb\"))\n",
    "pickle.dump(y_protests, open(export_path + \"y_protests_50_wks.pkl\", \"wb\"))\n",
    "pickle.dump(y_riots, open(export_path + \"y_riots_50_wks.pkl\", \"wb\"))\n",
    "pickle.dump(y_vac, open(export_path + \"y_vac_50_wks.pkl\", \"wb\"))\n"
   ]
  },
  {
   "cell_type": "code",
   "execution_count": null,
   "metadata": {
    "colab": {
     "base_uri": "https://localhost:8080/",
     "height": 262
    },
    "id": "DtSaeMVkUnwt",
    "outputId": "dfbfc01e-fe9c-48c1-d238-5c6505868ceb"
   },
   "outputs": [],
   "source": [
    "'''\n",
    "y_battle = pickle.load(open(export_path + \"y_battles_50_wks.pkl\", \"rb\"))\n",
    "y_explosions = pickle.load(open(export_path + \"y_explosions_50_wks.pkl\", \"rb\"))\n",
    "y_protests = pickle.load(open(export_path + \"y_protests_50_wks.pkl\", \"rb\"))\n",
    "y_riots = pickle.load(open(export_path + \"y_riots_50_wks.pkl\", \"rb\"))\n",
    "y_vac = pickle.load(open(export_path + \"y_vac_50_wks.pkl\", \"rb\"))\n"
   ]
  },
  {
   "cell_type": "markdown",
   "metadata": {},
   "source": [
    "### Investigating non-stationarity in the dependent variable:\n",
    "### With the Augmented Dickey-Fuller Test, we check whether the null hypothesis of presence of non-stationarity can be rejected for particular variables. We see that the p-value in most cases is less than 0.05; in these instances we can safely reject the null hypothesis. We do not need to first difference the target. We can see that only with y_protests (number of protests in a given week in which police respond with excessive force) and y_vac (events involving violence against civilians) are we unable to reject the null hypothesis, resulting in the assumption of non-stationarity being present.\n"
   ]
  },
  {
   "cell_type": "code",
   "execution_count": 66,
   "metadata": {},
   "outputs": [
    {
     "name": "stdout",
     "output_type": "stream",
     "text": [
      "ADF = -8.038047205293735\n",
      "p-value = 1.87939942870067e-12\n"
     ]
    }
   ],
   "source": [
    "\n",
    "from statsmodels.tsa.stattools import adfuller\n",
    "adf_test = adfuller(y_battles)\n",
    "print(\"ADF = \" + str(adf_test[0]))\n",
    "print(\"p-value = \" +str(adf_test[1]))"
   ]
  },
  {
   "cell_type": "code",
   "execution_count": 67,
   "metadata": {},
   "outputs": [
    {
     "name": "stdout",
     "output_type": "stream",
     "text": [
      "ADF = -7.011085577942736\n",
      "p-value = 6.919047048561405e-10\n"
     ]
    }
   ],
   "source": [
    "adf_test = adfuller(y_explosions)\n",
    "print(\"ADF = \" + str(adf_test[0]))\n",
    "print(\"p-value = \" +str(adf_test[1]))"
   ]
  },
  {
   "cell_type": "code",
   "execution_count": 68,
   "metadata": {},
   "outputs": [
    {
     "name": "stdout",
     "output_type": "stream",
     "text": [
      "ADF = -2.166443849384345\n",
      "p-value = 0.21864897167202985\n"
     ]
    }
   ],
   "source": [
    "adf_test = adfuller(y_protests)\n",
    "print(\"ADF = \" + str(adf_test[0]))\n",
    "print(\"p-value = \" +str(adf_test[1])) #We cannot reject the null hypothesis of a unit root and non-statonarity since the p-value > 0.05."
   ]
  },
  {
   "cell_type": "code",
   "execution_count": 69,
   "metadata": {},
   "outputs": [
    {
     "name": "stdout",
     "output_type": "stream",
     "text": [
      "ADF = -5.660105937292464\n",
      "p-value = 9.422640208691123e-07\n"
     ]
    }
   ],
   "source": [
    "adf_test = adfuller(y_riots)\n",
    "print(\"ADF = \" + str(adf_test[0]))\n",
    "print(\"p-value = \" +str(adf_test[1]))"
   ]
  },
  {
   "cell_type": "code",
   "execution_count": 70,
   "metadata": {},
   "outputs": [
    {
     "name": "stdout",
     "output_type": "stream",
     "text": [
      "ADF = -1.6687567391397395\n",
      "p-value = 0.4472775450272684\n"
     ]
    }
   ],
   "source": [
    "adf_test = adfuller(y_vac)\n",
    "print(\"ADF = \" + str(adf_test[0]))\n",
    "print(\"p-value = \" +str(adf_test[1])) #We cannot reject the null hypothesis of a unit root and non-statonarity since the p-value > 0.05."
   ]
  },
  {
   "cell_type": "code",
   "execution_count": 71,
   "metadata": {},
   "outputs": [],
   "source": [
    "#We need to first difference y_protests and y_vac to make them stationary, but since I do not want to lose \n",
    "#the first row of these targets which will happen as a result of first differencing, I will add back an extra row (week 2) \n",
    "#before first differencing. This will result in 50 weeks worth of data like the other targets have. \n",
    "\n",
    "y_protests_orig = event_types_by_week[['event_type_Protests']].copy()\n",
    "y_vac_orig = event_types_by_week[['event_type_Violence against civilians']].copy()"
   ]
  },
  {
   "cell_type": "code",
   "execution_count": 74,
   "metadata": {},
   "outputs": [
    {
     "name": "stdout",
     "output_type": "stream",
     "text": [
      "(53, 1)\n",
      "(53, 1)\n"
     ]
    }
   ],
   "source": [
    "print(y_protests_orig.shape)\n",
    "print(y_vac_orig.shape)"
   ]
  },
  {
   "cell_type": "code",
   "execution_count": 75,
   "metadata": {},
   "outputs": [],
   "source": [
    "y_protests = y_protests_orig.iloc[2: , :]\n",
    "y_vac = y_vac_orig.iloc[2: , :]"
   ]
  },
  {
   "cell_type": "code",
   "execution_count": 76,
   "metadata": {},
   "outputs": [],
   "source": [
    "y_protests = y_protests.diff(periods=1).dropna(axis=0)\n",
    "y_vac = y_vac.diff(periods=1).dropna(axis=0)"
   ]
  },
  {
   "cell_type": "markdown",
   "metadata": {},
   "source": [
    "### We must keep in mind that the interpretation of the machine learning models in which this target is used will now change. We will now be trying to predict ***changes*** in the number of protests in which authorities used excessive force and to predict ***changes*** in the number of events involving violence against civilians based on weekly ***changes*** in the values of the features used in the model.\n",
    "\n",
    "### For the other target variables (battles, explosions or remote violence, and riots), we will be trying to predict the ***overall number*** of such events based on weekly ***changes*** in the values of the features used in the model."
   ]
  },
  {
   "cell_type": "code",
   "execution_count": 77,
   "metadata": {},
   "outputs": [
    {
     "name": "stdout",
     "output_type": "stream",
     "text": [
      "(50, 1)\n",
      "(50, 1)\n"
     ]
    }
   ],
   "source": [
    "print(y_protests.shape)\n",
    "print(y_vac.shape)"
   ]
  },
  {
   "cell_type": "code",
   "execution_count": 78,
   "metadata": {},
   "outputs": [],
   "source": [
    "'''\n",
    "pickle.dump(y_protests, open(export_path + \"y_protests_diff.pkl\", \"wb\"))\n",
    "pickle.dump(y_vac, open(export_path + \"y_vac_diff.pkl\", \"wb\"))"
   ]
  },
  {
   "cell_type": "code",
   "execution_count": null,
   "metadata": {},
   "outputs": [],
   "source": [
    "'''\n",
    "y_protests = pickle.load(open(export_path + \"y_protests_diff.pkl\", \"rb\"))\n",
    "y_vac = pickle.load(open(export_path + \"y_vac_diff.pkl\", \"rb\"))"
   ]
  },
  {
   "cell_type": "markdown",
   "metadata": {},
   "source": [
    "---\n",
    "\n",
    "### Below, I take one lag of each feature in the TF-IDF transformed dataset that has already been first differenced. I normally would want to account for many weeklong lags in the data since it is quite possible that sentiment in the news which occurred weeks or possibly even months prior to an event in a current week are predictive of that event occurring. However, I only have one year’s worth of data; since each time you take a lag you are in effect deleting one row of data, and since each row of data can be crucial in helping machine learning models determine predictive strength (particularly when starting with only 52 observations), in this portfolio example I default to using just one lag. It is noteworthy that AR(1) is the most common type of serial autocorrelation in the social sciences, even though the assumption of AR(1) - that there is only a strong correlation between adjacent time periods - may not be completely realistic in the case of my data. However, the fact that I have first differenced my data should on its own correct for much of the autocorrelation (as well as non-stationarity) likely to exist.\n",
    "\n",
    "### Lag 1 results in the first row of a given dataset needing to be deleted because it creates a missing value (i.e., NA) in the first row for each lagged column. And even if there is only one missing value in a row, the whole row must be deleted, unless you can identify the value prior to the first row for each column of missing data that should exist, which we cannot since I only have news articles and news snippets from the year 2019 to work with. Remember that normally the first row that would have been deleted would have been week 1 of 2019, but since week 1’s data was already missing to begin with, week 2 became my first row (which was deleted as a result of first differencing). Thus, week 3 is in fact the row that will be deleted after creating 1 lag of each feature.\n",
    "\n",
    "---\n"
   ]
  },
  {
   "cell_type": "code",
   "execution_count": 79,
   "metadata": {},
   "outputs": [],
   "source": [
    "#The following code for building a function that creates lagged features and includes them in the same dataset \n",
    "#as the non-lagged features originates from the following website:\n",
    "#https://stackoverflow.com/questions/20410312/how-to-create-a-lagged-data-structure-using-pandas-dataframe\n",
    "\n",
    "def buildLaggedFeatures(s,lag=1,dropna=True):\n",
    "\n",
    "    if type(s) is pd.DataFrame:\n",
    "        new_dict={}\n",
    "        for col_name in s:\n",
    "            new_dict[col_name]=s[col_name]\n",
    "            # create lagged Series\n",
    "            for l in range(1,lag+1):\n",
    "                new_dict['%s_lag%d' %(col_name,l)]=s[col_name].shift(l)\n",
    "        res=pd.DataFrame(new_dict,index=s.index)\n",
    "\n",
    "    elif type(s) is pd.Series:\n",
    "        the_range=range(lag+1)\n",
    "        res=pd.concat([s.shift(i) for i in the_range],axis=1)\n",
    "        res.columns=['lag_%d' %i for i in the_range]\n",
    "    else:\n",
    "        print('Only works for DataFrame or Series')\n",
    "        return None\n",
    "    if dropna:\n",
    "        return res.dropna()\n",
    "    else:\n",
    "        return res"
   ]
  },
  {
   "cell_type": "code",
   "execution_count": 80,
   "metadata": {},
   "outputs": [],
   "source": [
    "news_df = buildLaggedFeatures(news_tf_idf_sw_fd, lag=1, dropna=True)\n",
    "#So now weeks 1, 2 and 3 are no longer in the dataset."
   ]
  },
  {
   "cell_type": "code",
   "execution_count": 81,
   "metadata": {},
   "outputs": [
    {
     "data": {
      "text/plain": [
       "(50, 73658)"
      ]
     },
     "execution_count": 81,
     "metadata": {},
     "output_type": "execute_result"
    }
   ],
   "source": [
    "news_df.shape"
   ]
  },
  {
   "cell_type": "markdown",
   "metadata": {},
   "source": [
    "### Below, I divide the features into an overall training set composed of the first 80% of the observations in time order and reserve the remaining 20% for the test set. This approach differs from Sklearn's train_test_split in that it does not randomly shuffle the observations into train or test set, which would not preserve the time order of the data."
   ]
  },
  {
   "cell_type": "code",
   "execution_count": 82,
   "metadata": {},
   "outputs": [],
   "source": [
    "X_train, X_test= np.split(news_df, [int(.80 *len(news_df))])"
   ]
  },
  {
   "cell_type": "code",
   "execution_count": 83,
   "metadata": {},
   "outputs": [
    {
     "data": {
      "text/plain": [
       "(40, 73658)"
      ]
     },
     "execution_count": 83,
     "metadata": {},
     "output_type": "execute_result"
    }
   ],
   "source": [
    "X_train.shape"
   ]
  },
  {
   "cell_type": "code",
   "execution_count": 84,
   "metadata": {},
   "outputs": [
    {
     "data": {
      "text/plain": [
       "(10, 73658)"
      ]
     },
     "execution_count": 84,
     "metadata": {},
     "output_type": "execute_result"
    }
   ],
   "source": [
    "X_test.shape"
   ]
  },
  {
   "cell_type": "code",
   "execution_count": 85,
   "metadata": {},
   "outputs": [],
   "source": [
    "y_battles_train, y_battles_test= np.split(y_battles, [int(.80 *len(y_battles))])"
   ]
  },
  {
   "cell_type": "code",
   "execution_count": 86,
   "metadata": {},
   "outputs": [],
   "source": [
    "y_explosions_train, y_explosions_test= np.split(y_explosions, [int(.80 *len(y_explosions))])"
   ]
  },
  {
   "cell_type": "code",
   "execution_count": 87,
   "metadata": {},
   "outputs": [],
   "source": [
    "y_protests_train, y_protests_test= np.split(y_protests, [int(.80 *len(y_protests))])"
   ]
  },
  {
   "cell_type": "code",
   "execution_count": 88,
   "metadata": {},
   "outputs": [],
   "source": [
    "y_riots_train, y_riots_test= np.split(y_riots, [int(.80 *len(y_riots))])"
   ]
  },
  {
   "cell_type": "code",
   "execution_count": 89,
   "metadata": {},
   "outputs": [],
   "source": [
    "y_vac_train, y_vac_test= np.split(y_vac, [int(.80 *len(y_vac))])"
   ]
  },
  {
   "cell_type": "markdown",
   "metadata": {},
   "source": [
    "---\n",
    "---\n",
    "\n",
    "### Below, I fit the Nigeria newsfeed-based features and the ACLED event targets to Ridge Regression, Lasso Regression, Random Forest Regression, and Extreme Gradient Boosting (XGBoost) Regression models, in order to see which algorithm performs best for each target variable. I do so by comparing the Root Mean Squared Error (RMSE) of each model.\n",
    "\n",
    "---\n",
    "\n",
    "### I first begin by hypertuning for the optimal parameters that will result in the best RMSE for each model using GridSearchCV. GridSearchCV normally uses K-fold cross validation to test a variety of user specified parameters to compare and determine which parameters result in optimal scoring metrics. However, I do so using Scikit-Learn's TimeSeriesSplit, which is appropriate in the context of time series data because (unlike K-fold cross validation) it preserves the time order of the data throughout the cross validation process. It does so using a \"forward chaining\" method depicted in the second diagram below. \n",
    "\n",
    "### With standard K-fold cross validation (shown in the first diagram), the original training set is divided into one fold for the *cross validation test set* and the remaining K-1 folds for the *cross validation-based train set*. Which fold next becomes the cross validation test set alternates systemmatically until all folds have had the chance. \n",
    "\n",
    "### TimeSeriesSplit instead starts with a smaller cross validation training set with the cross validation test set directly following it in time order. Then at each consecutive iteration of training, the observations previously in the cross validation test set become part of the new cross validation training set, and the new cross validation test set comprises observations immediately following the last observations in the new cross validation training set in time order. This iterative training process continues until the last observations in the dataset in time order have had the chance to be a part of the cross validation test set. \n",
    "\n",
    "### The number of user defined folds in K-fold cross validation and user defined splits in TimeSeriesSplit constitutes the number of test set sections created from the original training dataset and consequently the number of times training occurs over which scoring metrics are avergaged together to create an overall score. I use n_splits=5 because the fact that my dataset has thouands of features means that having a higher number of splits (e.g., 10) would be quite computationally expensive, though in theory it could lead to improved predictive performance.\n",
    "\n",
    "---\n",
    "---"
   ]
  },
  {
   "attachments": {
    "image-2.png": {
     "image/png": "[encoded data removed]"
    },
    "image.png": {
     "image/png": "[encoded data removed]"
    }
   },
   "cell_type": "markdown",
   "metadata": {},
   "source": [
    "\n",
    "![image.png](attachment:image.png)\n",
    "\n",
    "---\n",
    "---\n",
    "\n",
    "![image-2.png](attachment:image-2.png)\n",
    "\n",
    "#### Diagrams are from: https://www.kaggle.com/code/tomwarrens/timeseriessplit-how-to-use-it/notebook\n",
    "\n",
    "---\n",
    "---\n"
   ]
  },
  {
   "cell_type": "markdown",
   "metadata": {},
   "source": [
    "### Target: y_battles\n",
    "### Algorithm: Ridge"
   ]
  },
  {
   "cell_type": "code",
   "execution_count": 90,
   "metadata": {
    "scrolled": false
   },
   "outputs": [
    {
     "name": "stdout",
     "output_type": "stream",
     "text": [
      "[('ridge', Ridge(max_iter=100000, random_state=42))]\n"
     ]
    }
   ],
   "source": [
    "ridge_pipe = make_pipeline(Ridge(random_state=42, max_iter=100000))\n",
    "print(ridge_pipe.steps)"
   ]
  },
  {
   "cell_type": "code",
   "execution_count": 186,
   "metadata": {},
   "outputs": [
    {
     "name": "stdout",
     "output_type": "stream",
     "text": [
      "{'ridge__alpha': 2.5826187606826747}\n",
      "Mean RMSE when Optimal Model is Fit to Cross Validation Data: -4.8603\n"
     ]
    }
   ],
   "source": [
    "tscv = TimeSeriesSplit(n_splits=5)\n",
    "\n",
    "param_grid = {'ridge__alpha': np.logspace(-3, 0.5, 200)}\n",
    "grid = GridSearchCV(ridge_pipe, param_grid, cv=tscv, scoring='neg_root_mean_squared_error', n_jobs=-1)\n",
    "grid.fit(X_train, y_battles_train)\n",
    "print(grid.best_params_)\n",
    "print('Mean RMSE when Optimal Model is Fit to Cross Validation Data: {:.4f}'.format(grid.best_score_))\n"
   ]
  },
  {
   "cell_type": "code",
   "execution_count": 187,
   "metadata": {},
   "outputs": [
    {
     "name": "stdout",
     "output_type": "stream",
     "text": [
      "-5.587540975032525\n"
     ]
    }
   ],
   "source": [
    "print(grid.score(X_test, y_battles_test))\n",
    "\n"
   ]
  },
  {
   "cell_type": "code",
   "execution_count": 190,
   "metadata": {},
   "outputs": [
    {
     "name": "stdout",
     "output_type": "stream",
     "text": [
      "RMSE when Optimal Model is Fit to the Test Set: 5.5875\n"
     ]
    }
   ],
   "source": [
    "ridge_best = Ridge(alpha=2.5826187606826747, random_state=42, max_iter=100000).fit(X_train, y_battles_train)\n",
    "y_battles_preds_ridge = ridge_best.predict(X_test)\n",
    "print('RMSE when Optimal Model is Fit to the Test Set: {:.4f}'.format(sqrt(mean_squared_error(y_battles_test, y_battles_preds_ridge))))\n"
   ]
  },
  {
   "cell_type": "code",
   "execution_count": 191,
   "metadata": {},
   "outputs": [],
   "source": [
    "'''\n",
    "pickle.dump(ridge_best, open(export_path + \"ridge_best_y_battles.pkl\", \"wb\"))"
   ]
  },
  {
   "cell_type": "code",
   "execution_count": 313,
   "metadata": {},
   "outputs": [],
   "source": [
    "'''\n",
    "ridge_best = pickle.load(open(export_path + \"ridge_best_y_battles.pkl\", \"rb\"))"
   ]
  },
  {
   "cell_type": "markdown",
   "metadata": {},
   "source": [
    "### Target: y_battles\n",
    "### Algorithm: Lasso"
   ]
  },
  {
   "cell_type": "code",
   "execution_count": 192,
   "metadata": {
    "scrolled": false
   },
   "outputs": [
    {
     "name": "stdout",
     "output_type": "stream",
     "text": [
      "[('lasso', Lasso(max_iter=100000, random_state=42))]\n"
     ]
    }
   ],
   "source": [
    "lasso_pipe = make_pipeline(Lasso(random_state=42, max_iter=100000))\n",
    "print(lasso_pipe.steps)"
   ]
  },
  {
   "cell_type": "code",
   "execution_count": 193,
   "metadata": {},
   "outputs": [
    {
     "name": "stdout",
     "output_type": "stream",
     "text": [
      "{'lasso__alpha': 0.3696912707195028}\n",
      "Mean RMSE when Optimal Model is Fit to Cross Validation Data: -4.8892\n"
     ]
    }
   ],
   "source": [
    "tscv = TimeSeriesSplit(n_splits=5)\n",
    "\n",
    "param_grid = {'lasso__alpha': np.logspace(-3, 0.5, 200)}\n",
    "grid = GridSearchCV(lasso_pipe, param_grid, cv=tscv, scoring='neg_root_mean_squared_error', n_jobs=-1)\n",
    "grid.fit(X_train, y_battles_train)\n",
    "print(grid.best_params_)\n",
    "print('Mean RMSE when Optimal Model is Fit to Cross Validation Data: {:.4f}'.format(grid.best_score_))"
   ]
  },
  {
   "cell_type": "code",
   "execution_count": 194,
   "metadata": {},
   "outputs": [
    {
     "name": "stdout",
     "output_type": "stream",
     "text": [
      "RMSE when Optimal Model is Fit to the Test Set: 5.6268\n"
     ]
    }
   ],
   "source": [
    "lasso_best = Lasso(alpha=0.3696912707195028, random_state=42, max_iter=100000).fit(X_train, y_battles_train)\n",
    "y_battles_preds_lasso = lasso_best.predict(X_test)\n",
    "print('RMSE when Optimal Model is Fit to the Test Set: {:.4f}'.format(sqrt(mean_squared_error(y_battles_test, y_battles_preds_lasso))))\n"
   ]
  },
  {
   "cell_type": "code",
   "execution_count": 71,
   "metadata": {},
   "outputs": [],
   "source": [
    "'''\n",
    "pickle.dump(lasso_best, open(export_path + \"lasso_best_y_battles.pkl\", \"wb\"))"
   ]
  },
  {
   "cell_type": "code",
   "execution_count": null,
   "metadata": {},
   "outputs": [],
   "source": [
    "'''\n",
    "lasso_best = pickle.load(open(export_path + \"lasso_best_y_battles.pkl\", \"rb\"))"
   ]
  },
  {
   "cell_type": "markdown",
   "metadata": {},
   "source": [
    "### Target: y_battles\n",
    "### Algorithm: Random Forest Regression"
   ]
  },
  {
   "cell_type": "code",
   "execution_count": 196,
   "metadata": {
    "scrolled": true
   },
   "outputs": [
    {
     "name": "stdout",
     "output_type": "stream",
     "text": [
      "[('randomforestregressor', RandomForestRegressor(max_depth=10, max_features='sqrt', random_state=42))]\n"
     ]
    }
   ],
   "source": [
    "rf_pipe = make_pipeline(RandomForestRegressor(random_state=42, n_estimators=100, max_depth=10, min_samples_leaf=1, max_features=\"sqrt\"))\n",
    "print(rf_pipe.steps)"
   ]
  },
  {
   "cell_type": "code",
   "execution_count": 208,
   "metadata": {},
   "outputs": [
    {
     "name": "stdout",
     "output_type": "stream",
     "text": [
      "{'randomforestregressor__max_depth': 10, 'randomforestregressor__max_features': 220, 'randomforestregressor__min_samples_leaf': 1, 'randomforestregressor__n_estimators': 3000}\n",
      "Mean RMSE when Optimal Model is Fit to Cross Validation Data: -4.6324\n"
     ]
    }
   ],
   "source": [
    "tscv = TimeSeriesSplit(n_splits=5)\n",
    "\n",
    "param_grid = {'randomforestregressor__n_estimators': [1000, 2000, 3000, 4000],\n",
    "             'randomforestregressor__max_depth': [1, 10, 20, 30],\n",
    "             'randomforestregressor__min_samples_leaf': [1, 5, 10],\n",
    "             'randomforestregressor__max_features': [170, 220, 270, 320, 370]}\n",
    "grid = GridSearchCV(rf_pipe, param_grid, cv=tscv, scoring='neg_root_mean_squared_error', n_jobs=-1)\n",
    "grid.fit(X_train, y_battles_train.values.ravel())\n",
    "print(grid.best_params_)\n",
    "print('Mean RMSE when Optimal Model is Fit to Cross Validation Data: {:.4f}'.format(grid.best_score_))"
   ]
  },
  {
   "cell_type": "code",
   "execution_count": 205,
   "metadata": {},
   "outputs": [
    {
     "name": "stdout",
     "output_type": "stream",
     "text": [
      "RMSE when Optimal Model is Fit to the Test Set: 5.5692\n"
     ]
    }
   ],
   "source": [
    "rf_best = RandomForestRegressor(random_state=42, n_estimators=3000, max_depth=10, min_samples_leaf=1, max_features=220, n_jobs=-1).fit(X_train, y_battles_train.values.ravel())\n",
    "y_battles_preds_rf = rf_best.predict(X_test)\n",
    "print('RMSE when Optimal Model is Fit to the Test Set: {:.4f}'.format(sqrt(mean_squared_error(y_battles_test, y_battles_preds_rf))))\n"
   ]
  },
  {
   "cell_type": "code",
   "execution_count": 206,
   "metadata": {},
   "outputs": [],
   "source": [
    "'''\n",
    "pickle.dump(rf_best, open(export_path + \"rf_best_y_battles.pkl\", \"wb\"))"
   ]
  },
  {
   "cell_type": "code",
   "execution_count": null,
   "metadata": {},
   "outputs": [],
   "source": [
    "'''\n",
    "rf_best = pickle.load(open(export_path + \"rf_best_y_battles.pkl\", \"rb\"))"
   ]
  },
  {
   "cell_type": "markdown",
   "metadata": {},
   "source": [
    "### Target: y_battles\n",
    "### Algorithm: XGBoost Regression"
   ]
  },
  {
   "cell_type": "code",
   "execution_count": 283,
   "metadata": {},
   "outputs": [
    {
     "name": "stdout",
     "output_type": "stream",
     "text": [
      "[('xgbregressor', XGBRegressor(base_score=None, booster=None, colsample_bylevel=None,\n",
      "             colsample_bynode=None, colsample_bytree=None, gamma=None,\n",
      "             gpu_id=None, importance_type='gain', interaction_constraints=None,\n",
      "             learning_rate=None, max_delta_step=None, max_depth=None,\n",
      "             min_child_weight=None, missing=nan, monotone_constraints=None,\n",
      "             n_estimators=100, n_jobs=-1, num_parallel_tree=None,\n",
      "             objective='reg:linear', random_state=42, reg_alpha=None,\n",
      "             reg_lambda=None, scale_pos_weight=None, subsample=None,\n",
      "             tree_method=None, validate_parameters=None, verbosity=None))]\n"
     ]
    }
   ],
   "source": [
    "xgb_pipe = make_pipeline(XGBRegressor(random_state=42, objective ='reg:squarederror', n_jobs=-1))\n",
    "print(xgb_pipe.steps)"
   ]
  },
  {
   "cell_type": "code",
   "execution_count": 288,
   "metadata": {},
   "outputs": [
    {
     "name": "stdout",
     "output_type": "stream",
     "text": [
      "[22:24:20] WARNING: C:/Users/Administrator/workspace/xgboost-win64_release_1.4.0/src/objective/regression_obj.cu:171: reg:linear is now deprecated in favor of reg:squarederror.\n",
      "{'xgbregressor__learning_rate': 0.05, 'xgbregressor__max_depth': 4, 'xgbregressor__min_child_weight': 7, 'xgbregressor__n_estimators': 50}\n",
      "Mean RMSE when Optimal Model is Fit to Cross Validation Data: -4.1704\n"
     ]
    }
   ],
   "source": [
    "tscv = TimeSeriesSplit(n_splits=5)\n",
    "\n",
    "param_grid = {'xgbregressor__n_estimators': [50, 100, 150],\n",
    "             'xgbregressor__learning_rate': [0.05, 0.1, 0.15, 0.2],\n",
    "             'xgbregressor__max_depth': [4, 6, 8],\n",
    "             'xgbregressor__min_child_weight': [1, 3, 5, 7]\n",
    "             }\n",
    "grid = GridSearchCV(xgb_pipe, param_grid, cv=tscv, scoring='neg_root_mean_squared_error', n_jobs=-1)\n",
    "grid.fit(X_train, y_battles_train.values.ravel())\n",
    "print(grid.best_params_)\n",
    "print('Mean RMSE when Optimal Model is Fit to Cross Validation Data: {:.4f}'.format(grid.best_score_))"
   ]
  },
  {
   "cell_type": "code",
   "execution_count": 290,
   "metadata": {},
   "outputs": [
    {
     "name": "stdout",
     "output_type": "stream",
     "text": [
      "RMSE when Optimal Model is Fit to the Test Set: 5.4413\n"
     ]
    }
   ],
   "source": [
    "xgb_best = XGBRegressor(random_state=42, n_estimators=50, learning_rate=0.05, max_depth=4, min_child_weight=7, n_jobs=-1).fit(X_train, y_battles_train.values.ravel())\n",
    "y_battles_preds_rf = xgb_best.predict(X_test)\n",
    "print('RMSE when Optimal Model is Fit to the Test Set: {:.4f}'.format(sqrt(mean_squared_error(y_battles_test, y_battles_preds_rf))))\n"
   ]
  },
  {
   "cell_type": "code",
   "execution_count": 291,
   "metadata": {},
   "outputs": [],
   "source": [
    "'''\n",
    "pickle.dump(xgb_best, open(export_path + \"xgb_best_y_battles.pkl\", \"wb\"))"
   ]
  },
  {
   "cell_type": "code",
   "execution_count": null,
   "metadata": {},
   "outputs": [],
   "source": [
    "'''\n",
    "pickle.dump(xgb_best, open(export_path + \"xgb_best_y_battles.pkl\", \"wb\"))"
   ]
  },
  {
   "cell_type": "markdown",
   "metadata": {},
   "source": [
    "---\n",
    "---\n",
    "\n",
    "**Comparison of Performance for Models on Cross Validation Data Using y_battles_train and X_train:**\n",
    "\n",
    "RMSE for:\n",
    "\n",
    "- XGBoost Regression: 4.1704\n",
    "- Random Forest Regression: 4.6324\n",
    "- Ridge Regression: 4.8603\n",
    "- Lasso Regression: 4.8892\n",
    "\n",
    "\n",
    "---\n",
    "---\n"
   ]
  },
  {
   "cell_type": "markdown",
   "metadata": {},
   "source": [
    "### Target: y_explosions\n",
    "### Algorithm: Ridge"
   ]
  },
  {
   "cell_type": "code",
   "execution_count": 209,
   "metadata": {
    "scrolled": true
   },
   "outputs": [
    {
     "name": "stdout",
     "output_type": "stream",
     "text": [
      "[('ridge', Ridge(max_iter=100000, random_state=42))]\n"
     ]
    }
   ],
   "source": [
    "ridge_pipe = make_pipeline(Ridge(random_state=42, max_iter=100000))\n",
    "print(ridge_pipe.steps)"
   ]
  },
  {
   "cell_type": "code",
   "execution_count": 211,
   "metadata": {},
   "outputs": [
    {
     "name": "stdout",
     "output_type": "stream",
     "text": [
      "{'ridge__alpha': 3.1622776601683795}\n",
      "Mean RMSE when Optimal Model is Fit to Cross Validation Data: -1.5569\n"
     ]
    }
   ],
   "source": [
    "tscv = TimeSeriesSplit(n_splits=5)\n",
    "\n",
    "param_grid = {'ridge__alpha': np.logspace(-3, 0.5, 200)}\n",
    "grid = GridSearchCV(ridge_pipe, param_grid, cv=tscv, scoring='neg_root_mean_squared_error', n_jobs=-1)\n",
    "grid.fit(X_train, y_explosions_train)\n",
    "print(grid.best_params_)\n",
    "print('Mean RMSE when Optimal Model is Fit to Cross Validation Data: {:.4f}'.format(grid.best_score_))"
   ]
  },
  {
   "cell_type": "code",
   "execution_count": 212,
   "metadata": {},
   "outputs": [
    {
     "name": "stdout",
     "output_type": "stream",
     "text": [
      "RMSE when Optimal Model is Fit to the Test Set: 1.7543\n"
     ]
    }
   ],
   "source": [
    "ridge_best = Ridge(alpha= 3.1622776601683795, random_state=42, max_iter=100000).fit(X_train, y_explosions_train)\n",
    "y_explosions_preds_ridge = ridge_best.predict(X_test)\n",
    "print('RMSE when Optimal Model is Fit to the Test Set: {:.4f}'.format(sqrt(mean_squared_error(y_explosions_test, y_explosions_preds_ridge))))"
   ]
  },
  {
   "cell_type": "code",
   "execution_count": 213,
   "metadata": {},
   "outputs": [],
   "source": [
    "'''\n",
    "pickle.dump(ridge_best, open(export_path + \"ridge_best_y_explosions.pkl\", \"wb\"))"
   ]
  },
  {
   "cell_type": "code",
   "execution_count": null,
   "metadata": {},
   "outputs": [],
   "source": [
    "'''\n",
    "ridge_best = pickle.load(open(export_path + \"ridge_best_y_explosions.pkl\", \"rb\"))"
   ]
  },
  {
   "cell_type": "markdown",
   "metadata": {},
   "source": [
    "### Target: y_explosions\n",
    "### Algorithm: Lasso"
   ]
  },
  {
   "cell_type": "code",
   "execution_count": 214,
   "metadata": {
    "scrolled": true
   },
   "outputs": [
    {
     "name": "stdout",
     "output_type": "stream",
     "text": [
      "[('lasso', Lasso(max_iter=100000, random_state=42))]\n"
     ]
    }
   ],
   "source": [
    "lasso_pipe = make_pipeline(Lasso(random_state=42, max_iter=100000))\n",
    "print(lasso_pipe.steps)"
   ]
  },
  {
   "cell_type": "code",
   "execution_count": 215,
   "metadata": {},
   "outputs": [
    {
     "name": "stdout",
     "output_type": "stream",
     "text": [
      "{'lasso__alpha': 0.07316807143427195}\n",
      "Mean RMSE when Optimal Model is Fit to Cross Validation Data: -1.5465\n"
     ]
    }
   ],
   "source": [
    "tscv = TimeSeriesSplit(n_splits=5)\n",
    "\n",
    "param_grid = {'lasso__alpha': np.logspace(-3, 0.5, 200)}\n",
    "grid = GridSearchCV(lasso_pipe, param_grid, cv=tscv, scoring='neg_root_mean_squared_error', n_jobs=-1)\n",
    "grid.fit(X_train, y_explosions_train)\n",
    "print(grid.best_params_)\n",
    "print('Mean RMSE when Optimal Model is Fit to Cross Validation Data: {:.4f}'.format(grid.best_score_))"
   ]
  },
  {
   "cell_type": "code",
   "execution_count": 216,
   "metadata": {},
   "outputs": [
    {
     "name": "stdout",
     "output_type": "stream",
     "text": [
      "RMSE when Optimal Model is Fit to the Test Set: 1.7357\n"
     ]
    }
   ],
   "source": [
    "lasso_best = Lasso(alpha= 0.07316807143427195, random_state=42, max_iter=100000).fit(X_train, y_explosions_train)\n",
    "y_explosions_preds_lasso = lasso_best.predict(X_test)\n",
    "print('RMSE when Optimal Model is Fit to the Test Set: {:.4f}'.format(sqrt(mean_squared_error(y_explosions_test, y_explosions_preds_lasso))))"
   ]
  },
  {
   "cell_type": "code",
   "execution_count": 217,
   "metadata": {},
   "outputs": [],
   "source": [
    "'''\n",
    "pickle.dump(lasso_best, open(export_path + \"lasso_best_y_explosions.pkl\", \"wb\"))"
   ]
  },
  {
   "cell_type": "code",
   "execution_count": null,
   "metadata": {},
   "outputs": [],
   "source": [
    "'''\n",
    "pickle.dump(lasso_best, open(export_path + \"lasso_best_y_explosions.pkl\", \"wb\"))"
   ]
  },
  {
   "cell_type": "markdown",
   "metadata": {},
   "source": [
    "### Target: y_explosions\n",
    "### Algorithm: Random Forest Regression"
   ]
  },
  {
   "cell_type": "code",
   "execution_count": 250,
   "metadata": {},
   "outputs": [],
   "source": [
    "from sklearn.ensemble import RandomForestRegressor"
   ]
  },
  {
   "cell_type": "code",
   "execution_count": 251,
   "metadata": {
    "scrolled": true
   },
   "outputs": [
    {
     "name": "stdout",
     "output_type": "stream",
     "text": [
      "[('randomforestregressor', RandomForestRegressor(max_depth=10, max_features='sqrt', random_state=42))]\n"
     ]
    }
   ],
   "source": [
    "rf_pipe = make_pipeline(RandomForestRegressor(random_state=42, n_estimators=100, max_depth=10, min_samples_leaf=1, max_features=\"sqrt\"))\n",
    "print(rf_pipe.steps)"
   ]
  },
  {
   "cell_type": "code",
   "execution_count": 275,
   "metadata": {},
   "outputs": [
    {
     "name": "stdout",
     "output_type": "stream",
     "text": [
      "{'randomforestregressor__max_depth': 10, 'randomforestregressor__max_features': 320, 'randomforestregressor__min_samples_leaf': 1, 'randomforestregressor__n_estimators': 3000}\n",
      "Mean RMSE when Optimal Model is Fit to Cross Validation Data: -1.5342\n"
     ]
    }
   ],
   "source": [
    "tscv = TimeSeriesSplit(n_splits=5)\n",
    "\n",
    "param_grid = {'randomforestregressor__n_estimators': [1000, 2000, 3000, 4000],\n",
    "             'randomforestregressor__max_depth': [1, 10, 20, 30],\n",
    "             'randomforestregressor__min_samples_leaf': [1, 5, 10],\n",
    "             'randomforestregressor__max_features': [170, 220, 270, 320, 370]}\n",
    "grid = GridSearchCV(rf_pipe, param_grid, cv=tscv, scoring='neg_root_mean_squared_error', n_jobs=-1)\n",
    "grid.fit(X_train, y_explosions_train.values.ravel())\n",
    "print(grid.best_params_)\n",
    "print('Mean RMSE when Optimal Model is Fit to Cross Validation Data: {:.4f}'.format(grid.best_score_))"
   ]
  },
  {
   "cell_type": "code",
   "execution_count": 221,
   "metadata": {},
   "outputs": [
    {
     "name": "stdout",
     "output_type": "stream",
     "text": [
      "RMSE when Optimal Model is Fit to the Test Set: 1.7481\n"
     ]
    }
   ],
   "source": [
    "rf_best = RandomForestRegressor(random_state=42, n_estimators=3000, max_depth=10, min_samples_leaf=1, max_features=320, n_jobs=-1).fit(X_train, y_explosions_train.values.ravel())\n",
    "y_explosions_preds_rf = rf_best.predict(X_test)\n",
    "print('RMSE when Optimal Model is Fit to the Test Set: {:.4f}'.format(sqrt(mean_squared_error(y_explosions_test, y_explosions_preds_rf))))"
   ]
  },
  {
   "cell_type": "code",
   "execution_count": 222,
   "metadata": {},
   "outputs": [],
   "source": [
    "'''\n",
    "pickle.dump(rf_best, open(export_path + \"rf_best_y_explosions.pkl\", \"wb\"))"
   ]
  },
  {
   "cell_type": "code",
   "execution_count": null,
   "metadata": {},
   "outputs": [],
   "source": [
    "'''\n",
    "rf_best = pickle.load(open(export_path + rf_best_y_explosions.pkl\", \"rb\"))"
   ]
  },
  {
   "cell_type": "markdown",
   "metadata": {},
   "source": [
    "### Target: y_explosions\n",
    "### Algorithm: XGBoost Regression"
   ]
  },
  {
   "cell_type": "code",
   "execution_count": 292,
   "metadata": {},
   "outputs": [
    {
     "name": "stdout",
     "output_type": "stream",
     "text": [
      "[('xgbregressor', XGBRegressor(base_score=None, booster=None, colsample_bylevel=None,\n",
      "             colsample_bynode=None, colsample_bytree=None, gamma=None,\n",
      "             gpu_id=None, importance_type='gain', interaction_constraints=None,\n",
      "             learning_rate=None, max_delta_step=None, max_depth=None,\n",
      "             min_child_weight=None, missing=nan, monotone_constraints=None,\n",
      "             n_estimators=100, n_jobs=-1, num_parallel_tree=None,\n",
      "             random_state=42, reg_alpha=None, reg_lambda=None,\n",
      "             scale_pos_weight=None, subsample=None, tree_method=None,\n",
      "             validate_parameters=None, verbosity=None))]\n"
     ]
    }
   ],
   "source": [
    "xgb_pipe = make_pipeline(XGBRegressor(random_state=42, objective ='reg:squarederror', n_jobs=-1))\n",
    "print(xgb_pipe.steps)"
   ]
  },
  {
   "cell_type": "code",
   "execution_count": 293,
   "metadata": {},
   "outputs": [
    {
     "name": "stdout",
     "output_type": "stream",
     "text": [
      "{'xgbregressor__learning_rate': 0.2, 'xgbregressor__max_depth': 4, 'xgbregressor__min_child_weight': 7, 'xgbregressor__n_estimators': 100}\n",
      "Mean RMSE when Optimal Model is Fit to Cross Validation Data: -1.4564\n"
     ]
    }
   ],
   "source": [
    "tscv = TimeSeriesSplit(n_splits=5)\n",
    "\n",
    "param_grid = {'xgbregressor__n_estimators': [50, 100, 150],\n",
    "             'xgbregressor__learning_rate': [0.05, 0.1, 0.15, 0.2],\n",
    "             'xgbregressor__max_depth': [4, 6, 8],\n",
    "             'xgbregressor__min_child_weight': [1, 3, 5, 7]\n",
    "             }\n",
    "grid = GridSearchCV(xgb_pipe, param_grid, cv=tscv, scoring='neg_root_mean_squared_error', n_jobs=-1)\n",
    "grid.fit(X_train, y_explosions_train.values.ravel())\n",
    "print(grid.best_params_)\n",
    "print('Mean RMSE when Optimal Model is Fit to Cross Validation Data: {:.4f}'.format(grid.best_score_))"
   ]
  },
  {
   "cell_type": "code",
   "execution_count": 294,
   "metadata": {},
   "outputs": [
    {
     "name": "stdout",
     "output_type": "stream",
     "text": [
      "RMSE when Optimal Model is Fit to the Test Set: 1.7689\n"
     ]
    }
   ],
   "source": [
    "xgb_best = XGBRegressor(random_state=42, n_estimators=100, learning_rate=0.2, max_depth=4, min_child_weight=7, n_jobs=-1).fit(X_train, y_explosions_train.values.ravel())\n",
    "y_explosions_preds_rf = xgb_best.predict(X_test)\n",
    "print('RMSE when Optimal Model is Fit to the Test Set: {:.4f}'.format(sqrt(mean_squared_error(y_explosions_test, y_explosions_preds_rf))))\n"
   ]
  },
  {
   "cell_type": "code",
   "execution_count": 295,
   "metadata": {},
   "outputs": [],
   "source": [
    "'''\n",
    "pickle.dump(xgb_best, open(export_path + \"xgb_best_y_explosions.pkl\", \"wb\"))"
   ]
  },
  {
   "cell_type": "code",
   "execution_count": null,
   "metadata": {},
   "outputs": [],
   "source": [
    "'''\n",
    "pickle.dump(xgb_best, open(export_path + \"xgb_best_y_explosions.pkl\", \"wb\"))"
   ]
  },
  {
   "cell_type": "markdown",
   "metadata": {},
   "source": [
    "\n",
    "---\n",
    "---\n",
    "\n",
    "**Comparison of Performance for Models on Cross Validation Data Using y_explosions_train and X_train:**\n",
    "\n",
    "RMSE for:\n",
    "\n",
    "- XGBoost Regression: 1.4564\n",
    "- Random Forest Regression: 1.5342\n",
    "- Lasso Regression: 1.5465\n",
    "- Ridge Regression: 1.5569\n",
    "\n",
    "---\n",
    "---\n"
   ]
  },
  {
   "cell_type": "markdown",
   "metadata": {},
   "source": [
    "### Target: y_protests\n",
    "### Algorithm: Ridge"
   ]
  },
  {
   "cell_type": "code",
   "execution_count": 107,
   "metadata": {
    "scrolled": false
   },
   "outputs": [
    {
     "name": "stdout",
     "output_type": "stream",
     "text": [
      "[('ridge', Ridge(max_iter=100000, random_state=42))]\n"
     ]
    }
   ],
   "source": [
    "ridge_pipe = make_pipeline(Ridge(random_state=42, max_iter=100000))\n",
    "print(ridge_pipe.steps)"
   ]
  },
  {
   "cell_type": "code",
   "execution_count": 224,
   "metadata": {},
   "outputs": [
    {
     "name": "stdout",
     "output_type": "stream",
     "text": [
      "{'ridge__alpha': 3.1622776601683795}\n",
      "Mean RMSE when Optimal Model is Fit to Cross Validation Data: -108.2137\n"
     ]
    }
   ],
   "source": [
    "tscv = TimeSeriesSplit(n_splits=5)\n",
    "\n",
    "param_grid = {'ridge__alpha': np.logspace(-3, 0.5, 200)}\n",
    "grid = GridSearchCV(ridge_pipe, param_grid, cv=tscv, scoring='neg_root_mean_squared_error', n_jobs=-1)\n",
    "grid.fit(X_train, y_protests_train)\n",
    "print(grid.best_params_)\n",
    "print('Mean RMSE when Optimal Model is Fit to Cross Validation Data: {:.4f}'.format(grid.best_score_))"
   ]
  },
  {
   "cell_type": "code",
   "execution_count": 225,
   "metadata": {},
   "outputs": [
    {
     "name": "stdout",
     "output_type": "stream",
     "text": [
      "RMSE when Optimal Model is Fit to the Test Set: 116.6480\n"
     ]
    }
   ],
   "source": [
    "ridge_best = Ridge(alpha= 3.1622776601683795, random_state=42, max_iter=100000).fit(X_train, y_protests_train)\n",
    "y_protests_preds_ridge = ridge_best.predict(X_test)\n",
    "print('RMSE when Optimal Model is Fit to the Test Set: {:.4f}'.format(sqrt(mean_squared_error(y_protests_test, y_protests_preds_ridge))))"
   ]
  },
  {
   "cell_type": "code",
   "execution_count": 226,
   "metadata": {},
   "outputs": [],
   "source": [
    "'''\n",
    "pickle.dump(ridge_best, open(export_path + \"ridge_best_y_protests.pkl\", \"wb\"))"
   ]
  },
  {
   "cell_type": "code",
   "execution_count": null,
   "metadata": {},
   "outputs": [],
   "source": [
    "'''\n",
    "ridge_best = pickle.load(open(export_path + \"ridge_best_y_protests.pkl\", \"rb\"))"
   ]
  },
  {
   "cell_type": "markdown",
   "metadata": {},
   "source": [
    "### Target: y_protests\n",
    "### Algorithm: Lasso"
   ]
  },
  {
   "cell_type": "code",
   "execution_count": 112,
   "metadata": {
    "scrolled": false
   },
   "outputs": [
    {
     "name": "stdout",
     "output_type": "stream",
     "text": [
      "[('lasso', Lasso(max_iter=100000, random_state=42))]\n"
     ]
    }
   ],
   "source": [
    "lasso_pipe = make_pipeline(Lasso(random_state=42, max_iter=100000))\n",
    "print(lasso_pipe.steps)"
   ]
  },
  {
   "cell_type": "code",
   "execution_count": 227,
   "metadata": {},
   "outputs": [
    {
     "name": "stdout",
     "output_type": "stream",
     "text": [
      "{'lasso__alpha': 1.7225859653987856}\n",
      "Mean RMSE when Optimal Model is Fit to Cross Validation Data: -107.6887\n"
     ]
    }
   ],
   "source": [
    "tscv = TimeSeriesSplit(n_splits=5)\n",
    "\n",
    "param_grid = {'lasso__alpha': np.logspace(-3, 0.5, 200)}\n",
    "grid = GridSearchCV(lasso_pipe, param_grid, cv=tscv, scoring='neg_root_mean_squared_error', n_jobs=-1)\n",
    "grid.fit(X_train, y_protests_train)\n",
    "print(grid.best_params_)\n",
    "print('Mean RMSE when Optimal Model is Fit to Cross Validation Data: {:.4f}'.format(grid.best_score_))"
   ]
  },
  {
   "cell_type": "code",
   "execution_count": 228,
   "metadata": {},
   "outputs": [
    {
     "name": "stdout",
     "output_type": "stream",
     "text": [
      "RMSE when Optimal Model is Fit to the Test Set: 115.6709\n"
     ]
    }
   ],
   "source": [
    "lasso_best = Lasso(alpha=1.7225859653987856, random_state=42, max_iter=100000).fit(X_train, y_protests_train)\n",
    "y_protests_preds_lasso = lasso_best.predict(X_test)\n",
    "print('RMSE when Optimal Model is Fit to the Test Set: {:.4f}'.format(sqrt(mean_squared_error(y_protests_test, y_protests_preds_lasso))))"
   ]
  },
  {
   "cell_type": "code",
   "execution_count": 229,
   "metadata": {},
   "outputs": [],
   "source": [
    "'''\n",
    "pickle.dump(lasso_best, open(export_path + \"lasso_best_y_protests.pkl\", \"wb\"))"
   ]
  },
  {
   "cell_type": "code",
   "execution_count": null,
   "metadata": {},
   "outputs": [],
   "source": [
    "'''\n",
    "lasso_best = pickle.load(open(export_path + \"lasso_best_y_protests.pkl\", \"rb\"))"
   ]
  },
  {
   "cell_type": "markdown",
   "metadata": {},
   "source": [
    "### Target: y_protests\n",
    "### Algorithm: Random Forest Regression"
   ]
  },
  {
   "cell_type": "code",
   "execution_count": 230,
   "metadata": {},
   "outputs": [],
   "source": [
    "from sklearn.ensemble import RandomForestRegressor"
   ]
  },
  {
   "cell_type": "code",
   "execution_count": 231,
   "metadata": {
    "scrolled": true
   },
   "outputs": [
    {
     "name": "stdout",
     "output_type": "stream",
     "text": [
      "[('randomforestregressor', RandomForestRegressor(max_depth=10, max_features='sqrt', random_state=42))]\n"
     ]
    }
   ],
   "source": [
    "rf_pipe = make_pipeline(RandomForestRegressor(random_state=42, n_estimators=100, max_depth=10, min_samples_leaf=1, max_features=\"sqrt\"))\n",
    "print(rf_pipe.steps)"
   ]
  },
  {
   "cell_type": "code",
   "execution_count": 232,
   "metadata": {},
   "outputs": [
    {
     "name": "stdout",
     "output_type": "stream",
     "text": [
      "{'randomforestregressor__max_depth': 1, 'randomforestregressor__max_features': 320, 'randomforestregressor__min_samples_leaf': 10, 'randomforestregressor__n_estimators': 2000}\n",
      "Mean RMSE when Optimal Model is Fit to Cross Validation Data: -107.4333\n"
     ]
    }
   ],
   "source": [
    "tscv = TimeSeriesSplit(n_splits=5)\n",
    "\n",
    "param_grid = {'randomforestregressor__n_estimators': [1000, 2000, 3000, 4000],\n",
    "             'randomforestregressor__max_depth': [1, 10, 20, 30],\n",
    "             'randomforestregressor__min_samples_leaf': [1, 5, 10],\n",
    "             'randomforestregressor__max_features': [170, 220, 270, 320, 370]}\n",
    "grid = GridSearchCV(rf_pipe, param_grid, cv=tscv, scoring='neg_root_mean_squared_error', n_jobs=-1)\n",
    "grid.fit(X_train, y_protests_train.values.ravel())\n",
    "print(grid.best_params_)\n",
    "print('Mean RMSE when Optimal Model is Fit to Cross Validation Data: {:.4f}'.format(grid.best_score_))"
   ]
  },
  {
   "cell_type": "code",
   "execution_count": 233,
   "metadata": {},
   "outputs": [
    {
     "name": "stdout",
     "output_type": "stream",
     "text": [
      "RMSE when Optimal Model is Fit to the Test Set: 117.9724\n"
     ]
    }
   ],
   "source": [
    "rf_best = RandomForestRegressor(random_state=42, n_estimators=2000, max_depth=1, min_samples_leaf=10, max_features=320, n_jobs=-1).fit(X_train, y_protests_train.values.ravel())\n",
    "y_protests_preds_rf = rf_best.predict(X_test)\n",
    "print('RMSE when Optimal Model is Fit to the Test Set: {:.4f}'.format(sqrt(mean_squared_error(y_protests_test, y_protests_preds_rf))))"
   ]
  },
  {
   "cell_type": "code",
   "execution_count": 234,
   "metadata": {},
   "outputs": [],
   "source": [
    "'''\n",
    "pickle.dump(rf_best, open(export_path + \"rf_best_y_protests.pkl\", \"wb\"))"
   ]
  },
  {
   "cell_type": "code",
   "execution_count": null,
   "metadata": {},
   "outputs": [],
   "source": [
    "'''\n",
    "rf_best = pickle.load(open(export_path + \"rf_best_y_protests.pkl\", \"rb\"))"
   ]
  },
  {
   "cell_type": "markdown",
   "metadata": {},
   "source": [
    "### Target: y_protests\n",
    "### Algorithm: XGBoost Regression"
   ]
  },
  {
   "cell_type": "code",
   "execution_count": 297,
   "metadata": {
    "scrolled": true
   },
   "outputs": [
    {
     "name": "stdout",
     "output_type": "stream",
     "text": [
      "[('xgbregressor', XGBRegressor(base_score=None, booster=None, colsample_bylevel=None,\n",
      "             colsample_bynode=None, colsample_bytree=None, gamma=None,\n",
      "             gpu_id=None, importance_type='gain', interaction_constraints=None,\n",
      "             learning_rate=None, max_delta_step=None, max_depth=None,\n",
      "             min_child_weight=None, missing=nan, monotone_constraints=None,\n",
      "             n_estimators=100, n_jobs=-1, num_parallel_tree=None,\n",
      "             random_state=42, reg_alpha=None, reg_lambda=None,\n",
      "             scale_pos_weight=None, subsample=None, tree_method=None,\n",
      "             validate_parameters=None, verbosity=None))]\n"
     ]
    }
   ],
   "source": [
    "xgb_pipe = make_pipeline(XGBRegressor(random_state=42, objective ='reg:squarederror', n_jobs=-1))\n",
    "print(xgb_pipe.steps)"
   ]
  },
  {
   "cell_type": "code",
   "execution_count": 298,
   "metadata": {},
   "outputs": [
    {
     "name": "stdout",
     "output_type": "stream",
     "text": [
      "{'xgbregressor__learning_rate': 0.05, 'xgbregressor__max_depth': 4, 'xgbregressor__min_child_weight': 7, 'xgbregressor__n_estimators': 50}\n",
      "Mean RMSE when Optimal Model is Fit to Cross Validation Data: -116.9903\n"
     ]
    }
   ],
   "source": [
    "tscv = TimeSeriesSplit(n_splits=5)\n",
    "\n",
    "param_grid = {'xgbregressor__n_estimators': [50, 100, 150],\n",
    "             'xgbregressor__learning_rate': [0.05, 0.1, 0.15, 0.2],\n",
    "             'xgbregressor__max_depth': [4, 6, 8],\n",
    "             'xgbregressor__min_child_weight': [3, 5, 7]\n",
    "             }\n",
    "grid = GridSearchCV(xgb_pipe, param_grid, cv=tscv, scoring='neg_root_mean_squared_error', n_jobs=-1)\n",
    "grid.fit(X_train, y_protests_train.values.ravel())\n",
    "print(grid.best_params_)\n",
    "print('Mean RMSE when Optimal Model is Fit to Cross Validation Data: {:.4f}'.format(grid.best_score_))"
   ]
  },
  {
   "cell_type": "code",
   "execution_count": 299,
   "metadata": {},
   "outputs": [
    {
     "name": "stdout",
     "output_type": "stream",
     "text": [
      "RMSE when Optimal Model is Fit to the Test Set: 124.2078\n"
     ]
    }
   ],
   "source": [
    "xgb_best = XGBRegressor(random_state=42, n_estimators= 50, learning_rate=0.05, max_depth=4, min_child_weight=7, n_jobs=-1).fit(X_train, y_protests_train.values.ravel())\n",
    "y_protests_preds_rf = xgb_best.predict(X_test)\n",
    "print('RMSE when Optimal Model is Fit to the Test Set: {:.4f}'.format(sqrt(mean_squared_error(y_protests_test, y_protests_preds_rf))))\n"
   ]
  },
  {
   "cell_type": "code",
   "execution_count": 300,
   "metadata": {},
   "outputs": [],
   "source": [
    "'''\n",
    "pickle.dump(xgb_best, open(export_path + \"xgb_best_y_protests.pkl\", \"wb\"))"
   ]
  },
  {
   "cell_type": "code",
   "execution_count": null,
   "metadata": {},
   "outputs": [],
   "source": [
    "'''\n",
    "pickle.dump(xgb_best, open(export_path + \"xgb_best_y_protests.pkl\", \"wb\"))"
   ]
  },
  {
   "cell_type": "markdown",
   "metadata": {},
   "source": [
    "\n",
    "---\n",
    "---\n",
    "\n",
    "**Comparison of Performance for Models on Cross Validation Data Using y_protests_train and X_train:**\n",
    "\n",
    "RMSE for:\n",
    "\n",
    "- Random Forest Regression: 107.4333\n",
    "- Lasso Regression: 107.6887\n",
    "- Ridge Regression: 108.2137\n",
    "- XGBoost Regression: 116.9903\n",
    "\n",
    "---\n",
    "---\n"
   ]
  },
  {
   "cell_type": "markdown",
   "metadata": {},
   "source": [
    "### Target: y_riots\n",
    "### Algorithm: Ridge"
   ]
  },
  {
   "cell_type": "code",
   "execution_count": 238,
   "metadata": {
    "scrolled": false
   },
   "outputs": [
    {
     "name": "stdout",
     "output_type": "stream",
     "text": [
      "[('ridge', Ridge(max_iter=100000, random_state=42))]\n"
     ]
    }
   ],
   "source": [
    "ridge_pipe = make_pipeline(Ridge(random_state=42, max_iter=100000))\n",
    "print(ridge_pipe.steps)"
   ]
  },
  {
   "cell_type": "code",
   "execution_count": 239,
   "metadata": {},
   "outputs": [
    {
     "name": "stdout",
     "output_type": "stream",
     "text": [
      "{'ridge__alpha': 3.1622776601683795}\n",
      "Mean RMSE when Optimal Model is Fit to Cross Validation Data: -2.5179\n"
     ]
    }
   ],
   "source": [
    "tscv = TimeSeriesSplit(n_splits=5)\n",
    "\n",
    "param_grid = {'ridge__alpha': np.logspace(-3, 0.5, 200)}\n",
    "grid = GridSearchCV(ridge_pipe, param_grid, cv=tscv, scoring='neg_root_mean_squared_error', n_jobs=-1)\n",
    "grid.fit(X_train, y_riots_train)\n",
    "print(grid.best_params_)\n",
    "print('Mean RMSE when Optimal Model is Fit to Cross Validation Data: {:.4f}'.format(grid.best_score_))"
   ]
  },
  {
   "cell_type": "code",
   "execution_count": 240,
   "metadata": {},
   "outputs": [
    {
     "name": "stdout",
     "output_type": "stream",
     "text": [
      "RMSE when Optimal Model is Fit to the Test Set: 2.2682\n"
     ]
    }
   ],
   "source": [
    "ridge_best = Ridge(alpha= 3.1622776601683795, random_state=42, max_iter=100000).fit(X_train, y_riots_train)\n",
    "y_riots_preds_ridge = ridge_best.predict(X_test)\n",
    "print('RMSE when Optimal Model is Fit to the Test Set: {:.4f}'.format(sqrt(mean_squared_error(y_riots_test, y_riots_preds_ridge))))"
   ]
  },
  {
   "cell_type": "code",
   "execution_count": 241,
   "metadata": {},
   "outputs": [],
   "source": [
    "'''\n",
    "pickle.dump(ridge_best, open(export_path + \"ridge_best_y_riots.pkl\", \"wb\"))"
   ]
  },
  {
   "cell_type": "code",
   "execution_count": null,
   "metadata": {},
   "outputs": [],
   "source": [
    "'''\n",
    "ridge_best = pickle.load(open(export_path + \"ridge_best_y_riots.pkl\", \"rb\"))"
   ]
  },
  {
   "cell_type": "markdown",
   "metadata": {},
   "source": [
    "### Target: y_riots\n",
    "### Algorithm: Lasso"
   ]
  },
  {
   "cell_type": "code",
   "execution_count": 242,
   "metadata": {
    "scrolled": false
   },
   "outputs": [
    {
     "name": "stdout",
     "output_type": "stream",
     "text": [
      "[('lasso', Lasso(max_iter=100000, random_state=42))]\n"
     ]
    }
   ],
   "source": [
    "lasso_pipe = make_pipeline(Lasso(random_state=42, max_iter=100000))\n",
    "print(lasso_pipe.steps)"
   ]
  },
  {
   "cell_type": "code",
   "execution_count": 243,
   "metadata": {},
   "outputs": [
    {
     "name": "stdout",
     "output_type": "stream",
     "text": [
      "{'lasso__alpha': 0.07934096665797492}\n",
      "Mean RMSE when Optimal Model is Fit to Cross Validation Data: -2.4961\n"
     ]
    }
   ],
   "source": [
    "tscv = TimeSeriesSplit(n_splits=5)\n",
    "\n",
    "param_grid = {'lasso__alpha': np.logspace(-3, 0.5, 200)}\n",
    "grid = GridSearchCV(lasso_pipe, param_grid, cv=tscv, scoring='neg_root_mean_squared_error', n_jobs=-1)\n",
    "grid.fit(X_train, y_riots_train)\n",
    "print(grid.best_params_)\n",
    "print('Mean RMSE when Optimal Model is Fit to Cross Validation Data: {:.4f}'.format(grid.best_score_))"
   ]
  },
  {
   "cell_type": "code",
   "execution_count": 244,
   "metadata": {},
   "outputs": [
    {
     "name": "stdout",
     "output_type": "stream",
     "text": [
      "RMSE when Optimal Model is Fit to the Test Set: 2.2411\n"
     ]
    }
   ],
   "source": [
    "lasso_best = Lasso(alpha=0.07934096665797492, random_state=42, max_iter=100000).fit(X_train, y_riots_train)\n",
    "y_riots_preds_lasso = lasso_best.predict(X_test)\n",
    "print('RMSE when Optimal Model is Fit to the Test Set: {:.4f}'.format(sqrt(mean_squared_error(y_riots_test, y_riots_preds_lasso))))"
   ]
  },
  {
   "cell_type": "code",
   "execution_count": 245,
   "metadata": {},
   "outputs": [],
   "source": [
    "'''\n",
    "pickle.dump(lasso_best, open(export_path + \"lasso_best_y_riots.pkl\", \"wb\"))"
   ]
  },
  {
   "cell_type": "code",
   "execution_count": null,
   "metadata": {},
   "outputs": [],
   "source": [
    "'''\n",
    "lasso_best = pickle.load(open(export_path + \"lasso_best_y_riots.pkl\", \"rb\"))"
   ]
  },
  {
   "cell_type": "markdown",
   "metadata": {},
   "source": [
    "### Target: y_riots\n",
    "### Algorithm: Random Forest Regression"
   ]
  },
  {
   "cell_type": "code",
   "execution_count": 246,
   "metadata": {},
   "outputs": [],
   "source": [
    "from sklearn.ensemble import RandomForestRegressor"
   ]
  },
  {
   "cell_type": "code",
   "execution_count": 247,
   "metadata": {
    "scrolled": true
   },
   "outputs": [
    {
     "name": "stdout",
     "output_type": "stream",
     "text": [
      "[('randomforestregressor', RandomForestRegressor(max_depth=10, max_features='sqrt', random_state=42))]\n"
     ]
    }
   ],
   "source": [
    "rf_pipe = make_pipeline(RandomForestRegressor(random_state=42, n_estimators=100, max_depth=10, min_samples_leaf=1, max_features=\"sqrt\"))\n",
    "print(rf_pipe.steps)"
   ]
  },
  {
   "cell_type": "code",
   "execution_count": 248,
   "metadata": {},
   "outputs": [
    {
     "name": "stdout",
     "output_type": "stream",
     "text": [
      "{'randomforestregressor__max_depth': 1, 'randomforestregressor__max_features': 370, 'randomforestregressor__min_samples_leaf': 1, 'randomforestregressor__n_estimators': 2000}\n",
      "Mean RMSE when Optimal Model is Fit to Cross Validation Data: -2.3903\n"
     ]
    }
   ],
   "source": [
    "tscv = TimeSeriesSplit(n_splits=5)\n",
    "\n",
    "param_grid = {'randomforestregressor__n_estimators': [1000, 2000, 3000, 4000],\n",
    "             'randomforestregressor__max_depth': [1, 10, 20, 30],\n",
    "             'randomforestregressor__min_samples_leaf': [1, 5, 10],\n",
    "             'randomforestregressor__max_features': [170, 220, 270, 320, 370]}\n",
    "grid = GridSearchCV(rf_pipe, param_grid, cv=tscv, scoring='neg_root_mean_squared_error', n_jobs=-1)\n",
    "grid.fit(X_train, y_riots_train.values.ravel())\n",
    "print(grid.best_params_)\n",
    "print('Mean RMSE when Optimal Model is Fit to Cross Validation Data: {:.4f}'.format(grid.best_score_))"
   ]
  },
  {
   "cell_type": "code",
   "execution_count": 257,
   "metadata": {},
   "outputs": [
    {
     "name": "stdout",
     "output_type": "stream",
     "text": [
      "RMSE when Optimal Model is Fit to the Test Set: 2.1061\n"
     ]
    }
   ],
   "source": [
    "rf_best = RandomForestRegressor(random_state=42, n_estimators=2000, max_depth=1, min_samples_leaf=1, max_features=370, n_jobs=-1).fit(X_train, y_riots_train.values.ravel())\n",
    "y_riots_preds_rf = rf_best.predict(X_test)\n",
    "print('RMSE when Optimal Model is Fit to the Test Set: {:.4f}'.format(sqrt(mean_squared_error(y_riots_test, y_riots_preds_rf))))"
   ]
  },
  {
   "cell_type": "code",
   "execution_count": 258,
   "metadata": {},
   "outputs": [],
   "source": [
    "'''\n",
    "pickle.dump(rf_best, open(export_path + \"rf_best_y_riots.pkl\", \"wb\"))"
   ]
  },
  {
   "cell_type": "code",
   "execution_count": null,
   "metadata": {},
   "outputs": [],
   "source": [
    "'''\n",
    "rf_best = pickle.load(open(export_path + \"rf_best_y_riots.pkl\", \"rb\"))"
   ]
  },
  {
   "cell_type": "markdown",
   "metadata": {},
   "source": [
    "### Target: y_riots\n",
    "### Algorithm: XGBoost Regression"
   ]
  },
  {
   "cell_type": "code",
   "execution_count": 301,
   "metadata": {
    "scrolled": true
   },
   "outputs": [
    {
     "name": "stdout",
     "output_type": "stream",
     "text": [
      "[('xgbregressor', XGBRegressor(base_score=None, booster=None, colsample_bylevel=None,\n",
      "             colsample_bynode=None, colsample_bytree=None, gamma=None,\n",
      "             gpu_id=None, importance_type='gain', interaction_constraints=None,\n",
      "             learning_rate=None, max_delta_step=None, max_depth=None,\n",
      "             min_child_weight=None, missing=nan, monotone_constraints=None,\n",
      "             n_estimators=100, n_jobs=-1, num_parallel_tree=None,\n",
      "             random_state=42, reg_alpha=None, reg_lambda=None,\n",
      "             scale_pos_weight=None, subsample=None, tree_method=None,\n",
      "             validate_parameters=None, verbosity=None))]\n"
     ]
    }
   ],
   "source": [
    "xgb_pipe = make_pipeline(XGBRegressor(random_state=42, objective ='reg:squarederror', n_jobs=-1))\n",
    "print(xgb_pipe.steps)"
   ]
  },
  {
   "cell_type": "code",
   "execution_count": 302,
   "metadata": {},
   "outputs": [
    {
     "name": "stdout",
     "output_type": "stream",
     "text": [
      "{'xgbregressor__learning_rate': 0.05, 'xgbregressor__max_depth': 4, 'xgbregressor__min_child_weight': 5, 'xgbregressor__n_estimators': 50}\n",
      "Mean RMSE when Optimal Model is Fit to Cross Validation Data: -2.1890\n"
     ]
    }
   ],
   "source": [
    "tscv = TimeSeriesSplit(n_splits=5)\n",
    "\n",
    "param_grid = {'xgbregressor__n_estimators': [50, 100, 150],\n",
    "             'xgbregressor__learning_rate': [0.05, 0.1, 0.15, 0.2],\n",
    "             'xgbregressor__max_depth': [4, 6, 8],\n",
    "             'xgbregressor__min_child_weight': [3, 5, 7]\n",
    "             }\n",
    "grid = GridSearchCV(xgb_pipe, param_grid, cv=tscv, scoring='neg_root_mean_squared_error', n_jobs=-1)\n",
    "grid.fit(X_train, y_riots_train.values.ravel())\n",
    "print(grid.best_params_)\n",
    "print('Mean RMSE when Optimal Model is Fit to Cross Validation Data: {:.4f}'.format(grid.best_score_))"
   ]
  },
  {
   "cell_type": "code",
   "execution_count": 303,
   "metadata": {},
   "outputs": [
    {
     "name": "stdout",
     "output_type": "stream",
     "text": [
      "RMSE when Optimal Model is Fit to the Test Set: 1.9828\n"
     ]
    }
   ],
   "source": [
    "xgb_best = XGBRegressor(random_state=42, n_estimators=50, learning_rate=0.05, max_depth=4, min_child_weight=5, n_jobs=-1).fit(X_train, y_riots_train.values.ravel())\n",
    "y_riots_preds_rf = xgb_best.predict(X_test)\n",
    "print('RMSE when Optimal Model is Fit to the Test Set: {:.4f}'.format(sqrt(mean_squared_error(y_riots_test, y_riots_preds_rf))))\n"
   ]
  },
  {
   "cell_type": "code",
   "execution_count": 304,
   "metadata": {},
   "outputs": [],
   "source": [
    "'''\n",
    "pickle.dump(xgb_best, open(export_path + \"xgb_best_y_riots.pkl\", \"wb\"))"
   ]
  },
  {
   "cell_type": "code",
   "execution_count": null,
   "metadata": {},
   "outputs": [],
   "source": [
    "'''\n",
    "pickle.dump(xgb_best, open(export_path + \"xgb_best_y_riots.pkl\", \"wb\"))"
   ]
  },
  {
   "cell_type": "markdown",
   "metadata": {},
   "source": [
    "---\n",
    "---\n",
    "\n",
    "**Comparison of Performance for Models on Cross Validation Data Using y_riots_train and X_train:**\n",
    "\n",
    "\n",
    "RMSE for:\n",
    "\n",
    "- XGBoost Regression: 2.1890\n",
    "- Random Forest Regression: 2.3903\n",
    "- Lasso Regression: 2.4961\n",
    "- Ridge Regression: 2.5179\n",
    "\n",
    "\n",
    "---\n",
    "---\n"
   ]
  },
  {
   "cell_type": "markdown",
   "metadata": {},
   "source": [
    "### Target: y_vac\n",
    "### Algorithm: Ridge"
   ]
  },
  {
   "cell_type": "code",
   "execution_count": 260,
   "metadata": {
    "scrolled": false
   },
   "outputs": [
    {
     "name": "stdout",
     "output_type": "stream",
     "text": [
      "[('ridge', Ridge(max_iter=100000, random_state=42))]\n"
     ]
    }
   ],
   "source": [
    "ridge_pipe = make_pipeline(Ridge(random_state=42, max_iter=100000))\n",
    "print(ridge_pipe.steps)"
   ]
  },
  {
   "cell_type": "code",
   "execution_count": 261,
   "metadata": {},
   "outputs": [
    {
     "name": "stdout",
     "output_type": "stream",
     "text": [
      "{'ridge__alpha': 0.02171117945694504}\n",
      "Mean RMSE when Optimal Model is Fit to Cross Validation Data: -119.6204\n"
     ]
    }
   ],
   "source": [
    "tscv = TimeSeriesSplit(n_splits=5)\n",
    "\n",
    "param_grid = {'ridge__alpha': np.logspace(-3, 0.5, 200)}\n",
    "grid = GridSearchCV(ridge_pipe, param_grid, cv=tscv, scoring='neg_root_mean_squared_error', n_jobs=-1)\n",
    "grid.fit(X_train, y_vac_train)\n",
    "print(grid.best_params_)\n",
    "print('Mean RMSE when Optimal Model is Fit to Cross Validation Data: {:.4f}'.format(grid.best_score_))"
   ]
  },
  {
   "cell_type": "code",
   "execution_count": 262,
   "metadata": {},
   "outputs": [
    {
     "name": "stdout",
     "output_type": "stream",
     "text": [
      "RMSE when Optimal Model is Fit to the Test Set: 157.2134\n"
     ]
    }
   ],
   "source": [
    "ridge_best = Ridge(alpha=0.02171117945694504, random_state=42, max_iter=100000).fit(X_train, y_vac_train)\n",
    "y_vac_preds_ridge = ridge_best.predict(X_test)\n",
    "print('RMSE when Optimal Model is Fit to the Test Set: {:.4f}'.format(sqrt(mean_squared_error(y_vac_test, y_vac_preds_ridge))))"
   ]
  },
  {
   "cell_type": "code",
   "execution_count": 263,
   "metadata": {},
   "outputs": [],
   "source": [
    "'''\n",
    "pickle.dump(ridge_best, open(export_path + \"ridge_best_y_vac.pkl\", \"wb\"))"
   ]
  },
  {
   "cell_type": "code",
   "execution_count": null,
   "metadata": {},
   "outputs": [],
   "source": [
    "'''\n",
    "ridge_best = pickle.load(open(export_path + \"ridge_best_y_vac.pkl\", \"rb\"))"
   ]
  },
  {
   "cell_type": "markdown",
   "metadata": {},
   "source": [
    "### Target: y_vac\n",
    "### Algorithm: Lasso"
   ]
  },
  {
   "cell_type": "code",
   "execution_count": 264,
   "metadata": {
    "scrolled": false
   },
   "outputs": [
    {
     "name": "stdout",
     "output_type": "stream",
     "text": [
      "[('lasso', Lasso(max_iter=100000, random_state=42))]\n"
     ]
    }
   ],
   "source": [
    "lasso_pipe = make_pipeline(Lasso(random_state=42, max_iter=100000))\n",
    "print(lasso_pipe.steps)"
   ]
  },
  {
   "cell_type": "code",
   "execution_count": 265,
   "metadata": {},
   "outputs": [
    {
     "name": "stdout",
     "output_type": "stream",
     "text": [
      "{'lasso__alpha': 0.16446761779946645}\n",
      "Mean RMSE when Optimal Model is Fit to Cross Validation Data: -118.2845\n"
     ]
    }
   ],
   "source": [
    "tscv = TimeSeriesSplit(n_splits=5)\n",
    "\n",
    "param_grid = {'lasso__alpha': np.logspace(-3, 0.5, 200)}\n",
    "grid = GridSearchCV(lasso_pipe, param_grid, cv=tscv, scoring='neg_root_mean_squared_error', n_jobs=-1)\n",
    "grid.fit(X_train, y_vac_train)\n",
    "print(grid.best_params_)\n",
    "print('Mean RMSE when Optimal Model is Fit to Cross Validation Data: {:.4f}'.format(grid.best_score_))"
   ]
  },
  {
   "cell_type": "code",
   "execution_count": 266,
   "metadata": {},
   "outputs": [
    {
     "name": "stdout",
     "output_type": "stream",
     "text": [
      "RMSE when Optimal Model is Fit to the Test Set: 159.3633\n"
     ]
    }
   ],
   "source": [
    "lasso_best = Lasso(alpha=0.16446761779946645, random_state=42, max_iter=100000).fit(X_train, y_vac_train)\n",
    "y_vac_preds_lasso = lasso_best.predict(X_test)\n",
    "print('RMSE when Optimal Model is Fit to the Test Set: {:.4f}'.format(sqrt(mean_squared_error(y_vac_test, y_vac_preds_lasso))))"
   ]
  },
  {
   "cell_type": "code",
   "execution_count": 267,
   "metadata": {},
   "outputs": [],
   "source": [
    "'''\n",
    "pickle.dump(lasso_best, open(export_path + \"lasso_best_y_vac.pkl\", \"wb\"))"
   ]
  },
  {
   "cell_type": "code",
   "execution_count": null,
   "metadata": {},
   "outputs": [],
   "source": [
    "'''\n",
    "lasso_best = pickle.load(open(export_path + \"lasso_best_y_vac.pkl\", \"rb\"))"
   ]
  },
  {
   "cell_type": "markdown",
   "metadata": {},
   "source": [
    "### Target: y_vac\n",
    "### Algorithm: Random Forest Regression"
   ]
  },
  {
   "cell_type": "code",
   "execution_count": 268,
   "metadata": {},
   "outputs": [],
   "source": [
    "from sklearn.ensemble import RandomForestRegressor"
   ]
  },
  {
   "cell_type": "code",
   "execution_count": 269,
   "metadata": {
    "scrolled": true
   },
   "outputs": [
    {
     "name": "stdout",
     "output_type": "stream",
     "text": [
      "[('randomforestregressor', RandomForestRegressor(max_depth=10, max_features='sqrt', random_state=42))]\n"
     ]
    }
   ],
   "source": [
    "rf_pipe = make_pipeline(RandomForestRegressor(random_state=42, n_estimators=100, max_depth=10, min_samples_leaf=1, max_features=\"sqrt\"))\n",
    "print(rf_pipe.steps)"
   ]
  },
  {
   "cell_type": "code",
   "execution_count": 270,
   "metadata": {},
   "outputs": [
    {
     "name": "stdout",
     "output_type": "stream",
     "text": [
      "{'randomforestregressor__max_depth': 10, 'randomforestregressor__max_features': 270, 'randomforestregressor__min_samples_leaf': 5, 'randomforestregressor__n_estimators': 2000}\n",
      "Mean RMSE when Optimal Model is Fit to Cross Validation Data: -127.2781\n"
     ]
    }
   ],
   "source": [
    "tscv = TimeSeriesSplit(n_splits=5)\n",
    "\n",
    "param_grid = {'randomforestregressor__n_estimators': [1000, 2000, 3000, 4000],\n",
    "             'randomforestregressor__max_depth': [1, 10, 20, 30],\n",
    "             'randomforestregressor__min_samples_leaf': [1, 5, 10],\n",
    "             'randomforestregressor__max_features': [170, 220, 270, 320, 370]}\n",
    "grid = GridSearchCV(rf_pipe, param_grid, cv=tscv, scoring='neg_root_mean_squared_error', n_jobs=-1)\n",
    "grid.fit(X_train, y_vac_train.values.ravel())\n",
    "print(grid.best_params_)\n",
    "print('Mean RMSE when Optimal Model is Fit to Cross Validation Data: {:.4f}'.format(grid.best_score_))"
   ]
  },
  {
   "cell_type": "code",
   "execution_count": 271,
   "metadata": {},
   "outputs": [
    {
     "name": "stdout",
     "output_type": "stream",
     "text": [
      "RMSE when Optimal Model is Fit to the Test Set: 121.5632\n"
     ]
    }
   ],
   "source": [
    "rf_best = RandomForestRegressor(random_state=42, n_estimators=2000, max_depth=10, min_samples_leaf=5, max_features=270, n_jobs=-1).fit(X_train, y_vac_train.values.ravel())\n",
    "y_vac_preds_rf = rf_best.predict(X_test)\n",
    "print('RMSE when Optimal Model is Fit to the Test Set: {:.4f}'.format(sqrt(mean_squared_error(y_vac_test, y_vac_preds_rf))))"
   ]
  },
  {
   "cell_type": "code",
   "execution_count": 272,
   "metadata": {},
   "outputs": [],
   "source": [
    "'''\n",
    "pickle.dump(rf_best, open(export_path + \"rf_best_y_vac.pkl\", \"wb\"))"
   ]
  },
  {
   "cell_type": "code",
   "execution_count": null,
   "metadata": {},
   "outputs": [],
   "source": [
    "'''\n",
    "rf_best = pickle.load(open(export_path + \"rf_best_y_vac.pkl\", \"rb\"))"
   ]
  },
  {
   "cell_type": "markdown",
   "metadata": {},
   "source": [
    "### Target: y_riots\n",
    "### Algorithm: XGBoost Regression"
   ]
  },
  {
   "cell_type": "code",
   "execution_count": 301,
   "metadata": {
    "scrolled": true
   },
   "outputs": [
    {
     "name": "stdout",
     "output_type": "stream",
     "text": [
      "[('xgbregressor', XGBRegressor(base_score=None, booster=None, colsample_bylevel=None,\n",
      "             colsample_bynode=None, colsample_bytree=None, gamma=None,\n",
      "             gpu_id=None, importance_type='gain', interaction_constraints=None,\n",
      "             learning_rate=None, max_delta_step=None, max_depth=None,\n",
      "             min_child_weight=None, missing=nan, monotone_constraints=None,\n",
      "             n_estimators=100, n_jobs=-1, num_parallel_tree=None,\n",
      "             random_state=42, reg_alpha=None, reg_lambda=None,\n",
      "             scale_pos_weight=None, subsample=None, tree_method=None,\n",
      "             validate_parameters=None, verbosity=None))]\n"
     ]
    }
   ],
   "source": [
    "xgb_pipe = make_pipeline(XGBRegressor(random_state=42, objective ='reg:squarederror', n_jobs=-1))\n",
    "print(xgb_pipe.steps)"
   ]
  },
  {
   "cell_type": "code",
   "execution_count": 306,
   "metadata": {},
   "outputs": [
    {
     "name": "stdout",
     "output_type": "stream",
     "text": [
      "{'xgbregressor__learning_rate': 0.15, 'xgbregressor__max_depth': 4, 'xgbregressor__min_child_weight': 7, 'xgbregressor__n_estimators': 150}\n",
      "Mean RMSE when Optimal Model is Fit to Cross Validation Data: -123.4189\n"
     ]
    }
   ],
   "source": [
    "tscv = TimeSeriesSplit(n_splits=5)\n",
    "\n",
    "param_grid = {'xgbregressor__n_estimators': [50, 100, 150],\n",
    "             'xgbregressor__learning_rate': [0.05, 0.1, 0.15, 0.2],\n",
    "             'xgbregressor__max_depth': [4, 6, 8],\n",
    "             'xgbregressor__min_child_weight': [3, 5, 7]\n",
    "             }\n",
    "grid = GridSearchCV(xgb_pipe, param_grid, cv=tscv, scoring='neg_root_mean_squared_error', n_jobs=-1)\n",
    "grid.fit(X_train, y_vac_train.values.ravel())\n",
    "print(grid.best_params_)\n",
    "print('Mean RMSE when Optimal Model is Fit to Cross Validation Data: {:.4f}'.format(grid.best_score_))"
   ]
  },
  {
   "cell_type": "code",
   "execution_count": 310,
   "metadata": {},
   "outputs": [
    {
     "name": "stdout",
     "output_type": "stream",
     "text": [
      "RMSE when Optimal Model is Fit to the Test Set: 158.5494\n"
     ]
    }
   ],
   "source": [
    "xgb_best = XGBRegressor(random_state=42, n_estimators=150, learning_rate=0.15, max_depth=4, min_child_weight=7, n_jobs=-1).fit(X_train, y_vac_train.values.ravel())\n",
    "y_vac_preds_xgb = xgb_best.predict(X_test)\n",
    "print('RMSE when Optimal Model is Fit to the Test Set: {:.4f}'.format(sqrt(mean_squared_error(y_vac_test, y_vac_preds_xgb))))\n"
   ]
  },
  {
   "cell_type": "code",
   "execution_count": 311,
   "metadata": {},
   "outputs": [],
   "source": [
    "'''\n",
    "pickle.dump(xgb_best, open(export_path + \"xgb_best_y_vac.pkl\", \"wb\"))"
   ]
  },
  {
   "cell_type": "code",
   "execution_count": null,
   "metadata": {},
   "outputs": [],
   "source": [
    "'''\n",
    "pickle.dump(xgb_best, open(export_path + \"xgb_best_y_vac.pkl\", \"wb\"))"
   ]
  },
  {
   "cell_type": "markdown",
   "metadata": {},
   "source": [
    "---\n",
    "---\n",
    "\n",
    "**Comparison of Performance for Models on Cross Validation Data Using y_vac_train and X_train:**\n",
    "\n",
    "RMSE for:\n",
    "\n",
    "- Lasso Regression: 118.2845\n",
    "- Ridge Regression: 119.6204\n",
    "- XGBoost Regression: 123.4189\n",
    "- Random Forest Regression: 127.2781\n",
    "\n",
    "---\n",
    "---\n"
   ]
  },
  {
   "cell_type": "markdown",
   "metadata": {},
   "source": [
    "### **Summary:**\n",
    "\n",
    "### In general, a good RMSE score is considered to be 0.5 or lower. Although none of the models predicted the ACLED political violence event types (or changes in event types) very well, they performed best when predicting explosions or remote violence, followed by prediting riots. They performed worst when predicting weekly changes in events involving violence against civilians, and also weekly changes in the number of protests in which excessive police force was used. XGBoost performed better than the other models in all event type categories except predicting changes in the number of events involving violence against civilians and changes in the number of protests in which excessive police force was used. In these 2 cases, XGBoost was one of the worst performing models.  Random Forests was the best model in terms of predicting changes in the number of protests in which excessive police force was used, and the second best model in terms of predicting the number of battles, the number of explosions or remote violence, and the number of riots."
   ]
  },
  {
   "cell_type": "code",
   "execution_count": null,
   "metadata": {},
   "outputs": [],
   "source": []
  }
 ],
 "metadata": {
  "colab": {
   "collapsed_sections": [],
   "name": "Portfolio Example: Correlations Between Nigerian Newsfeed and ALCED Political Violence Event Types.ipynb",
   "provenance": []
  },
  "kernelspec": {
   "display_name": "Python 3 (ipykernel)",
   "language": "python",
   "name": "python3"
  },
  "language_info": {
   "codemirror_mode": {
    "name": "ipython",
    "version": 3
   },
   "file_extension": ".py",
   "mimetype": "text/x-python",
   "name": "python",
   "nbconvert_exporter": "python",
   "pygments_lexer": "ipython3",
   "version": "3.8.3"
  }
 },
 "nbformat": 4,
 "nbformat_minor": 1
}
