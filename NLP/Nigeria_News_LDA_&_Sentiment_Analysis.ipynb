{
 "cells": [
  {
   "cell_type": "markdown",
   "id": "d1d42260",
   "metadata": {},
   "source": [
    "# **Portfolio Project:** LDA Topic Modeling & VADER Sentiment Analysis for Political News Articles on Events Related to Nigeria in 2019\n",
    "\n",
    "\n",
    "# **Rob Boswell**\n",
    "\n",
    "---\n",
    "\n",
    "### The following portfolio project demonstrates a portion of my skills in Natural Language Processing (NLP) relating to topic modeling and sentiment analysis.\n",
    "\n",
    "---"
   ]
  },
  {
   "cell_type": "code",
   "execution_count": 1,
   "id": "dcb19673",
   "metadata": {},
   "outputs": [],
   "source": [
    "import pandas as pd\n",
    "\n",
    "df = pd.read_csv(\"newsfeed.csv\")"
   ]
  },
  {
   "cell_type": "code",
   "execution_count": 2,
   "id": "a53d1101",
   "metadata": {},
   "outputs": [
    {
     "data": {
      "text/plain": [
       "(24394, 2)"
      ]
     },
     "execution_count": 2,
     "metadata": {},
     "output_type": "execute_result"
    }
   ],
   "source": [
    "df.shape"
   ]
  },
  {
   "cell_type": "code",
   "execution_count": 3,
   "id": "ac0272f7",
   "metadata": {},
   "outputs": [
    {
     "data": {
      "text/plain": [
       "Index(['week', 'text'], dtype='object')"
      ]
     },
     "execution_count": 3,
     "metadata": {},
     "output_type": "execute_result"
    }
   ],
   "source": [
    "df.columns"
   ]
  },
  {
   "cell_type": "markdown",
   "id": "0f07e42e",
   "metadata": {},
   "source": [
    "---\n",
    "---\n",
    "\n",
    "### I originally converted a date column for the news article dataset into the week number in the year 2019 using Excel's WEEKNUM function.\n",
    "\n",
    "### I now will create a column with the label of what quarter of the year each news article was written in, as I intend to later compare sentiment analysis scores by quarter of the year.  The weeks of the year correspond to the following quarters:\n",
    "\n",
    "- Q1 (Weeks 1 - 13)\n",
    "- Q2 (Weeks 14 - 26)\n",
    "- Q3 (Weeks 27 - 39)\n",
    "- Q4 (Weeks 40 - 53)\n",
    "\n",
    "### I do so using the following function:\n",
    "\n",
    "---\n",
    "---"
   ]
  },
  {
   "cell_type": "code",
   "execution_count": 4,
   "id": "97c33838",
   "metadata": {},
   "outputs": [],
   "source": [
    "def quarters(x):\n",
    "    if x <= 13:\n",
    "        return 1\n",
    "    elif x <= 26:\n",
    "        return 2\n",
    "    elif x <= 39:\n",
    "        return 3\n",
    "    else:\n",
    "        return 4\n"
   ]
  },
  {
   "cell_type": "code",
   "execution_count": 5,
   "id": "51dac094",
   "metadata": {},
   "outputs": [],
   "source": [
    "df['quarter'] = df['week'].apply(quarters)"
   ]
  },
  {
   "cell_type": "code",
   "execution_count": 6,
   "id": "207750b4",
   "metadata": {},
   "outputs": [
    {
     "data": {
      "text/plain": [
       "Index(['week', 'text', 'quarter'], dtype='object')"
      ]
     },
     "execution_count": 6,
     "metadata": {},
     "output_type": "execute_result"
    }
   ],
   "source": [
    "df.columns"
   ]
  },
  {
   "cell_type": "code",
   "execution_count": 7,
   "id": "4a4735f8",
   "metadata": {},
   "outputs": [],
   "source": [
    "df_q1 = df.loc[(df['quarter']==1)].copy()"
   ]
  },
  {
   "cell_type": "code",
   "execution_count": 8,
   "id": "17ac0d73",
   "metadata": {},
   "outputs": [],
   "source": [
    "df_q2 = df.loc[(df['quarter']==2)].copy()"
   ]
  },
  {
   "cell_type": "code",
   "execution_count": 9,
   "id": "cb32d689",
   "metadata": {},
   "outputs": [],
   "source": [
    "df_q3 = df.loc[(df['quarter']==3)].copy()"
   ]
  },
  {
   "cell_type": "code",
   "execution_count": 10,
   "id": "91d6ed70",
   "metadata": {},
   "outputs": [],
   "source": [
    "df_q4 = df.loc[(df['quarter']==4)].copy()"
   ]
  },
  {
   "cell_type": "code",
   "execution_count": 11,
   "id": "1b8e5cdc",
   "metadata": {},
   "outputs": [],
   "source": [
    "news = df['text'].copy()"
   ]
  },
  {
   "cell_type": "code",
   "execution_count": 12,
   "id": "f8095c17",
   "metadata": {},
   "outputs": [
    {
     "name": "stderr",
     "output_type": "stream",
     "text": [
      "[nltk_data] Downloading package stopwords to\n",
      "[nltk_data]     C:\\Users\\rsb84\\AppData\\Roaming\\nltk_data...\n",
      "[nltk_data]   Package stopwords is already up-to-date!\n"
     ]
    },
    {
     "data": {
      "text/plain": [
       "True"
      ]
     },
     "execution_count": 12,
     "metadata": {},
     "output_type": "execute_result"
    }
   ],
   "source": [
    "import nltk\n",
    "nltk.download('stopwords')"
   ]
  },
  {
   "cell_type": "markdown",
   "id": "8575dceb",
   "metadata": {},
   "source": [
    "### The following function removes all brackets, numbers, and special characters using regex, lowercases any non-lowercase words, removes stopwords as well as any additional stopwords I specify, and stems and tokenizes each word, all according to standard accepted NLP procedures:"
   ]
  },
  {
   "cell_type": "code",
   "execution_count": 13,
   "id": "710b19e0",
   "metadata": {},
   "outputs": [],
   "source": [
    "def clean_text_tokenize(text_in):\n",
    "    import re\n",
    "    from nltk.corpus import stopwords\n",
    "    from nltk.stem import PorterStemmer\n",
    "    ps = PorterStemmer()\n",
    "    sw = stopwords.words('english')\n",
    "    sw = set(sw)\n",
    "    new_sw = {\"said\", \"says\", \"saying\", \"say\", \"us\", \"since\", \"like\", \"likes\", \"people\"}\n",
    "    sw = sw.union(new_sw)\n",
    "    no_brackets = re.sub(r\"[\\([{})\\]]\", \"\", text_in)\n",
    "    clean_text = re.sub('[^A-z]+', \" \", no_brackets).lower().split()\n",
    "    clean_text = [word for word in clean_text if word not in sw]\n",
    "    clean_text = [ps.stem(word) for word in clean_text]\n",
    "    return clean_text"
   ]
  },
  {
   "cell_type": "code",
   "execution_count": 14,
   "id": "bef7346e",
   "metadata": {},
   "outputs": [],
   "source": [
    "df['text_lda_tokenized']=df.text.apply(clean_text_tokenize)"
   ]
  },
  {
   "cell_type": "code",
   "execution_count": 15,
   "id": "dd5354e3",
   "metadata": {},
   "outputs": [
    {
     "data": {
      "text/plain": [
       "(24394,)"
      ]
     },
     "execution_count": 15,
     "metadata": {},
     "output_type": "execute_result"
    }
   ],
   "source": [
    "df['text_lda_tokenized'].shape"
   ]
  },
  {
   "cell_type": "markdown",
   "id": "c7c26b52",
   "metadata": {},
   "source": [
    "\n",
    "---\n",
    "---\n",
    "\n",
    "# **Latent Dirichlet Allocation (LDA) Topic Modeling Section:**\n",
    "\n"
   ]
  },
  {
   "cell_type": "markdown",
   "id": "f54762f1",
   "metadata": {},
   "source": [
    "## **An Explanation of LDA:**\n",
    "\n",
    "### LDA is a statistical method that identifies latent topics within documents, treating documents as mixtures of topics and topics as mixtures of words. The process involves iteratively reassigning each word to a topic, initially starting from a random distribution and adjusting based on the proportion of words already assigned to topics in the document and the distribution of topics across all documents. This results in two matrices: a document-topic matrix indicating the proportion of topics in each document, and a topic-word matrix showing the distribution of words for each topic.\n",
    "---\n",
    "\n",
    "---\n",
    "\n",
    "## **Choosing the Optimal Number of Topics:**\n",
    "\n",
    "### A limitation of LDA is its reliance on user-specified topic numbers. To determine the optimal number, a coding technique evaluates topics for internal word similarity and minimal overlap between topics. The 'topic coherence score', based on semantic similarity of top-ranking words in a topic, and the 'average topic overlap', calculated using the Jaccard similarity formula, are key metrics. The ideal topic number achieves a balance between maximum topic coherence and minimum topic overlap. In cases of multiple optimal points, the selection depends on the specific analysis goals. This technique is described in detail at: https://stackoverflow.com/questions/32313062/what-is-the-best-way-to-obtain-the-optimal-number-of-topics-for-a-lda-model-usin \n",
    "\n",
    "### To identify topics with internally similar words, I aimed to maximize the Gensim \"topic coherence\" score. This score evaluates semantic similarity among top-ranking words in LDA-derived topics, utilizing a method that integrates the indirect cosine measure, NPMI, and a boolean sliding window (Röder et al., 2015).\n",
    "\n",
    "### Secondly, to minimize topic overlap, I iteratively determined the topic number that yielded the lowest mean Jaccard similarity, a metric calculated by dividing the intersection by the union of words in two topics. This average, representing \"average topic overlap,\" was assessed across all topics for each potential topic number. The ideal topic number maximizes the distance between \"topic coherence score\" and \"average topic overlap.\" When multiple points achieve this maximum, the smallest topic number is selected.\n",
    "\n",
    "\n",
    "---"
   ]
  },
  {
   "cell_type": "code",
   "execution_count": 18,
   "id": "63a583ae",
   "metadata": {},
   "outputs": [],
   "source": [
    "import seaborn as sns\n",
    "import matplotlib.pyplot as plt\n",
    "import numpy as np\n",
    "import gensim\n",
    "from gensim.models import CoherenceModel, LdaModel\n",
    "from gensim import corpora\n",
    "import gensim.corpora as corpora"
   ]
  },
  {
   "cell_type": "code",
   "execution_count": 20,
   "id": "f4328bf3",
   "metadata": {},
   "outputs": [],
   "source": [
    "dirichlet_dict = corpora.Dictionary(df.text_lda_tokenized)\n",
    "bow_corpus = [dirichlet_dict.doc2bow(text) for text in df.text_lda_tokenized]"
   ]
  },
  {
   "cell_type": "code",
   "execution_count": 21,
   "id": "5287726d",
   "metadata": {},
   "outputs": [],
   "source": [
    "# Considering 1-20 topics:\n",
    "num_topics = list(range(21)[1:])\n",
    "num_keywords = 10\n",
    "\n",
    "LDA_models = {}\n",
    "LDA_topics = {}\n",
    "for i in num_topics:\n",
    "    LDA_models[i] = LdaModel(corpus=bow_corpus,\n",
    "                             id2word=dirichlet_dict,\n",
    "                             num_topics=i,\n",
    "                             update_every=1,\n",
    "                             chunksize=len(bow_corpus),\n",
    "                             passes=15,\n",
    "                             alpha='auto',\n",
    "                             random_state=42)\n",
    "\n",
    "    shown_topics = LDA_models[i].show_topics(num_topics=i, \n",
    "                                             num_words=num_keywords,\n",
    "                                             formatted=False)\n",
    "    LDA_topics[i] = [[word[0] for word in topic[1]] for topic in shown_topics]"
   ]
  },
  {
   "cell_type": "code",
   "execution_count": 22,
   "id": "0a033a46",
   "metadata": {},
   "outputs": [],
   "source": [
    "def jaccard_similarity(topic_1, topic_2):\n",
    "    \"\"\"\n",
    "    This function derives the Jaccard similarity of two topics\n",
    "\n",
    "    Jaccard similarity:\n",
    "    - A measurement used for determining the level of similarity or diverence between two sets, e.g., text documents\n",
    "    - J(A,B) = (A ∩ B)/(A ∪ B)\n",
    "    - The lower the Jaccard Similarity score the better as a lower score means less topic overlap. \n",
    "       A score of 0 means two sets share nothing in common, while a score of 1 means they are identical.\n",
    "    \"\"\"\n",
    "    intersection = set(topic_1).intersection(set(topic_2))\n",
    "    union = set(topic_1).union(set(topic_2))\n",
    "                    \n",
    "    return float(len(intersection))/float(len(union))"
   ]
  },
  {
   "cell_type": "code",
   "execution_count": 23,
   "id": "efd6f1e0",
   "metadata": {},
   "outputs": [],
   "source": [
    "LDA_stability = {}\n",
    "for i in range(0, len(num_topics)-1):\n",
    "    jaccard_sims = []\n",
    "    for t1, topic1 in enumerate(LDA_topics[num_topics[i]]):\n",
    "        sims = []\n",
    "        for t2, topic2 in enumerate(LDA_topics[num_topics[i+1]]):\n",
    "            sims.append(jaccard_similarity(topic1, topic2))    \n",
    "        \n",
    "        jaccard_sims.append(sims)    \n",
    "    \n",
    "    LDA_stability[num_topics[i]] = jaccard_sims\n",
    "                \n",
    "mean_stabilities = [np.array(LDA_stability[i]).mean() for i in num_topics[:-1]]"
   ]
  },
  {
   "cell_type": "code",
   "execution_count": 24,
   "id": "9dc313e3",
   "metadata": {},
   "outputs": [],
   "source": [
    "coherences = [CoherenceModel(model=LDA_models[i], texts=df.text_lda_tokenized, dictionary=dirichlet_dict, coherence='c_v').get_coherence()\\\n",
    "              for i in num_topics[:-1]]"
   ]
  },
  {
   "cell_type": "code",
   "execution_count": 25,
   "id": "166ff29f",
   "metadata": {},
   "outputs": [],
   "source": [
    "coh_sta_diffs = [coherences[i] - mean_stabilities[i] for i in range(num_keywords)[:-1]] # This limits topic numbers to the prespecified number of keywords\n",
    "coh_sta_max = max(coh_sta_diffs)\n",
    "coh_sta_max_idxs = [i for i, j in enumerate(coh_sta_diffs) if j == coh_sta_max]\n",
    "ideal_topic_num_index = coh_sta_max_idxs[0] # This chooses the lower topic number in case there are more than one maximum distances between the \"topic coherence score\" and \"average topic overlap\"\n",
    "ideal_topic_num = num_topics[ideal_topic_num_index]"
   ]
  },
  {
   "cell_type": "code",
   "execution_count": 26,
   "id": "291b36e8",
   "metadata": {},
   "outputs": [
    {
     "data": {
      "image/png": "[encoded data removed]",
      "text/plain": [
       "<Figure size 1440x720 with 1 Axes>"
      ]
     },
     "metadata": {
      "needs_background": "light"
     },
     "output_type": "display_data"
    }
   ],
   "source": [
    "plt.figure(figsize=(20,10))\n",
    "ax = sns.lineplot(x=num_topics[:-1], y=mean_stabilities, label='Average Topic Overlap')\n",
    "ax = sns.lineplot(x=num_topics[:-1], y=coherences, label='Topic Coherence')\n",
    "\n",
    "ax.axvline(x=ideal_topic_num, label='Ideal Number of Topics', color='black')\n",
    "ax.axvspan(xmin=ideal_topic_num - 1, xmax=ideal_topic_num + 1, alpha=0.5, facecolor='grey')\n",
    "\n",
    "y_max = max(max(mean_stabilities), max(coherences)) + (0.10 * max(max(mean_stabilities), max(coherences)))\n",
    "ax.set_ylim([0, y_max])\n",
    "ax.set_xlim([1, num_topics[-1]-1])\n",
    "                \n",
    "ax.axes.set_title('Model Metrics per Number of Topics', fontsize=25)\n",
    "ax.set_ylabel('Metric Level', fontsize=20)\n",
    "ax.set_xlabel('Number of Topics', fontsize=20)\n",
    "plt.legend(fontsize=20)\n",
    "plt.show()"
   ]
  },
  {
   "cell_type": "markdown",
   "id": "99f4ce94",
   "metadata": {},
   "source": [
    "### According to the model above, the optimal number of topics in the news article dataset is 9."
   ]
  },
  {
   "cell_type": "code",
   "execution_count": 28,
   "id": "69e4cf2f",
   "metadata": {},
   "outputs": [
    {
     "name": "stdout",
     "output_type": "stream",
     "text": [
      "(0, '0.008*\"protest\" + 0.007*\"govern\" + 0.006*\"year\" + 0.005*\"war\" + 0.004*\"forc\" + 0.004*\"citi\" + 0.004*\"month\" + 0.004*\"countri\" + 0.004*\"demonstr\" + 0.004*\"first\"')\n",
      "(1, '0.009*\"nigeria\" + 0.008*\"develop\" + 0.008*\"technolog\" + 0.007*\"nigerian\" + 0.006*\"nation\" + 0.005*\"africa\" + 0.005*\"year\" + 0.005*\"world\" + 0.005*\"organis\" + 0.004*\"new\"')\n",
      "(2, '0.011*\"presid\" + 0.009*\"trump\" + 0.008*\"nation\" + 0.006*\"new\" + 0.006*\"state\" + 0.005*\"unit\" + 0.005*\"donald\" + 0.004*\"u\" + 0.004*\"human\" + 0.004*\"minist\"')\n",
      "(3, '0.029*\"state\" + 0.016*\"attack\" + 0.016*\"area\" + 0.014*\"kill\" + 0.012*\"boko\" + 0.012*\"haram\" + 0.011*\"local\" + 0.010*\"borno\" + 0.010*\"armi\" + 0.009*\"govern\"')\n",
      "(4, '0.025*\"kill\" + 0.017*\"forc\" + 0.017*\"attack\" + 0.016*\"air\" + 0.013*\"state\" + 0.012*\"terrorist\" + 0.011*\"oper\" + 0.010*\"militari\" + 0.010*\"nigerian\" + 0.009*\"provinc\"')\n",
      "(5, '0.036*\"state\" + 0.018*\"lago\" + 0.012*\"road\" + 0.010*\"accid\" + 0.009*\"govern\" + 0.009*\"tanker\" + 0.009*\"build\" + 0.009*\"area\" + 0.008*\"governor\" + 0.008*\"explos\"')\n",
      "(6, '0.025*\"nigeria\" + 0.019*\"presid\" + 0.013*\"right\" + 0.013*\"buhari\" + 0.012*\"nation\" + 0.012*\"state\" + 0.012*\"govern\" + 0.012*\"countri\" + 0.011*\"human\" + 0.010*\"nigerian\"')\n",
      "(7, '0.043*\"polic\" + 0.026*\"state\" + 0.013*\"kill\" + 0.012*\"suspect\" + 0.010*\"arrest\" + 0.010*\"offic\" + 0.009*\"command\" + 0.007*\"two\" + 0.007*\"three\" + 0.006*\"oper\"')\n",
      "(8, '0.012*\"year\" + 0.009*\"presid\" + 0.009*\"elect\" + 0.007*\"countri\" + 0.005*\"parti\" + 0.005*\"one\" + 0.005*\"last\" + 0.005*\"week\" + 0.004*\"polit\" + 0.004*\"day\"')\n"
     ]
    },
    {
     "data": {
      "text/plain": [
       "[(0,\n",
       "  [('protest', 0.008286956),\n",
       "   ('govern', 0.0069004465),\n",
       "   ('year', 0.005756284),\n",
       "   ('war', 0.0046981266),\n",
       "   ('forc', 0.004445322),\n",
       "   ('citi', 0.004220822),\n",
       "   ('month', 0.0040655932),\n",
       "   ('countri', 0.004024475),\n",
       "   ('demonstr', 0.0038685438),\n",
       "   ('first', 0.0037678955)]),\n",
       " (1,\n",
       "  [('nigeria', 0.008630902),\n",
       "   ('develop', 0.007887234),\n",
       "   ('technolog', 0.0077736326),\n",
       "   ('nigerian', 0.0071380106),\n",
       "   ('nation', 0.0056356867),\n",
       "   ('africa', 0.0051089874),\n",
       "   ('year', 0.0050389897),\n",
       "   ('world', 0.0047182785),\n",
       "   ('organis', 0.004559472),\n",
       "   ('new', 0.0044070138)]),\n",
       " (2,\n",
       "  [('presid', 0.010542161),\n",
       "   ('trump', 0.008725722),\n",
       "   ('nation', 0.008114826),\n",
       "   ('new', 0.006131224),\n",
       "   ('state', 0.005767569),\n",
       "   ('unit', 0.0053335303),\n",
       "   ('donald', 0.0052019767),\n",
       "   ('u', 0.0041046506),\n",
       "   ('human', 0.0040863166),\n",
       "   ('minist', 0.004029168)]),\n",
       " (3,\n",
       "  [('state', 0.029206444),\n",
       "   ('attack', 0.01602447),\n",
       "   ('area', 0.015680756),\n",
       "   ('kill', 0.0142720975),\n",
       "   ('boko', 0.011603227),\n",
       "   ('haram', 0.0115341125),\n",
       "   ('local', 0.0108846845),\n",
       "   ('borno', 0.010392353),\n",
       "   ('armi', 0.009918795),\n",
       "   ('govern', 0.009184564)]),\n",
       " (4,\n",
       "  [('kill', 0.024627868),\n",
       "   ('forc', 0.017053306),\n",
       "   ('attack', 0.016844219),\n",
       "   ('air', 0.015982598),\n",
       "   ('state', 0.01269297),\n",
       "   ('terrorist', 0.011868753),\n",
       "   ('oper', 0.010683266),\n",
       "   ('militari', 0.010110382),\n",
       "   ('nigerian', 0.009779353),\n",
       "   ('provinc', 0.009486001)]),\n",
       " (5,\n",
       "  [('state', 0.03624676),\n",
       "   ('lago', 0.018469593),\n",
       "   ('road', 0.011771105),\n",
       "   ('accid', 0.010084235),\n",
       "   ('govern', 0.009417585),\n",
       "   ('tanker', 0.009270882),\n",
       "   ('build', 0.009130688),\n",
       "   ('area', 0.009121263),\n",
       "   ('governor', 0.008463639),\n",
       "   ('explos', 0.007666969)]),\n",
       " (6,\n",
       "  [('nigeria', 0.025046647),\n",
       "   ('presid', 0.01878234),\n",
       "   ('right', 0.0130536845),\n",
       "   ('buhari', 0.012776169),\n",
       "   ('nation', 0.01242993),\n",
       "   ('state', 0.012227562),\n",
       "   ('govern', 0.0120492615),\n",
       "   ('countri', 0.011570601),\n",
       "   ('human', 0.010688285),\n",
       "   ('nigerian', 0.010428283)]),\n",
       " (7,\n",
       "  [('polic', 0.043476265),\n",
       "   ('state', 0.025971236),\n",
       "   ('kill', 0.013217243),\n",
       "   ('suspect', 0.011832151),\n",
       "   ('arrest', 0.010453578),\n",
       "   ('offic', 0.010349238),\n",
       "   ('command', 0.008562449),\n",
       "   ('two', 0.007486697),\n",
       "   ('three', 0.0066695767),\n",
       "   ('oper', 0.006096005)]),\n",
       " (8,\n",
       "  [('year', 0.0119478665),\n",
       "   ('presid', 0.009259382),\n",
       "   ('elect', 0.009163662),\n",
       "   ('countri', 0.0066281706),\n",
       "   ('parti', 0.005074749),\n",
       "   ('one', 0.004636506),\n",
       "   ('last', 0.004615871),\n",
       "   ('week', 0.0045331996),\n",
       "   ('polit', 0.0044286638),\n",
       "   ('day', 0.0039917673)])]"
      ]
     },
     "execution_count": 28,
     "metadata": {},
     "output_type": "execute_result"
    }
   ],
   "source": [
    "import gensim\n",
    "import gensim.corpora as corpora\n",
    "\n",
    "\n",
    "id2word = corpora.Dictionary(df.text_lda_tokenized) #This creates a corpa out of the tokenized text you provide\n",
    "corpus = [id2word.doc2bow(text) for text in df.text_lda_tokenized]\n",
    "#This identifies the positions of the words and the word frequencies\n",
    "n_topics = 9\n",
    "ldamodel = gensim.models.ldamulticore.LdaMulticore(corpus, num_topics=n_topics, id2word=id2word, passes=15, random_state=42, workers=5)\n",
    "topics = ldamodel.print_topics(num_words=10)\n",
    "for topic in topics:\n",
    "    print(topic)\n",
    "\n",
    "topics = ldamodel.show_topics(num_words = 10, num_topics = 9, formatted = False)\n",
    "topics"
   ]
  },
  {
   "cell_type": "markdown",
   "id": "dd9e3456",
   "metadata": {},
   "source": [
    "### **Important Notes:**\n",
    "\n",
    "### Some of the words in these topics are truncated (e.g., topic 5 lists the word \"explos\" rather than \"explosion\"). This is because \"stemming\" was used prior to LDA topic modeling. Stemming is important for the following reasons:\n",
    "\n",
    "### Purpose: Stemming helps reduce the dimensionality of the text data by grouping different forms of the same word together. This can lead to more coherent topics as variations of the same word (e.g., \"explode\", \"exploding\", and \"explosion\") are treated as a single term.\n",
    "\n",
    "### Impact: Without stemming, the LDA model might treat these variations as separate terms, which can dilute the strength of the topics and make them harder to interpret. You could end up with multiple words sharing the same root word in the same topic, leaving less room for other important words related to that topic.\n",
    "\n",
    "### Also note: This version of LDA topic modeling only shows topics with single words. E.g., topic 4 lists \"kill\", \"forc\", \"attack\", etc. It would be possible to revise the code to instead use LDA topic modeling with groups of 2 words, like \"kill terrorists\", \"air force\", \"military operation\", or more than 2 words, like \"nigerian air force attack\". The current version with single words is merely for demonstration purposes."
   ]
  },
  {
   "cell_type": "markdown",
   "id": "7869c6ef",
   "metadata": {},
   "source": [
    "---\n",
    "\n",
    "### **Conclusion:** \n",
    "\n",
    "### - Topic 0 appears related to anti-government protests, possibly related to a war.\n",
    "### - Topic 1 appears related to the development of technology in Nigeria, possibly in relation to a new technological organization.\n",
    "### - Topic 2 appears related to then U.S. President Donald Trump.\n",
    "### - Topic 3 appears related to Nigerian government forces and attacks on or from Boko Haram.\n",
    "### - Topic 4 appears related Nigerian military attacks on or from terrorists.\n",
    "### - Topic 5 appears related to tanker explosion accidents in Lago State.\n",
    "### - Topic 6 appears related to Nigerian President Buhari and possibly connected to human rights.\n",
    "### - Topic 7 appears related to police arrests and/or killings of suspects.\n",
    "### - Topic 8 appears related to presidential elections.\n"
   ]
  },
  {
   "cell_type": "markdown",
   "id": "7e925556",
   "metadata": {},
   "source": [
    "---\n",
    "---\n",
    "\n",
    "# **Sentiment Analysis Section:**\n",
    "\n"
   ]
  },
  {
   "cell_type": "markdown",
   "id": "143a36c7",
   "metadata": {},
   "source": [
    "### I use the VADER (Valence Aware Dictionary for Sentiment Reasoning) compound score from SentimentIntensityAnalyzer for sentiment analysis. VADER, a lexicon and rule-based technique, excels at detecting nuances in sentiment, including subtle shifts and reversals in meaning. The compound score, ranging from -1 (highly negative) to +1 (highly positive), aggregates positive, negative, and neutral scores.\n",
    "\n",
    "### VADER's accuracy diminishes with longer texts, being more effective for sentences than for paragraphs or full articles. To address this, I split each article into sentences using NLTK's PunktSentenceTokenizer, then calculate VADER's compound score for each sentence. I find the median score per article and the overall median across all articles to gauge general sentiment. Medians are preferred over means to reduce the impact of outliers.\n",
    "\n",
    "### For more specific analyses, like sentences containing certain keywords, I score each sentence separately after filtering with PunktSentenceTokenizer, then calculate the median score of these targeted sentences. This method is detailed further below."
   ]
  },
  {
   "cell_type": "code",
   "execution_count": 29,
   "id": "6e4e0a69",
   "metadata": {},
   "outputs": [],
   "source": [
    "q1_senti = df_q1.text.copy()"
   ]
  },
  {
   "cell_type": "code",
   "execution_count": 30,
   "id": "5bebfc45",
   "metadata": {},
   "outputs": [],
   "source": [
    "q1_senti = pd.DataFrame(q1_senti, index=None)"
   ]
  },
  {
   "cell_type": "code",
   "execution_count": 31,
   "id": "ca4c99a6",
   "metadata": {},
   "outputs": [],
   "source": [
    "q2_senti = df_q2.text.copy()"
   ]
  },
  {
   "cell_type": "code",
   "execution_count": 32,
   "id": "cfd0f5ad",
   "metadata": {},
   "outputs": [],
   "source": [
    "q2_senti = pd.DataFrame(q2_senti, index=None)"
   ]
  },
  {
   "cell_type": "code",
   "execution_count": 33,
   "id": "8b1976db",
   "metadata": {},
   "outputs": [],
   "source": [
    "q3_senti = df_q3.text.copy()"
   ]
  },
  {
   "cell_type": "code",
   "execution_count": 34,
   "id": "4a3c1204",
   "metadata": {},
   "outputs": [],
   "source": [
    "q3_senti = pd.DataFrame(q3_senti, index=None)"
   ]
  },
  {
   "cell_type": "code",
   "execution_count": 35,
   "id": "83fba11e",
   "metadata": {},
   "outputs": [],
   "source": [
    "q4_senti = df_q4.text.copy()"
   ]
  },
  {
   "cell_type": "code",
   "execution_count": 36,
   "id": "4397716b",
   "metadata": {},
   "outputs": [],
   "source": [
    "q4_senti = pd.DataFrame(q4_senti, index=None)"
   ]
  },
  {
   "cell_type": "markdown",
   "id": "c6af2a40",
   "metadata": {},
   "source": [
    "---\n"
   ]
  },
  {
   "cell_type": "markdown",
   "id": "35c114bf",
   "metadata": {},
   "source": [
    "### It is crucial that I do not eliminate periods when cleaning text because doing so would concatonate the text of each corpus. Without periods denoting the endings of sentences, this would not allow me to use the PunktSentenceTokenizer to divide each corpus into sentences and spread them out into multiple columns per row like we would need. I could use text cleaning operations that would remove periods if desired only after dividing corpuses into sentences."
   ]
  },
  {
   "cell_type": "code",
   "execution_count": 37,
   "id": "bc55c410",
   "metadata": {},
   "outputs": [],
   "source": [
    "from nltk import PunktSentenceTokenizer\n",
    "\n",
    "pst = PunktSentenceTokenizer()"
   ]
  },
  {
   "cell_type": "code",
   "execution_count": 38,
   "id": "e6ccd9b1",
   "metadata": {},
   "outputs": [],
   "source": [
    "pst._params.abbrev_types.add('dr')\n",
    "pst._params.abbrev_types.add('sen')\n",
    "pst._params.abbrev_types.add('rep')\n",
    "pst._params.abbrev_types.add('mr')\n",
    "pst._params.abbrev_types.add('ms')\n",
    "pst._params.abbrev_types.add('mrs')\n",
    "pst._params.abbrev_types.add('u.s')\n",
    "pst._params.abbrev_types.add('dr.')\n",
    "pst._params.abbrev_types.add('sen.')\n",
    "pst._params.abbrev_types.add('rep.')\n",
    "pst._params.abbrev_types.add('mr.')\n",
    "pst._params.abbrev_types.add('ms.')\n",
    "pst._params.abbrev_types.add('mrs.')\n",
    "pst._params.abbrev_types.add('u.s.')\n",
    "pst._params.abbrev_types.add('d.c')\n",
    "pst._params.abbrev_types.add('d.c.')\n",
    "pst._params.abbrev_types.add('v.s.')\n",
    "pst._params.abbrev_types.add('v.s')\n",
    "pst._params.abbrev_types.add('ave.')\n",
    "pst._params.abbrev_types.add('ave')\n",
    "pst._params.abbrev_types.add('blvd')\n",
    "pst._params.abbrev_types.add('blvd.')\n",
    "pst._params.abbrev_types.add('rd')\n",
    "pst._params.abbrev_types.add('rd.')\n",
    "pst._params.abbrev_types.add('st')\n",
    "pst._params.abbrev_types.add('st.')\n",
    "pst._params.abbrev_types.add('e.g.')\n",
    "pst._params.abbrev_types.add('e.g')\n",
    "pst._params.abbrev_types.add('i.e.')\n",
    "pst._params.abbrev_types.add('i.e')\n",
    "pst._params.abbrev_types.add('etc')\n",
    "pst._params.abbrev_types.add('etc.')\n",
    "pst._params.abbrev_types.add('p.s.')\n",
    "pst._params.abbrev_types.add('p.s')\n",
    "pst._params.abbrev_types.add('u.k.')\n",
    "pst._params.abbrev_types.add('u.k')\n",
    "pst._params.abbrev_types.add('e.u')\n",
    "pst._params.abbrev_types.add('e.u.')\n",
    "pst._params.abbrev_types.add('u.s.a.')\n",
    "pst._params.abbrev_types.add('u.s.a')\n",
    "pst._params.abbrev_types.add('a.m.')\n",
    "pst._params.abbrev_types.add('a.m')\n",
    "pst._params.abbrev_types.add('p.m.')\n",
    "pst._params.abbrev_types.add('p.m')\n",
    "pst._params.abbrev_types.add('u.a.e.')\n",
    "pst._params.abbrev_types.add('u.a.e')"
   ]
  },
  {
   "cell_type": "markdown",
   "id": "0940782f",
   "metadata": {},
   "source": [
    "---\n",
    "---"
   ]
  },
  {
   "cell_type": "markdown",
   "id": "0af78022",
   "metadata": {},
   "source": [
    "## The following technique divides each corpus of sentences (normally in a single column) into one sentence per column for each corpus based-row:"
   ]
  },
  {
   "cell_type": "code",
   "execution_count": 39,
   "id": "8d3fae89",
   "metadata": {},
   "outputs": [],
   "source": [
    "q1_sentences = []\n",
    "for corpus in q1_senti.text:\n",
    "    q1_sentences.append(pst.sentences_from_text(corpus))"
   ]
  },
  {
   "cell_type": "code",
   "execution_count": 40,
   "id": "e48bcf73",
   "metadata": {},
   "outputs": [],
   "source": [
    "q2_sentences = []\n",
    "for corpus in q2_senti.text:\n",
    "    q2_sentences.append(pst.sentences_from_text(corpus))"
   ]
  },
  {
   "cell_type": "code",
   "execution_count": 41,
   "id": "955e17dc",
   "metadata": {},
   "outputs": [],
   "source": [
    "q3_sentences = []\n",
    "for corpus in q3_senti.text:\n",
    "    q3_sentences.append(pst.sentences_from_text(corpus))"
   ]
  },
  {
   "cell_type": "code",
   "execution_count": 42,
   "id": "927fb399",
   "metadata": {},
   "outputs": [],
   "source": [
    "q4_sentences = []\n",
    "for corpus in q4_senti.text:\n",
    "    q4_sentences.append(pst.sentences_from_text(corpus))"
   ]
  },
  {
   "cell_type": "code",
   "execution_count": 43,
   "id": "f43b59b1",
   "metadata": {},
   "outputs": [],
   "source": [
    "q1_sentences = pd.DataFrame(q1_sentences, index=None)"
   ]
  },
  {
   "cell_type": "code",
   "execution_count": 44,
   "id": "e8d44063",
   "metadata": {},
   "outputs": [],
   "source": [
    "q2_sentences = pd.DataFrame(q2_sentences, index=None)"
   ]
  },
  {
   "cell_type": "code",
   "execution_count": 45,
   "id": "fdf8d8ab",
   "metadata": {},
   "outputs": [],
   "source": [
    "q3_sentences = pd.DataFrame(q3_sentences, index=None)"
   ]
  },
  {
   "cell_type": "code",
   "execution_count": 46,
   "id": "03ce6f62",
   "metadata": {},
   "outputs": [],
   "source": [
    "q4_sentences = pd.DataFrame(q4_sentences, index=None)"
   ]
  },
  {
   "cell_type": "code",
   "execution_count": 47,
   "id": "cdd7d0be",
   "metadata": {},
   "outputs": [
    {
     "data": {
      "text/plain": [
       "(3158, 143)"
      ]
     },
     "execution_count": 47,
     "metadata": {},
     "output_type": "execute_result"
    }
   ],
   "source": [
    "q1_sentences.shape"
   ]
  },
  {
   "cell_type": "markdown",
   "id": "46d99558",
   "metadata": {},
   "source": [
    "### We can see above that there are a total of 3,158 news article-based corpuses in the first quarter dataset, and that the maximum number of sentences in at least one of these news articles is 143."
   ]
  },
  {
   "cell_type": "code",
   "execution_count": 48,
   "id": "58c35021",
   "metadata": {},
   "outputs": [
    {
     "data": {
      "text/html": [
       "<div>\n",
       "<style scoped>\n",
       "    .dataframe tbody tr th:only-of-type {\n",
       "        vertical-align: middle;\n",
       "    }\n",
       "\n",
       "    .dataframe tbody tr th {\n",
       "        vertical-align: top;\n",
       "    }\n",
       "\n",
       "    .dataframe thead th {\n",
       "        text-align: right;\n",
       "    }\n",
       "</style>\n",
       "<table border=\"1\" class=\"dataframe\">\n",
       "  <thead>\n",
       "    <tr style=\"text-align: right;\">\n",
       "      <th></th>\n",
       "      <th>0</th>\n",
       "      <th>1</th>\n",
       "      <th>2</th>\n",
       "      <th>3</th>\n",
       "      <th>4</th>\n",
       "      <th>5</th>\n",
       "      <th>6</th>\n",
       "      <th>7</th>\n",
       "      <th>8</th>\n",
       "      <th>9</th>\n",
       "      <th>...</th>\n",
       "      <th>133</th>\n",
       "      <th>134</th>\n",
       "      <th>135</th>\n",
       "      <th>136</th>\n",
       "      <th>137</th>\n",
       "      <th>138</th>\n",
       "      <th>139</th>\n",
       "      <th>140</th>\n",
       "      <th>141</th>\n",
       "      <th>142</th>\n",
       "    </tr>\n",
       "  </thead>\n",
       "  <tbody>\n",
       "    <tr>\n",
       "      <th>0</th>\n",
       "      <td>the security situation in northern burkina fas...</td>\n",
       "      <td>nearly people have died in intercommunal viole...</td>\n",
       "      <td>this reportedly came after militants killed a ...</td>\n",
       "      <td>a state of emergency has been in place across ...</td>\n",
       "      <td>this gives security forces extra powers.</td>\n",
       "      <td>but the authorities have not deployed any new ...</td>\n",
       "      <td>there is potential for disruptive strikes to o...</td>\n",
       "      <td>the nigeria labour congress nlc the country's ...</td>\n",
       "      <td>and it has that said it is considering organis...</td>\n",
       "      <td>previous nlc strikes over the minimum wage hav...</td>\n",
       "      <td>...</td>\n",
       "      <td>None</td>\n",
       "      <td>None</td>\n",
       "      <td>None</td>\n",
       "      <td>None</td>\n",
       "      <td>None</td>\n",
       "      <td>None</td>\n",
       "      <td>None</td>\n",
       "      <td>None</td>\n",
       "      <td>None</td>\n",
       "      <td>None</td>\n",
       "    </tr>\n",
       "    <tr>\n",
       "      <th>1</th>\n",
       "      <td>armed conflict on january at about hrs informa...</td>\n",
       "      <td>the attackers were repelled after security for...</td>\n",
       "      <td>thenumber of casualties is unknown.on january ...</td>\n",
       "      <td>the troops reportedly neutralised an unknown n...</td>\n",
       "      <td>the casualty figure during the operation is no...</td>\n",
       "      <td>the attack was reportedly repelled and theatta...</td>\n",
       "      <td>the number of casualty is unknown.</td>\n",
       "      <td>on january at about hrs according to informati...</td>\n",
       "      <td>subsequently the attack was repelled immediate...</td>\n",
       "      <td>the number of casualties is unknown.</td>\n",
       "      <td>...</td>\n",
       "      <td>None</td>\n",
       "      <td>None</td>\n",
       "      <td>None</td>\n",
       "      <td>None</td>\n",
       "      <td>None</td>\n",
       "      <td>None</td>\n",
       "      <td>None</td>\n",
       "      <td>None</td>\n",
       "      <td>None</td>\n",
       "      <td>None</td>\n",
       "    </tr>\n",
       "    <tr>\n",
       "      <th>2</th>\n",
       "      <td>on january the un voiced alarm at the uprootin...</td>\n",
       "      <td>attacks by isis in west africa and the boko ha...</td>\n",
       "      <td>security has become a campaign issue.</td>\n",
       "      <td>None</td>\n",
       "      <td>None</td>\n",
       "      <td>None</td>\n",
       "      <td>None</td>\n",
       "      <td>None</td>\n",
       "      <td>None</td>\n",
       "      <td>None</td>\n",
       "      <td>...</td>\n",
       "      <td>None</td>\n",
       "      <td>None</td>\n",
       "      <td>None</td>\n",
       "      <td>None</td>\n",
       "      <td>None</td>\n",
       "      <td>None</td>\n",
       "      <td>None</td>\n",
       "      <td>None</td>\n",
       "      <td>None</td>\n",
       "      <td>None</td>\n",
       "    </tr>\n",
       "  </tbody>\n",
       "</table>\n",
       "<p>3 rows × 143 columns</p>\n",
       "</div>"
      ],
      "text/plain": [
       "                                                 0    \\\n",
       "0  the security situation in northern burkina fas...   \n",
       "1  armed conflict on january at about hrs informa...   \n",
       "2  on january the un voiced alarm at the uprootin...   \n",
       "\n",
       "                                                 1    \\\n",
       "0  nearly people have died in intercommunal viole...   \n",
       "1  the attackers were repelled after security for...   \n",
       "2  attacks by isis in west africa and the boko ha...   \n",
       "\n",
       "                                                 2    \\\n",
       "0  this reportedly came after militants killed a ...   \n",
       "1  thenumber of casualties is unknown.on january ...   \n",
       "2              security has become a campaign issue.   \n",
       "\n",
       "                                                 3    \\\n",
       "0  a state of emergency has been in place across ...   \n",
       "1  the troops reportedly neutralised an unknown n...   \n",
       "2                                               None   \n",
       "\n",
       "                                                 4    \\\n",
       "0           this gives security forces extra powers.   \n",
       "1  the casualty figure during the operation is no...   \n",
       "2                                               None   \n",
       "\n",
       "                                                 5    \\\n",
       "0  but the authorities have not deployed any new ...   \n",
       "1  the attack was reportedly repelled and theatta...   \n",
       "2                                               None   \n",
       "\n",
       "                                                 6    \\\n",
       "0  there is potential for disruptive strikes to o...   \n",
       "1                 the number of casualty is unknown.   \n",
       "2                                               None   \n",
       "\n",
       "                                                 7    \\\n",
       "0  the nigeria labour congress nlc the country's ...   \n",
       "1  on january at about hrs according to informati...   \n",
       "2                                               None   \n",
       "\n",
       "                                                 8    \\\n",
       "0  and it has that said it is considering organis...   \n",
       "1  subsequently the attack was repelled immediate...   \n",
       "2                                               None   \n",
       "\n",
       "                                                 9    ...   133   134   135  \\\n",
       "0  previous nlc strikes over the minimum wage hav...  ...  None  None  None   \n",
       "1               the number of casualties is unknown.  ...  None  None  None   \n",
       "2                                               None  ...  None  None  None   \n",
       "\n",
       "    136   137   138   139   140   141   142  \n",
       "0  None  None  None  None  None  None  None  \n",
       "1  None  None  None  None  None  None  None  \n",
       "2  None  None  None  None  None  None  None  \n",
       "\n",
       "[3 rows x 143 columns]"
      ]
     },
     "execution_count": 48,
     "metadata": {},
     "output_type": "execute_result"
    }
   ],
   "source": [
    "q1_sentences.head(3)"
   ]
  },
  {
   "cell_type": "markdown",
   "id": "9a0cc573",
   "metadata": {},
   "source": [
    "---\n",
    "---"
   ]
  },
  {
   "cell_type": "markdown",
   "id": "a762441e",
   "metadata": {},
   "source": [
    "### Now I take the above dataframe (q1_sentences), and use VADER to create compound scores for each sentence in each of their respective cells above. I then use the same approach for q2_sentences, q3_sentences and q4_sentences: "
   ]
  },
  {
   "cell_type": "code",
   "execution_count": 49,
   "id": "50798ee6",
   "metadata": {},
   "outputs": [],
   "source": [
    "def sentiment_fun(var):\n",
    "    #pip install vaderSentiment\n",
    "    from vaderSentiment.vaderSentiment import SentimentIntensityAnalyzer \n",
    "    sentiment = SentimentIntensityAnalyzer() \n",
    "    out_score = sentiment.polarity_scores(var)\n",
    "    return out_score['compound']"
   ]
  },
  {
   "cell_type": "code",
   "execution_count": 50,
   "id": "93634a0b",
   "metadata": {},
   "outputs": [],
   "source": [
    "q1_vader_sentences = [[sentiment_fun(sentence) for sentence in corpus if sentence is not None] for corpus in q1_sentences.values]"
   ]
  },
  {
   "cell_type": "code",
   "execution_count": 51,
   "id": "5a17802c",
   "metadata": {},
   "outputs": [],
   "source": [
    "q1_vader_sentences_df = pd.DataFrame(q1_vader_sentences)"
   ]
  },
  {
   "cell_type": "code",
   "execution_count": 52,
   "id": "1543fd38",
   "metadata": {},
   "outputs": [],
   "source": [
    "q2_vader_sentences = [[sentiment_fun(sentence) for sentence in corpus if sentence is not None] for corpus in q2_sentences.values]"
   ]
  },
  {
   "cell_type": "code",
   "execution_count": 53,
   "id": "ff457d1a",
   "metadata": {},
   "outputs": [],
   "source": [
    "q2_vader_sentences_df = pd.DataFrame(q2_vader_sentences)"
   ]
  },
  {
   "cell_type": "code",
   "execution_count": 54,
   "id": "6f5962a2",
   "metadata": {},
   "outputs": [],
   "source": [
    "q3_vader_sentences = [[sentiment_fun(sentence) for sentence in corpus if sentence is not None] for corpus in q3_sentences.values]"
   ]
  },
  {
   "cell_type": "code",
   "execution_count": 55,
   "id": "4fb9dd75",
   "metadata": {},
   "outputs": [],
   "source": [
    "q3_vader_sentences_df = pd.DataFrame(q3_vader_sentences)"
   ]
  },
  {
   "cell_type": "code",
   "execution_count": 56,
   "id": "9c1c4184",
   "metadata": {},
   "outputs": [],
   "source": [
    "q4_vader_sentences = [[sentiment_fun(sentence) for sentence in corpus if sentence is not None] for corpus in q4_sentences.values]"
   ]
  },
  {
   "cell_type": "code",
   "execution_count": 57,
   "id": "1b4ec061",
   "metadata": {},
   "outputs": [],
   "source": [
    "q4_vader_sentences_df = pd.DataFrame(q4_vader_sentences)"
   ]
  },
  {
   "cell_type": "code",
   "execution_count": 58,
   "id": "0bc85f1b",
   "metadata": {},
   "outputs": [
    {
     "data": {
      "text/plain": [
       "(3158, 143)"
      ]
     },
     "execution_count": 58,
     "metadata": {},
     "output_type": "execute_result"
    }
   ],
   "source": [
    "q1_vader_sentences_df.shape"
   ]
  },
  {
   "cell_type": "code",
   "execution_count": 59,
   "id": "a0222404",
   "metadata": {},
   "outputs": [
    {
     "data": {
      "text/plain": [
       "(7269, 143)"
      ]
     },
     "execution_count": 59,
     "metadata": {},
     "output_type": "execute_result"
    }
   ],
   "source": [
    "q2_vader_sentences_df.shape"
   ]
  },
  {
   "cell_type": "code",
   "execution_count": 60,
   "id": "21421577",
   "metadata": {},
   "outputs": [
    {
     "data": {
      "text/plain": [
       "(7512, 141)"
      ]
     },
     "execution_count": 60,
     "metadata": {},
     "output_type": "execute_result"
    }
   ],
   "source": [
    "q3_vader_sentences_df.shape"
   ]
  },
  {
   "cell_type": "code",
   "execution_count": 61,
   "id": "71317176",
   "metadata": {},
   "outputs": [
    {
     "data": {
      "text/plain": [
       "(6455, 108)"
      ]
     },
     "execution_count": 61,
     "metadata": {},
     "output_type": "execute_result"
    }
   ],
   "source": [
    "q4_vader_sentences_df.shape"
   ]
  },
  {
   "cell_type": "markdown",
   "id": "6e95c3a2",
   "metadata": {},
   "source": [
    "---\n",
    "---"
   ]
  },
  {
   "cell_type": "markdown",
   "id": "aececf97",
   "metadata": {},
   "source": [
    "### I want to get rid of all VADER compound scores of 0.0000 because I want to restrict my analysis only to those sentences which convey some sort of sentiment - whether positive or negative - rather than nothing at all. I therefore convert all scores of 0.0000 to NaN, which will allow me to easily remove them later when I remove all NaN values together."
   ]
  },
  {
   "cell_type": "code",
   "execution_count": 62,
   "id": "93f9af81",
   "metadata": {},
   "outputs": [],
   "source": [
    "q1_vader_sentences_df.replace(0.0000, np.NaN, inplace=True)"
   ]
  },
  {
   "cell_type": "code",
   "execution_count": 63,
   "id": "aedd847e",
   "metadata": {},
   "outputs": [
    {
     "data": {
      "text/html": [
       "<div>\n",
       "<style scoped>\n",
       "    .dataframe tbody tr th:only-of-type {\n",
       "        vertical-align: middle;\n",
       "    }\n",
       "\n",
       "    .dataframe tbody tr th {\n",
       "        vertical-align: top;\n",
       "    }\n",
       "\n",
       "    .dataframe thead th {\n",
       "        text-align: right;\n",
       "    }\n",
       "</style>\n",
       "<table border=\"1\" class=\"dataframe\">\n",
       "  <thead>\n",
       "    <tr style=\"text-align: right;\">\n",
       "      <th></th>\n",
       "      <th>0</th>\n",
       "      <th>1</th>\n",
       "      <th>2</th>\n",
       "      <th>3</th>\n",
       "      <th>4</th>\n",
       "      <th>5</th>\n",
       "      <th>6</th>\n",
       "      <th>7</th>\n",
       "      <th>8</th>\n",
       "      <th>9</th>\n",
       "      <th>...</th>\n",
       "      <th>133</th>\n",
       "      <th>134</th>\n",
       "      <th>135</th>\n",
       "      <th>136</th>\n",
       "      <th>137</th>\n",
       "      <th>138</th>\n",
       "      <th>139</th>\n",
       "      <th>140</th>\n",
       "      <th>141</th>\n",
       "      <th>142</th>\n",
       "    </tr>\n",
       "  </thead>\n",
       "  <tbody>\n",
       "    <tr>\n",
       "      <th>0</th>\n",
       "      <td>-0.2263</td>\n",
       "      <td>-0.8271</td>\n",
       "      <td>-0.8126</td>\n",
       "      <td>-0.3818</td>\n",
       "      <td>0.3400</td>\n",
       "      <td>-0.0387</td>\n",
       "      <td>-0.5859</td>\n",
       "      <td>-0.2263</td>\n",
       "      <td>-0.3612</td>\n",
       "      <td>-0.6124</td>\n",
       "      <td>...</td>\n",
       "      <td>NaN</td>\n",
       "      <td>NaN</td>\n",
       "      <td>NaN</td>\n",
       "      <td>NaN</td>\n",
       "      <td>NaN</td>\n",
       "      <td>NaN</td>\n",
       "      <td>NaN</td>\n",
       "      <td>NaN</td>\n",
       "      <td>NaN</td>\n",
       "      <td>NaN</td>\n",
       "    </tr>\n",
       "    <tr>\n",
       "      <th>1</th>\n",
       "      <td>0.2960</td>\n",
       "      <td>0.1027</td>\n",
       "      <td>0.3400</td>\n",
       "      <td>NaN</td>\n",
       "      <td>0.1779</td>\n",
       "      <td>-0.4767</td>\n",
       "      <td>-0.4767</td>\n",
       "      <td>0.5423</td>\n",
       "      <td>-0.1531</td>\n",
       "      <td>0.0772</td>\n",
       "      <td>...</td>\n",
       "      <td>NaN</td>\n",
       "      <td>NaN</td>\n",
       "      <td>NaN</td>\n",
       "      <td>NaN</td>\n",
       "      <td>NaN</td>\n",
       "      <td>NaN</td>\n",
       "      <td>NaN</td>\n",
       "      <td>NaN</td>\n",
       "      <td>NaN</td>\n",
       "      <td>NaN</td>\n",
       "    </tr>\n",
       "    <tr>\n",
       "      <th>2</th>\n",
       "      <td>-0.8612</td>\n",
       "      <td>-0.2023</td>\n",
       "      <td>0.3400</td>\n",
       "      <td>NaN</td>\n",
       "      <td>NaN</td>\n",
       "      <td>NaN</td>\n",
       "      <td>NaN</td>\n",
       "      <td>NaN</td>\n",
       "      <td>NaN</td>\n",
       "      <td>NaN</td>\n",
       "      <td>...</td>\n",
       "      <td>NaN</td>\n",
       "      <td>NaN</td>\n",
       "      <td>NaN</td>\n",
       "      <td>NaN</td>\n",
       "      <td>NaN</td>\n",
       "      <td>NaN</td>\n",
       "      <td>NaN</td>\n",
       "      <td>NaN</td>\n",
       "      <td>NaN</td>\n",
       "      <td>NaN</td>\n",
       "    </tr>\n",
       "  </tbody>\n",
       "</table>\n",
       "<p>3 rows × 143 columns</p>\n",
       "</div>"
      ],
      "text/plain": [
       "      0       1       2       3       4       5       6       7       8    \\\n",
       "0 -0.2263 -0.8271 -0.8126 -0.3818  0.3400 -0.0387 -0.5859 -0.2263 -0.3612   \n",
       "1  0.2960  0.1027  0.3400     NaN  0.1779 -0.4767 -0.4767  0.5423 -0.1531   \n",
       "2 -0.8612 -0.2023  0.3400     NaN     NaN     NaN     NaN     NaN     NaN   \n",
       "\n",
       "      9    ...  133  134  135  136  137  138  139  140  141  142  \n",
       "0 -0.6124  ...  NaN  NaN  NaN  NaN  NaN  NaN  NaN  NaN  NaN  NaN  \n",
       "1  0.0772  ...  NaN  NaN  NaN  NaN  NaN  NaN  NaN  NaN  NaN  NaN  \n",
       "2     NaN  ...  NaN  NaN  NaN  NaN  NaN  NaN  NaN  NaN  NaN  NaN  \n",
       "\n",
       "[3 rows x 143 columns]"
      ]
     },
     "execution_count": 63,
     "metadata": {},
     "output_type": "execute_result"
    }
   ],
   "source": [
    "q1_vader_sentences_df.head(3)"
   ]
  },
  {
   "cell_type": "code",
   "execution_count": 64,
   "id": "eb15337d",
   "metadata": {},
   "outputs": [],
   "source": [
    "q2_vader_sentences_df.replace(0.0000, np.NaN, inplace=True)"
   ]
  },
  {
   "cell_type": "code",
   "execution_count": 65,
   "id": "b447597c",
   "metadata": {},
   "outputs": [],
   "source": [
    "q3_vader_sentences_df.replace(0.0000, np.NaN, inplace=True)"
   ]
  },
  {
   "cell_type": "code",
   "execution_count": 66,
   "id": "3fced3ef",
   "metadata": {},
   "outputs": [],
   "source": [
    "q4_vader_sentences_df.replace(0.0000, np.NaN, inplace=True)"
   ]
  },
  {
   "cell_type": "markdown",
   "id": "57732272",
   "metadata": {},
   "source": [
    "### Here, I calculate the median score (row-wise across columns) for each row within each of the 4 dataframes:"
   ]
  },
  {
   "cell_type": "code",
   "execution_count": 67,
   "id": "ebfda8f7",
   "metadata": {},
   "outputs": [],
   "source": [
    "q1_sentences_vader_medians = q1_vader_sentences_df.median(axis=1, skipna=True)"
   ]
  },
  {
   "cell_type": "code",
   "execution_count": 68,
   "id": "10a6777f",
   "metadata": {},
   "outputs": [],
   "source": [
    "q2_sentences_vader_medians = q2_vader_sentences_df.median(axis=1, skipna=True)"
   ]
  },
  {
   "cell_type": "code",
   "execution_count": 69,
   "id": "8767d33f",
   "metadata": {},
   "outputs": [],
   "source": [
    "q3_sentences_vader_medians = q3_vader_sentences_df.median(axis=1, skipna=True)"
   ]
  },
  {
   "cell_type": "code",
   "execution_count": 70,
   "id": "870b9641",
   "metadata": {},
   "outputs": [],
   "source": [
    "q4_sentences_vader_medians = q4_vader_sentences_df.median(axis=1, skipna=True)"
   ]
  },
  {
   "cell_type": "markdown",
   "id": "113c4ee9",
   "metadata": {},
   "source": [
    "---\n",
    "---"
   ]
  },
  {
   "cell_type": "markdown",
   "id": "711534c0",
   "metadata": {},
   "source": [
    "### Here, I calculate the overall median score (by taking the median value across all rows) for each of the 4 dataframes:"
   ]
  },
  {
   "cell_type": "code",
   "execution_count": 71,
   "id": "ba9c4f5e",
   "metadata": {},
   "outputs": [],
   "source": [
    "q1_overall_median_vader_score = q1_sentences_vader_medians.median(axis=0, skipna=True)"
   ]
  },
  {
   "cell_type": "code",
   "execution_count": 72,
   "id": "0e5d2858",
   "metadata": {},
   "outputs": [
    {
     "name": "stdout",
     "output_type": "stream",
     "text": [
      "-0.3818\n"
     ]
    }
   ],
   "source": [
    "print(q1_overall_median_vader_score)"
   ]
  },
  {
   "cell_type": "code",
   "execution_count": 73,
   "id": "8175fb74",
   "metadata": {},
   "outputs": [],
   "source": [
    "q2_overall_median_vader_score = q2_sentences_vader_medians.median(axis=0, skipna=True)"
   ]
  },
  {
   "cell_type": "code",
   "execution_count": 74,
   "id": "e36e7116",
   "metadata": {},
   "outputs": [
    {
     "name": "stdout",
     "output_type": "stream",
     "text": [
      "-0.3818\n"
     ]
    }
   ],
   "source": [
    "print(q2_overall_median_vader_score)"
   ]
  },
  {
   "cell_type": "code",
   "execution_count": 75,
   "id": "337f3479",
   "metadata": {},
   "outputs": [],
   "source": [
    "q3_overall_median_vader_score = q3_sentences_vader_medians.median(axis=0, skipna=True)"
   ]
  },
  {
   "cell_type": "code",
   "execution_count": 76,
   "id": "a5a419e5",
   "metadata": {},
   "outputs": [
    {
     "name": "stdout",
     "output_type": "stream",
     "text": [
      "-0.36569999999999997\n"
     ]
    }
   ],
   "source": [
    "print(q3_overall_median_vader_score)"
   ]
  },
  {
   "cell_type": "code",
   "execution_count": 77,
   "id": "5fd7d51a",
   "metadata": {},
   "outputs": [],
   "source": [
    "q4_overall_median_vader_score = q4_sentences_vader_medians.median(axis=0, skipna=True)"
   ]
  },
  {
   "cell_type": "code",
   "execution_count": 78,
   "id": "c6eaac40",
   "metadata": {},
   "outputs": [
    {
     "name": "stdout",
     "output_type": "stream",
     "text": [
      "-0.31875\n"
     ]
    }
   ],
   "source": [
    "print(q4_overall_median_vader_score)"
   ]
  },
  {
   "cell_type": "markdown",
   "id": "14879c59",
   "metadata": {},
   "source": [
    "---\n",
    "---"
   ]
  },
  {
   "cell_type": "markdown",
   "id": "17475796",
   "metadata": {},
   "source": [
    "### Next, I want to calculate the VADER compound scores for each sentence in each quarter of the 2019 news articles rather than simply finding the overall median VADER compound scores for each quarter. Finding the VADER compound scores for each sentence will allow me to eventually filter for sentences containing certain key words and then to calculate the median VADER compound scores just for these filtered categories of sentences. \n",
    "\n",
    "### I now make it so *each sentence* comprises a single row and single column throughout the entire news article dataset (rather than having each row representative of a single news article, split into one column per sentence as before). Each sentence-based row is placed in one of four datasets depending on the 2019 quarter the article was written in:"
   ]
  },
  {
   "cell_type": "code",
   "execution_count": 79,
   "id": "a44aecbc",
   "metadata": {},
   "outputs": [],
   "source": [
    "from itertools import chain\n",
    "\n",
    "q1_one_sentence_per_row = list(chain.from_iterable(q1_sentences.values))"
   ]
  },
  {
   "cell_type": "code",
   "execution_count": 80,
   "id": "0f873c57",
   "metadata": {},
   "outputs": [],
   "source": [
    "q2_one_sentence_per_row = list(chain.from_iterable(q2_sentences.values))"
   ]
  },
  {
   "cell_type": "code",
   "execution_count": 81,
   "id": "006fe5fa",
   "metadata": {},
   "outputs": [],
   "source": [
    "q3_one_sentence_per_row = list(chain.from_iterable(q3_sentences.values))"
   ]
  },
  {
   "cell_type": "code",
   "execution_count": 82,
   "id": "2a9dd9d1",
   "metadata": {},
   "outputs": [],
   "source": [
    "q4_one_sentence_per_row = list(chain.from_iterable(q4_sentences.values))"
   ]
  },
  {
   "cell_type": "markdown",
   "id": "6eff5799",
   "metadata": {},
   "source": [
    "---\n",
    "---"
   ]
  },
  {
   "cell_type": "markdown",
   "id": "87dfbf75",
   "metadata": {},
   "source": [
    "### Before (with q1_sentences, q2_sentences, q3_sentences, and q4_sentences) all columns following the last sentence in each news article-based row contained \"NaN\" missing values. When I reconstructed each dataframe (above) so that each row (now having just one column) represented an individual sentence, I ended up with all these \"NaN\" values becoming new separate rows. I now want to remove all such \"NaN\" missing value-based rows from each list so that each row will truly be a sentence rather than containing missing values. I use len() before and after removing NaN values to show the number of rows that were removed from each of the four lists because of missing values:"
   ]
  },
  {
   "cell_type": "code",
   "execution_count": 83,
   "id": "e3ce6b12",
   "metadata": {},
   "outputs": [
    {
     "data": {
      "text/plain": [
       "451594"
      ]
     },
     "execution_count": 83,
     "metadata": {},
     "output_type": "execute_result"
    }
   ],
   "source": [
    "len(q1_one_sentence_per_row)"
   ]
  },
  {
   "cell_type": "code",
   "execution_count": 84,
   "id": "1eb2cfa2",
   "metadata": {},
   "outputs": [],
   "source": [
    "q1_one_sentence_per_row = list(filter(None, q1_one_sentence_per_row))"
   ]
  },
  {
   "cell_type": "code",
   "execution_count": 85,
   "id": "9b35742b",
   "metadata": {},
   "outputs": [
    {
     "data": {
      "text/plain": [
       "8139"
      ]
     },
     "execution_count": 85,
     "metadata": {},
     "output_type": "execute_result"
    }
   ],
   "source": [
    "len(q1_one_sentence_per_row)"
   ]
  },
  {
   "cell_type": "code",
   "execution_count": 86,
   "id": "a7c82df3",
   "metadata": {},
   "outputs": [],
   "source": [
    "q1_one_sentence_per_row = pd.DataFrame(q1_one_sentence_per_row)"
   ]
  },
  {
   "cell_type": "markdown",
   "id": "65a44a5c",
   "metadata": {},
   "source": [
    "---"
   ]
  },
  {
   "cell_type": "code",
   "execution_count": 87,
   "id": "00506141",
   "metadata": {},
   "outputs": [
    {
     "data": {
      "text/plain": [
       "1039467"
      ]
     },
     "execution_count": 87,
     "metadata": {},
     "output_type": "execute_result"
    }
   ],
   "source": [
    "len(q2_one_sentence_per_row)"
   ]
  },
  {
   "cell_type": "code",
   "execution_count": 88,
   "id": "32ef69f6",
   "metadata": {},
   "outputs": [],
   "source": [
    "q2_one_sentence_per_row = list(filter(None, q2_one_sentence_per_row))"
   ]
  },
  {
   "cell_type": "code",
   "execution_count": 89,
   "id": "b7c5c652",
   "metadata": {},
   "outputs": [
    {
     "data": {
      "text/plain": [
       "17137"
      ]
     },
     "execution_count": 89,
     "metadata": {},
     "output_type": "execute_result"
    }
   ],
   "source": [
    "len(q2_one_sentence_per_row)"
   ]
  },
  {
   "cell_type": "code",
   "execution_count": 90,
   "id": "d5505ef6",
   "metadata": {},
   "outputs": [],
   "source": [
    "q2_one_sentence_per_row = pd.DataFrame(q2_one_sentence_per_row)"
   ]
  },
  {
   "cell_type": "markdown",
   "id": "6302e4ac",
   "metadata": {},
   "source": [
    "---"
   ]
  },
  {
   "cell_type": "code",
   "execution_count": 91,
   "id": "cd3c4e10",
   "metadata": {},
   "outputs": [
    {
     "data": {
      "text/plain": [
       "1059192"
      ]
     },
     "execution_count": 91,
     "metadata": {},
     "output_type": "execute_result"
    }
   ],
   "source": [
    "len(q3_one_sentence_per_row)"
   ]
  },
  {
   "cell_type": "code",
   "execution_count": 92,
   "id": "4e3d8787",
   "metadata": {},
   "outputs": [],
   "source": [
    "q3_one_sentence_per_row = list(filter(None, q3_one_sentence_per_row))"
   ]
  },
  {
   "cell_type": "code",
   "execution_count": 93,
   "id": "6832eded",
   "metadata": {},
   "outputs": [
    {
     "data": {
      "text/plain": [
       "18121"
      ]
     },
     "execution_count": 93,
     "metadata": {},
     "output_type": "execute_result"
    }
   ],
   "source": [
    "len(q3_one_sentence_per_row)"
   ]
  },
  {
   "cell_type": "code",
   "execution_count": 94,
   "id": "9c811c6e",
   "metadata": {},
   "outputs": [],
   "source": [
    "q3_one_sentence_per_row = pd.DataFrame(q3_one_sentence_per_row)"
   ]
  },
  {
   "cell_type": "markdown",
   "id": "78fcb328",
   "metadata": {},
   "source": [
    "---"
   ]
  },
  {
   "cell_type": "code",
   "execution_count": 95,
   "id": "cee6bec7",
   "metadata": {},
   "outputs": [
    {
     "data": {
      "text/plain": [
       "697140"
      ]
     },
     "execution_count": 95,
     "metadata": {},
     "output_type": "execute_result"
    }
   ],
   "source": [
    "len(q4_one_sentence_per_row)"
   ]
  },
  {
   "cell_type": "code",
   "execution_count": 96,
   "id": "d5d34c5d",
   "metadata": {},
   "outputs": [],
   "source": [
    "q4_one_sentence_per_row = list(filter(None, q4_one_sentence_per_row))"
   ]
  },
  {
   "cell_type": "code",
   "execution_count": 97,
   "id": "62ea730c",
   "metadata": {},
   "outputs": [
    {
     "data": {
      "text/plain": [
       "16141"
      ]
     },
     "execution_count": 97,
     "metadata": {},
     "output_type": "execute_result"
    }
   ],
   "source": [
    "len(q4_one_sentence_per_row)"
   ]
  },
  {
   "cell_type": "code",
   "execution_count": 98,
   "id": "341b94ca",
   "metadata": {},
   "outputs": [],
   "source": [
    "q4_one_sentence_per_row = pd.DataFrame(q4_one_sentence_per_row)"
   ]
  },
  {
   "cell_type": "markdown",
   "id": "3ecaa836",
   "metadata": {},
   "source": [
    "---\n",
    "---"
   ]
  },
  {
   "cell_type": "markdown",
   "id": "29791c02",
   "metadata": {},
   "source": [
    "### I now take each of the four quarterly dataframes composed of one sentence per row, and create a VADER compound score for each sentence within each dataset:"
   ]
  },
  {
   "cell_type": "code",
   "execution_count": 99,
   "id": "81171130",
   "metadata": {},
   "outputs": [],
   "source": [
    "from vaderSentiment.vaderSentiment import SentimentIntensityAnalyzer"
   ]
  },
  {
   "cell_type": "code",
   "execution_count": 100,
   "id": "879abb1d",
   "metadata": {},
   "outputs": [],
   "source": [
    "q1_one_sentence_per_row['vader'] = q1_one_sentence_per_row[0].apply(sentiment_fun)"
   ]
  },
  {
   "cell_type": "code",
   "execution_count": 101,
   "id": "283d05ca",
   "metadata": {},
   "outputs": [],
   "source": [
    "q1_one_sentence_per_row.rename(columns = {0:'text'}, inplace = True)"
   ]
  },
  {
   "cell_type": "markdown",
   "id": "aef1b337",
   "metadata": {},
   "source": [
    "---"
   ]
  },
  {
   "cell_type": "code",
   "execution_count": 102,
   "id": "2b3318aa",
   "metadata": {},
   "outputs": [],
   "source": [
    "q2_one_sentence_per_row['vader'] = q2_one_sentence_per_row[0].apply(sentiment_fun)"
   ]
  },
  {
   "cell_type": "code",
   "execution_count": 103,
   "id": "42f48136",
   "metadata": {},
   "outputs": [],
   "source": [
    "q2_one_sentence_per_row.rename(columns = {0:'text'}, inplace = True)"
   ]
  },
  {
   "cell_type": "markdown",
   "id": "168e65ee",
   "metadata": {},
   "source": [
    "---"
   ]
  },
  {
   "cell_type": "code",
   "execution_count": 104,
   "id": "0434b3b5",
   "metadata": {},
   "outputs": [],
   "source": [
    "q3_one_sentence_per_row['vader'] = q3_one_sentence_per_row[0].apply(sentiment_fun)"
   ]
  },
  {
   "cell_type": "code",
   "execution_count": 105,
   "id": "452b6376",
   "metadata": {},
   "outputs": [],
   "source": [
    "q3_one_sentence_per_row.rename(columns = {0:'text'}, inplace = True)"
   ]
  },
  {
   "cell_type": "markdown",
   "id": "67701b83",
   "metadata": {},
   "source": [
    "---"
   ]
  },
  {
   "cell_type": "code",
   "execution_count": 106,
   "id": "6253b7c3",
   "metadata": {},
   "outputs": [],
   "source": [
    "q4_one_sentence_per_row['vader'] = q4_one_sentence_per_row[0].apply(sentiment_fun)"
   ]
  },
  {
   "cell_type": "code",
   "execution_count": 107,
   "id": "714bc9c0",
   "metadata": {},
   "outputs": [],
   "source": [
    "q4_one_sentence_per_row.rename(columns = {0:'text'}, inplace = True)"
   ]
  },
  {
   "cell_type": "markdown",
   "id": "c87c59e5",
   "metadata": {},
   "source": [
    "---\n",
    "---"
   ]
  },
  {
   "cell_type": "markdown",
   "id": "89d84008",
   "metadata": {},
   "source": [
    "### I now use pandas describe() to show descriptive statistics for the VADER compound scores of each special sentence category within each dataframe. I also hone in specifically on the median score, because I will in the end create a visualization (with R Markdown) using the median scores. The first sentence category below, called \"All Words\", shows the descriptive statistics of VADER compound scores before any filtering for sentences containing specific words occurs:\n",
    "\n",
    "---"
   ]
  },
  {
   "cell_type": "markdown",
   "id": "b79ca5ad",
   "metadata": {},
   "source": [
    "### All Words:"
   ]
  },
  {
   "cell_type": "code",
   "execution_count": 108,
   "id": "ef4c736d",
   "metadata": {},
   "outputs": [],
   "source": [
    "q1_one_sentence_per_row_vader_no_zeros = q1_one_sentence_per_row.vader[q1_one_sentence_per_row['vader'] != float(0.000000)]"
   ]
  },
  {
   "cell_type": "code",
   "execution_count": 109,
   "id": "14144e35",
   "metadata": {},
   "outputs": [
    {
     "data": {
      "text/plain": [
       "count    5825.000000\n",
       "mean       -0.245656\n",
       "std         0.528684\n",
       "min        -0.980800\n",
       "25%        -0.690800\n",
       "50%        -0.401900\n",
       "75%         0.250000\n",
       "max         0.960100\n",
       "Name: vader, dtype: float64"
      ]
     },
     "execution_count": 109,
     "metadata": {},
     "output_type": "execute_result"
    }
   ],
   "source": [
    "q1_one_sentence_per_row_vader_no_zeros.describe()"
   ]
  },
  {
   "cell_type": "code",
   "execution_count": 110,
   "id": "735ff5a6",
   "metadata": {},
   "outputs": [
    {
     "data": {
      "text/plain": [
       "-0.4019"
      ]
     },
     "execution_count": 110,
     "metadata": {},
     "output_type": "execute_result"
    }
   ],
   "source": [
    "q1_one_sentence_per_row_vader_no_zeros.median(axis=0)"
   ]
  },
  {
   "cell_type": "markdown",
   "id": "1e9c1940",
   "metadata": {},
   "source": [
    "---"
   ]
  },
  {
   "cell_type": "code",
   "execution_count": 111,
   "id": "028f57bb",
   "metadata": {},
   "outputs": [],
   "source": [
    "q2_one_sentence_per_row_vader_no_zeros = q2_one_sentence_per_row.vader[q2_one_sentence_per_row['vader'] != float(0.000000)]"
   ]
  },
  {
   "cell_type": "code",
   "execution_count": 112,
   "id": "496ca2af",
   "metadata": {},
   "outputs": [
    {
     "data": {
      "text/plain": [
       "count    11787.000000\n",
       "mean        -0.261280\n",
       "std          0.529099\n",
       "min         -0.987300\n",
       "25%         -0.700300\n",
       "50%         -0.421500\n",
       "75%          0.238200\n",
       "max          0.963300\n",
       "Name: vader, dtype: float64"
      ]
     },
     "execution_count": 112,
     "metadata": {},
     "output_type": "execute_result"
    }
   ],
   "source": [
    "q2_one_sentence_per_row_vader_no_zeros.describe()"
   ]
  },
  {
   "cell_type": "code",
   "execution_count": 113,
   "id": "8aa4b2d6",
   "metadata": {},
   "outputs": [
    {
     "data": {
      "text/plain": [
       "-0.4215"
      ]
     },
     "execution_count": 113,
     "metadata": {},
     "output_type": "execute_result"
    }
   ],
   "source": [
    "q2_one_sentence_per_row_vader_no_zeros.median(axis=0)"
   ]
  },
  {
   "cell_type": "markdown",
   "id": "c0c4eb36",
   "metadata": {},
   "source": [
    "---"
   ]
  },
  {
   "cell_type": "code",
   "execution_count": 114,
   "id": "c50b95b2",
   "metadata": {},
   "outputs": [],
   "source": [
    "q3_one_sentence_per_row_vader_no_zeros = q3_one_sentence_per_row.vader[q3_one_sentence_per_row['vader'] != float(0.000000)]"
   ]
  },
  {
   "cell_type": "markdown",
   "id": "0172a6c2",
   "metadata": {},
   "source": [
    "---"
   ]
  },
  {
   "cell_type": "code",
   "execution_count": 115,
   "id": "03242ae5",
   "metadata": {},
   "outputs": [
    {
     "data": {
      "text/plain": [
       "count    12421.000000\n",
       "mean        -0.256102\n",
       "std          0.524448\n",
       "min         -0.989300\n",
       "25%         -0.695600\n",
       "50%         -0.421500\n",
       "75%          0.238200\n",
       "max          0.971600\n",
       "Name: vader, dtype: float64"
      ]
     },
     "execution_count": 115,
     "metadata": {},
     "output_type": "execute_result"
    }
   ],
   "source": [
    "q3_one_sentence_per_row_vader_no_zeros.describe()"
   ]
  },
  {
   "cell_type": "code",
   "execution_count": 116,
   "id": "dc6b6e9a",
   "metadata": {},
   "outputs": [
    {
     "data": {
      "text/plain": [
       "-0.4215"
      ]
     },
     "execution_count": 116,
     "metadata": {},
     "output_type": "execute_result"
    }
   ],
   "source": [
    "q3_one_sentence_per_row_vader_no_zeros.median(axis=0)"
   ]
  },
  {
   "cell_type": "markdown",
   "id": "9f437047",
   "metadata": {},
   "source": [
    "---"
   ]
  },
  {
   "cell_type": "code",
   "execution_count": 117,
   "id": "2f1f3526",
   "metadata": {},
   "outputs": [],
   "source": [
    "q4_one_sentence_per_row_vader_no_zeros = q4_one_sentence_per_row.vader[q4_one_sentence_per_row['vader'] != float(0.000000)]"
   ]
  },
  {
   "cell_type": "code",
   "execution_count": 118,
   "id": "861ba227",
   "metadata": {},
   "outputs": [
    {
     "data": {
      "text/plain": [
       "count    10736.000000\n",
       "mean        -0.233173\n",
       "std          0.537499\n",
       "min         -0.980800\n",
       "25%         -0.680800\n",
       "50%         -0.401900\n",
       "75%          0.296000\n",
       "max          0.966100\n",
       "Name: vader, dtype: float64"
      ]
     },
     "execution_count": 118,
     "metadata": {},
     "output_type": "execute_result"
    }
   ],
   "source": [
    "q4_one_sentence_per_row_vader_no_zeros.describe()"
   ]
  },
  {
   "cell_type": "code",
   "execution_count": 119,
   "id": "20d463eb",
   "metadata": {},
   "outputs": [
    {
     "data": {
      "text/plain": [
       "-0.4019"
      ]
     },
     "execution_count": 119,
     "metadata": {},
     "output_type": "execute_result"
    }
   ],
   "source": [
    "q4_one_sentence_per_row_vader_no_zeros.median(axis=0)"
   ]
  },
  {
   "cell_type": "markdown",
   "id": "f0168159",
   "metadata": {},
   "source": [
    "---\n",
    "---"
   ]
  },
  {
   "cell_type": "markdown",
   "id": "405c4f6d",
   "metadata": {},
   "source": [
    "### Sentences containing the word \"election\" or \"elections\":"
   ]
  },
  {
   "cell_type": "code",
   "execution_count": 120,
   "id": "02d57a7f",
   "metadata": {},
   "outputs": [],
   "source": [
    "q1_one_sentence_per_row_elections = pd.DataFrame(q1_one_sentence_per_row[q1_one_sentence_per_row.text.str.contains(\"election\") | q1_one_sentence_per_row.text.str.contains(\"elections\")])"
   ]
  },
  {
   "cell_type": "code",
   "execution_count": 121,
   "id": "1533560e",
   "metadata": {},
   "outputs": [],
   "source": [
    "q1_one_sentence_per_row_elections_vader_no_zeros = q1_one_sentence_per_row_elections.vader[q1_one_sentence_per_row_elections['vader'] != float(0.000000)]"
   ]
  },
  {
   "cell_type": "code",
   "execution_count": 122,
   "id": "87351387",
   "metadata": {},
   "outputs": [
    {
     "data": {
      "text/plain": [
       "count    355.000000\n",
       "mean      -0.085052\n",
       "std        0.545170\n",
       "min       -0.933700\n",
       "25%       -0.602400\n",
       "50%       -0.161100\n",
       "75%        0.440400\n",
       "max        0.902300\n",
       "Name: vader, dtype: float64"
      ]
     },
     "execution_count": 122,
     "metadata": {},
     "output_type": "execute_result"
    }
   ],
   "source": [
    "q1_one_sentence_per_row_elections_vader_no_zeros.describe()"
   ]
  },
  {
   "cell_type": "code",
   "execution_count": 123,
   "id": "c6680403",
   "metadata": {},
   "outputs": [
    {
     "data": {
      "text/plain": [
       "-0.1611"
      ]
     },
     "execution_count": 123,
     "metadata": {},
     "output_type": "execute_result"
    }
   ],
   "source": [
    "q1_one_sentence_per_row_elections_vader_no_zeros.median(axis=0)"
   ]
  },
  {
   "cell_type": "markdown",
   "id": "2230b529",
   "metadata": {},
   "source": [
    "---"
   ]
  },
  {
   "cell_type": "code",
   "execution_count": 124,
   "id": "76d76c7d",
   "metadata": {},
   "outputs": [],
   "source": [
    "q2_one_sentence_per_row_elections = pd.DataFrame(q2_one_sentence_per_row[q2_one_sentence_per_row.text.str.contains(\"election\") | q2_one_sentence_per_row.text.str.contains(\"elections\")])"
   ]
  },
  {
   "cell_type": "code",
   "execution_count": 125,
   "id": "2bf6d951",
   "metadata": {},
   "outputs": [],
   "source": [
    "q2_one_sentence_per_row_elections_vader_no_zeros = q2_one_sentence_per_row_elections.vader[q2_one_sentence_per_row_elections['vader'] != float(0.000000)]"
   ]
  },
  {
   "cell_type": "code",
   "execution_count": 126,
   "id": "abfd00e3",
   "metadata": {},
   "outputs": [
    {
     "data": {
      "text/plain": [
       "count    163.000000\n",
       "mean       0.045700\n",
       "std        0.554379\n",
       "min       -0.948500\n",
       "25%       -0.449600\n",
       "50%        0.077200\n",
       "75%        0.571900\n",
       "max        0.886000\n",
       "Name: vader, dtype: float64"
      ]
     },
     "execution_count": 126,
     "metadata": {},
     "output_type": "execute_result"
    }
   ],
   "source": [
    "q2_one_sentence_per_row_elections_vader_no_zeros.describe()"
   ]
  },
  {
   "cell_type": "code",
   "execution_count": 127,
   "id": "41f9fd70",
   "metadata": {},
   "outputs": [
    {
     "data": {
      "text/plain": [
       "0.0772"
      ]
     },
     "execution_count": 127,
     "metadata": {},
     "output_type": "execute_result"
    }
   ],
   "source": [
    "q2_one_sentence_per_row_elections_vader_no_zeros.median(axis=0)"
   ]
  },
  {
   "cell_type": "markdown",
   "id": "9684f4f2",
   "metadata": {},
   "source": [
    "---"
   ]
  },
  {
   "cell_type": "code",
   "execution_count": 128,
   "id": "9e5d167e",
   "metadata": {},
   "outputs": [],
   "source": [
    "q3_one_sentence_per_row_elections = pd.DataFrame(q3_one_sentence_per_row[q3_one_sentence_per_row.text.str.contains(\"election\") | q3_one_sentence_per_row.text.str.contains(\"elections\")])"
   ]
  },
  {
   "cell_type": "code",
   "execution_count": 129,
   "id": "90e76b41",
   "metadata": {},
   "outputs": [],
   "source": [
    "q3_one_sentence_per_row_elections_vader_no_zeros = q3_one_sentence_per_row_elections.vader[q3_one_sentence_per_row_elections['vader'] != float(0.000000)]"
   ]
  },
  {
   "cell_type": "code",
   "execution_count": 130,
   "id": "754d9cf7",
   "metadata": {},
   "outputs": [
    {
     "data": {
      "text/plain": [
       "count    158.000000\n",
       "mean      -0.099552\n",
       "std        0.508252\n",
       "min       -0.932500\n",
       "25%       -0.568275\n",
       "50%       -0.153100\n",
       "75%        0.401900\n",
       "max        0.812600\n",
       "Name: vader, dtype: float64"
      ]
     },
     "execution_count": 130,
     "metadata": {},
     "output_type": "execute_result"
    }
   ],
   "source": [
    "q3_one_sentence_per_row_elections_vader_no_zeros.describe()"
   ]
  },
  {
   "cell_type": "code",
   "execution_count": 131,
   "id": "6f202d2d",
   "metadata": {},
   "outputs": [
    {
     "data": {
      "text/plain": [
       "-0.1531"
      ]
     },
     "execution_count": 131,
     "metadata": {},
     "output_type": "execute_result"
    }
   ],
   "source": [
    "q3_one_sentence_per_row_elections_vader_no_zeros.median(axis=0)"
   ]
  },
  {
   "cell_type": "markdown",
   "id": "bdf08c0f",
   "metadata": {},
   "source": [
    "---"
   ]
  },
  {
   "cell_type": "code",
   "execution_count": 132,
   "id": "94d5adbc",
   "metadata": {},
   "outputs": [],
   "source": [
    "q4_one_sentence_per_row_elections = pd.DataFrame(q4_one_sentence_per_row[q4_one_sentence_per_row.text.str.contains(\"election\") | q4_one_sentence_per_row.text.str.contains(\"elections\")])"
   ]
  },
  {
   "cell_type": "code",
   "execution_count": 133,
   "id": "b34a0ea7",
   "metadata": {},
   "outputs": [],
   "source": [
    "q4_one_sentence_per_row_elections_vader_no_zeros = q4_one_sentence_per_row_elections.vader[q4_one_sentence_per_row_elections['vader'] != float(0.000000)]"
   ]
  },
  {
   "cell_type": "code",
   "execution_count": 134,
   "id": "4ff86376",
   "metadata": {},
   "outputs": [
    {
     "data": {
      "text/plain": [
       "count    122.000000\n",
       "mean      -0.020583\n",
       "std        0.564596\n",
       "min       -0.941300\n",
       "25%       -0.522675\n",
       "50%       -0.054400\n",
       "75%        0.476700\n",
       "max        0.900100\n",
       "Name: vader, dtype: float64"
      ]
     },
     "execution_count": 134,
     "metadata": {},
     "output_type": "execute_result"
    }
   ],
   "source": [
    "q4_one_sentence_per_row_elections_vader_no_zeros.describe()"
   ]
  },
  {
   "cell_type": "code",
   "execution_count": 135,
   "id": "2bd85e91",
   "metadata": {},
   "outputs": [
    {
     "data": {
      "text/plain": [
       "-0.054400000000000004"
      ]
     },
     "execution_count": 135,
     "metadata": {},
     "output_type": "execute_result"
    }
   ],
   "source": [
    "q4_one_sentence_per_row_elections_vader_no_zeros.median(axis=0)"
   ]
  },
  {
   "cell_type": "markdown",
   "id": "b46ca5b1",
   "metadata": {},
   "source": [
    "### Sentences containing the word \"protest\", \"protests\", \"protester\", or \"protesters\":"
   ]
  },
  {
   "cell_type": "code",
   "execution_count": 136,
   "id": "219abe95",
   "metadata": {},
   "outputs": [],
   "source": [
    "q1_one_sentence_per_row_protests = pd.DataFrame(q1_one_sentence_per_row[q1_one_sentence_per_row.text.str.contains(\"protest\") | q1_one_sentence_per_row.text.str.contains(\"protests\") | q1_one_sentence_per_row.text.str.contains(\"protester\") | q1_one_sentence_per_row.text.str.contains(\"protesters\")])"
   ]
  },
  {
   "cell_type": "code",
   "execution_count": 137,
   "id": "262a968e",
   "metadata": {},
   "outputs": [],
   "source": [
    "q1_one_sentence_per_row_protests_vader_no_zeros = q1_one_sentence_per_row_protests.vader[q1_one_sentence_per_row_protests['vader'] != float(0.000000)]"
   ]
  },
  {
   "cell_type": "code",
   "execution_count": 138,
   "id": "c5811b22",
   "metadata": {},
   "outputs": [
    {
     "data": {
      "text/plain": [
       "count    183.000000\n",
       "mean      -0.305215\n",
       "std        0.413701\n",
       "min       -0.945100\n",
       "25%       -0.648600\n",
       "50%       -0.294400\n",
       "75%       -0.128000\n",
       "max        0.893400\n",
       "Name: vader, dtype: float64"
      ]
     },
     "execution_count": 138,
     "metadata": {},
     "output_type": "execute_result"
    }
   ],
   "source": [
    "q1_one_sentence_per_row_protests_vader_no_zeros.describe()"
   ]
  },
  {
   "cell_type": "code",
   "execution_count": 139,
   "id": "93f78c87",
   "metadata": {},
   "outputs": [
    {
     "data": {
      "text/plain": [
       "-0.2944"
      ]
     },
     "execution_count": 139,
     "metadata": {},
     "output_type": "execute_result"
    }
   ],
   "source": [
    "q1_one_sentence_per_row_protests_vader_no_zeros.median(axis=0)"
   ]
  },
  {
   "cell_type": "markdown",
   "id": "60a58195",
   "metadata": {},
   "source": [
    "---"
   ]
  },
  {
   "cell_type": "code",
   "execution_count": 140,
   "id": "f387596e",
   "metadata": {},
   "outputs": [],
   "source": [
    "q2_one_sentence_per_row_protests = pd.DataFrame(q2_one_sentence_per_row[q2_one_sentence_per_row.text.str.contains(\"protest\") | q2_one_sentence_per_row.text.str.contains(\"protests\") | q2_one_sentence_per_row.text.str.contains(\"protester\") | q2_one_sentence_per_row.text.str.contains(\"protesters\")])"
   ]
  },
  {
   "cell_type": "code",
   "execution_count": 141,
   "id": "23e535fd",
   "metadata": {},
   "outputs": [],
   "source": [
    "q2_one_sentence_per_row_protests_vader_no_zeros = q2_one_sentence_per_row_protests.vader[q2_one_sentence_per_row_protests['vader'] != float(0.000000)]"
   ]
  },
  {
   "cell_type": "code",
   "execution_count": 142,
   "id": "8f5c7035",
   "metadata": {},
   "outputs": [
    {
     "data": {
      "text/plain": [
       "count    259.000000\n",
       "mean      -0.361518\n",
       "std        0.404511\n",
       "min       -0.972300\n",
       "25%       -0.695550\n",
       "50%       -0.421500\n",
       "75%       -0.214300\n",
       "max        0.877900\n",
       "Name: vader, dtype: float64"
      ]
     },
     "execution_count": 142,
     "metadata": {},
     "output_type": "execute_result"
    }
   ],
   "source": [
    "q2_one_sentence_per_row_protests_vader_no_zeros.describe()"
   ]
  },
  {
   "cell_type": "code",
   "execution_count": 143,
   "id": "7a608d2f",
   "metadata": {},
   "outputs": [
    {
     "data": {
      "text/plain": [
       "-0.4215"
      ]
     },
     "execution_count": 143,
     "metadata": {},
     "output_type": "execute_result"
    }
   ],
   "source": [
    "q2_one_sentence_per_row_protests_vader_no_zeros.median(axis=0)"
   ]
  },
  {
   "cell_type": "markdown",
   "id": "8798a300",
   "metadata": {},
   "source": [
    "---"
   ]
  },
  {
   "cell_type": "code",
   "execution_count": 144,
   "id": "ce000340",
   "metadata": {},
   "outputs": [],
   "source": [
    "q3_one_sentence_per_row_protests = pd.DataFrame(q3_one_sentence_per_row[q3_one_sentence_per_row.text.str.contains(\"protest\") | q3_one_sentence_per_row.text.str.contains(\"protests\") | q3_one_sentence_per_row.text.str.contains(\"protester\") | q3_one_sentence_per_row.text.str.contains(\"protesters\")])"
   ]
  },
  {
   "cell_type": "code",
   "execution_count": 145,
   "id": "1bb64ce0",
   "metadata": {},
   "outputs": [],
   "source": [
    "q3_one_sentence_per_row_protests_vader_no_zeros = q3_one_sentence_per_row_protests.vader[q3_one_sentence_per_row_protests['vader'] != float(0.000000)]"
   ]
  },
  {
   "cell_type": "code",
   "execution_count": 146,
   "id": "9620320d",
   "metadata": {},
   "outputs": [
    {
     "data": {
      "text/plain": [
       "count    543.000000\n",
       "mean      -0.461390\n",
       "std        0.382368\n",
       "min       -0.957800\n",
       "25%       -0.775000\n",
       "50%       -0.542300\n",
       "75%       -0.226300\n",
       "max        0.851100\n",
       "Name: vader, dtype: float64"
      ]
     },
     "execution_count": 146,
     "metadata": {},
     "output_type": "execute_result"
    }
   ],
   "source": [
    "q3_one_sentence_per_row_protests_vader_no_zeros.describe()"
   ]
  },
  {
   "cell_type": "code",
   "execution_count": 147,
   "id": "51a12e05",
   "metadata": {},
   "outputs": [
    {
     "data": {
      "text/plain": [
       "-0.5423"
      ]
     },
     "execution_count": 147,
     "metadata": {},
     "output_type": "execute_result"
    }
   ],
   "source": [
    "q3_one_sentence_per_row_protests_vader_no_zeros.median(axis=0)"
   ]
  },
  {
   "cell_type": "markdown",
   "id": "9dcb771e",
   "metadata": {},
   "source": [
    "---"
   ]
  },
  {
   "cell_type": "code",
   "execution_count": 148,
   "id": "9c02a834",
   "metadata": {},
   "outputs": [],
   "source": [
    "q4_one_sentence_per_row_protests = pd.DataFrame(q4_one_sentence_per_row[q4_one_sentence_per_row.text.str.contains(\"protest\") | q4_one_sentence_per_row.text.str.contains(\"protests\") | q4_one_sentence_per_row.text.str.contains(\"protester\") | q4_one_sentence_per_row.text.str.contains(\"protesters\")])"
   ]
  },
  {
   "cell_type": "code",
   "execution_count": 149,
   "id": "0d52d611",
   "metadata": {},
   "outputs": [],
   "source": [
    "q4_one_sentence_per_row_protests_vader_no_zeros = q4_one_sentence_per_row_protests.vader[q4_one_sentence_per_row_protests['vader'] != float(0.000000)]"
   ]
  },
  {
   "cell_type": "code",
   "execution_count": 150,
   "id": "db16499b",
   "metadata": {},
   "outputs": [
    {
     "data": {
      "text/plain": [
       "count    299.000000\n",
       "mean      -0.441024\n",
       "std        0.373076\n",
       "min       -0.945100\n",
       "25%       -0.734700\n",
       "50%       -0.526700\n",
       "75%       -0.226300\n",
       "max        0.800500\n",
       "Name: vader, dtype: float64"
      ]
     },
     "execution_count": 150,
     "metadata": {},
     "output_type": "execute_result"
    }
   ],
   "source": [
    "q4_one_sentence_per_row_protests_vader_no_zeros.describe()"
   ]
  },
  {
   "cell_type": "code",
   "execution_count": 151,
   "id": "1d268641",
   "metadata": {},
   "outputs": [
    {
     "data": {
      "text/plain": [
       "-0.5267"
      ]
     },
     "execution_count": 151,
     "metadata": {},
     "output_type": "execute_result"
    }
   ],
   "source": [
    "q4_one_sentence_per_row_protests_vader_no_zeros.median(axis=0)"
   ]
  },
  {
   "cell_type": "markdown",
   "id": "078537a5",
   "metadata": {},
   "source": [
    "### Sentences containing the word \"rights\", \"freedom\", \"liberty\", or \"liberties\":"
   ]
  },
  {
   "cell_type": "code",
   "execution_count": 152,
   "id": "e8004494",
   "metadata": {},
   "outputs": [],
   "source": [
    "q1_one_sentence_per_row_rights = pd.DataFrame(q1_one_sentence_per_row[q1_one_sentence_per_row.text.str.contains(\"rights\") | q1_one_sentence_per_row.text.str.contains(\"freedom\") | q1_one_sentence_per_row.text.str.contains(\"liberty\") | q1_one_sentence_per_row.text.str.contains(\"liberties\")])"
   ]
  },
  {
   "cell_type": "code",
   "execution_count": 153,
   "id": "5f292cc2",
   "metadata": {},
   "outputs": [],
   "source": [
    "q1_one_sentence_per_row_rights_vader_no_zeros = q1_one_sentence_per_row_rights.vader[q1_one_sentence_per_row_rights['vader'] != float(0.000000)]"
   ]
  },
  {
   "cell_type": "code",
   "execution_count": 154,
   "id": "8e7da727",
   "metadata": {},
   "outputs": [
    {
     "data": {
      "text/plain": [
       "count    135.000000\n",
       "mean      -0.160793\n",
       "std        0.594134\n",
       "min       -0.980800\n",
       "25%       -0.700200\n",
       "50%       -0.296000\n",
       "75%        0.371500\n",
       "max        0.944200\n",
       "Name: vader, dtype: float64"
      ]
     },
     "execution_count": 154,
     "metadata": {},
     "output_type": "execute_result"
    }
   ],
   "source": [
    "q1_one_sentence_per_row_rights_vader_no_zeros.describe()"
   ]
  },
  {
   "cell_type": "code",
   "execution_count": 155,
   "id": "1dde2050",
   "metadata": {},
   "outputs": [
    {
     "data": {
      "text/plain": [
       "-0.296"
      ]
     },
     "execution_count": 155,
     "metadata": {},
     "output_type": "execute_result"
    }
   ],
   "source": [
    "q1_one_sentence_per_row_rights_vader_no_zeros.median(axis=0)"
   ]
  },
  {
   "cell_type": "markdown",
   "id": "a5ff67d7",
   "metadata": {},
   "source": [
    "---"
   ]
  },
  {
   "cell_type": "code",
   "execution_count": 156,
   "id": "fbc8378f",
   "metadata": {},
   "outputs": [],
   "source": [
    "q2_one_sentence_per_row_rights = pd.DataFrame(q2_one_sentence_per_row[q2_one_sentence_per_row.text.str.contains(\"rights\") | q2_one_sentence_per_row.text.str.contains(\"freedom\") | q2_one_sentence_per_row.text.str.contains(\"liberty\") | q2_one_sentence_per_row.text.str.contains(\"liberties\")])"
   ]
  },
  {
   "cell_type": "code",
   "execution_count": 157,
   "id": "05711d7c",
   "metadata": {},
   "outputs": [],
   "source": [
    "q2_one_sentence_per_row_rights_vader_no_zeros = q2_one_sentence_per_row_rights.vader[q2_one_sentence_per_row_rights['vader'] != float(0.000000)]"
   ]
  },
  {
   "cell_type": "code",
   "execution_count": 158,
   "id": "bf74d62a",
   "metadata": {},
   "outputs": [
    {
     "data": {
      "text/plain": [
       "count    323.000000\n",
       "mean      -0.084218\n",
       "std        0.588692\n",
       "min       -0.971600\n",
       "25%       -0.624900\n",
       "50%       -0.177900\n",
       "75%        0.485300\n",
       "max        0.954500\n",
       "Name: vader, dtype: float64"
      ]
     },
     "execution_count": 158,
     "metadata": {},
     "output_type": "execute_result"
    }
   ],
   "source": [
    "q2_one_sentence_per_row_rights_vader_no_zeros.describe()"
   ]
  },
  {
   "cell_type": "code",
   "execution_count": 159,
   "id": "eefa9a18",
   "metadata": {},
   "outputs": [
    {
     "data": {
      "text/plain": [
       "-0.1779"
      ]
     },
     "execution_count": 159,
     "metadata": {},
     "output_type": "execute_result"
    }
   ],
   "source": [
    "q2_one_sentence_per_row_rights_vader_no_zeros.median(axis=0)"
   ]
  },
  {
   "cell_type": "markdown",
   "id": "e332378c",
   "metadata": {},
   "source": [
    "---"
   ]
  },
  {
   "cell_type": "code",
   "execution_count": 160,
   "id": "a9d3cff7",
   "metadata": {},
   "outputs": [],
   "source": [
    "q3_one_sentence_per_row_rights = pd.DataFrame(q3_one_sentence_per_row[q3_one_sentence_per_row.text.str.contains(\"rights\") | q3_one_sentence_per_row.text.str.contains(\"freedom\") | q3_one_sentence_per_row.text.str.contains(\"liberty\") | q3_one_sentence_per_row.text.str.contains(\"liberties\")])"
   ]
  },
  {
   "cell_type": "code",
   "execution_count": 161,
   "id": "5cd447da",
   "metadata": {},
   "outputs": [],
   "source": [
    "q3_one_sentence_per_row_rights_vader_no_zeros = q3_one_sentence_per_row_rights.vader[q3_one_sentence_per_row_rights['vader'] != float(0.000000)]"
   ]
  },
  {
   "cell_type": "code",
   "execution_count": 162,
   "id": "c69b7107",
   "metadata": {},
   "outputs": [
    {
     "data": {
      "text/plain": [
       "count    379.000000\n",
       "mean      -0.113163\n",
       "std        0.557515\n",
       "min       -0.938200\n",
       "25%       -0.618650\n",
       "50%       -0.273200\n",
       "75%        0.421500\n",
       "max        0.911800\n",
       "Name: vader, dtype: float64"
      ]
     },
     "execution_count": 162,
     "metadata": {},
     "output_type": "execute_result"
    }
   ],
   "source": [
    "q3_one_sentence_per_row_rights_vader_no_zeros.describe()"
   ]
  },
  {
   "cell_type": "code",
   "execution_count": 163,
   "id": "ef65703a",
   "metadata": {},
   "outputs": [
    {
     "data": {
      "text/plain": [
       "-0.2732"
      ]
     },
     "execution_count": 163,
     "metadata": {},
     "output_type": "execute_result"
    }
   ],
   "source": [
    "q3_one_sentence_per_row_rights_vader_no_zeros.median(axis=0)"
   ]
  },
  {
   "cell_type": "markdown",
   "id": "100243b0",
   "metadata": {},
   "source": [
    "---"
   ]
  },
  {
   "cell_type": "code",
   "execution_count": 164,
   "id": "6f3e4758",
   "metadata": {},
   "outputs": [],
   "source": [
    "q4_one_sentence_per_row_rights = pd.DataFrame(q4_one_sentence_per_row[q4_one_sentence_per_row.text.str.contains(\"rights\") | q4_one_sentence_per_row.text.str.contains(\"freedom\") | q4_one_sentence_per_row.text.str.contains(\"liberty\") | q4_one_sentence_per_row.text.str.contains(\"liberties\")])"
   ]
  },
  {
   "cell_type": "code",
   "execution_count": 165,
   "id": "6a5e8e2c",
   "metadata": {},
   "outputs": [],
   "source": [
    "q4_one_sentence_per_row_rights_vader_no_zeros = q4_one_sentence_per_row_rights.vader[q4_one_sentence_per_row_rights['vader'] != float(0.000000)]"
   ]
  },
  {
   "cell_type": "code",
   "execution_count": 166,
   "id": "5e78c841",
   "metadata": {},
   "outputs": [
    {
     "data": {
      "text/plain": [
       "count    426.000000\n",
       "mean      -0.004027\n",
       "std        0.572954\n",
       "min       -0.953800\n",
       "25%       -0.510600\n",
       "50%       -0.064400\n",
       "75%        0.526700\n",
       "max        0.950900\n",
       "Name: vader, dtype: float64"
      ]
     },
     "execution_count": 166,
     "metadata": {},
     "output_type": "execute_result"
    }
   ],
   "source": [
    "q4_one_sentence_per_row_rights_vader_no_zeros.describe()"
   ]
  },
  {
   "cell_type": "code",
   "execution_count": 167,
   "id": "67d88426",
   "metadata": {},
   "outputs": [
    {
     "data": {
      "text/plain": [
       "-0.0644"
      ]
     },
     "execution_count": 167,
     "metadata": {},
     "output_type": "execute_result"
    }
   ],
   "source": [
    "q4_one_sentence_per_row_rights_vader_no_zeros.median(axis=0)"
   ]
  },
  {
   "cell_type": "markdown",
   "id": "014ac7a5",
   "metadata": {},
   "source": [
    "---\n",
    "---"
   ]
  },
  {
   "cell_type": "markdown",
   "id": "eabb6559",
   "metadata": {},
   "source": [
    "### Sentences containing the word \"government\":"
   ]
  },
  {
   "cell_type": "code",
   "execution_count": 168,
   "id": "90a27b3c",
   "metadata": {},
   "outputs": [],
   "source": [
    "q1_one_sentence_per_row_government = pd.DataFrame(q1_one_sentence_per_row[q1_one_sentence_per_row.text.str.contains(\"government\")])"
   ]
  },
  {
   "cell_type": "code",
   "execution_count": 169,
   "id": "253404b5",
   "metadata": {},
   "outputs": [],
   "source": [
    "q1_one_sentence_per_row_government_vader_no_zeros = q1_one_sentence_per_row_government.vader[q1_one_sentence_per_row_government['vader'] != float(0.000000)]"
   ]
  },
  {
   "cell_type": "code",
   "execution_count": 170,
   "id": "edec8441",
   "metadata": {},
   "outputs": [
    {
     "data": {
      "text/plain": [
       "count    568.000000\n",
       "mean      -0.354443\n",
       "std        0.501744\n",
       "min       -0.972300\n",
       "25%       -0.735100\n",
       "50%       -0.526700\n",
       "75%       -0.025800\n",
       "max        0.954500\n",
       "Name: vader, dtype: float64"
      ]
     },
     "execution_count": 170,
     "metadata": {},
     "output_type": "execute_result"
    }
   ],
   "source": [
    "q1_one_sentence_per_row_government_vader_no_zeros.describe()"
   ]
  },
  {
   "cell_type": "code",
   "execution_count": 171,
   "id": "d8de7717",
   "metadata": {},
   "outputs": [
    {
     "data": {
      "text/plain": [
       "-0.5267"
      ]
     },
     "execution_count": 171,
     "metadata": {},
     "output_type": "execute_result"
    }
   ],
   "source": [
    "q1_one_sentence_per_row_government_vader_no_zeros.median(axis=0)"
   ]
  },
  {
   "cell_type": "markdown",
   "id": "97027de3",
   "metadata": {},
   "source": [
    "---"
   ]
  },
  {
   "cell_type": "code",
   "execution_count": 172,
   "id": "c51a83d9",
   "metadata": {},
   "outputs": [],
   "source": [
    "q2_one_sentence_per_row_government = pd.DataFrame(q2_one_sentence_per_row[q2_one_sentence_per_row.text.str.contains(\"government\")])"
   ]
  },
  {
   "cell_type": "code",
   "execution_count": 173,
   "id": "a4e3e447",
   "metadata": {},
   "outputs": [],
   "source": [
    "q2_one_sentence_per_row_government_vader_no_zeros = q2_one_sentence_per_row_government.vader[q2_one_sentence_per_row_government['vader'] != float(0.000000)]"
   ]
  },
  {
   "cell_type": "code",
   "execution_count": 174,
   "id": "06e61c16",
   "metadata": {},
   "outputs": [
    {
     "data": {
      "text/plain": [
       "count    1205.000000\n",
       "mean       -0.330578\n",
       "std         0.520185\n",
       "min        -0.972300\n",
       "25%        -0.771700\n",
       "50%        -0.493900\n",
       "75%         0.077200\n",
       "max         0.950900\n",
       "Name: vader, dtype: float64"
      ]
     },
     "execution_count": 174,
     "metadata": {},
     "output_type": "execute_result"
    }
   ],
   "source": [
    "q2_one_sentence_per_row_government_vader_no_zeros.describe()"
   ]
  },
  {
   "cell_type": "code",
   "execution_count": 175,
   "id": "e2374208",
   "metadata": {},
   "outputs": [
    {
     "data": {
      "text/plain": [
       "-0.4939"
      ]
     },
     "execution_count": 175,
     "metadata": {},
     "output_type": "execute_result"
    }
   ],
   "source": [
    "q2_one_sentence_per_row_government_vader_no_zeros.median(axis=0)"
   ]
  },
  {
   "cell_type": "markdown",
   "id": "65da9f18",
   "metadata": {},
   "source": [
    "---"
   ]
  },
  {
   "cell_type": "code",
   "execution_count": 176,
   "id": "eed1098f",
   "metadata": {},
   "outputs": [],
   "source": [
    "q3_one_sentence_per_row_government = pd.DataFrame(q3_one_sentence_per_row[q3_one_sentence_per_row.text.str.contains(\"government\")])"
   ]
  },
  {
   "cell_type": "code",
   "execution_count": 177,
   "id": "6a852361",
   "metadata": {},
   "outputs": [],
   "source": [
    "q3_one_sentence_per_row_government_vader_no_zeros = q3_one_sentence_per_row_government.vader[q3_one_sentence_per_row_government['vader'] != float(0.000000)]"
   ]
  },
  {
   "cell_type": "code",
   "execution_count": 178,
   "id": "99b27cea",
   "metadata": {},
   "outputs": [
    {
     "data": {
      "text/plain": [
       "count    1332.000000\n",
       "mean       -0.287866\n",
       "std         0.525666\n",
       "min        -0.989300\n",
       "25%        -0.735100\n",
       "50%        -0.458800\n",
       "75%         0.153100\n",
       "max         0.932500\n",
       "Name: vader, dtype: float64"
      ]
     },
     "execution_count": 178,
     "metadata": {},
     "output_type": "execute_result"
    }
   ],
   "source": [
    "q3_one_sentence_per_row_government_vader_no_zeros.describe()"
   ]
  },
  {
   "cell_type": "code",
   "execution_count": 179,
   "id": "28c6ccdb",
   "metadata": {},
   "outputs": [
    {
     "data": {
      "text/plain": [
       "-0.4588"
      ]
     },
     "execution_count": 179,
     "metadata": {},
     "output_type": "execute_result"
    }
   ],
   "source": [
    "q3_one_sentence_per_row_government_vader_no_zeros.median(axis=0)"
   ]
  },
  {
   "cell_type": "markdown",
   "id": "6061e617",
   "metadata": {},
   "source": [
    "---"
   ]
  },
  {
   "cell_type": "code",
   "execution_count": 180,
   "id": "54982897",
   "metadata": {},
   "outputs": [],
   "source": [
    "q4_one_sentence_per_row_government = pd.DataFrame(q4_one_sentence_per_row[q4_one_sentence_per_row.text.str.contains(\"government\")])"
   ]
  },
  {
   "cell_type": "code",
   "execution_count": 181,
   "id": "1881f9e5",
   "metadata": {},
   "outputs": [],
   "source": [
    "q4_one_sentence_per_row_government_vader_no_zeros = q4_one_sentence_per_row_government.vader[q4_one_sentence_per_row_government['vader'] != float(0.000000)]"
   ]
  },
  {
   "cell_type": "code",
   "execution_count": 182,
   "id": "349423a4",
   "metadata": {},
   "outputs": [
    {
     "data": {
      "text/plain": [
       "count    1003.000000\n",
       "mean       -0.260251\n",
       "std         0.546112\n",
       "min        -0.964300\n",
       "25%        -0.726900\n",
       "50%        -0.440400\n",
       "75%         0.273200\n",
       "max         0.921700\n",
       "Name: vader, dtype: float64"
      ]
     },
     "execution_count": 182,
     "metadata": {},
     "output_type": "execute_result"
    }
   ],
   "source": [
    "q4_one_sentence_per_row_government_vader_no_zeros.describe()"
   ]
  },
  {
   "cell_type": "code",
   "execution_count": 183,
   "id": "005832b4",
   "metadata": {},
   "outputs": [
    {
     "data": {
      "text/plain": [
       "-0.4404"
      ]
     },
     "execution_count": 183,
     "metadata": {},
     "output_type": "execute_result"
    }
   ],
   "source": [
    "q4_one_sentence_per_row_government_vader_no_zeros.median(axis=0)"
   ]
  },
  {
   "cell_type": "markdown",
   "id": "2dde35c4",
   "metadata": {},
   "source": [
    "---\n",
    "---"
   ]
  },
  {
   "cell_type": "markdown",
   "id": "5450628c",
   "metadata": {},
   "source": [
    "### Sentences containing the words \"Nigerian army\":"
   ]
  },
  {
   "cell_type": "code",
   "execution_count": 184,
   "id": "137f9400",
   "metadata": {},
   "outputs": [],
   "source": [
    "q1_one_sentence_per_row_army = pd.DataFrame(q1_one_sentence_per_row[q1_one_sentence_per_row.text.str.contains(\"nigerian army\")])"
   ]
  },
  {
   "cell_type": "code",
   "execution_count": 185,
   "id": "97bbc234",
   "metadata": {},
   "outputs": [],
   "source": [
    "q1_one_sentence_per_row_army_vader_no_zeros = q1_one_sentence_per_row_army.vader[q1_one_sentence_per_row_army['vader'] != float(0.000000)]"
   ]
  },
  {
   "cell_type": "code",
   "execution_count": 186,
   "id": "483c4b68",
   "metadata": {},
   "outputs": [
    {
     "data": {
      "text/plain": [
       "count    48.000000\n",
       "mean     -0.331706\n",
       "std       0.551908\n",
       "min      -0.934900\n",
       "25%      -0.788875\n",
       "50%      -0.485300\n",
       "75%       0.063825\n",
       "max       0.822100\n",
       "Name: vader, dtype: float64"
      ]
     },
     "execution_count": 186,
     "metadata": {},
     "output_type": "execute_result"
    }
   ],
   "source": [
    "q1_one_sentence_per_row_army_vader_no_zeros.describe()"
   ]
  },
  {
   "cell_type": "code",
   "execution_count": 187,
   "id": "efb226ca",
   "metadata": {},
   "outputs": [
    {
     "data": {
      "text/plain": [
       "-0.4853"
      ]
     },
     "execution_count": 187,
     "metadata": {},
     "output_type": "execute_result"
    }
   ],
   "source": [
    "q1_one_sentence_per_row_army_vader_no_zeros.median(axis=0)"
   ]
  },
  {
   "cell_type": "markdown",
   "id": "33f6e73b",
   "metadata": {},
   "source": [
    "---"
   ]
  },
  {
   "cell_type": "code",
   "execution_count": 188,
   "id": "802679cb",
   "metadata": {},
   "outputs": [],
   "source": [
    "q2_one_sentence_per_row_army = pd.DataFrame(q2_one_sentence_per_row[q2_one_sentence_per_row.text.str.contains(\"nigerian army\")])"
   ]
  },
  {
   "cell_type": "code",
   "execution_count": 189,
   "id": "ee4ad974",
   "metadata": {},
   "outputs": [],
   "source": [
    "q2_one_sentence_per_row_army_vader_no_zeros = q2_one_sentence_per_row_army.vader[q2_one_sentence_per_row_army['vader'] != float(0.000000)]"
   ]
  },
  {
   "cell_type": "code",
   "execution_count": 190,
   "id": "81995423",
   "metadata": {},
   "outputs": [
    {
     "data": {
      "text/plain": [
       "count    201.000000\n",
       "mean      -0.590305\n",
       "std        0.418051\n",
       "min       -0.962800\n",
       "25%       -0.862500\n",
       "50%       -0.778300\n",
       "75%       -0.476700\n",
       "max        0.875000\n",
       "Name: vader, dtype: float64"
      ]
     },
     "execution_count": 190,
     "metadata": {},
     "output_type": "execute_result"
    }
   ],
   "source": [
    "q2_one_sentence_per_row_army_vader_no_zeros.describe()"
   ]
  },
  {
   "cell_type": "code",
   "execution_count": 191,
   "id": "5dafb28f",
   "metadata": {},
   "outputs": [
    {
     "data": {
      "text/plain": [
       "-0.7783"
      ]
     },
     "execution_count": 191,
     "metadata": {},
     "output_type": "execute_result"
    }
   ],
   "source": [
    "q2_one_sentence_per_row_army_vader_no_zeros.median(axis=0)"
   ]
  },
  {
   "cell_type": "markdown",
   "id": "c71f9381",
   "metadata": {},
   "source": [
    "---"
   ]
  },
  {
   "cell_type": "code",
   "execution_count": 192,
   "id": "ac69f7d9",
   "metadata": {},
   "outputs": [],
   "source": [
    "q3_one_sentence_per_row_army = pd.DataFrame(q3_one_sentence_per_row[q3_one_sentence_per_row.text.str.contains(\"nigerian army\")])"
   ]
  },
  {
   "cell_type": "code",
   "execution_count": 193,
   "id": "7de6dd21",
   "metadata": {},
   "outputs": [],
   "source": [
    "q3_one_sentence_per_row_army_vader_no_zeros = q3_one_sentence_per_row_army.vader[q3_one_sentence_per_row_army['vader'] != float(0.000000)]"
   ]
  },
  {
   "cell_type": "code",
   "execution_count": 194,
   "id": "e42b0bde",
   "metadata": {},
   "outputs": [
    {
     "data": {
      "text/plain": [
       "count    270.000000\n",
       "mean      -0.422124\n",
       "std        0.501534\n",
       "min       -0.971600\n",
       "25%       -0.840200\n",
       "50%       -0.636750\n",
       "75%       -0.128000\n",
       "max        0.807400\n",
       "Name: vader, dtype: float64"
      ]
     },
     "execution_count": 194,
     "metadata": {},
     "output_type": "execute_result"
    }
   ],
   "source": [
    "q3_one_sentence_per_row_army_vader_no_zeros.describe()"
   ]
  },
  {
   "cell_type": "code",
   "execution_count": 195,
   "id": "51b261db",
   "metadata": {},
   "outputs": [
    {
     "data": {
      "text/plain": [
       "-0.6367499999999999"
      ]
     },
     "execution_count": 195,
     "metadata": {},
     "output_type": "execute_result"
    }
   ],
   "source": [
    "q3_one_sentence_per_row_army_vader_no_zeros.median(axis=0)"
   ]
  },
  {
   "cell_type": "markdown",
   "id": "5ca149fc",
   "metadata": {},
   "source": [
    "---"
   ]
  },
  {
   "cell_type": "code",
   "execution_count": 196,
   "id": "bf8258ba",
   "metadata": {},
   "outputs": [],
   "source": [
    "q4_one_sentence_per_row_army = pd.DataFrame(q4_one_sentence_per_row[q4_one_sentence_per_row.text.str.contains(\"nigerian army\")])"
   ]
  },
  {
   "cell_type": "code",
   "execution_count": 197,
   "id": "69e42d45",
   "metadata": {},
   "outputs": [],
   "source": [
    "q4_one_sentence_per_row_army_vader_no_zeros = q4_one_sentence_per_row_army.vader[q4_one_sentence_per_row_army['vader'] != float(0.000000)]"
   ]
  },
  {
   "cell_type": "code",
   "execution_count": 198,
   "id": "beb8b194",
   "metadata": {},
   "outputs": [
    {
     "data": {
      "text/plain": [
       "count    180.000000\n",
       "mean      -0.266293\n",
       "std        0.575530\n",
       "min       -0.960100\n",
       "25%       -0.771700\n",
       "50%       -0.421500\n",
       "75%        0.361200\n",
       "max        0.857300\n",
       "Name: vader, dtype: float64"
      ]
     },
     "execution_count": 198,
     "metadata": {},
     "output_type": "execute_result"
    }
   ],
   "source": [
    "q4_one_sentence_per_row_army_vader_no_zeros.describe()"
   ]
  },
  {
   "cell_type": "code",
   "execution_count": 199,
   "id": "fe04132b",
   "metadata": {},
   "outputs": [
    {
     "data": {
      "text/plain": [
       "-0.4215"
      ]
     },
     "execution_count": 199,
     "metadata": {},
     "output_type": "execute_result"
    }
   ],
   "source": [
    "q4_one_sentence_per_row_army_vader_no_zeros.median(axis=0)"
   ]
  },
  {
   "cell_type": "markdown",
   "id": "359edf4f",
   "metadata": {},
   "source": [
    "---\n",
    "---"
   ]
  },
  {
   "cell_type": "markdown",
   "id": "7123794d",
   "metadata": {},
   "source": [
    "### Sentences containing the word \"police\":"
   ]
  },
  {
   "cell_type": "code",
   "execution_count": 200,
   "id": "e5000fee",
   "metadata": {},
   "outputs": [],
   "source": [
    "q1_one_sentence_per_row_police = pd.DataFrame(q1_one_sentence_per_row[q1_one_sentence_per_row.text.str.contains(\"police\")])"
   ]
  },
  {
   "cell_type": "code",
   "execution_count": 201,
   "id": "b3892df2",
   "metadata": {},
   "outputs": [],
   "source": [
    "q1_one_sentence_per_row_police_vader_no_zeros = q1_one_sentence_per_row_police.vader[q1_one_sentence_per_row_police['vader'] != float(0.000000)]"
   ]
  },
  {
   "cell_type": "code",
   "execution_count": 202,
   "id": "20375a23",
   "metadata": {},
   "outputs": [
    {
     "data": {
      "text/plain": [
       "count    283.000000\n",
       "mean      -0.515807\n",
       "std        0.412829\n",
       "min       -0.953800\n",
       "25%       -0.815100\n",
       "50%       -0.670500\n",
       "75%       -0.389200\n",
       "max        0.831600\n",
       "Name: vader, dtype: float64"
      ]
     },
     "execution_count": 202,
     "metadata": {},
     "output_type": "execute_result"
    }
   ],
   "source": [
    "q1_one_sentence_per_row_police_vader_no_zeros.describe()"
   ]
  },
  {
   "cell_type": "code",
   "execution_count": 203,
   "id": "831dd0b7",
   "metadata": {},
   "outputs": [
    {
     "data": {
      "text/plain": [
       "-0.6705"
      ]
     },
     "execution_count": 203,
     "metadata": {},
     "output_type": "execute_result"
    }
   ],
   "source": [
    "q1_one_sentence_per_row_police_vader_no_zeros.median(axis=0)"
   ]
  },
  {
   "cell_type": "markdown",
   "id": "87516b47",
   "metadata": {},
   "source": [
    "---"
   ]
  },
  {
   "cell_type": "code",
   "execution_count": 204,
   "id": "1b62fa6d",
   "metadata": {},
   "outputs": [],
   "source": [
    "q2_one_sentence_per_row_police = pd.DataFrame(q2_one_sentence_per_row[q2_one_sentence_per_row.text.str.contains(\"police\")])"
   ]
  },
  {
   "cell_type": "code",
   "execution_count": 205,
   "id": "c8d6168f",
   "metadata": {},
   "outputs": [],
   "source": [
    "q2_one_sentence_per_row_police_vader_no_zeros = q2_one_sentence_per_row_police.vader[q2_one_sentence_per_row_police['vader'] != float(0.000000)]"
   ]
  },
  {
   "cell_type": "code",
   "execution_count": 206,
   "id": "839030eb",
   "metadata": {},
   "outputs": [
    {
     "data": {
      "text/plain": [
       "count    762.000000\n",
       "mean      -0.475327\n",
       "std        0.436995\n",
       "min       -0.978100\n",
       "25%       -0.807300\n",
       "50%       -0.624900\n",
       "75%       -0.300750\n",
       "max        0.844200\n",
       "Name: vader, dtype: float64"
      ]
     },
     "execution_count": 206,
     "metadata": {},
     "output_type": "execute_result"
    }
   ],
   "source": [
    "q2_one_sentence_per_row_police_vader_no_zeros.describe()"
   ]
  },
  {
   "cell_type": "code",
   "execution_count": 207,
   "id": "561ac47e",
   "metadata": {},
   "outputs": [
    {
     "data": {
      "text/plain": [
       "-0.6249"
      ]
     },
     "execution_count": 207,
     "metadata": {},
     "output_type": "execute_result"
    }
   ],
   "source": [
    "q2_one_sentence_per_row_police_vader_no_zeros.median(axis=0)"
   ]
  },
  {
   "cell_type": "markdown",
   "id": "2f92dc00",
   "metadata": {},
   "source": [
    "---"
   ]
  },
  {
   "cell_type": "code",
   "execution_count": 208,
   "id": "5ae034b6",
   "metadata": {},
   "outputs": [],
   "source": [
    "q3_one_sentence_per_row_police = pd.DataFrame(q3_one_sentence_per_row[q3_one_sentence_per_row.text.str.contains(\"police\")])"
   ]
  },
  {
   "cell_type": "code",
   "execution_count": 209,
   "id": "68f569ea",
   "metadata": {},
   "outputs": [],
   "source": [
    "q3_one_sentence_per_row_police_vader_no_zeros = q3_one_sentence_per_row_police.vader[q3_one_sentence_per_row_police['vader'] != float(0.000000)]"
   ]
  },
  {
   "cell_type": "code",
   "execution_count": 210,
   "id": "5cb573e8",
   "metadata": {},
   "outputs": [
    {
     "data": {
      "text/plain": [
       "count    1158.000000\n",
       "mean       -0.470303\n",
       "std         0.440810\n",
       "min        -0.969800\n",
       "25%        -0.790600\n",
       "50%        -0.648600\n",
       "75%        -0.296000\n",
       "max         0.884700\n",
       "Name: vader, dtype: float64"
      ]
     },
     "execution_count": 210,
     "metadata": {},
     "output_type": "execute_result"
    }
   ],
   "source": [
    "q3_one_sentence_per_row_police_vader_no_zeros.describe()"
   ]
  },
  {
   "cell_type": "code",
   "execution_count": 211,
   "id": "dd4a029a",
   "metadata": {},
   "outputs": [
    {
     "data": {
      "text/plain": [
       "-0.6486"
      ]
     },
     "execution_count": 211,
     "metadata": {},
     "output_type": "execute_result"
    }
   ],
   "source": [
    "q3_one_sentence_per_row_police_vader_no_zeros.median(axis=0)"
   ]
  },
  {
   "cell_type": "markdown",
   "id": "d4a1a6b5",
   "metadata": {},
   "source": [
    "---"
   ]
  },
  {
   "cell_type": "code",
   "execution_count": 212,
   "id": "fd5c3905",
   "metadata": {},
   "outputs": [],
   "source": [
    "q4_one_sentence_per_row_police = pd.DataFrame(q4_one_sentence_per_row[q4_one_sentence_per_row.text.str.contains(\"police\")])"
   ]
  },
  {
   "cell_type": "code",
   "execution_count": 213,
   "id": "7280c04d",
   "metadata": {},
   "outputs": [],
   "source": [
    "q4_one_sentence_per_row_police_vader_no_zeros = q4_one_sentence_per_row_police.vader[q4_one_sentence_per_row_police['vader'] != float(0.000000)]"
   ]
  },
  {
   "cell_type": "code",
   "execution_count": 214,
   "id": "f1bb776a",
   "metadata": {},
   "outputs": [
    {
     "data": {
      "text/plain": [
       "count    680.000000\n",
       "mean      -0.464350\n",
       "std        0.437471\n",
       "min       -0.976900\n",
       "25%       -0.790600\n",
       "50%       -0.605900\n",
       "75%       -0.337275\n",
       "max        0.889800\n",
       "Name: vader, dtype: float64"
      ]
     },
     "execution_count": 214,
     "metadata": {},
     "output_type": "execute_result"
    }
   ],
   "source": [
    "q4_one_sentence_per_row_police_vader_no_zeros.describe()"
   ]
  },
  {
   "cell_type": "code",
   "execution_count": 215,
   "id": "8246f374",
   "metadata": {},
   "outputs": [
    {
     "data": {
      "text/plain": [
       "-0.6059000000000001"
      ]
     },
     "execution_count": 215,
     "metadata": {},
     "output_type": "execute_result"
    }
   ],
   "source": [
    "q4_one_sentence_per_row_police_vader_no_zeros.median(axis=0)"
   ]
  },
  {
   "cell_type": "markdown",
   "id": "40c018e6",
   "metadata": {},
   "source": [
    "---\n",
    "---"
   ]
  },
  {
   "cell_type": "markdown",
   "id": "5e887fc2",
   "metadata": {},
   "source": [
    "### Sentences containing the word \"justice system\", \"judicial system\", \"judiciary\", \"court system\", \"court\", or \"courts\":"
   ]
  },
  {
   "cell_type": "code",
   "execution_count": 216,
   "id": "a3fd495b",
   "metadata": {},
   "outputs": [],
   "source": [
    "q1_one_sentence_per_row_courts = pd.DataFrame(q1_one_sentence_per_row[q1_one_sentence_per_row.text.str.contains(\"justice system\") | q1_one_sentence_per_row.text.str.contains(\"judicial system\") | q1_one_sentence_per_row.text.str.contains(\"judiciary\") | q1_one_sentence_per_row.text.str.contains(\"court system\") | q1_one_sentence_per_row.text.str.contains(\"court\") | q1_one_sentence_per_row.text.str.contains(\"courts\")])"
   ]
  },
  {
   "cell_type": "code",
   "execution_count": 217,
   "id": "f643c68a",
   "metadata": {},
   "outputs": [],
   "source": [
    "q1_one_sentence_per_row_courts_vader_no_zeros = q1_one_sentence_per_row_courts.vader[q1_one_sentence_per_row_courts['vader'] != float(0.000000)]"
   ]
  },
  {
   "cell_type": "code",
   "execution_count": 218,
   "id": "77e89fae",
   "metadata": {},
   "outputs": [
    {
     "data": {
      "text/plain": [
       "count    142.000000\n",
       "mean      -0.223411\n",
       "std        0.529118\n",
       "min       -0.946000\n",
       "25%       -0.719875\n",
       "50%       -0.284600\n",
       "75%        0.226300\n",
       "max        0.946000\n",
       "Name: vader, dtype: float64"
      ]
     },
     "execution_count": 218,
     "metadata": {},
     "output_type": "execute_result"
    }
   ],
   "source": [
    "q1_one_sentence_per_row_courts_vader_no_zeros.describe()"
   ]
  },
  {
   "cell_type": "code",
   "execution_count": 219,
   "id": "968b03db",
   "metadata": {},
   "outputs": [
    {
     "data": {
      "text/plain": [
       "-0.28459999999999996"
      ]
     },
     "execution_count": 219,
     "metadata": {},
     "output_type": "execute_result"
    }
   ],
   "source": [
    "q1_one_sentence_per_row_courts_vader_no_zeros.median(axis=0)"
   ]
  },
  {
   "cell_type": "markdown",
   "id": "92af7c23",
   "metadata": {},
   "source": [
    "---"
   ]
  },
  {
   "cell_type": "code",
   "execution_count": 220,
   "id": "9768cd16",
   "metadata": {},
   "outputs": [],
   "source": [
    "q2_one_sentence_per_row_courts = pd.DataFrame(q2_one_sentence_per_row[q2_one_sentence_per_row.text.str.contains(\"justice system\") | q2_one_sentence_per_row.text.str.contains(\"judicial system\") | q2_one_sentence_per_row.text.str.contains(\"judiciary\") | q2_one_sentence_per_row.text.str.contains(\"court system\") | q2_one_sentence_per_row.text.str.contains(\"court\") | q2_one_sentence_per_row.text.str.contains(\"courts\")])"
   ]
  },
  {
   "cell_type": "code",
   "execution_count": 221,
   "id": "fa480825",
   "metadata": {},
   "outputs": [],
   "source": [
    "q2_one_sentence_per_row_courts_vader_no_zeros = q2_one_sentence_per_row_courts.vader[q2_one_sentence_per_row_courts['vader'] != float(0.000000)]"
   ]
  },
  {
   "cell_type": "code",
   "execution_count": 222,
   "id": "191450ea",
   "metadata": {},
   "outputs": [
    {
     "data": {
      "text/plain": [
       "count    207.000000\n",
       "mean      -0.180316\n",
       "std        0.532890\n",
       "min       -0.944000\n",
       "25%       -0.648600\n",
       "50%       -0.361200\n",
       "75%        0.329100\n",
       "max        0.902200\n",
       "Name: vader, dtype: float64"
      ]
     },
     "execution_count": 222,
     "metadata": {},
     "output_type": "execute_result"
    }
   ],
   "source": [
    "q2_one_sentence_per_row_courts_vader_no_zeros.describe()"
   ]
  },
  {
   "cell_type": "code",
   "execution_count": 223,
   "id": "445c1ac6",
   "metadata": {},
   "outputs": [
    {
     "data": {
      "text/plain": [
       "-0.3612"
      ]
     },
     "execution_count": 223,
     "metadata": {},
     "output_type": "execute_result"
    }
   ],
   "source": [
    "q2_one_sentence_per_row_courts_vader_no_zeros.median(axis=0)"
   ]
  },
  {
   "cell_type": "markdown",
   "id": "bc5944df",
   "metadata": {},
   "source": [
    "---"
   ]
  },
  {
   "cell_type": "code",
   "execution_count": 224,
   "id": "796cab46",
   "metadata": {},
   "outputs": [],
   "source": [
    "q3_one_sentence_per_row_courts = pd.DataFrame(q3_one_sentence_per_row[q3_one_sentence_per_row.text.str.contains(\"justice system\") | q3_one_sentence_per_row.text.str.contains(\"judicial system\") | q3_one_sentence_per_row.text.str.contains(\"judiciary\") | q3_one_sentence_per_row.text.str.contains(\"court system\") | q3_one_sentence_per_row.text.str.contains(\"court\") | q3_one_sentence_per_row.text.str.contains(\"courts\")])"
   ]
  },
  {
   "cell_type": "code",
   "execution_count": 225,
   "id": "d34204eb",
   "metadata": {},
   "outputs": [],
   "source": [
    "q3_one_sentence_per_row_courts_vader_no_zeros = q3_one_sentence_per_row_courts.vader[q3_one_sentence_per_row_courts['vader'] != float(0.000000)]"
   ]
  },
  {
   "cell_type": "code",
   "execution_count": 226,
   "id": "fe402da6",
   "metadata": {},
   "outputs": [
    {
     "data": {
      "text/plain": [
       "count    271.000000\n",
       "mean      -0.157954\n",
       "std        0.576899\n",
       "min       -0.967000\n",
       "25%       -0.690800\n",
       "50%       -0.296000\n",
       "75%        0.371500\n",
       "max        0.888500\n",
       "Name: vader, dtype: float64"
      ]
     },
     "execution_count": 226,
     "metadata": {},
     "output_type": "execute_result"
    }
   ],
   "source": [
    "q3_one_sentence_per_row_courts_vader_no_zeros.describe()"
   ]
  },
  {
   "cell_type": "code",
   "execution_count": 227,
   "id": "3bb3d7af",
   "metadata": {},
   "outputs": [
    {
     "data": {
      "text/plain": [
       "-0.296"
      ]
     },
     "execution_count": 227,
     "metadata": {},
     "output_type": "execute_result"
    }
   ],
   "source": [
    "q3_one_sentence_per_row_courts_vader_no_zeros.median(axis=0)"
   ]
  },
  {
   "cell_type": "markdown",
   "id": "99e68175",
   "metadata": {},
   "source": [
    "---"
   ]
  },
  {
   "cell_type": "code",
   "execution_count": 228,
   "id": "14cb099f",
   "metadata": {},
   "outputs": [],
   "source": [
    "q4_one_sentence_per_row_courts = pd.DataFrame(q4_one_sentence_per_row[q4_one_sentence_per_row.text.str.contains(\"justice system\") | q4_one_sentence_per_row.text.str.contains(\"judicial system\") | q4_one_sentence_per_row.text.str.contains(\"judiciary\") | q4_one_sentence_per_row.text.str.contains(\"court system\") | q4_one_sentence_per_row.text.str.contains(\"court\") | q4_one_sentence_per_row.text.str.contains(\"courts\")])"
   ]
  },
  {
   "cell_type": "code",
   "execution_count": 229,
   "id": "b616d390",
   "metadata": {},
   "outputs": [],
   "source": [
    "q4_one_sentence_per_row_courts_vader_no_zeros = q4_one_sentence_per_row_courts.vader[q4_one_sentence_per_row_courts['vader'] != float(0.000000)]"
   ]
  },
  {
   "cell_type": "code",
   "execution_count": 230,
   "id": "a4c54672",
   "metadata": {},
   "outputs": [
    {
     "data": {
      "text/plain": [
       "count    291.000000\n",
       "mean      -0.123811\n",
       "std        0.577444\n",
       "min       -0.980800\n",
       "25%       -0.659700\n",
       "50%       -0.250000\n",
       "75%        0.421500\n",
       "max        0.906200\n",
       "Name: vader, dtype: float64"
      ]
     },
     "execution_count": 230,
     "metadata": {},
     "output_type": "execute_result"
    }
   ],
   "source": [
    "q4_one_sentence_per_row_courts_vader_no_zeros.describe()"
   ]
  },
  {
   "cell_type": "code",
   "execution_count": 231,
   "id": "d9302ddb",
   "metadata": {},
   "outputs": [
    {
     "data": {
      "text/plain": [
       "-0.25"
      ]
     },
     "execution_count": 231,
     "metadata": {},
     "output_type": "execute_result"
    }
   ],
   "source": [
    "q4_one_sentence_per_row_courts_vader_no_zeros.median(axis=0)"
   ]
  },
  {
   "cell_type": "markdown",
   "id": "ff391e3c",
   "metadata": {},
   "source": [
    "---\n",
    "---"
   ]
  },
  {
   "cell_type": "markdown",
   "id": "9fc8440d",
   "metadata": {},
   "source": [
    "### Sentences containing the words \"Boko Haram\":"
   ]
  },
  {
   "cell_type": "code",
   "execution_count": 232,
   "id": "86f30c04",
   "metadata": {},
   "outputs": [],
   "source": [
    "q1_one_sentence_per_row_boko_haram = pd.DataFrame(q1_one_sentence_per_row[q1_one_sentence_per_row.text.str.contains(\"boko haram\")])"
   ]
  },
  {
   "cell_type": "code",
   "execution_count": 233,
   "id": "a3290e07",
   "metadata": {},
   "outputs": [],
   "source": [
    "q1_one_sentence_per_row_boko_haram_vader_no_zeros = q1_one_sentence_per_row_boko_haram.vader[q1_one_sentence_per_row_boko_haram['vader'] != float(0.000000)]"
   ]
  },
  {
   "cell_type": "code",
   "execution_count": 234,
   "id": "755c89c3",
   "metadata": {},
   "outputs": [
    {
     "data": {
      "text/plain": [
       "count    288.000000\n",
       "mean      -0.508719\n",
       "std        0.425532\n",
       "min       -0.968200\n",
       "25%       -0.822500\n",
       "50%       -0.670500\n",
       "75%       -0.361200\n",
       "max        0.836600\n",
       "Name: vader, dtype: float64"
      ]
     },
     "execution_count": 234,
     "metadata": {},
     "output_type": "execute_result"
    }
   ],
   "source": [
    "q1_one_sentence_per_row_boko_haram_vader_no_zeros.describe()"
   ]
  },
  {
   "cell_type": "code",
   "execution_count": 235,
   "id": "aa8b5fa2",
   "metadata": {},
   "outputs": [
    {
     "data": {
      "text/plain": [
       "-0.6705"
      ]
     },
     "execution_count": 235,
     "metadata": {},
     "output_type": "execute_result"
    }
   ],
   "source": [
    "q1_one_sentence_per_row_boko_haram_vader_no_zeros.median(axis=0)"
   ]
  },
  {
   "cell_type": "markdown",
   "id": "6ecd758f",
   "metadata": {},
   "source": [
    "---"
   ]
  },
  {
   "cell_type": "code",
   "execution_count": 236,
   "id": "7f1605ca",
   "metadata": {},
   "outputs": [],
   "source": [
    "q2_one_sentence_per_row_boko_haram = pd.DataFrame(q2_one_sentence_per_row[q2_one_sentence_per_row.text.str.contains(\"boko haram\")])"
   ]
  },
  {
   "cell_type": "code",
   "execution_count": 237,
   "id": "99e1fb6a",
   "metadata": {},
   "outputs": [],
   "source": [
    "q2_one_sentence_per_row_boko_haram_vader_no_zeros = q2_one_sentence_per_row_boko_haram.vader[q2_one_sentence_per_row_boko_haram['vader'] != float(0.000000)]"
   ]
  },
  {
   "cell_type": "code",
   "execution_count": 238,
   "id": "7fff8f22",
   "metadata": {},
   "outputs": [
    {
     "data": {
      "text/plain": [
       "count    644.000000\n",
       "mean      -0.531293\n",
       "std        0.441749\n",
       "min       -0.964800\n",
       "25%       -0.862500\n",
       "50%       -0.680800\n",
       "75%       -0.381800\n",
       "max        0.963300\n",
       "Name: vader, dtype: float64"
      ]
     },
     "execution_count": 238,
     "metadata": {},
     "output_type": "execute_result"
    }
   ],
   "source": [
    "q2_one_sentence_per_row_boko_haram_vader_no_zeros.describe()"
   ]
  },
  {
   "cell_type": "code",
   "execution_count": 239,
   "id": "dbfa89e1",
   "metadata": {},
   "outputs": [
    {
     "data": {
      "text/plain": [
       "-0.6808"
      ]
     },
     "execution_count": 239,
     "metadata": {},
     "output_type": "execute_result"
    }
   ],
   "source": [
    "q2_one_sentence_per_row_boko_haram_vader_no_zeros.median(axis=0)"
   ]
  },
  {
   "cell_type": "markdown",
   "id": "171ca455",
   "metadata": {},
   "source": [
    "---"
   ]
  },
  {
   "cell_type": "code",
   "execution_count": 240,
   "id": "432303c2",
   "metadata": {},
   "outputs": [],
   "source": [
    "q3_one_sentence_per_row_boko_haram = pd.DataFrame(q3_one_sentence_per_row[q3_one_sentence_per_row.text.str.contains(\"boko haram\")])"
   ]
  },
  {
   "cell_type": "code",
   "execution_count": 241,
   "id": "af20b751",
   "metadata": {},
   "outputs": [],
   "source": [
    "q3_one_sentence_per_row_boko_haram_vader_no_zeros = q3_one_sentence_per_row_boko_haram.vader[q3_one_sentence_per_row_boko_haram['vader'] != float(0.000000)]"
   ]
  },
  {
   "cell_type": "code",
   "execution_count": 242,
   "id": "6ac9081a",
   "metadata": {},
   "outputs": [
    {
     "data": {
      "text/plain": [
       "count    703.000000\n",
       "mean      -0.533254\n",
       "std        0.400835\n",
       "min       -0.971600\n",
       "25%       -0.859100\n",
       "50%       -0.624900\n",
       "75%       -0.381800\n",
       "max        0.844200\n",
       "Name: vader, dtype: float64"
      ]
     },
     "execution_count": 242,
     "metadata": {},
     "output_type": "execute_result"
    }
   ],
   "source": [
    "q3_one_sentence_per_row_boko_haram_vader_no_zeros.describe()"
   ]
  },
  {
   "cell_type": "code",
   "execution_count": 243,
   "id": "6b7cad34",
   "metadata": {},
   "outputs": [
    {
     "data": {
      "text/plain": [
       "-0.6249"
      ]
     },
     "execution_count": 243,
     "metadata": {},
     "output_type": "execute_result"
    }
   ],
   "source": [
    "q3_one_sentence_per_row_boko_haram_vader_no_zeros.median(axis=0)"
   ]
  },
  {
   "cell_type": "markdown",
   "id": "19d48265",
   "metadata": {},
   "source": [
    "---"
   ]
  },
  {
   "cell_type": "code",
   "execution_count": 244,
   "id": "0db64c39",
   "metadata": {},
   "outputs": [],
   "source": [
    "q4_one_sentence_per_row_boko_haram = pd.DataFrame(q4_one_sentence_per_row[q4_one_sentence_per_row.text.str.contains(\"boko haram\")])"
   ]
  },
  {
   "cell_type": "code",
   "execution_count": 245,
   "id": "52971a70",
   "metadata": {},
   "outputs": [],
   "source": [
    "q4_one_sentence_per_row_boko_haram_vader_no_zeros = q4_one_sentence_per_row_boko_haram.vader[q4_one_sentence_per_row_boko_haram['vader'] != float(0.000000)]"
   ]
  },
  {
   "cell_type": "code",
   "execution_count": 246,
   "id": "c279e514",
   "metadata": {},
   "outputs": [
    {
     "data": {
      "text/plain": [
       "count    500.000000\n",
       "mean      -0.521087\n",
       "std        0.432834\n",
       "min       -0.969400\n",
       "25%       -0.849050\n",
       "50%       -0.670500\n",
       "75%       -0.334550\n",
       "max        0.784100\n",
       "Name: vader, dtype: float64"
      ]
     },
     "execution_count": 246,
     "metadata": {},
     "output_type": "execute_result"
    }
   ],
   "source": [
    "q4_one_sentence_per_row_boko_haram_vader_no_zeros.describe()"
   ]
  },
  {
   "cell_type": "code",
   "execution_count": 247,
   "id": "e02776f1",
   "metadata": {},
   "outputs": [
    {
     "data": {
      "text/plain": [
       "-0.6705"
      ]
     },
     "execution_count": 247,
     "metadata": {},
     "output_type": "execute_result"
    }
   ],
   "source": [
    "q4_one_sentence_per_row_boko_haram_vader_no_zeros.median(axis=0)"
   ]
  },
  {
   "cell_type": "markdown",
   "id": "33c7e4b5",
   "metadata": {},
   "source": [
    "---\n",
    "---"
   ]
  },
  {
   "cell_type": "markdown",
   "id": "3f1c5a59",
   "metadata": {},
   "source": [
    "### Sentences containing the word \"Islamic State\", \"ISIS\", or \"ISIL\":"
   ]
  },
  {
   "cell_type": "code",
   "execution_count": 248,
   "id": "11e9b11a",
   "metadata": {},
   "outputs": [],
   "source": [
    "q1_one_sentence_per_row_isis = pd.DataFrame(q1_one_sentence_per_row[q1_one_sentence_per_row.text.str.contains(\"islamic state\") | q1_one_sentence_per_row.text.str.contains(\"isis\") | q1_one_sentence_per_row.text.str.contains(\"isil\")])"
   ]
  },
  {
   "cell_type": "code",
   "execution_count": 249,
   "id": "74fe973b",
   "metadata": {},
   "outputs": [],
   "source": [
    "q1_one_sentence_per_row_isis_vader_no_zeros = q1_one_sentence_per_row_isis.vader[q1_one_sentence_per_row_isis['vader'] != float(0.000000)]"
   ]
  },
  {
   "cell_type": "code",
   "execution_count": 250,
   "id": "85243497",
   "metadata": {},
   "outputs": [
    {
     "data": {
      "text/plain": [
       "count    144.000000\n",
       "mean      -0.569021\n",
       "std        0.339280\n",
       "min       -0.955200\n",
       "25%       -0.812600\n",
       "50%       -0.642750\n",
       "75%       -0.401900\n",
       "max        0.784500\n",
       "Name: vader, dtype: float64"
      ]
     },
     "execution_count": 250,
     "metadata": {},
     "output_type": "execute_result"
    }
   ],
   "source": [
    "q1_one_sentence_per_row_isis_vader_no_zeros.describe()"
   ]
  },
  {
   "cell_type": "code",
   "execution_count": 251,
   "id": "6b1a51a4",
   "metadata": {},
   "outputs": [
    {
     "data": {
      "text/plain": [
       "-0.6427499999999999"
      ]
     },
     "execution_count": 251,
     "metadata": {},
     "output_type": "execute_result"
    }
   ],
   "source": [
    "q1_one_sentence_per_row_isis_vader_no_zeros.median(axis=0)"
   ]
  },
  {
   "cell_type": "markdown",
   "id": "0ced5e20",
   "metadata": {},
   "source": [
    "---"
   ]
  },
  {
   "cell_type": "code",
   "execution_count": 252,
   "id": "8ca2c8c9",
   "metadata": {},
   "outputs": [],
   "source": [
    "q2_one_sentence_per_row_isis = pd.DataFrame(q2_one_sentence_per_row[q2_one_sentence_per_row.text.str.contains(\"islamic state\") | q2_one_sentence_per_row.text.str.contains(\"isis\") | q2_one_sentence_per_row.text.str.contains(\"isil\")])"
   ]
  },
  {
   "cell_type": "code",
   "execution_count": 253,
   "id": "d645938a",
   "metadata": {},
   "outputs": [],
   "source": [
    "q2_one_sentence_per_row_isis_vader_no_zeros = q2_one_sentence_per_row_isis.vader[q2_one_sentence_per_row_isis['vader'] != float(0.000000)]"
   ]
  },
  {
   "cell_type": "code",
   "execution_count": 254,
   "id": "eb5aed23",
   "metadata": {},
   "outputs": [
    {
     "data": {
      "text/plain": [
       "count    268.000000\n",
       "mean      -0.581148\n",
       "std        0.369688\n",
       "min       -0.974100\n",
       "25%       -0.831600\n",
       "50%       -0.690800\n",
       "75%       -0.440400\n",
       "max        0.954500\n",
       "Name: vader, dtype: float64"
      ]
     },
     "execution_count": 254,
     "metadata": {},
     "output_type": "execute_result"
    }
   ],
   "source": [
    "q2_one_sentence_per_row_isis_vader_no_zeros.describe()"
   ]
  },
  {
   "cell_type": "code",
   "execution_count": 255,
   "id": "6f8b3fac",
   "metadata": {},
   "outputs": [
    {
     "data": {
      "text/plain": [
       "-0.6908"
      ]
     },
     "execution_count": 255,
     "metadata": {},
     "output_type": "execute_result"
    }
   ],
   "source": [
    "q2_one_sentence_per_row_isis_vader_no_zeros.median(axis=0)"
   ]
  },
  {
   "cell_type": "markdown",
   "id": "3aad3643",
   "metadata": {},
   "source": [
    "---"
   ]
  },
  {
   "cell_type": "code",
   "execution_count": 256,
   "id": "b7e77701",
   "metadata": {},
   "outputs": [],
   "source": [
    "q3_one_sentence_per_row_isis = pd.DataFrame(q3_one_sentence_per_row[q3_one_sentence_per_row.text.str.contains(\"islamic state\") | q3_one_sentence_per_row.text.str.contains(\"isis\") | q3_one_sentence_per_row.text.str.contains(\"isil\")])"
   ]
  },
  {
   "cell_type": "code",
   "execution_count": 257,
   "id": "9ca0461d",
   "metadata": {},
   "outputs": [],
   "source": [
    "q3_one_sentence_per_row_isis_vader_no_zeros = q3_one_sentence_per_row_isis.vader[q3_one_sentence_per_row_isis['vader'] != float(0.000000)]"
   ]
  },
  {
   "cell_type": "code",
   "execution_count": 258,
   "id": "c710bc05",
   "metadata": {},
   "outputs": [
    {
     "data": {
      "text/plain": [
       "count    285.000000\n",
       "mean      -0.595236\n",
       "std        0.352697\n",
       "min       -0.961200\n",
       "25%       -0.840200\n",
       "50%       -0.700300\n",
       "75%       -0.476700\n",
       "max        0.784500\n",
       "Name: vader, dtype: float64"
      ]
     },
     "execution_count": 258,
     "metadata": {},
     "output_type": "execute_result"
    }
   ],
   "source": [
    "q3_one_sentence_per_row_isis_vader_no_zeros.describe()"
   ]
  },
  {
   "cell_type": "code",
   "execution_count": 259,
   "id": "026e8e22",
   "metadata": {},
   "outputs": [
    {
     "data": {
      "text/plain": [
       "-0.7003"
      ]
     },
     "execution_count": 259,
     "metadata": {},
     "output_type": "execute_result"
    }
   ],
   "source": [
    "q3_one_sentence_per_row_isis_vader_no_zeros.median(axis=0)"
   ]
  },
  {
   "cell_type": "markdown",
   "id": "7426357d",
   "metadata": {},
   "source": [
    "---"
   ]
  },
  {
   "cell_type": "code",
   "execution_count": 260,
   "id": "6d47c4e0",
   "metadata": {},
   "outputs": [],
   "source": [
    "q4_one_sentence_per_row_isis = pd.DataFrame(q4_one_sentence_per_row[q4_one_sentence_per_row.text.str.contains(\"islamic state\") | q4_one_sentence_per_row.text.str.contains(\"isis\") | q4_one_sentence_per_row.text.str.contains(\"isil\")])"
   ]
  },
  {
   "cell_type": "code",
   "execution_count": 261,
   "id": "69a97a4b",
   "metadata": {},
   "outputs": [],
   "source": [
    "q4_one_sentence_per_row_isis_vader_no_zeros = q4_one_sentence_per_row_isis.vader[q4_one_sentence_per_row_isis['vader'] != float(0.000000)]"
   ]
  },
  {
   "cell_type": "code",
   "execution_count": 262,
   "id": "8c5a2e87",
   "metadata": {},
   "outputs": [
    {
     "data": {
      "text/plain": [
       "count    275.000000\n",
       "mean      -0.544879\n",
       "std        0.363350\n",
       "min       -0.963300\n",
       "25%       -0.824800\n",
       "50%       -0.659700\n",
       "75%       -0.371500\n",
       "max        0.680800\n",
       "Name: vader, dtype: float64"
      ]
     },
     "execution_count": 262,
     "metadata": {},
     "output_type": "execute_result"
    }
   ],
   "source": [
    "q4_one_sentence_per_row_isis_vader_no_zeros.describe()"
   ]
  },
  {
   "cell_type": "code",
   "execution_count": 263,
   "id": "a2f2f48b",
   "metadata": {},
   "outputs": [
    {
     "data": {
      "text/plain": [
       "-0.6597"
      ]
     },
     "execution_count": 263,
     "metadata": {},
     "output_type": "execute_result"
    }
   ],
   "source": [
    "q4_one_sentence_per_row_isis_vader_no_zeros.median(axis=0)"
   ]
  },
  {
   "cell_type": "markdown",
   "id": "f9da20ac",
   "metadata": {},
   "source": [
    "---\n",
    "---"
   ]
  },
  {
   "cell_type": "markdown",
   "id": "78a336a7",
   "metadata": {},
   "source": [
    "### Sentences containing the word \"safety\":"
   ]
  },
  {
   "cell_type": "code",
   "execution_count": 264,
   "id": "8de866d2",
   "metadata": {},
   "outputs": [],
   "source": [
    "q1_one_sentence_per_row_safety = pd.DataFrame(q1_one_sentence_per_row[q1_one_sentence_per_row.text.str.contains(\"safety\")])"
   ]
  },
  {
   "cell_type": "code",
   "execution_count": 265,
   "id": "a5c109e9",
   "metadata": {},
   "outputs": [],
   "source": [
    "q1_one_sentence_per_row_safety_vader_no_zeros = q1_one_sentence_per_row_safety.vader[q1_one_sentence_per_row_safety['vader'] != float(0.000000)]"
   ]
  },
  {
   "cell_type": "code",
   "execution_count": 266,
   "id": "70065e1b",
   "metadata": {},
   "outputs": [
    {
     "data": {
      "text/plain": [
       "count    56.000000\n",
       "mean      0.182095\n",
       "std       0.553988\n",
       "min      -0.831600\n",
       "25%      -0.371375\n",
       "50%       0.411700\n",
       "75%       0.642600\n",
       "max       0.946000\n",
       "Name: vader, dtype: float64"
      ]
     },
     "execution_count": 266,
     "metadata": {},
     "output_type": "execute_result"
    }
   ],
   "source": [
    "q1_one_sentence_per_row_safety_vader_no_zeros.describe()"
   ]
  },
  {
   "cell_type": "code",
   "execution_count": 267,
   "id": "5158e670",
   "metadata": {},
   "outputs": [
    {
     "data": {
      "text/plain": [
       "0.41169999999999995"
      ]
     },
     "execution_count": 267,
     "metadata": {},
     "output_type": "execute_result"
    }
   ],
   "source": [
    "q1_one_sentence_per_row_safety_vader_no_zeros.median(axis=0)"
   ]
  },
  {
   "cell_type": "markdown",
   "id": "3f30a954",
   "metadata": {},
   "source": [
    "---"
   ]
  },
  {
   "cell_type": "code",
   "execution_count": 268,
   "id": "5b150e13",
   "metadata": {},
   "outputs": [],
   "source": [
    "q2_one_sentence_per_row_safety = pd.DataFrame(q2_one_sentence_per_row[q2_one_sentence_per_row.text.str.contains(\"safety\")])"
   ]
  },
  {
   "cell_type": "code",
   "execution_count": 269,
   "id": "8812444b",
   "metadata": {},
   "outputs": [],
   "source": [
    "q2_one_sentence_per_row_safety_vader_no_zeros = q2_one_sentence_per_row_safety.vader[q2_one_sentence_per_row_safety['vader'] != float(0.000000)]"
   ]
  },
  {
   "cell_type": "code",
   "execution_count": 270,
   "id": "30f00c42",
   "metadata": {},
   "outputs": [
    {
     "data": {
      "text/plain": [
       "count    115.000000\n",
       "mean       0.152760\n",
       "std        0.519354\n",
       "min       -0.859100\n",
       "25%       -0.282150\n",
       "50%        0.318200\n",
       "75%        0.571900\n",
       "max        0.877900\n",
       "Name: vader, dtype: float64"
      ]
     },
     "execution_count": 270,
     "metadata": {},
     "output_type": "execute_result"
    }
   ],
   "source": [
    "q2_one_sentence_per_row_safety_vader_no_zeros.describe()"
   ]
  },
  {
   "cell_type": "code",
   "execution_count": 271,
   "id": "54e903fa",
   "metadata": {},
   "outputs": [
    {
     "data": {
      "text/plain": [
       "0.3182"
      ]
     },
     "execution_count": 271,
     "metadata": {},
     "output_type": "execute_result"
    }
   ],
   "source": [
    "q2_one_sentence_per_row_safety_vader_no_zeros.median(axis=0)"
   ]
  },
  {
   "cell_type": "markdown",
   "id": "74a169c1",
   "metadata": {},
   "source": [
    "---"
   ]
  },
  {
   "cell_type": "code",
   "execution_count": 272,
   "id": "af180344",
   "metadata": {},
   "outputs": [],
   "source": [
    "q3_one_sentence_per_row_safety = pd.DataFrame(q3_one_sentence_per_row[q3_one_sentence_per_row.text.str.contains(\"safety\")])"
   ]
  },
  {
   "cell_type": "code",
   "execution_count": 273,
   "id": "8d32b0d6",
   "metadata": {},
   "outputs": [],
   "source": [
    "q3_one_sentence_per_row_safety_vader_no_zeros = q3_one_sentence_per_row_safety.vader[q3_one_sentence_per_row_safety['vader'] != float(0.000000)]"
   ]
  },
  {
   "cell_type": "code",
   "execution_count": 274,
   "id": "6d3ccec1",
   "metadata": {},
   "outputs": [
    {
     "data": {
      "text/plain": [
       "count    116.000000\n",
       "mean       0.171347\n",
       "std        0.469071\n",
       "min       -0.855500\n",
       "25%       -0.124975\n",
       "50%        0.381800\n",
       "75%        0.518525\n",
       "max        0.913600\n",
       "Name: vader, dtype: float64"
      ]
     },
     "execution_count": 274,
     "metadata": {},
     "output_type": "execute_result"
    }
   ],
   "source": [
    "q3_one_sentence_per_row_safety_vader_no_zeros.describe()"
   ]
  },
  {
   "cell_type": "code",
   "execution_count": 275,
   "id": "64e0c653",
   "metadata": {},
   "outputs": [
    {
     "data": {
      "text/plain": [
       "0.3818"
      ]
     },
     "execution_count": 275,
     "metadata": {},
     "output_type": "execute_result"
    }
   ],
   "source": [
    "q3_one_sentence_per_row_safety_vader_no_zeros.median(axis=0)"
   ]
  },
  {
   "cell_type": "markdown",
   "id": "fd51ff80",
   "metadata": {},
   "source": [
    "---"
   ]
  },
  {
   "cell_type": "code",
   "execution_count": 276,
   "id": "e66cb3d9",
   "metadata": {},
   "outputs": [],
   "source": [
    "q4_one_sentence_per_row_safety = pd.DataFrame(q4_one_sentence_per_row[q4_one_sentence_per_row.text.str.contains(\"safety\")])"
   ]
  },
  {
   "cell_type": "code",
   "execution_count": 277,
   "id": "17a2289d",
   "metadata": {},
   "outputs": [],
   "source": [
    "q4_one_sentence_per_row_safety_vader_no_zeros = q4_one_sentence_per_row_safety.vader[q4_one_sentence_per_row_safety['vader'] != float(0.000000)]"
   ]
  },
  {
   "cell_type": "code",
   "execution_count": 278,
   "id": "144aea37",
   "metadata": {},
   "outputs": [
    {
     "data": {
      "text/plain": [
       "count    180.000000\n",
       "mean       0.085909\n",
       "std        0.516771\n",
       "min       -0.918600\n",
       "25%       -0.453850\n",
       "50%        0.214300\n",
       "75%        0.421500\n",
       "max        0.915300\n",
       "Name: vader, dtype: float64"
      ]
     },
     "execution_count": 278,
     "metadata": {},
     "output_type": "execute_result"
    }
   ],
   "source": [
    "q4_one_sentence_per_row_safety_vader_no_zeros.describe()"
   ]
  },
  {
   "cell_type": "code",
   "execution_count": 279,
   "id": "62176388",
   "metadata": {},
   "outputs": [
    {
     "data": {
      "text/plain": [
       "0.2143"
      ]
     },
     "execution_count": 279,
     "metadata": {},
     "output_type": "execute_result"
    }
   ],
   "source": [
    "q4_one_sentence_per_row_safety_vader_no_zeros.median(axis=0)"
   ]
  },
  {
   "cell_type": "markdown",
   "id": "b0b80e49",
   "metadata": {},
   "source": [
    "---\n",
    "---"
   ]
  },
  {
   "cell_type": "markdown",
   "id": "9e376b62",
   "metadata": {},
   "source": [
    "### Sentences containing the word \"violence\":"
   ]
  },
  {
   "cell_type": "code",
   "execution_count": 280,
   "id": "28870ff1",
   "metadata": {},
   "outputs": [],
   "source": [
    "q1_one_sentence_per_row_violence = pd.DataFrame(q1_one_sentence_per_row[q1_one_sentence_per_row.text.str.contains(\"violence\")])"
   ]
  },
  {
   "cell_type": "code",
   "execution_count": 281,
   "id": "4b6027b1",
   "metadata": {},
   "outputs": [],
   "source": [
    "q1_one_sentence_per_row_violence_vader_no_zeros = q1_one_sentence_per_row_violence.vader[q1_one_sentence_per_row_violence['vader'] != float(0.000000)]"
   ]
  },
  {
   "cell_type": "code",
   "execution_count": 282,
   "id": "96ed5eb4",
   "metadata": {},
   "outputs": [
    {
     "data": {
      "text/plain": [
       "count    132.000000\n",
       "mean      -0.649552\n",
       "std        0.305687\n",
       "min       -0.967000\n",
       "25%       -0.827100\n",
       "50%       -0.718400\n",
       "75%       -0.624900\n",
       "max        0.844000\n",
       "Name: vader, dtype: float64"
      ]
     },
     "execution_count": 282,
     "metadata": {},
     "output_type": "execute_result"
    }
   ],
   "source": [
    "q1_one_sentence_per_row_violence_vader_no_zeros.describe()"
   ]
  },
  {
   "cell_type": "code",
   "execution_count": 283,
   "id": "cbce0b37",
   "metadata": {},
   "outputs": [
    {
     "data": {
      "text/plain": [
       "-0.7184"
      ]
     },
     "execution_count": 283,
     "metadata": {},
     "output_type": "execute_result"
    }
   ],
   "source": [
    "q1_one_sentence_per_row_violence_vader_no_zeros.median(axis=0)"
   ]
  },
  {
   "cell_type": "markdown",
   "id": "b75a2a6f",
   "metadata": {},
   "source": [
    "---"
   ]
  },
  {
   "cell_type": "code",
   "execution_count": 284,
   "id": "22949d8d",
   "metadata": {},
   "outputs": [],
   "source": [
    "q2_one_sentence_per_row_violence = pd.DataFrame(q2_one_sentence_per_row[q2_one_sentence_per_row.text.str.contains(\"violence\")])"
   ]
  },
  {
   "cell_type": "code",
   "execution_count": 285,
   "id": "6339630b",
   "metadata": {},
   "outputs": [],
   "source": [
    "q2_one_sentence_per_row_violence_vader_no_zeros = q2_one_sentence_per_row_violence.vader[q2_one_sentence_per_row_violence['vader'] != float(0.000000)]"
   ]
  },
  {
   "cell_type": "code",
   "execution_count": 286,
   "id": "61df8907",
   "metadata": {},
   "outputs": [
    {
     "data": {
      "text/plain": [
       "count    188.000000\n",
       "mean      -0.702273\n",
       "std        0.232224\n",
       "min       -0.983200\n",
       "25%       -0.862500\n",
       "50%       -0.735100\n",
       "75%       -0.624900\n",
       "max        0.401900\n",
       "Name: vader, dtype: float64"
      ]
     },
     "execution_count": 286,
     "metadata": {},
     "output_type": "execute_result"
    }
   ],
   "source": [
    "q2_one_sentence_per_row_violence_vader_no_zeros.describe()"
   ]
  },
  {
   "cell_type": "code",
   "execution_count": 287,
   "id": "eace5192",
   "metadata": {},
   "outputs": [
    {
     "data": {
      "text/plain": [
       "-0.7351"
      ]
     },
     "execution_count": 287,
     "metadata": {},
     "output_type": "execute_result"
    }
   ],
   "source": [
    "q2_one_sentence_per_row_violence_vader_no_zeros.median(axis=0)"
   ]
  },
  {
   "cell_type": "markdown",
   "id": "e939f327",
   "metadata": {},
   "source": [
    "---"
   ]
  },
  {
   "cell_type": "code",
   "execution_count": 288,
   "id": "b338a1b1",
   "metadata": {},
   "outputs": [],
   "source": [
    "q3_one_sentence_per_row_violence = pd.DataFrame(q3_one_sentence_per_row[q3_one_sentence_per_row.text.str.contains(\"violence\")])"
   ]
  },
  {
   "cell_type": "code",
   "execution_count": 289,
   "id": "21dd681f",
   "metadata": {},
   "outputs": [],
   "source": [
    "q3_one_sentence_per_row_violence_vader_no_zeros = q3_one_sentence_per_row_violence.vader[q3_one_sentence_per_row_violence['vader'] != float(0.000000)]"
   ]
  },
  {
   "cell_type": "code",
   "execution_count": 290,
   "id": "191c450e",
   "metadata": {},
   "outputs": [
    {
     "data": {
      "text/plain": [
       "count    185.000000\n",
       "mean      -0.669562\n",
       "std        0.322621\n",
       "min       -0.989300\n",
       "25%       -0.862500\n",
       "50%       -0.771700\n",
       "75%       -0.612400\n",
       "max        0.767400\n",
       "Name: vader, dtype: float64"
      ]
     },
     "execution_count": 290,
     "metadata": {},
     "output_type": "execute_result"
    }
   ],
   "source": [
    "q3_one_sentence_per_row_violence_vader_no_zeros.describe()"
   ]
  },
  {
   "cell_type": "code",
   "execution_count": 291,
   "id": "ceb89c6d",
   "metadata": {},
   "outputs": [
    {
     "data": {
      "text/plain": [
       "-0.7717"
      ]
     },
     "execution_count": 291,
     "metadata": {},
     "output_type": "execute_result"
    }
   ],
   "source": [
    "q3_one_sentence_per_row_violence_vader_no_zeros.median(axis=0)"
   ]
  },
  {
   "cell_type": "markdown",
   "id": "feae3d1c",
   "metadata": {},
   "source": [
    "---"
   ]
  },
  {
   "cell_type": "code",
   "execution_count": 292,
   "id": "d8d06df1",
   "metadata": {},
   "outputs": [],
   "source": [
    "q4_one_sentence_per_row_violence = pd.DataFrame(q4_one_sentence_per_row[q4_one_sentence_per_row.text.str.contains(\"violence\")])"
   ]
  },
  {
   "cell_type": "code",
   "execution_count": 293,
   "id": "e5fde798",
   "metadata": {},
   "outputs": [],
   "source": [
    "q4_one_sentence_per_row_violence_vader_no_zeros = q4_one_sentence_per_row_violence.vader[q4_one_sentence_per_row_violence['vader'] != float(0.000000)]"
   ]
  },
  {
   "cell_type": "code",
   "execution_count": 294,
   "id": "47a2daab",
   "metadata": {},
   "outputs": [
    {
     "data": {
      "text/plain": [
       "count    176.000000\n",
       "mean      -0.692290\n",
       "std        0.303607\n",
       "min       -0.963300\n",
       "25%       -0.886000\n",
       "50%       -0.802000\n",
       "75%       -0.624900\n",
       "max        0.891000\n",
       "Name: vader, dtype: float64"
      ]
     },
     "execution_count": 294,
     "metadata": {},
     "output_type": "execute_result"
    }
   ],
   "source": [
    "q4_one_sentence_per_row_violence_vader_no_zeros.describe()"
   ]
  },
  {
   "cell_type": "code",
   "execution_count": 295,
   "id": "4b90c79c",
   "metadata": {},
   "outputs": [
    {
     "data": {
      "text/plain": [
       "-0.802"
      ]
     },
     "execution_count": 295,
     "metadata": {},
     "output_type": "execute_result"
    }
   ],
   "source": [
    "q4_one_sentence_per_row_violence_vader_no_zeros.median(axis=0)"
   ]
  },
  {
   "cell_type": "markdown",
   "id": "413f8eaf",
   "metadata": {},
   "source": [
    "### Note: Using all median vader sentiment compound scores listed above when sentence scores of 0.0000 were removed, I constructed a csv file. I then used it to create a data visualization in R which demonstrates score trends across the four quarters of 2019 for sentences containing each of the following words, as analyzed above: \n",
    "\n",
    "- 1) All words \n",
    "- 2) \"election\" or \"elections\" \n",
    "- 3) \"protest\", \"protests\", \"protester\" or \"protesters\" \n",
    "- 4) \"rights\", \"freedom\", \"liberty\" or \"liberties\" \n",
    "- 5) \"government\" \n",
    "- 6) \"Boko Haram\" \n",
    "- 7) \"Islamic State\", \"ISIS\" or \"ISIL\" \n",
    "- 8) \"Nigerian Army\" \n",
    "- 9) \"police\" \n",
    "- 10) \"justice system\", \"judicial system\", \"judiciary\", \"court system\", \"court\" or \"courts\" \n",
    "- 11) \"safety\" \n",
    "- 12) \"violence\"\n",
    "\n",
    "---\n"
   ]
  },
  {
   "cell_type": "markdown",
   "id": "2a8f62e1",
   "metadata": {},
   "source": [
    "### The resulting visualization is below. To see the R code I used to create this visualization, please refer to the R Markdown knitted `Portfolio-Nigeria_News_Sentiment_Analysis-Viz.html` file that is also in the folder `\"nlp-topic_modeling_&_sentiment_analysis-nigeria_news-2019\"` in my GitHub `\"portfolio\"` repository:"
   ]
  },
  {
   "attachments": {
    "image-5.png": {
     "image/png": "[encoded data removed]"
    }
   },
   "cell_type": "markdown",
   "id": "1dad3dc6",
   "metadata": {},
   "source": [
    "![image-5.png](attachment:image-5.png)"
   ]
  },
  {
   "cell_type": "markdown",
   "id": "b6d83633",
   "metadata": {},
   "source": [
    "### **Analysis:**\n",
    "\n",
    "### The VADER sentiment analysis of 2019 news articles on Nigeria shows predominantly negative compound scores across all quarters. Excluding neutral sentences (score of 0.0000), the median sentiment score for each quarter is below -0.4, establishing a negative baseline for the dataset.\n",
    "\n",
    "### Sentences with \"election\" or \"elections\" scored significantly higher than this baseline, with the second quarter showing positive sentiment. Similarly, sentences including \"rights,\" \"freedom,\" \"liberty,\" \"justice system,\" \"judicial system,\" \"judiciary,\" \"court system,\" \"court,\" \"courts,\" and \"safety\" also exceeded the baseline, with \"safety\" being positively scored in all quarters.\n",
    "\n",
    "### Conversely, sentences with \"police,\" \"Boko Haram,\" \"Islamic State,\" \"ISIS,\" \"ISIL,\" and \"violence\" had notably negative scores compared to the baseline. Sentences about the \"Nigerian Army\" started above baseline in the first quarter but dropped below it in the second, before slightly recovering in the third and fourth quarters. This suggests specific events during 2019 impacted sentiment about the Nigerian Army.\n",
    "\n",
    "### Additionally, sentences with \"election,\" \"elections,\" \"rights,\" \"freedom,\" \"liberty,\" and \"safety\" showed minor fluctuations in sentiment across quarters, yet remained above the negative baseline.\n"
   ]
  }
 ],
 "metadata": {
  "kernelspec": {
   "display_name": "Python 3 (ipykernel)",
   "language": "python",
   "name": "python3"
  },
  "language_info": {
   "codemirror_mode": {
    "name": "ipython",
    "version": 3
   },
   "file_extension": ".py",
   "mimetype": "text/x-python",
   "name": "python",
   "nbconvert_exporter": "python",
   "pygments_lexer": "ipython3",
   "version": "3.11.4"
  }
 },
 "nbformat": 4,
 "nbformat_minor": 5
}
